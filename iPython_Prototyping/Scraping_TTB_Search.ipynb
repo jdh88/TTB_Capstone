{
 "cells": [
  {
   "cell_type": "markdown",
   "metadata": {},
   "source": [
    "# Background"
   ]
  },
  {
   "cell_type": "markdown",
   "metadata": {},
   "source": [
    "In this notebook I work out how to query the TTB database so we can get a list of valid `TTBID`s. I do this by making use of the `advanced search` functionality of the online database."
   ]
  },
  {
   "cell_type": "markdown",
   "metadata": {},
   "source": [
    "_Origin Codes_ for the US work as follows\n",
    "* 00: American (this is actually different than the state level difference)\n",
    "* 01-49: Each state __EXCEPT__ Alaska, which is 4E"
   ]
  },
  {
   "cell_type": "markdown",
   "metadata": {},
   "source": [
    "When iterating through pages to find the valid urls/ID's it's worth noting that __AT MOST__ 500 results are returned, even if there are more valid entries. To give a sense of scale, a query for the year of 2016 returned 147,073 results, of which we only had access to the  At the time of writing it isn't yet clear why or how that limit is imposed.\n",
    "\n",
    "The work around for this is to simply reduce the scope of search results so that we are guarenteed to get fewer than 500 hits per query. We can do this intelligently if we parse the number of results returned and if greater than 500, reduce the scope. The obvious sliders are:\n",
    "* Location (ie state)\n",
    "* Date (year, month, day)\n",
    "* Type of product\n",
    "* Approved (we really only care about approved and currently in production items)\n",
    "\n",
    "An alternative (and perhaps easier?) method, is to simple search by `TTBID` range. Recall, `TTBID`s work as follows:"
   ]
  },
  {
   "cell_type": "markdown",
   "metadata": {},
   "source": [
    "<div class=\"alert alert-block alert-info\">\n",
    "TTB ID - This is a unique, 14 digit number assigned by TTB to track each COLA.  The first 5 digits represent the calendar year and Julian date the application was received by TTB. The next 3 digits tell how the application was received (001 = e-filed; 002 & 003 = mailed/overnight; 000 = hand delivered). The last 6 digits is a sequential number that resets for each day and for each received code.\n",
    "</div>"
   ]
  },
  {
   "cell_type": "markdown",
   "metadata": {},
   "source": [
    "# Imports"
   ]
  },
  {
   "cell_type": "code",
   "execution_count": 1,
   "metadata": {
    "collapsed": true
   },
   "outputs": [],
   "source": [
    "import requests\n",
    "from bs4 import BeautifulSoup\n",
    "import re"
   ]
  },
  {
   "cell_type": "markdown",
   "metadata": {},
   "source": [
    "# Basic scraping"
   ]
  },
  {
   "cell_type": "markdown",
   "metadata": {},
   "source": [
    "Queries to the database are done via a `POST` system with the search criteria outlined below. The results, can be found by looking at the table rows (tr) that are either light (lt) or dark (dk). Note that we only get one page of results back at a time and so are limited to 50 results per page."
   ]
  },
  {
   "cell_type": "code",
   "execution_count": 2,
   "metadata": {
    "collapsed": true
   },
   "outputs": [],
   "source": [
    "url = r'https://www.ttbonline.gov/colasonline/publicSearchColasAdvancedProcess.do'\n",
    "\n",
    "payload = {'searchCriteria.dateCompletedFrom':'09/01/2016',\n",
    "           'searchCriteria.dateCompletedTo':'09/24/2017',\n",
    "           'searchCriteria.productOrFancifulName':'',\n",
    "           'searchCriteria.productNameSearchType':'E',\n",
    "           'searchCriteria.classTypeDesired':'desc',\n",
    "           'searchCriteria.classTypeCode':'',\n",
    "           'searchCriteria.originCodeArray':'00',\n",
    "           'searchCriteria.ttbIdFrom':'',\n",
    "           'searchCriteria.ttbIdTo':'',\n",
    "           'searchCriteria.serialNumFrom':'',\n",
    "           'searchCriteria.serialNumTo':'',\n",
    "           'searchCriteria.permitId':'',\n",
    "           'searchCriteria.vendorCode':''\n",
    "            }\n",
    "    \n",
    "params = {'action': 'search'}\n",
    "\n",
    "S = requests.Session()\n",
    "\n",
    "response = S.post(url, params=params, data=payload)\n",
    "soup = BeautifulSoup(response.text, 'html5lib')"
   ]
  },
  {
   "cell_type": "code",
   "execution_count": 3,
   "metadata": {},
   "outputs": [
    {
     "data": {
      "text/plain": [
       "[<a href=\"viewColaDetails.do?action=publicDisplaySearchAdvanced&amp;ttbid=08254001000056\">08254001000056</a>,\n",
       " <a href=\"viewColaDetails.do?action=publicDisplaySearchAdvanced&amp;ttbid=08296001000145\">08296001000145</a>,\n",
       " <a href=\"viewColaDetails.do?action=publicDisplaySearchAdvanced&amp;ttbid=10281001000077\">10281001000077</a>,\n",
       " <a href=\"viewColaDetails.do?action=publicDisplaySearchAdvanced&amp;ttbid=10302001000109\">10302001000109</a>,\n",
       " <a href=\"viewColaDetails.do?action=publicDisplaySearchAdvanced&amp;ttbid=11269001000048\">11269001000048</a>,\n",
       " <a href=\"viewColaDetails.do?action=publicDisplaySearchAdvanced&amp;ttbid=11299001000094\">11299001000094</a>,\n",
       " <a href=\"viewColaDetails.do?action=publicDisplaySearchAdvanced&amp;ttbid=12130001000098\">12130001000098</a>,\n",
       " <a href=\"viewColaDetails.do?action=publicDisplaySearchAdvanced&amp;ttbid=12181001000311\">12181001000311</a>,\n",
       " <a href=\"viewColaDetails.do?action=publicDisplaySearchAdvanced&amp;ttbid=12181001000323\">12181001000323</a>,\n",
       " <a href=\"viewColaDetails.do?action=publicDisplaySearchAdvanced&amp;ttbid=13091001000565\">13091001000565</a>]"
      ]
     },
     "execution_count": 3,
     "metadata": {},
     "output_type": "execute_result"
    }
   ],
   "source": [
    "soup.select('tr.dk a')"
   ]
  },
  {
   "cell_type": "code",
   "execution_count": 4,
   "metadata": {},
   "outputs": [
    {
     "data": {
      "text/plain": [
       "[<a href=\"viewColaDetails.do?action=publicDisplaySearchAdvanced&amp;ttbid=07061001000076\">07061001000076</a>,\n",
       " <a href=\"viewColaDetails.do?action=publicDisplaySearchAdvanced&amp;ttbid=08254001000085\">08254001000085</a>,\n",
       " <a href=\"viewColaDetails.do?action=publicDisplaySearchAdvanced&amp;ttbid=10123001000030\">10123001000030</a>,\n",
       " <a href=\"viewColaDetails.do?action=publicDisplaySearchAdvanced&amp;ttbid=10281001000085\">10281001000085</a>,\n",
       " <a href=\"viewColaDetails.do?action=publicDisplaySearchAdvanced&amp;ttbid=11033001000335\">11033001000335</a>,\n",
       " <a href=\"viewColaDetails.do?action=publicDisplaySearchAdvanced&amp;ttbid=11269001000050\">11269001000050</a>,\n",
       " <a href=\"viewColaDetails.do?action=publicDisplaySearchAdvanced&amp;ttbid=11304001000039\">11304001000039</a>,\n",
       " <a href=\"viewColaDetails.do?action=publicDisplaySearchAdvanced&amp;ttbid=12181001000308\">12181001000308</a>,\n",
       " <a href=\"viewColaDetails.do?action=publicDisplaySearchAdvanced&amp;ttbid=12181001000319\">12181001000319</a>,\n",
       " <a href=\"viewColaDetails.do?action=publicDisplaySearchAdvanced&amp;ttbid=13091001000562\">13091001000562</a>]"
      ]
     },
     "execution_count": 4,
     "metadata": {},
     "output_type": "execute_result"
    }
   ],
   "source": [
    "soup.select('tr.lt a')"
   ]
  },
  {
   "cell_type": "markdown",
   "metadata": {},
   "source": [
    "We can select out the link to the next page as follows"
   ]
  },
  {
   "cell_type": "code",
   "execution_count": 5,
   "metadata": {},
   "outputs": [
    {
     "data": {
      "text/plain": [
       "[<div class=\"pagination\">\n",
       "                 <a href=\"javascript:void(0)\" onclick=\"win1=popup('publicPrintableResults.do?titlePrefix=COLAs&amp;path=/publicSearchColasAdvancedProcess','printableResultsWin');win1.focus();\">Printable Version</a>\n",
       "                 <br/><br/>\n",
       "                 <a href=\"javascript:void(0)\" onclick=\"win2=popup('publicSaveSearchResultsToFile.do?path=/publicSearchColasBasicProcess','saveSearchResults');win2.focus();\">Save Search Results To File</a>\n",
       "                 <br/><br/>\n",
       "                 1 to 20 of 500 (Total Matching Records: 2010) | <a href=\"publicPageAdvancedCola.do?action=page&amp;pgfcn=nextset\">Next &gt;</a>\n",
       "               </div>, <div class=\"pagination\">\n",
       "                 <a href=\"javascript:void(0)\" onclick=\"win1=popup('publicPrintableResults.do?titlePrefix=COLAs&amp;path=/publicSearchColasAdvancedProcess','printableResultsWin');win1.focus();\">Printable Version</a>\n",
       "                 <br/><br/>              \n",
       "                 1 to 20 of 500 (Total Matching Records: 2010) | <a href=\"publicPageAdvancedCola.do?action=page&amp;pgfcn=nextset\">Next &gt;</a>\n",
       "               </div>]"
      ]
     },
     "execution_count": 5,
     "metadata": {},
     "output_type": "execute_result"
    }
   ],
   "source": [
    "soup.select('div.pagination')"
   ]
  },
  {
   "cell_type": "code",
   "execution_count": 6,
   "metadata": {},
   "outputs": [
    {
     "data": {
      "text/plain": [
       "[<a href=\"publicPageAdvancedCola.do?action=page&amp;pgfcn=nextset\">Next &gt;</a>,\n",
       " <a href=\"publicPageAdvancedCola.do?action=page&amp;pgfcn=nextset\">Next &gt;</a>]"
      ]
     },
     "execution_count": 6,
     "metadata": {},
     "output_type": "execute_result"
    }
   ],
   "source": [
    "soup.select('div.pagination a[href*=page]')"
   ]
  },
  {
   "cell_type": "markdown",
   "metadata": {},
   "source": [
    "We can try to follow along to the next page like so"
   ]
  },
  {
   "cell_type": "markdown",
   "metadata": {},
   "source": [
    "__NOTE:__ the url changes, __AND__ that we have to use the same session. I believe this is because the `next` button logic relies upon the `JSESSIONID` cookie to serve up the correct next page"
   ]
  },
  {
   "cell_type": "code",
   "execution_count": 7,
   "metadata": {
    "collapsed": true
   },
   "outputs": [],
   "source": [
    "url = r'https://www.ttbonline.gov/colasonline/publicPageAdvancedCola.do'\n",
    "\n",
    "params = {'action': 'page',\n",
    "          'pgfcn': 'nextset'}\n",
    "\n",
    "response = S.get(url, params=params)\n",
    "soup = BeautifulSoup(response.text, 'html5lib')"
   ]
  },
  {
   "cell_type": "code",
   "execution_count": 8,
   "metadata": {},
   "outputs": [
    {
     "data": {
      "text/plain": [
       "[<a href=\"viewColaDetails.do?action=publicDisplaySearchAdvanced&amp;ttbid=13091001000570\">13091001000570</a>,\n",
       " <a href=\"viewColaDetails.do?action=publicDisplaySearchAdvanced&amp;ttbid=13091001000576\">13091001000576</a>,\n",
       " <a href=\"viewColaDetails.do?action=publicDisplaySearchAdvanced&amp;ttbid=13156001000001\">13156001000001</a>,\n",
       " <a href=\"viewColaDetails.do?action=publicDisplaySearchAdvanced&amp;ttbid=15231001000516\">15231001000516</a>,\n",
       " <a href=\"viewColaDetails.do?action=publicDisplaySearchAdvanced&amp;ttbid=16188001000613\">16188001000613</a>,\n",
       " <a href=\"viewColaDetails.do?action=publicDisplaySearchAdvanced&amp;ttbid=16189001000075\">16189001000075</a>,\n",
       " <a href=\"viewColaDetails.do?action=publicDisplaySearchAdvanced&amp;ttbid=16209001000039\">16209001000039</a>,\n",
       " <a href=\"viewColaDetails.do?action=publicDisplaySearchAdvanced&amp;ttbid=16215001000435\">16215001000435</a>,\n",
       " <a href=\"viewColaDetails.do?action=publicDisplaySearchAdvanced&amp;ttbid=16216001000455\">16216001000455</a>,\n",
       " <a href=\"viewColaDetails.do?action=publicDisplaySearchAdvanced&amp;ttbid=16217001000446\">16217001000446</a>]"
      ]
     },
     "execution_count": 8,
     "metadata": {},
     "output_type": "execute_result"
    }
   ],
   "source": [
    "soup.select('tr.dk a')"
   ]
  },
  {
   "cell_type": "code",
   "execution_count": 9,
   "metadata": {},
   "outputs": [
    {
     "data": {
      "text/plain": [
       "[<a href=\"viewColaDetails.do?action=publicDisplaySearchAdvanced&amp;ttbid=13091001000567\">13091001000567</a>,\n",
       " <a href=\"viewColaDetails.do?action=publicDisplaySearchAdvanced&amp;ttbid=13091001000572\">13091001000572</a>,\n",
       " <a href=\"viewColaDetails.do?action=publicDisplaySearchAdvanced&amp;ttbid=13151001000328\">13151001000328</a>,\n",
       " <a href=\"viewColaDetails.do?action=publicDisplaySearchAdvanced&amp;ttbid=13156001000090\">13156001000090</a>,\n",
       " <a href=\"viewColaDetails.do?action=publicDisplaySearchAdvanced&amp;ttbid=16158001000184\">16158001000184</a>,\n",
       " <a href=\"viewColaDetails.do?action=publicDisplaySearchAdvanced&amp;ttbid=16189001000073\">16189001000073</a>,\n",
       " <a href=\"viewColaDetails.do?action=publicDisplaySearchAdvanced&amp;ttbid=16189001000077\">16189001000077</a>,\n",
       " <a href=\"viewColaDetails.do?action=publicDisplaySearchAdvanced&amp;ttbid=16209001000766\">16209001000766</a>,\n",
       " <a href=\"viewColaDetails.do?action=publicDisplaySearchAdvanced&amp;ttbid=16215001000438\">16215001000438</a>,\n",
       " <a href=\"viewColaDetails.do?action=publicDisplaySearchAdvanced&amp;ttbid=16217001000441\">16217001000441</a>]"
      ]
     },
     "execution_count": 9,
     "metadata": {},
     "output_type": "execute_result"
    }
   ],
   "source": [
    "soup.select('tr.lt a')"
   ]
  },
  {
   "cell_type": "code",
   "execution_count": 38,
   "metadata": {},
   "outputs": [
    {
     "data": {
      "text/plain": [
       "['13091001000567',\n",
       " '13091001000572',\n",
       " '13151001000328',\n",
       " '13156001000090',\n",
       " '16158001000184',\n",
       " '16189001000073',\n",
       " '16189001000077',\n",
       " '16209001000766',\n",
       " '16215001000438',\n",
       " '16217001000441']"
      ]
     },
     "execution_count": 38,
     "metadata": {},
     "output_type": "execute_result"
    }
   ],
   "source": [
    "[link.get_text() for link in soup.select('tr.lt a')]"
   ]
  },
  {
   "cell_type": "markdown",
   "metadata": {
    "collapsed": true
   },
   "source": [
    "## Number of responses"
   ]
  },
  {
   "cell_type": "code",
   "execution_count": 21,
   "metadata": {
    "collapsed": true
   },
   "outputs": [],
   "source": [
    "res = soup.select('div.pagination')"
   ]
  },
  {
   "cell_type": "code",
   "execution_count": 31,
   "metadata": {
    "collapsed": true
   },
   "outputs": [],
   "source": [
    "tmp = res[0]"
   ]
  },
  {
   "cell_type": "code",
   "execution_count": 33,
   "metadata": {},
   "outputs": [
    {
     "data": {
      "text/plain": [
       "'\\n                Printable Version\\n                \\n                Save Search Results To File\\n                \\n                < Previous | 21 to 40 of 500 (Total Matching Records: 2010) | Next >\\n              '"
      ]
     },
     "execution_count": 33,
     "metadata": {},
     "output_type": "execute_result"
    }
   ],
   "source": [
    "tmp.get_text()"
   ]
  },
  {
   "cell_type": "markdown",
   "metadata": {},
   "source": [
    "Extract the whole line as a matching group"
   ]
  },
  {
   "cell_type": "code",
   "execution_count": 34,
   "metadata": {},
   "outputs": [
    {
     "data": {
      "text/plain": [
       "['Total Matching Records: 2010']"
      ]
     },
     "execution_count": 34,
     "metadata": {},
     "output_type": "execute_result"
    }
   ],
   "source": [
    "re.findall(r'(Total Matching Records: [0-9]+)', res[0].get_text())"
   ]
  },
  {
   "cell_type": "markdown",
   "metadata": {},
   "source": [
    "Extract just the number of matches as a group"
   ]
  },
  {
   "cell_type": "code",
   "execution_count": 42,
   "metadata": {},
   "outputs": [
    {
     "data": {
      "text/plain": [
       "['2010']"
      ]
     },
     "execution_count": 42,
     "metadata": {},
     "output_type": "execute_result"
    }
   ],
   "source": [
    "re.findall(r'\\(Total Matching Records: ([0-9]+)\\)', res[0].get_text())"
   ]
  },
  {
   "cell_type": "code",
   "execution_count": null,
   "metadata": {
    "collapsed": true
   },
   "outputs": [],
   "source": []
  }
 ],
 "metadata": {
  "kernelspec": {
   "display_name": "Python [conda env:datainc]",
   "language": "python",
   "name": "conda-env-datainc-py"
  },
  "language_info": {
   "codemirror_mode": {
    "name": "ipython",
    "version": 3
   },
   "file_extension": ".py",
   "mimetype": "text/x-python",
   "name": "python",
   "nbconvert_exporter": "python",
   "pygments_lexer": "ipython3",
   "version": "3.6.2"
  }
 },
 "nbformat": 4,
 "nbformat_minor": 2
}
