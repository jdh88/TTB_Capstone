{
 "cells": [
  {
   "cell_type": "markdown",
   "metadata": {},
   "source": [
    "# Imports"
   ]
  },
  {
   "cell_type": "code",
   "execution_count": 1,
   "metadata": {},
   "outputs": [
    {
     "data": {
      "text/html": [
       "<script>requirejs.config({paths: { 'plotly': ['https://cdn.plot.ly/plotly-latest.min']},});if(!window.Plotly) {{require(['plotly'],function(plotly) {window.Plotly=plotly;});}}</script>"
      ],
      "text/vnd.plotly.v1+html": [
       "<script>requirejs.config({paths: { 'plotly': ['https://cdn.plot.ly/plotly-latest.min']},});if(!window.Plotly) {{require(['plotly'],function(plotly) {window.Plotly=plotly;});}}</script>"
      ]
     },
     "metadata": {},
     "output_type": "display_data"
    }
   ],
   "source": [
    "import datetime\n",
    "import pymongo\n",
    "import pandas as pd\n",
    "import matplotlib\n",
    "import matplotlib.pyplot as plt\n",
    "matplotlib.style.use('ggplot')\n",
    "\n",
    "import numpy as np\n",
    "from collections import defaultdict\n",
    "\n",
    "from skimage import color as skcolor\n",
    "\n",
    "import plotly\n",
    "import plotly.plotly as py\n",
    "plotly.offline.init_notebook_mode(connected=True)"
   ]
  },
  {
   "cell_type": "code",
   "execution_count": 2,
   "metadata": {
    "collapsed": true
   },
   "outputs": [],
   "source": [
    "import tensorflow as tf\n",
    "from sklearn.model_selection import train_test_split"
   ]
  },
  {
   "cell_type": "code",
   "execution_count": 3,
   "metadata": {
    "collapsed": true
   },
   "outputs": [],
   "source": [
    "sess = None\n",
    "\n",
    "def reset_vars():\n",
    "    sess.run(tf.global_variables_initializer())\n",
    "\n",
    "def reset_tf():\n",
    "    global sess\n",
    "    if sess:\n",
    "        sess.close()\n",
    "    tf.reset_default_graph()\n",
    "    sess = tf.Session()"
   ]
  },
  {
   "cell_type": "markdown",
   "metadata": {},
   "source": [
    "# Connect to Data"
   ]
  },
  {
   "cell_type": "markdown",
   "metadata": {},
   "source": [
    "##### Connect to databases"
   ]
  },
  {
   "cell_type": "code",
   "execution_count": 4,
   "metadata": {
    "collapsed": true
   },
   "outputs": [],
   "source": [
    "# Set up connection to mongodb\n",
    "client = pymongo.MongoClient() # Connect to default client\n",
    "db = client.TTB # Get a database (note: lazy evaluation)\n",
    "TTB = db.TTB # collection for form data\n",
    "TTB_COLORS = db.COLORS # collection for the label image data\n",
    "TTB_IMG_META = db.IMG_META\n",
    "TTB_IMG_SUP = db.IMG_SUP"
   ]
  },
  {
   "cell_type": "markdown",
   "metadata": {},
   "source": [
    "##### Load into pandas"
   ]
  },
  {
   "cell_type": "code",
   "execution_count": 5,
   "metadata": {
    "collapsed": true
   },
   "outputs": [],
   "source": [
    "df = pd.DataFrame(list(TTB.find()))\n",
    "df_colors = pd.DataFrame(list(TTB_COLORS.find()))\n",
    "df_img_meta = pd.DataFrame(list(TTB_IMG_META.find()))\n",
    "df_img_sup = pd.DataFrame(list(TTB_IMG_SUP.find()))"
   ]
  },
  {
   "cell_type": "markdown",
   "metadata": {},
   "source": [
    "## Clean Data"
   ]
  },
  {
   "cell_type": "markdown",
   "metadata": {},
   "source": [
    "##### Drop useless `_id` columns"
   ]
  },
  {
   "cell_type": "code",
   "execution_count": 6,
   "metadata": {
    "collapsed": true
   },
   "outputs": [],
   "source": [
    "df_colors = df_colors.drop(['_id'], axis=1)\n",
    "df_img_meta = df_img_meta.drop(['_id'], axis=1)\n",
    "df_img_sup = df_img_sup.drop(['_id'], axis=1)"
   ]
  },
  {
   "cell_type": "markdown",
   "metadata": {},
   "source": [
    "##### Drop duplicates, unclear why present"
   ]
  },
  {
   "cell_type": "code",
   "execution_count": 7,
   "metadata": {},
   "outputs": [
    {
     "name": "stdout",
     "output_type": "stream",
     "text": [
      "df_color duplicates:  391\n",
      "df_img_meta duplicates:  119\n",
      "df_img_sup duplicates:  119\n"
     ]
    }
   ],
   "source": [
    "print('df_color duplicates:  {}'.format(df_colors.shape[0] - df_colors.drop_duplicates().shape[0]))\n",
    "print('df_img_meta duplicates:  {}'.format(df_img_meta.shape[0] - df_img_meta.drop_duplicates().shape[0]))\n",
    "print('df_img_sup duplicates:  {}'.format(df_img_sup.shape[0] - df_img_meta.drop_duplicates().shape[0]))\n",
    "\n",
    "df_colors = df_colors.drop_duplicates()\n",
    "df_img_meta = df_img_meta.drop_duplicates()\n",
    "df_img_sup = df_img_sup.drop_duplicates()"
   ]
  },
  {
   "cell_type": "markdown",
   "metadata": {},
   "source": [
    "##### Clean up bad values in color"
   ]
  },
  {
   "cell_type": "code",
   "execution_count": 8,
   "metadata": {
    "collapsed": true
   },
   "outputs": [],
   "source": [
    "df_colors[['r', 'g', 'b']] = df_colors[['r', 'g', 'b']].clip(lower=0.0, upper=255.0)"
   ]
  },
  {
   "cell_type": "markdown",
   "metadata": {},
   "source": [
    "##### Convert recieve date to datetime"
   ]
  },
  {
   "cell_type": "code",
   "execution_count": 9,
   "metadata": {
    "collapsed": true
   },
   "outputs": [],
   "source": [
    "df['recieve_date'] = pd.to_datetime(df['recieve_date'], format='%m/%d/%Y')"
   ]
  },
  {
   "cell_type": "markdown",
   "metadata": {},
   "source": [
    "##### Helper lookup for US states"
   ]
  },
  {
   "cell_type": "code",
   "execution_count": 10,
   "metadata": {
    "collapsed": true
   },
   "outputs": [],
   "source": [
    "# get list of all US states, convert to uppercase as that is what is used\n",
    "states = ['Alabama', 'Alaska', 'Arizona', 'Arkansas', 'California', 'Colorado', 'Connecticut', 'Delaware', 'Florida', 'Georgia', 'Hawaii', 'Idaho', 'Illinois', 'Indiana', 'Iowa', 'Kansas', 'Kentucky', 'Louisiana', 'Maine', 'Maryland', 'Massachusetts', 'Michigan', 'Minnesota', 'Mississippi', 'Missouri', 'Montana', 'Nebraska', 'Nevada', 'New Hampshire', 'New Jersey', 'New Mexico', 'New York', 'North Carolina', 'North Dakota', 'Ohio', 'Oklahoma', 'Oregon', 'Pennsylvania', 'Rhode Island', 'South Carolina', 'South Dakota', 'Tennessee', 'Texas', 'Utah', 'Vermont', 'Virginia', 'Washington', 'West Virginia', 'Wisconsin', 'Wyoming']\n",
    "states = [state.upper() for state in states]\n",
    "\n",
    "us_state_abbrev = {'Alabama': 'AL','Alaska': 'AK','Arizona': 'AZ','Arkansas': 'AR','California': 'CA','Colorado': 'CO','Connecticut': 'CT','Delaware': 'DE','Florida': 'FL','Georgia': 'GA','Hawaii': 'HI','Idaho': 'ID','Illinois': 'IL','Indiana': 'IN','Iowa': 'IA','Kansas': 'KS','Kentucky': 'KY','Louisiana': 'LA','Maine': 'ME','Maryland': 'MD','Massachusetts': 'MA','Michigan': 'MI','Minnesota': 'MN','Mississippi': 'MS','Missouri': 'MO','Montana': 'MT','Nebraska': 'NE','Nevada': 'NV','New Hampshire': 'NH','New Jersey': 'NJ','New Mexico': 'NM','New York': 'NY','North Carolina': 'NC','North Dakota': 'ND','Ohio': 'OH','Oklahoma': 'OK','Oregon': 'OR','Pennsylvania': 'PA','Rhode Island': 'RI','South Carolina': 'SC','South Dakota': 'SD','Tennessee': 'TN','Texas': 'TX','Utah': 'UT','Vermont': 'VT','Virginia': 'VA','Washington': 'WA','West Virginia': 'WV','Wisconsin': 'WI','Wyoming': 'WY'}\n",
    "\n",
    "# capitalized versions\n",
    "abbrev_lookup=defaultdict(str)\n",
    "for k, v in us_state_abbrev.items():\n",
    "    abbrev_lookup[k.upper()] = v\n"
   ]
  },
  {
   "cell_type": "markdown",
   "metadata": {},
   "source": [
    "##### Helper lookup for broad alcohol classes"
   ]
  },
  {
   "cell_type": "code",
   "execution_count": 11,
   "metadata": {
    "collapsed": true
   },
   "outputs": [],
   "source": [
    "SPIRITS_MISC = [\"CORDIALS (FRUIT & PEELS)\", \"FRUIT FLAVORED LIQUEURS\", \"CURACAO\", \"TRIPLE SEC\", \"FRUITS & PEELS SCHNAPPS LIQUEUR\", \"OTHER FRUITS & PEELS LIQUEURS\", \"CORDIALS (HERBS & SEEDS)\", \"ANISETTE, OUZO, OJEN\", \"COFFEE (CAFE) LIQUEUR\", \"KUMMEL\", \"PEPPERMINT SCHNAPPS\", \"HERBS AND SEEDS SCHNAPPS LIQUEUR\", \"AMARETTO\", \"SAMBUCA\", \"ARACK/RAKI/ARAK\", \"OTHER (HERBS & SEEDS)\", \"CORDIALS (CREMES OR CREAMS)\", \"CREME DE CACAO WHITE\", \"CREME DE CACAO BROWN\", \"CREME DE MENTHE WHITE\", \"CREME DE MENTHE GREEN\", \"CREME DE ALMOND (NOYAUX)\", \"DAIRY CREAM LIQUEUR/CORDIAL\", \"NON DAIRY CREME LIQUEUR/CORDIAL\", \"OTHER LIQUEUR (CREME OR CREAMS)\", \"SPECIALTIES & PROPRIETARIES\", \"OTHER SPECIALTIES & PROPRIETARIES\", \"CORDIALS (FRUIT & PEELS)\", \"FRUIT FLAVORED LIQUEURS\", \"CURACAO\", \"TRIPLE SEC\", \"FRUITS & PEELS SCHNAPPS LIQUEUR\", \"OTHER FRUIT & PEELS LIQUEURS\", \"CORDIALS (HERBS & SEEDS)\", \"ANISETTE, OUZO, OJEN\", \"COFFEE (CAFE) LIQUEUR\", \"KUMMEL\", \"PEPPERMINT SCHNAPPS\", \"HERBS & SEEDS SCHNAPPS LIQUEUR\", \"AMARETTO\", \"SAMBUCA\", \"ARACK/RAKI/ARAK\", \"OTHER HERB & SEED CORDIALS/LIQUEURS\", \"CORDIALS (CREMES OR CREAMS)\", \"CREME DE CACAO WHITE\", \"CREME DE CACAO BROWN\", \"CREME DE MENTHE WHITE\", \"CREME DE MENTHE GREEN\", \"CREME DE ALMOND (NOYAUX)a\", \"DAIRY CREAM LIQUEUR/CO\", \"NON DAIRY CREME LIQUEUR/CORDIAL\", \"OTHER LIQUEUR (CREMES OR CREAMS)\", \"SPECIALITIES & PROPRIETARIES\", \"OTHER SPECIALTIES & PROPRIETARIES\", \"COCKTAILS 48 PROOF UP\", \"MARGARITA (48 PROOF UP)\", \"COCKTAILS 48 PROOF UP (CONT)\", \"DAIQUIRI (48 PROOF UP)\", \"COLADA (48PROOF UP)\", \"OTHER COCTAILS (48PROOF UP)\", \"COCKTAILS UNDER 48 PROOF\", \"MARGARITA (UNDER 48 PROOF)\", \"OTHER TEQUILA-BASED COCKTAILS (UNDER 48 PROOF)\", \"COCKTAILS UNDER 48 PROOF (CONT)\", \"DAIQUIRI (UNDER 48 PROOF)\", \"COLADA (UNDER 48 PROOF)\", \"OTHER COCKTAILS (UNDER 48 PROOF)\", \"MIXED DRINKS-HI BALLS COCKTAILS\", \"SCREW DRIVER\", \"COLLINS\", \"BLOODY MARY\", \"EGG NOG\", \"OTHER MIXED DRINKS HI-BALLS COCKTAILS\", \"COCKTAILS 48 PROOF UP\", \"MARGARITA 48 PROOF UP\", \"DAIQUIRI 48 PROOF UP\", \"COLADA (48 PROOF UP )\", \"OTHER COCKTAILS (48 PROOF UP)\", \"COCKTAILS UNDER 48 PROOF\", \"MARGARITA UNDER 48 PROOF\", \"OTHER TEQUILA-BASED COCKTAILS (UNDER 48 PROOF)\", \"COCKTAILS UNDER 48 PR(CONT)\", \"DAIQUIRI UNDER 48 PROOF\", \"COLADA (UNDER 48 PROOF )\", \"OTHER COCKTAILS (UNDER 48 PROOF)\", \"MIXED DRINKS-HI BALLS COCKTAILS\", \"SCREW DRIVER\", \"COLLINS\", \"BLOODY MARY\", \"EGG NOG\", \"OTHER MIXED DRINKS HI-BALLS COCKTAILS\", \"86\tVERMOUTH/MIXED TYPES\", \"OTHER SPIRITS\", \"NEUTRAL SPIRITS - GRAIN\", \"NEUTRAL SPIRITS - FRUIT\", \"NEUTRAL SPIRITS - CANE\", \"NEUTRAL SPIRITS - VEGETABLE\", \"NEUTRAL SPIRITS - PETROLEUM\", \"BITTERS - BEVERAGE\", \"GRAIN SPIRITS\", \"OTHER SPIRITS\", \"SAKE\", \"SAKE - DOMESTIC FLAVORED\", \"NON ALCOHOLIC MIXES\", \"OTHER SPIRITS\", \"NEUTRAL SPIRITS - GRAIN\", \"NEUTRAL SPIRITS - FRUIT\", \"NEUTRAL SPIRITS - CANE\", \"NEUTRAL SPIRITS - VEGETABLE\", \"NEUTRAL SPIRITS - PETROLEUM\", \"BITTERS - BEVERAGE*\", \"TEQUILA FB\", \"TEQUILA USB\", \"MEZCAL\", \"MEZCAL FB\", \"SAKE - IMPORTED\", \"MEZCAL US\", \"SAKE - IMPORTED FLAVORED\", \"DILUTED TEQUILA FB\", \"DILUTED TEQUILA USB\", \"NON ALCOHOL MIXES\", \"VERMOUTH/MIXED TYPES\"]\n",
    "BEER = [\"BEER\", \"CEREAL BEVERAGES - NEAR BEER (NON ALCOHOLIC)\", \"OTHER MALT BEVERAGES (BEER)\", \"BEER\", \"CEREAL BEVERAGES - NEAR BEER (NON ALCOHOLIC)\", \"MALT BEVERAGES\", \"ALE\", \"MALT LIQUOR\", \"STOUT\", \"PORTER\", \"MALT BEVERAGES SPECIALITIES - FLAVORED\", \"MALT BEVERAGES SPECIALITIES\", \"OTHER MALT BEVERAGES\"]\n",
    "WINE = [\"TABLE RED WINE\", \"ROSE WINE\", \"TABLE WHITE WINE\", \"TABLE FLAVORED WINE\", \"TABLE FRUIT WINE\", \"SPARKLING WINE/CHAMPAGNE\", \"CARBONATED WINE\", \"DESSERT FLAVORED WINE\", \"DESSERT /PORT/SHERRY/(COOKING) WINE\", \"DESSERT FRUIT WINE\"]\n",
    "BRANDY = [\"CALIFORNIA GRAPE BRANDY\", \"CALIFORNIA BRANDY\", \"CALIFORNIA DRIED BRANDY\", \"CALIFORNIA LEES BRANDY\", \"CALIFORNIA POMACE OR MARC BRANDY\", \"CALIFORNIA RESIDUE BRANDY\", \"CALIFORNIA NEUTRAL BRANDY\", \"OTHER CALIFORNIA BRANDY\", \"NEW YORK GRAPE BRANDY\", \"NEW YORK BRANDY\", \"NEW YORK DRIED BRANDY\", \"NEW YORK LEES BRANDY\", \"NEW YORK POMACE OR MARC BRANDY\", \"NEW YORK RESIDUE BRANDY\", \"NEW YORK NEUTRAL BRANDY\", \"OTHER NEW YORK BRANDY\", \"OTHER DOMESTIC GRAPE BRANDY\", \"BRANDY\", \"DRIED BRANDY\", \"LEES BRANDY\", \"POMACE OR MARC BRANDY\", \"RESIDUE BRANDY\", \"NEUTRAL BRANDY\", \"IMMATURE BRANDY\", \"OTHER BRANDY\", \"BRANDY - FLAVORED\", \"BRANDY - APRICOT FLAVORED\", \"BRANDY - BLACKBERRY FLAVORED\", \"BRANDY - PEACH FLAVORED\", \"BRANDY - CHERRY FLAVORED\", \"BRANDY - COFFEE FLAVORED\", \"BRANDY APPLE FLAVORED\", \"OTHER BRANDY - FLAVORED\", \"FRUIT BRANDY\", \"APPLE BRANDY\", \"CHERRY BRANDY\", \"PLUM BRANDY\", \"BLACKBERRY BRANDY\", \"BLENDED APPLE JACK BRANDY\", \"PEAR BRANDY\", \"APRICOT BRANDY\", \"DILUTED BRANDY\", \"OTHER FRUIT BRANDY\", \"FRENCH BRANDY\", \"COGNAC (BRANDY) FB\", \"COGNAC (BRANDY) USB\", \"ARMAGNAC (BRANDY) FB\", \"ARMAGNAC (BRANDY) USB\", \"OTHER FRENCH BRANDY FB\", \"OTHER FRENCH BRANDY USB\", \"OTHER FOREIGN BRANDY\", \"ITALIAN GRAPE BRANDY FB\", \"ITALIAN GRAPE BRANDY USB\", \"SPANISH GRAPE BRANDY FB\", \"SPANISH GRAPE BRANDY USB\", \"PORTUGUESE GRAPE BRANDY FB\", \"PORTUGUESE GRAPE BRANDY USB\", \"GREEK GRAPE BRANDY FB\", \"GREEK GRAPE BRANDY USB\", \"GERMAN GRAPE BRANDY FB\", \"GERMAN GRAPE BRANDY USB\", \"AUSTRALIAN GRAPE BRANDY FB\", \"AUSTRALIAN GRAPE BRANDY USB\", \"SOUTH AFRICAN GRAPE BRANDY FB\", \"SOUTH AFRICAN GRAPE BRANDY USB\", \"OTHER FOREIGN BRANDY (CONT.)\", \"BRANDY APRICOT FLAVORED\", \"BRANDY BLACKBERRY FLAVORED\", \"BRANDY PEACH FLAVORED\", \"BRANDY CHERRY FLAVORED\", \"BRANDY COFFEE FLAVORED\", \"BRANDY APPLE FLAVORED\", \"OTHER GRAPE BRANDY (PISCO, GRAPPA) FB\", \"OTHER GRAPE BRANDY (GRAPPA) USB\", \"FOREIGN FRUIT BRANDY\", \"APPLE BRANDY (CALVADOS)\", \"CHERRY BRANDY\", \"PLUM BRANDY (SLIVOVITZ)\", \"BLACKBERRY BRANDY\", \"BLENDED APPLE JACK BRANDY\", \"APRICOT BRANDY\", \"DILUTED BRANDY FB\", \"DILUTED BRANDY USB\", \"OTHER FRUIT BRANDY\", \"BLACKBERRY FLAVORED BRANDY\", \"LIQUEUR & BRANDY\", \"FLAVORED BRANDY\", \"APRICOT FLAVORED BRANDY\", \"BLACKBERRY FLAVORED BRANDY\", \"PEACH FLAVORED BRANDY\", \"CHERRY FLAVORED BRANDY\", \"LIQUEUR & BRANDY\", \"OTHER FLAVORED BRANDY\", \"BRANDY STINGER (48 PROOF UP)\", \"BRANDY SIDE CAR (48 PROOF UP)\", \"BRANDY STINGER (UNDER 48 PROOF)\", \"BRANDY SIDE CAR (UNDER 48 PROOF)\", \"BRANDY STINGER 48 PROOF UP\", \"BRANDY SIDE CAR 48 PROOF UP\", \"BRANDY STINGER UNDER 48 PROOF\", \"BRANDY SIDE CAR UNDER 48 PROOF\", \"BRANDY PEAR FLAVORED\"]\n",
    "GIN = [\"DISTILLED GIN\", \"LONDON DRY DISTILLED GIN\", \"OTHER DISTILLED GIN\", \"GIN\", \"LONDON DRY GIN\", \"OTHER GIN\", \"GIN - FLAVORED\", \"GIN - MINT FLAVORED\", \"GIN - ORANGE FLAVORED\", \"GIN - LEMON FLAVORED\", \"OTHER GIN - FLAVORED\", \"DILUTED GIN\", \"DISTILLED GIN\", \"LONDON DRY DISTILLED GIN FB\", \"LONDON DRY DISTILLED GIN USB\", \"OTHER DISTILLED GIN FB\", \"OTHER DISTILLED GIN USB\", \"GIN\", \"LONDON DRY GIN FB\", \"LONDON DRY GIN USB\", \"OTHER GIN FB\", \"OTHER GIN USB\", \"GIN - FLAVORED\", \"GIN - MINT FLAVORED\", \"GIN - ORANGE FLAVORED\", \"GIN - LEMON FLAVORED\", \"GIN - CHERRY FLAVORED\", \"GIN - APPLE FLAVORED\", \"GIN - BLACKBERRY FLAVORED\", \"GIN - PEACH FLAVORED\", \"GIN - GRAPE FLAVORED\", \"OTHER GIN - FLAVORED\", \"OTHER GIN\", \"DILUTED GIN FB\", \"DILUTED GIN USB\", \"BRANDY - GINGER FLAVORED\", \"BRANDY GINGER FLAVORED\", \"SLOE GIN\", \"GIN SPECIALTIES\", \"LIQUEURS (GIN)\", \"SLOE GIN\", \"GINGER FLAVORED BRANDY\", \"GIN SPECIALTIES\", \"LIQUEURS (GIN)\", \"GIN MARTINI (48 PROOF UP)\", \"GIN SOUR (48 PROOF UP)\", \"GIN MARTINI (UNDER 48 PROOF)\", \"GIN SOUR (UNDER 48 PROOF)\", \"GIN MARTINI 48 PROOF UP\", \"GIN SOUR 48 PROOF UP\", \"GIN MARTINI UNDER 48 PROOF\", \"GIN SOUR UNDER 48 PROOF\"]\n",
    "WHISKY = [\"STRAIGHT WHISKY\", \"STRAIGHT BOURBON WHISKY\", \"STRAIGHT RYE WHISKY\", \"STRAIGHT CORN WHISKY\", \"OTHER STRAIGHT WHISKY\", \"WHISKY BOTTLED IN BOND (BIB)\", \"BOURBON WHISKY BIB\", \"RYE WHISKY BIB\", \"CORN WHISKY BIB\", \"OTHER WHISKY BIB\", \"STRAIGHT WHISKY BLENDS\", \"STRAIGHT BOURBON WHISKY BLENDS\", \"STRAIGHT RYE WHISKY BLENDS\", \"STRAIGHT CORN WHISKY BLENDS\", \"OTHER STRAIGHT BLENDED WHISKY\", \"WHISKY BLENDS\", \"BLENDED BOURBON WHISKY\", \"BLENDED RYE WHISKY\", \"BLENDED CORN WHISKY\", \"BLENDED LIGHT WHISKY\", \"BLENDED WHISKY\", \"DILUTED BLENDED WHISKY\", \"OTHER WHISKY BLENDS\", \"WHISKY\", \"BOURBON WHISKY\", \"RYE WHISKY\", \"CORN WHISKY\", \"LIGHT WHISKY\", \"WHISKY PROPRIETARY\", \"SPIRIT WHISKY\", \"DILUTED WHISKY\", \"OTHER WHISKY (FLAVORED)\", \"SCOTCH WHISKY\", \"SCOTCH WHISKY FB\", \"SCOTCH WHISKY USB\", \"SINGLE MALT SCOTCH WHISKY\", \"UNBLENDED SCOTCH WHISKY USB\", \"DILUTED SCOTCH WHISKY FB\", \"DILUTED SCOTCH WHISKY USB\", \"CANADIAN WHISKY\", \"CANADIAN WHISKY FB\", \"CANADIAN WHISKY USB\", \"DILUTED CANADIAN WHISKY FB\", \"DILUTED CANADIAN WHISKY USB\", \"IRISH WHISKY\", \"IRISH WHISKY FB\", \"IRISH WHISKY USB\", \"DILUTED IRISH WHISKY FB\", \"DILUTED IRISH WHISKY USB\", \"WHISKY ORANGE FLAVORED\", \"WHISKY GRAPE FLAVORED\", \"WHISKY LIME FLAVORED\", \"WHISKY LEMON FLAVORED\", \"WHISKY CHERRY FLAVORED\", \"WHISKY CHOCOLATE FLAVORED\", \"WHISKY MINT FLAVORED\", \"WHISKY PEPPERMINT FLAVORED\", \"WHISKY PTHER FLAVORED\", \"OTHER IMPORTED WHISKY\", \"OTHER IMPORTED WHISKY FB\", \"OTHER IMPORTED WHISKY USB\", \"DILUTED OTHER IMPORTED WHISKY FB\", \"DILUTED OTHER IMPORTED WHISKY USB\", \"WHISKY SPECIALTIES\", \"LIQUEURS (WHISKY)\", \"WHISKY SPECIALTIES\", \"LIQUEURS (WHISKY)\", \"WHISKY MANHATTAN (48 PROOF UP)\", \"WHISKY OLD FASHIONED (48 PROOF UP)\", \"WHISKY SOUR (48 PROOF UP )\", \"WHISKY MANHATTAN (UNDER 48 PROOF)\", \"WHISKY OLD FASHIONED (UNDER 48 PROOF)\", \"WHISKY SOUR (UNDER 48 PROOF)\", \"WHISKY MANHATTAN (48 PROOF UP)\", \"WHISKY OLD FASHIONED (48 PROOF UP)\", \"WHISKY SOUR (48 PROOF UP)\", \"WHISKY MANHATTAN UNDER 48 PROOF\", \"WHISKY OLD FASHIONED UNDER 48 PROOF\", \"WHISKY SOUR UNDER 48 PROOF\"]\n",
    "RUM = [\"RUM LEMON FLAVORED\", \"RUM CHERRY FLAVORED\", \"RUM CHOCOLATE FLAVORED\", \"RUM MINT FLAVORED\", \"RUM PEPPERMINT FLAVORED\", \"UR.S. RUM (WHITE)\", \"PUERTO RICAN RUM (WHITE)\", \"VIRGIN ISLANDS RUM (WHITE)\", \"HAWAIIAN RUM (WHITE)\", \"FLORIDA RUM (WHITE)\", \"OTHER RUM (WHITE)\", \"U.S. RUM (GOLD)\", \"PUERTO RICAN RUM (GOLD)\", \"VIRGIN ISLAND RUM (GOLD)\", \"HAWAIIAN RUM (GOLD)\", \"FLORIDA RUM (GOLD)\", \"OTHER RUM (GOLD)\", \"RUM FLAVORED (BOLD)\", \"RUM ORANGE GLAVORED\", \"RUM GRAPE FLAVORED\", \"RUM LIME FLAVORED\", \"RUM LEMON FLAVORED\", \"RUM CHERRY FLAVORED\", \"RUM CHOCOLATE FLAVORED\", \"RUM MINT FLAVORED\", \"RUM PEPPERMINT FLAVORED\", \"RUM OTHER FLAVORED\", \"OTHER WHITE RUM\", \"FLAVORED RUM (BOLD)\", \"RUM ORANGE FLAVORED\", \"RUM GRAPE FLAVORED\", \"RUM LIME FLAVORED\", \"RUM OTHER FLAVORED\", \"DILUTED RUM (WHITE)\", \"DILUTED RUM (GOLD)\", \"DOMESTIC FLAVORED RUM\", \"FOREIGN RUM\", \"CUBAN RUM WHITE FB\", \"CUBAN RUM WHITE USB\", \"CUBAN RUM GOLD FB\", \"CUBAN RUM GOLD USB\", \"OTHER FORIEGN RUM\", \"JAMAICAN RUM WHITE FB\", \"JAMAICAN RUM WHITE USB\", \"JAMAICAN RUM GOLD FB\", \"JAMICAN RUM GOLD USB\", \"GUIANAN RUM WHITE FB\", \"GUIANAN RUM WHITE USB\", \"DUTCH GUIANAN RUM GOLD FB\", \"DUTCH GUIANAN RUM GOLD USB\", \"FRENCH GUIANAN RUM FB\", \"FRENCH GUIANAN RUM USB\", \"MARTINICAN RUM WHITE FB\", \"MARTINICAN RUM WHITE USB\", \"MARTINICAN RUM GOLD FB\", \"MARTINICAN RUM GOLD USB\", \"OTHER FOREIGN RUM\", \"OTHER RUM WHITE FB\", \"OTHER RUM WHITE USB\", \"OTHER RUM GOLD FB\", \"OTHER RUM GOLD USB\", \"DILUTED RUM WHITE FB\", \"DILUTED RUM WHITE USB\", \"DILUTED RUM GOLD FB\", \"DILUTED RUM GOLD USB\", \"IMPORTED FLAVORED RUM\", \"ROCK & RYE, RUM & BRANDY (ETC.)\", \"RUM SPECIALTIES\", \"LIQUEURS (RUM)\", \"ROCK & RYE, RUM & BRANDY (ETC)\", \"RUM SPECIALTIES\", \"LIQUEURS (RUM)\"]\n",
    "VODKA = [\"VODKA\", \"VODKA 80-90 PROOF\", \"VODKA\", \"VODKA 90-99 PROOF\", \"VODKA\", \"VODKA 100 PROOF UP\", \"VODKA - FLAVORED\", \"VODKA - ORANGE FLAVORED\", \"VODKA - GRAPE FLAVORED\", \"VODKA - LIME FLAVORED\", \"VODKA - LEMON FLAVORED\", \"VODKA - CHERRY FLAVORED\", \"VODKA - CHOCOLATE FLAVORED\", \"VODKA - MINT FLAVORED\", \"VODKA - PEPPERMINT FLAVORED\", \"VODKA - OTHER FLAVORED\", \"OTHER VODKA\", \"DILUTED VODKA\", \"VODKA\", \"VODKA 80-90 PROOF FB\", \"VODKA 80-90 PROOF USB\", \"VODKA\", \"VODKA 90-99 PROOF FB\", \"VODKA 90-99 PROOF USB\", \"VODKA\", \"VODKA 100 PROOF UP FB\", \"VODKA 100 PROOF UP USB\", \"VODKA - FLAVORED\", \"VODKA - ORANGE FLAVORED\", \"VODKA - GRAPE FLAVORED\", \"VODKA - LIME FLAVORED\", \"VODKA - LEMON FLAVORED\", \"VODKA - CHERRY FLAVORED\", \"VODKA - CHOCOLATE FLAVORED\", \"VODKA - MINT FLAVORED\", \"VODKA - PEPPERMINT FLAVORED\", \"VODKA - OTHER FLAVORED\", \"OTHER VODKA\", \"DILUTED VODKA FB\", \"DILUTED VODKA USB\", \"VODKA SPECIALTIES\", \"LIQUEURS (VODKA)\", \"VODKA SPECIALTIES\", \"LIQUEURS (VODKA)\", \"VODKA MARTINI (48 PROOF UP)\", \"VODKA MARTINI (UNDER 48 PROOF)\", \"VODKA MARTINI 48 PROOF UP\", \"VODKA MARTINI UNDER 48 PROOF\", \"VODKA SOUR UNDER 48 PROOF\"]"
   ]
  },
  {
   "cell_type": "markdown",
   "metadata": {},
   "source": [
    "##### Select US states only from the main df"
   ]
  },
  {
   "cell_type": "code",
   "execution_count": 12,
   "metadata": {},
   "outputs": [
    {
     "data": {
      "text/plain": [
       "38143"
      ]
     },
     "execution_count": 12,
     "metadata": {},
     "output_type": "execute_result"
    }
   ],
   "source": [
    "us_only = df.loc[df['OriginCode'].isin(states)]\n",
    "us_only = us_only.loc[df['Status'] == 'APPROVED']  # approved only\n",
    "\n",
    "mask = ('01/01/2016' <= us_only['recieve_date']) & (us_only['recieve_date'] < '01/01/2017')  #2016 only\n",
    "us_only = us_only.loc[mask]\n",
    "us_only['_id'].count()"
   ]
  },
  {
   "cell_type": "markdown",
   "metadata": {},
   "source": [
    "#### Add general category"
   ]
  },
  {
   "cell_type": "markdown",
   "metadata": {},
   "source": [
    "We can group more broadly using the following categories"
   ]
  },
  {
   "cell_type": "code",
   "execution_count": 13,
   "metadata": {},
   "outputs": [
    {
     "name": "stderr",
     "output_type": "stream",
     "text": [
      "/opt/conda/envs/datainc/lib/python3.6/site-packages/pandas/core/indexing.py:179: SettingWithCopyWarning:\n",
      "\n",
      "\n",
      "A value is trying to be set on a copy of a slice from a DataFrame\n",
      "\n",
      "See the caveats in the documentation: http://pandas.pydata.org/pandas-docs/stable/indexing.html#indexing-view-versus-copy\n",
      "\n"
     ]
    }
   ],
   "source": [
    "us_only['gen_class'] = us_only['Class/TypeCode']\n",
    "us_only['gen_class'].loc[us_only['Class/TypeCode'].isin(SPIRITS_MISC)] = 'SPIRITS_MISC'\n",
    "us_only['gen_class'].loc[us_only['Class/TypeCode'].isin(BEER)] = 'BEER'\n",
    "us_only['gen_class'].loc[us_only['Class/TypeCode'].isin(WINE)] = 'WINE'\n",
    "us_only['gen_class'].loc[us_only['Class/TypeCode'].isin(BRANDY)] = 'BRANDY'\n",
    "us_only['gen_class'].loc[us_only['Class/TypeCode'].isin(GIN)] = 'GIN'\n",
    "us_only['gen_class'].loc[us_only['Class/TypeCode'].isin(WHISKY)] = 'WHISKY'\n",
    "us_only['gen_class'].loc[us_only['Class/TypeCode'].isin(RUM)] = 'RUM'\n",
    "us_only['gen_class'].loc[us_only['Class/TypeCode'].isin(VODKA)] = 'VODKA'"
   ]
  },
  {
   "cell_type": "markdown",
   "metadata": {},
   "source": [
    "# Toward one-hot encoding"
   ]
  },
  {
   "cell_type": "markdown",
   "metadata": {},
   "source": [
    "### Merge the color space data with the requisite application data"
   ]
  },
  {
   "cell_type": "code",
   "execution_count": 14,
   "metadata": {
    "collapsed": true
   },
   "outputs": [],
   "source": [
    "color_dat_raw = pd.merge(us_only[['TTBID', 'Class/TypeCode', 'gen_class']], df_colors, left_on='TTBID', right_on='TTBID', how='inner')"
   ]
  },
  {
   "cell_type": "markdown",
   "metadata": {},
   "source": [
    "### Discretize color space"
   ]
  },
  {
   "cell_type": "markdown",
   "metadata": {},
   "source": [
    "Calculate our bins and the labels we want associated with the bins"
   ]
  },
  {
   "cell_type": "code",
   "execution_count": 15,
   "metadata": {
    "collapsed": true
   },
   "outputs": [],
   "source": [
    "bins = np.linspace(0, 255, 10)\n",
    "labels = (bins[1:] + bins[:-1]) / 2"
   ]
  },
  {
   "cell_type": "markdown",
   "metadata": {},
   "source": [
    "Apply a `binned` categorical label to each of the rgb values"
   ]
  },
  {
   "cell_type": "code",
   "execution_count": 16,
   "metadata": {
    "collapsed": true
   },
   "outputs": [],
   "source": [
    "color_dat_raw[['dr', 'dg', 'db']] = color_dat_raw[['r', 'g', 'b']].apply(lambda x: \n",
    "                                                                       pd.cut(x, bins, labels=labels, right=True, \n",
    "                                                                              include_lowest=True))"
   ]
  },
  {
   "cell_type": "markdown",
   "metadata": {},
   "source": [
    "Create tuple strings, so we can more easily count the groupings of colors"
   ]
  },
  {
   "cell_type": "code",
   "execution_count": 17,
   "metadata": {
    "collapsed": true
   },
   "outputs": [],
   "source": [
    "color_dat_raw['str_color'] = ['rgb({}, {}, {})'.format(int(r),int(g),int(b)) for (r,g,b)\n",
    "                             in zip(color_dat_raw['dr'], color_dat_raw['dg'], color_dat_raw['db'])]"
   ]
  },
  {
   "cell_type": "code",
   "execution_count": 18,
   "metadata": {},
   "outputs": [
    {
     "data": {
      "text/html": [
       "<div>\n",
       "<style>\n",
       "    .dataframe thead tr:only-child th {\n",
       "        text-align: right;\n",
       "    }\n",
       "\n",
       "    .dataframe thead th {\n",
       "        text-align: left;\n",
       "    }\n",
       "\n",
       "    .dataframe tbody tr th {\n",
       "        vertical-align: top;\n",
       "    }\n",
       "</style>\n",
       "<table border=\"1\" class=\"dataframe\">\n",
       "  <thead>\n",
       "    <tr style=\"text-align: right;\">\n",
       "      <th></th>\n",
       "      <th>TTBID</th>\n",
       "      <th>Class/TypeCode</th>\n",
       "      <th>gen_class</th>\n",
       "      <th>b</th>\n",
       "      <th>g</th>\n",
       "      <th>img_num</th>\n",
       "      <th>percentage</th>\n",
       "      <th>r</th>\n",
       "      <th>dr</th>\n",
       "      <th>dg</th>\n",
       "      <th>db</th>\n",
       "      <th>str_color</th>\n",
       "    </tr>\n",
       "  </thead>\n",
       "  <tbody>\n",
       "    <tr>\n",
       "      <th>0</th>\n",
       "      <td>16001001000009</td>\n",
       "      <td>MALT BEVERAGES SPECIALITIES - FLAVORED</td>\n",
       "      <td>BEER</td>\n",
       "      <td>57.854447</td>\n",
       "      <td>56.692722</td>\n",
       "      <td>0</td>\n",
       "      <td>0.50</td>\n",
       "      <td>60.746631</td>\n",
       "      <td>70.833333</td>\n",
       "      <td>70.833333</td>\n",
       "      <td>70.833333</td>\n",
       "      <td>rgb(70, 70, 70)</td>\n",
       "    </tr>\n",
       "    <tr>\n",
       "      <th>1</th>\n",
       "      <td>16001001000009</td>\n",
       "      <td>MALT BEVERAGES SPECIALITIES - FLAVORED</td>\n",
       "      <td>BEER</td>\n",
       "      <td>239.106518</td>\n",
       "      <td>238.742448</td>\n",
       "      <td>0</td>\n",
       "      <td>0.50</td>\n",
       "      <td>239.810811</td>\n",
       "      <td>240.833333</td>\n",
       "      <td>240.833333</td>\n",
       "      <td>240.833333</td>\n",
       "      <td>rgb(240, 240, 240)</td>\n",
       "    </tr>\n",
       "    <tr>\n",
       "      <th>2</th>\n",
       "      <td>16001001000018</td>\n",
       "      <td>OTHER WHISKY (FLAVORED)</td>\n",
       "      <td>WHISKY</td>\n",
       "      <td>166.517781</td>\n",
       "      <td>174.014225</td>\n",
       "      <td>0</td>\n",
       "      <td>0.50</td>\n",
       "      <td>179.844950</td>\n",
       "      <td>184.166667</td>\n",
       "      <td>184.166667</td>\n",
       "      <td>155.833333</td>\n",
       "      <td>rgb(184, 184, 155)</td>\n",
       "    </tr>\n",
       "    <tr>\n",
       "      <th>3</th>\n",
       "      <td>16001001000018</td>\n",
       "      <td>OTHER WHISKY (FLAVORED)</td>\n",
       "      <td>WHISKY</td>\n",
       "      <td>48.377104</td>\n",
       "      <td>50.838384</td>\n",
       "      <td>0</td>\n",
       "      <td>0.50</td>\n",
       "      <td>53.707071</td>\n",
       "      <td>42.500000</td>\n",
       "      <td>42.500000</td>\n",
       "      <td>42.500000</td>\n",
       "      <td>rgb(42, 42, 42)</td>\n",
       "    </tr>\n",
       "    <tr>\n",
       "      <th>4</th>\n",
       "      <td>16001001000018</td>\n",
       "      <td>OTHER WHISKY (FLAVORED)</td>\n",
       "      <td>WHISKY</td>\n",
       "      <td>232.319809</td>\n",
       "      <td>234.338902</td>\n",
       "      <td>1</td>\n",
       "      <td>0.25</td>\n",
       "      <td>236.873508</td>\n",
       "      <td>240.833333</td>\n",
       "      <td>240.833333</td>\n",
       "      <td>240.833333</td>\n",
       "      <td>rgb(240, 240, 240)</td>\n",
       "    </tr>\n",
       "  </tbody>\n",
       "</table>\n",
       "</div>"
      ],
      "text/plain": [
       "            TTBID                          Class/TypeCode gen_class  \\\n",
       "0  16001001000009  MALT BEVERAGES SPECIALITIES - FLAVORED      BEER   \n",
       "1  16001001000009  MALT BEVERAGES SPECIALITIES - FLAVORED      BEER   \n",
       "2  16001001000018                 OTHER WHISKY (FLAVORED)    WHISKY   \n",
       "3  16001001000018                 OTHER WHISKY (FLAVORED)    WHISKY   \n",
       "4  16001001000018                 OTHER WHISKY (FLAVORED)    WHISKY   \n",
       "\n",
       "            b           g img_num  percentage           r          dr  \\\n",
       "0   57.854447   56.692722       0        0.50   60.746631   70.833333   \n",
       "1  239.106518  238.742448       0        0.50  239.810811  240.833333   \n",
       "2  166.517781  174.014225       0        0.50  179.844950  184.166667   \n",
       "3   48.377104   50.838384       0        0.50   53.707071   42.500000   \n",
       "4  232.319809  234.338902       1        0.25  236.873508  240.833333   \n",
       "\n",
       "           dg          db           str_color  \n",
       "0   70.833333   70.833333     rgb(70, 70, 70)  \n",
       "1  240.833333  240.833333  rgb(240, 240, 240)  \n",
       "2  184.166667  155.833333  rgb(184, 184, 155)  \n",
       "3   42.500000   42.500000     rgb(42, 42, 42)  \n",
       "4  240.833333  240.833333  rgb(240, 240, 240)  "
      ]
     },
     "execution_count": 18,
     "metadata": {},
     "output_type": "execute_result"
    }
   ],
   "source": [
    "color_dat_raw.head()"
   ]
  },
  {
   "cell_type": "markdown",
   "metadata": {},
   "source": [
    "Set gen_class to be a category instead of object"
   ]
  },
  {
   "cell_type": "markdown",
   "metadata": {},
   "source": [
    "Note, you can get _int_ codes for a categorical variable like so: `color_dat_raw['gen_class'].cat.codes`"
   ]
  },
  {
   "cell_type": "code",
   "execution_count": 19,
   "metadata": {
    "collapsed": true
   },
   "outputs": [],
   "source": [
    "color_dat_raw['gen_class'] = color_dat_raw['gen_class'].astype('category')  #convert to category"
   ]
  },
  {
   "cell_type": "markdown",
   "metadata": {},
   "source": [
    "## One hot encoding"
   ]
  },
  {
   "cell_type": "markdown",
   "metadata": {},
   "source": [
    "##### Unregularized"
   ]
  },
  {
   "cell_type": "code",
   "execution_count": 20,
   "metadata": {},
   "outputs": [
    {
     "data": {
      "text/plain": [
       "(215890, 12)"
      ]
     },
     "execution_count": 20,
     "metadata": {},
     "output_type": "execute_result"
    }
   ],
   "source": [
    "color_dat_raw.shape"
   ]
  },
  {
   "cell_type": "code",
   "execution_count": 21,
   "metadata": {},
   "outputs": [
    {
     "data": {
      "text/plain": [
       "(215890, 715)"
      ]
     },
     "execution_count": 21,
     "metadata": {},
     "output_type": "execute_result"
    }
   ],
   "source": [
    "one_hot_color = pd.get_dummies(color_dat_raw['str_color'])\n",
    "one_hot_color.shape"
   ]
  },
  {
   "cell_type": "code",
   "execution_count": 22,
   "metadata": {},
   "outputs": [
    {
     "data": {
      "text/plain": [
       "(215890, 8)"
      ]
     },
     "execution_count": 22,
     "metadata": {},
     "output_type": "execute_result"
    }
   ],
   "source": [
    "one_hot_labels = pd.get_dummies(color_dat_raw['gen_class'])\n",
    "one_hot_labels.shape"
   ]
  },
  {
   "cell_type": "markdown",
   "metadata": {},
   "source": [
    "##### Mean normalized"
   ]
  },
  {
   "cell_type": "markdown",
   "metadata": {},
   "source": [
    "Find the number of occurance of each color for a given super class and the proportion"
   ]
  },
  {
   "cell_type": "code",
   "execution_count": 23,
   "metadata": {},
   "outputs": [],
   "source": [
    "type_colors = pd.DataFrame(color_dat_raw.groupby(['gen_class', 'str_color']).count()['TTBID'])\n",
    "type_colors.columns = ['counts']\n",
    "type_colors['prop_freq'] = type_colors['counts']/type_colors['counts'].groupby('gen_class').sum()\n",
    "type_colors['prop_freq2'] = type_colors['prop_freq']/type_colors['prop_freq'].groupby('gen_class').max() * 255\n",
    "type_colors.reset_index(inplace=True)"
   ]
  },
  {
   "cell_type": "markdown",
   "metadata": {},
   "source": [
    "Find the mean proportional frequency for each color"
   ]
  },
  {
   "cell_type": "code",
   "execution_count": 24,
   "metadata": {},
   "outputs": [],
   "source": [
    "res = pd.DataFrame(type_colors.groupby('str_color').mean()['prop_freq'])\n",
    "res.reset_index(inplace=True)\n",
    "res.rename(columns={'prop_freq': 'color_mean_freq'}, inplace=True) "
   ]
  },
  {
   "cell_type": "markdown",
   "metadata": {},
   "source": [
    "Merge in our new data then normalize"
   ]
  },
  {
   "cell_type": "code",
   "execution_count": 25,
   "metadata": {},
   "outputs": [],
   "source": [
    "color_dat_agg = pd.merge(type_colors, res, left_on='str_color', right_on='str_color', how='inner')"
   ]
  },
  {
   "cell_type": "code",
   "execution_count": 26,
   "metadata": {},
   "outputs": [],
   "source": [
    "color_dat_agg['prop_mean_norm'] = color_dat_agg['prop_freq'].fillna(0) - color_dat_agg['color_mean_freq']"
   ]
  },
  {
   "cell_type": "code",
   "execution_count": 27,
   "metadata": {},
   "outputs": [
    {
     "data": {
      "text/plain": [
       "(5720, 7)"
      ]
     },
     "execution_count": 27,
     "metadata": {},
     "output_type": "execute_result"
    }
   ],
   "source": [
    "color_dat_agg.shape"
   ]
  },
  {
   "cell_type": "markdown",
   "metadata": {},
   "source": [
    "Assign to old values for convenience"
   ]
  },
  {
   "cell_type": "code",
   "execution_count": 30,
   "metadata": {},
   "outputs": [],
   "source": [
    "label_encoder = LabelEncoder()\n",
    "labels_enc = label_encoder.fit_transform(color_dat_agg['gen_class'])"
   ]
  },
  {
   "cell_type": "code",
   "execution_count": 44,
   "metadata": {},
   "outputs": [],
   "source": [
    "#one_hot_color = np.array(pd.get_dummies(color_dat_agg['prop_mean_norm'].round(4)))  \n",
    "one_hot_color = np.array(color_dat_agg['prop_mean_norm']).reshape(-1, 1)\n",
    "one_hot_labels = np.array(labels_enc).reshape(-1,1)"
   ]
  },
  {
   "cell_type": "code",
   "execution_count": 45,
   "metadata": {},
   "outputs": [
    {
     "data": {
      "text/plain": [
       "(5720, 126)"
      ]
     },
     "execution_count": 45,
     "metadata": {},
     "output_type": "execute_result"
    }
   ],
   "source": [
    "one_hot_color.shape"
   ]
  },
  {
   "cell_type": "markdown",
   "metadata": {},
   "source": [
    "### Train and test split"
   ]
  },
  {
   "cell_type": "code",
   "execution_count": 46,
   "metadata": {},
   "outputs": [],
   "source": [
    "X_train, X_test, y_train, y_test = train_test_split(np.array(one_hot_color), np.array(one_hot_labels), \n",
    "                                                    test_size=0.33, random_state=42)"
   ]
  },
  {
   "cell_type": "markdown",
   "metadata": {
    "collapsed": true
   },
   "source": [
    "## Building our TensorFlow model"
   ]
  },
  {
   "cell_type": "markdown",
   "metadata": {},
   "source": [
    "##### Parameters of our model"
   ]
  },
  {
   "cell_type": "code",
   "execution_count": 47,
   "metadata": {},
   "outputs": [],
   "source": [
    "N_COLORS = one_hot_color.shape[1]\n",
    "N_CLASSES = one_hot_labels.shape[1]\n",
    "BATCH_SIZE = 100\n",
    "LEARNING_RATE = 0.5\n",
    "\n",
    "hidden_size = 64"
   ]
  },
  {
   "cell_type": "markdown",
   "metadata": {},
   "source": [
    "##### Setting up the input for our model"
   ]
  },
  {
   "cell_type": "code",
   "execution_count": 48,
   "metadata": {},
   "outputs": [],
   "source": [
    "reset_tf()  # reset our tf session\n",
    "\n",
    "# input to our tensor flow model\n",
    "x = tf.placeholder(tf.float32, [None, N_COLORS], name=\"colors\")\n",
    "y_label = tf.placeholder(tf.float32, [None, N_CLASSES], name=\"labels\")\n",
    "training = tf.placeholder(tf.bool, name=\"training\")\n",
    "\n",
    "# set up hidden layer\n",
    "hidden = tf.layers.dense(x, hidden_size, activation=tf.nn.sigmoid, use_bias=True,\n",
    "    kernel_initializer=tf.truncated_normal_initializer(stddev=N_COLORS**-0.5))\n",
    "\n",
    "# set up output layer\n",
    "y = tf.layers.dense(hidden, N_CLASSES, activation=None, use_bias=True,\n",
    "    kernel_initializer=tf.truncated_normal_initializer(stddev=hidden_size**-0.5))"
   ]
  },
  {
   "cell_type": "markdown",
   "metadata": {},
   "source": [
    "## Train the model"
   ]
  },
  {
   "cell_type": "code",
   "execution_count": 49,
   "metadata": {},
   "outputs": [],
   "source": [
    "def train_network(x, y_label, loss, accuracy, train, training, steps_total, steps_print):\n",
    "    metrics = {\n",
    "        'train_loss': [],\n",
    "        'train_acc': [],\n",
    "        'test_loss': [],\n",
    "        'test_acc': []\n",
    "    }\n",
    "    \n",
    "    reset_vars()\n",
    "    for i in range(steps_total):\n",
    "        #batch_x, batch_y = mnist.train.next_batch(BATCH_SIZE)\n",
    "        \n",
    "        j = np.random.choice(len(y_train), BATCH_SIZE, replace=False)\n",
    "        batch_x = X_train[j,:]\n",
    "        batch_y = y_train[j,:].reshape(-1,N_CLASSES)\n",
    "                \n",
    "        sess.run(train,\n",
    "                 feed_dict={x: batch_x, y_label: batch_y, training: True})\n",
    "        \n",
    "        if i % steps_print == 0 or i == steps_total - 1:\n",
    "            l, a = sess.run([loss, accuracy],\n",
    "                            feed_dict={x: X_test,\n",
    "                                       y_label: y_test,\n",
    "                                       training: False})\n",
    "            metrics['test_loss'].append(l)\n",
    "            metrics['test_acc'].append(a)\n",
    "            print( \"Test:  %0.5f, %0.5f\" % (l, a))\n",
    "            l, a = sess.run([loss, accuracy],\n",
    "                            feed_dict={x: X_train, \n",
    "                                       y_label: y_train,\n",
    "                                       training: False})\n",
    "            metrics['train_loss'].append(l)\n",
    "            metrics['train_acc'].append(a)\n",
    "            print( \"Train: %0.5f, %0.5f\" % (l, a))\n",
    "    return metrics"
   ]
  },
  {
   "cell_type": "code",
   "execution_count": 50,
   "metadata": {},
   "outputs": [
    {
     "name": "stdout",
     "output_type": "stream",
     "text": [
      "Test:  0.00000, 1.00000\n",
      "Train: 0.00000, 1.00000\n",
      "Test:  0.00000, 1.00000\n",
      "Train: 0.00000, 1.00000\n",
      "Test:  0.00000, 1.00000\n",
      "Train: 0.00000, 1.00000\n",
      "Test:  0.00000, 1.00000\n",
      "Train: 0.00000, 1.00000\n",
      "Test:  0.00000, 1.00000\n",
      "Train: 0.00000, 1.00000\n",
      "Test:  0.00000, 1.00000\n",
      "Train: 0.00000, 1.00000\n",
      "Test:  0.00000, 1.00000\n",
      "Train: 0.00000, 1.00000\n",
      "Test:  0.00000, 1.00000\n",
      "Train: 0.00000, 1.00000\n",
      "Test:  0.00000, 1.00000\n",
      "Train: 0.00000, 1.00000\n",
      "Test:  0.00000, 1.00000\n",
      "Train: 0.00000, 1.00000\n",
      "Test:  0.00000, 1.00000\n",
      "Train: 0.00000, 1.00000\n"
     ]
    }
   ],
   "source": [
    "loss = tf.reduce_mean(tf.nn.softmax_cross_entropy_with_logits(logits=y, labels=y_label))\n",
    "\n",
    "#train = tf.train.GradientDescentOptimizer(LEARNING_RATE).minimize(loss)  # gradient descent optimizer\n",
    "train = tf.train.AdamOptimizer().minimize(loss)  # adam optimizer\n",
    "\n",
    "accuracy = tf.reduce_mean(tf.cast(tf.equal(tf.argmax(y, 1), tf.argmax(y_label, 1)), tf.float32))\n",
    "\n",
    "total_steps = 1000\n",
    "steps_print = 100\n",
    "train_network(x, y_label, loss, accuracy, train, training, total_steps, steps_print);"
   ]
  },
  {
   "cell_type": "markdown",
   "metadata": {},
   "source": [
    "# Visualize with tensorboard"
   ]
  },
  {
   "cell_type": "code",
   "execution_count": null,
   "metadata": {
    "collapsed": true
   },
   "outputs": [],
   "source": [
    "g = tf.get_default_graph()  # get default graph"
   ]
  },
  {
   "cell_type": "code",
   "execution_count": null,
   "metadata": {
    "collapsed": true
   },
   "outputs": [],
   "source": [
    "writer = tf.summary.FileWriter('./tb/intro_graph', g)  #write the graph"
   ]
  },
  {
   "cell_type": "markdown",
   "metadata": {},
   "source": [
    "Run with:\n",
    "\n",
    "```\n",
    "tensorboard --logdir=tb/intro_graph\n",
    "```"
   ]
  },
  {
   "cell_type": "code",
   "execution_count": null,
   "metadata": {
    "collapsed": true
   },
   "outputs": [],
   "source": []
  },
  {
   "cell_type": "code",
   "execution_count": null,
   "metadata": {
    "collapsed": true
   },
   "outputs": [],
   "source": [
    "writer.close()"
   ]
  },
  {
   "cell_type": "markdown",
   "metadata": {},
   "source": [
    "# Treat as NLP Problem with TF-IDF"
   ]
  },
  {
   "cell_type": "markdown",
   "metadata": {},
   "source": [
    "Encode TTBID's as docs and colors as words"
   ]
  },
  {
   "cell_type": "code",
   "execution_count": 29,
   "metadata": {
    "collapsed": true
   },
   "outputs": [],
   "source": [
    "from sklearn.preprocessing import LabelEncoder\n",
    "from sklearn.preprocessing import OneHotEncoder\n",
    "from sklearn.pipeline import Pipeline\n",
    "from sklearn.feature_extraction.text import TfidfVectorizer\n",
    "\n",
    "from sklearn.linear_model import Ridge\n",
    "from sklearn.model_selection import GridSearchCV"
   ]
  },
  {
   "cell_type": "markdown",
   "metadata": {},
   "source": [
    "Encode the color as a single number"
   ]
  },
  {
   "cell_type": "code",
   "execution_count": null,
   "metadata": {
    "collapsed": true
   },
   "outputs": [],
   "source": [
    "color_label_enc = LabelEncoder()\n",
    "color_dat_raw['str_color_enc'] = color_label_enc.fit_transform(color_dat_raw['str_color'])"
   ]
  },
  {
   "cell_type": "code",
   "execution_count": null,
   "metadata": {},
   "outputs": [],
   "source": [
    "ttbs = color_dat_raw.groupby(['gen_class', 'TTBID'])\n",
    "\n",
    "words = [None]*color_dat_raw.shape[0]\n",
    "labels = [None]*color_dat_raw.shape[0]\n",
    "\n",
    "for i, (name, group) in enumerate(ttbs):\n",
    "    #print(name)\n",
    "    #words[i] = [rgb for rgb in group['str_color']]  # old way\n",
    "    tmp = [str(ccode) for ccode in group['str_color_enc']]\n",
    "    words[i] = ' '.join(tmp)\n",
    "    labels[i] = name[0]\n"
   ]
  },
  {
   "cell_type": "markdown",
   "metadata": {},
   "source": [
    "For some reason I need to remove Nones..."
   ]
  },
  {
   "cell_type": "code",
   "execution_count": null,
   "metadata": {
    "collapsed": true
   },
   "outputs": [],
   "source": [
    "clabels = [x for x in labels if x != None]\n",
    "cwords = [x for x in words if x != None]"
   ]
  },
  {
   "cell_type": "code",
   "execution_count": null,
   "metadata": {},
   "outputs": [],
   "source": [
    "cwords[:10]"
   ]
  },
  {
   "cell_type": "code",
   "execution_count": null,
   "metadata": {},
   "outputs": [],
   "source": [
    "label_encoder = LabelEncoder()\n",
    "labels_enc = label_encoder.fit_transform(clabels)"
   ]
  },
  {
   "cell_type": "code",
   "execution_count": null,
   "metadata": {},
   "outputs": [],
   "source": [
    "tf_idf = TfidfVectorizer(min_df=1e-9, max_df=0.9, lowercase=False)\n",
    "cwords_tf_idf = tf_idf.fit_transform(cwords)"
   ]
  },
  {
   "cell_type": "code",
   "execution_count": null,
   "metadata": {},
   "outputs": [],
   "source": [
    "tfidf_pipeline = Pipeline([('TfidfVectorizer', TfidfVectorizer(ngram_range=(1, 1), min_df=1, max_df=1.0)),\n",
    "                           ('Ridge', Ridge())])\n",
    "\n",
    "param_grid = {'Ridge__alpha': [0.1, 1.0, 10.0, 100, 500],\n",
    "              'TfidfVectorizer__min_df': [1e-2, 1e-5, 1e-7, 1e-9],\n",
    "              'TfidfVectorizer__max_df': [1.0, 0.9, 0.8, 0.75]}\n",
    "\n",
    "grid = GridSearchCV(tfidf_pipeline, param_grid, n_jobs=4, verbose=3)\n",
    "\n",
    "est = grid.fit(cwords, labels_enc)"
   ]
  },
  {
   "cell_type": "code",
   "execution_count": null,
   "metadata": {},
   "outputs": [],
   "source": [
    "est.best_params_"
   ]
  },
  {
   "cell_type": "code",
   "execution_count": null,
   "metadata": {},
   "outputs": [],
   "source": [
    "est.best_score_"
   ]
  },
  {
   "cell_type": "code",
   "execution_count": null,
   "metadata": {
    "collapsed": true
   },
   "outputs": [],
   "source": []
  }
 ],
 "metadata": {
  "kernelspec": {
   "display_name": "Python [conda env:datainc]",
   "language": "python",
   "name": "conda-env-datainc-py"
  },
  "language_info": {
   "codemirror_mode": {
    "name": "ipython",
    "version": 3
   },
   "file_extension": ".py",
   "mimetype": "text/x-python",
   "name": "python",
   "nbconvert_exporter": "python",
   "pygments_lexer": "ipython3",
   "version": "3.6.2"
  }
 },
 "nbformat": 4,
 "nbformat_minor": 2
}
