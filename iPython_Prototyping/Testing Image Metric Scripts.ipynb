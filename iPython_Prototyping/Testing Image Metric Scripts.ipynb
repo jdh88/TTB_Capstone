{
 "cells": [
  {
   "cell_type": "markdown",
   "metadata": {},
   "source": [
    "# Imports"
   ]
  },
  {
   "cell_type": "code",
   "execution_count": 51,
   "metadata": {
    "collapsed": true
   },
   "outputs": [],
   "source": [
    "import re\n",
    "import pymongo\n",
    "import pandas as pd\n",
    "\n",
    "import sys\n",
    "sys.path.append(r'../ScrapingTools')\n",
    "from Image_Processing import CalcImgMetrics\n",
    "from TTB_scraping import TTB_Scraper"
   ]
  },
  {
   "cell_type": "markdown",
   "metadata": {},
   "source": [
    "# Connect to database"
   ]
  },
  {
   "cell_type": "markdown",
   "metadata": {},
   "source": [
    "Existing collections"
   ]
  },
  {
   "cell_type": "code",
   "execution_count": null,
   "metadata": {
    "collapsed": true
   },
   "outputs": [],
   "source": [
    "# Set up connection to mongodb\n",
    "client = pymongo.MongoClient() # Connect to default client\n",
    "db = client.TTB # Get a database (note: lazy evaluation)\n",
    "TTB = db.TTB # collection for form data\n",
    "TTBLabels = db.LabelImages # collection for the label image data"
   ]
  },
  {
   "cell_type": "markdown",
   "metadata": {},
   "source": [
    "Test view"
   ]
  },
  {
   "cell_type": "code",
   "execution_count": 25,
   "metadata": {
    "collapsed": true
   },
   "outputs": [],
   "source": [
    "TEST = db.TEST  # test collection"
   ]
  },
  {
   "cell_type": "markdown",
   "metadata": {},
   "source": [
    "Deleting a table!"
   ]
  },
  {
   "cell_type": "code",
   "execution_count": 24,
   "metadata": {
    "collapsed": true
   },
   "outputs": [],
   "source": [
    "# WARNING: deletes database?\n",
    "#client.drop_database('TEST')"
   ]
  },
  {
   "cell_type": "markdown",
   "metadata": {},
   "source": [
    "# Pandas into Mongo"
   ]
  },
  {
   "cell_type": "markdown",
   "metadata": {},
   "source": [
    "### Get some data"
   ]
  },
  {
   "cell_type": "code",
   "execution_count": 33,
   "metadata": {},
   "outputs": [
    {
     "name": "stdout",
     "output_type": "stream",
     "text": [
      "[('Label Image: Brand (front)', 'https://www.ttbonline.gov/colasonline/publicViewAttachment.do?filename=BMMangoBtl.jpg&filetype=l'), ('Label Image: Neck', 'https://www.ttbonline.gov/colasonline/publicViewAttachment.do?filename=BMMangoNeck.jpg&filetype=l')]\n",
      "   percentage           r           g           b\n",
      "0    0.333333  236.234043  231.394799  212.919622\n",
      "1    0.083333  194.457666  171.700229  114.830664\n",
      "2    0.250000   69.646465  160.575758  211.919192\n",
      "3    0.333333   70.268293   80.341463  104.658537\n",
      "39852.8310789\n"
     ]
    },
    {
     "name": "stderr",
     "output_type": "stream",
     "text": [
      "/opt/conda/envs/datainc/lib/python3.6/site-packages/skimage/util/dtype.py:122: UserWarning: Possible precision loss when converting from float64 to uint8\n",
      "  .format(dtypeobj_in, dtypeobj_out))\n"
     ]
    }
   ],
   "source": [
    "TTBID = 16306001000152\n",
    "scraper = TTB_Scraper(TTBID)  # blue moon, mango wheat\n",
    "meta, imgs = scraper.get_images()\n",
    "print(meta)\n",
    "metric_calculator = CalcImgMetrics(imgs[0])\n",
    "colors, entropy = metric_calculator.calc_all_metrics()\n",
    "print(colors)\n",
    "print(entropy)"
   ]
  },
  {
   "cell_type": "code",
   "execution_count": 52,
   "metadata": {},
   "outputs": [
    {
     "data": {
      "text/plain": [
       "['Brand (front)',\n",
       " 'https://www.ttbonline.gov/colasonline/publicViewAttachment.do?filename=BMMangoBtl.jpg&filetype=l']"
      ]
     },
     "execution_count": 52,
     "metadata": {},
     "output_type": "execute_result"
    }
   ],
   "source": [
    "[re.sub('Label Image: ', '', label) for label in meta[0]]"
   ]
  },
  {
   "cell_type": "code",
   "execution_count": 55,
   "metadata": {},
   "outputs": [
    {
     "data": {
      "text/html": [
       "<div>\n",
       "<style>\n",
       "    .dataframe thead tr:only-child th {\n",
       "        text-align: right;\n",
       "    }\n",
       "\n",
       "    .dataframe thead th {\n",
       "        text-align: left;\n",
       "    }\n",
       "\n",
       "    .dataframe tbody tr th {\n",
       "        vertical-align: top;\n",
       "    }\n",
       "</style>\n",
       "<table border=\"1\" class=\"dataframe\">\n",
       "  <thead>\n",
       "    <tr style=\"text-align: right;\">\n",
       "      <th></th>\n",
       "      <th>0</th>\n",
       "      <th>1</th>\n",
       "    </tr>\n",
       "  </thead>\n",
       "  <tbody>\n",
       "    <tr>\n",
       "      <th>0</th>\n",
       "      <td>Label Image: Brand (front)</td>\n",
       "      <td>https://www.ttbonline.gov/colasonline/publicVi...</td>\n",
       "    </tr>\n",
       "    <tr>\n",
       "      <th>1</th>\n",
       "      <td>Label Image: Neck</td>\n",
       "      <td>https://www.ttbonline.gov/colasonline/publicVi...</td>\n",
       "    </tr>\n",
       "  </tbody>\n",
       "</table>\n",
       "</div>"
      ],
      "text/plain": [
       "                            0  \\\n",
       "0  Label Image: Brand (front)   \n",
       "1           Label Image: Neck   \n",
       "\n",
       "                                                   1  \n",
       "0  https://www.ttbonline.gov/colasonline/publicVi...  \n",
       "1  https://www.ttbonline.gov/colasonline/publicVi...  "
      ]
     },
     "execution_count": 55,
     "metadata": {},
     "output_type": "execute_result"
    }
   ],
   "source": [
    "pd.DataFrame(meta)"
   ]
  },
  {
   "cell_type": "code",
   "execution_count": 34,
   "metadata": {},
   "outputs": [],
   "source": [
    "colors['TTBID'] = [str(TTBID)]* colors.shape[0]"
   ]
  },
  {
   "cell_type": "code",
   "execution_count": 35,
   "metadata": {},
   "outputs": [
    {
     "data": {
      "text/html": [
       "<div>\n",
       "<style>\n",
       "    .dataframe thead tr:only-child th {\n",
       "        text-align: right;\n",
       "    }\n",
       "\n",
       "    .dataframe thead th {\n",
       "        text-align: left;\n",
       "    }\n",
       "\n",
       "    .dataframe tbody tr th {\n",
       "        vertical-align: top;\n",
       "    }\n",
       "</style>\n",
       "<table border=\"1\" class=\"dataframe\">\n",
       "  <thead>\n",
       "    <tr style=\"text-align: right;\">\n",
       "      <th></th>\n",
       "      <th>percentage</th>\n",
       "      <th>r</th>\n",
       "      <th>g</th>\n",
       "      <th>b</th>\n",
       "      <th>TTBID</th>\n",
       "    </tr>\n",
       "  </thead>\n",
       "  <tbody>\n",
       "    <tr>\n",
       "      <th>0</th>\n",
       "      <td>0.333333</td>\n",
       "      <td>236.234043</td>\n",
       "      <td>231.394799</td>\n",
       "      <td>212.919622</td>\n",
       "      <td>16306001000152</td>\n",
       "    </tr>\n",
       "    <tr>\n",
       "      <th>1</th>\n",
       "      <td>0.083333</td>\n",
       "      <td>194.457666</td>\n",
       "      <td>171.700229</td>\n",
       "      <td>114.830664</td>\n",
       "      <td>16306001000152</td>\n",
       "    </tr>\n",
       "    <tr>\n",
       "      <th>2</th>\n",
       "      <td>0.250000</td>\n",
       "      <td>69.646465</td>\n",
       "      <td>160.575758</td>\n",
       "      <td>211.919192</td>\n",
       "      <td>16306001000152</td>\n",
       "    </tr>\n",
       "    <tr>\n",
       "      <th>3</th>\n",
       "      <td>0.333333</td>\n",
       "      <td>70.268293</td>\n",
       "      <td>80.341463</td>\n",
       "      <td>104.658537</td>\n",
       "      <td>16306001000152</td>\n",
       "    </tr>\n",
       "  </tbody>\n",
       "</table>\n",
       "</div>"
      ],
      "text/plain": [
       "   percentage           r           g           b           TTBID\n",
       "0    0.333333  236.234043  231.394799  212.919622  16306001000152\n",
       "1    0.083333  194.457666  171.700229  114.830664  16306001000152\n",
       "2    0.250000   69.646465  160.575758  211.919192  16306001000152\n",
       "3    0.333333   70.268293   80.341463  104.658537  16306001000152"
      ]
     },
     "execution_count": 35,
     "metadata": {},
     "output_type": "execute_result"
    }
   ],
   "source": [
    "colors"
   ]
  },
  {
   "cell_type": "markdown",
   "metadata": {},
   "source": [
    "### Insert into the database"
   ]
  },
  {
   "cell_type": "code",
   "execution_count": 57,
   "metadata": {},
   "outputs": [
    {
     "data": {
      "text/plain": [
       "['TEST', 'TTB', 'LabelImages']"
      ]
     },
     "execution_count": 57,
     "metadata": {},
     "output_type": "execute_result"
    }
   ],
   "source": [
    "db.collection_names()"
   ]
  },
  {
   "cell_type": "code",
   "execution_count": 36,
   "metadata": {},
   "outputs": [
    {
     "data": {
      "text/plain": [
       "<pymongo.results.DeleteResult at 0x7f82b1509948>"
      ]
     },
     "execution_count": 36,
     "metadata": {},
     "output_type": "execute_result"
    }
   ],
   "source": [
    "#TEST.delete_many({}) # deletes everything in collection"
   ]
  },
  {
   "cell_type": "code",
   "execution_count": 37,
   "metadata": {},
   "outputs": [
    {
     "data": {
      "text/plain": [
       "<pymongo.results.InsertManyResult at 0x7f82b0f98a68>"
      ]
     },
     "execution_count": 37,
     "metadata": {},
     "output_type": "execute_result"
    }
   ],
   "source": [
    "TEST.insert_many(colors.to_dict('records'))"
   ]
  },
  {
   "cell_type": "code",
   "execution_count": 38,
   "metadata": {},
   "outputs": [
    {
     "data": {
      "text/plain": [
       "4"
      ]
     },
     "execution_count": 38,
     "metadata": {},
     "output_type": "execute_result"
    }
   ],
   "source": [
    "TEST.count()"
   ]
  },
  {
   "cell_type": "code",
   "execution_count": 39,
   "metadata": {},
   "outputs": [
    {
     "data": {
      "text/html": [
       "<div>\n",
       "<style>\n",
       "    .dataframe thead tr:only-child th {\n",
       "        text-align: right;\n",
       "    }\n",
       "\n",
       "    .dataframe thead th {\n",
       "        text-align: left;\n",
       "    }\n",
       "\n",
       "    .dataframe tbody tr th {\n",
       "        vertical-align: top;\n",
       "    }\n",
       "</style>\n",
       "<table border=\"1\" class=\"dataframe\">\n",
       "  <thead>\n",
       "    <tr style=\"text-align: right;\">\n",
       "      <th></th>\n",
       "      <th>TTBID</th>\n",
       "      <th>_id</th>\n",
       "      <th>b</th>\n",
       "      <th>g</th>\n",
       "      <th>percentage</th>\n",
       "      <th>r</th>\n",
       "    </tr>\n",
       "  </thead>\n",
       "  <tbody>\n",
       "    <tr>\n",
       "      <th>0</th>\n",
       "      <td>16306001000152</td>\n",
       "      <td>59dd9c1486c53a0ba3a6b31e</td>\n",
       "      <td>212.919622</td>\n",
       "      <td>231.394799</td>\n",
       "      <td>0.333333</td>\n",
       "      <td>236.234043</td>\n",
       "    </tr>\n",
       "    <tr>\n",
       "      <th>1</th>\n",
       "      <td>16306001000152</td>\n",
       "      <td>59dd9c1486c53a0ba3a6b31f</td>\n",
       "      <td>114.830664</td>\n",
       "      <td>171.700229</td>\n",
       "      <td>0.083333</td>\n",
       "      <td>194.457666</td>\n",
       "    </tr>\n",
       "    <tr>\n",
       "      <th>2</th>\n",
       "      <td>16306001000152</td>\n",
       "      <td>59dd9c1486c53a0ba3a6b320</td>\n",
       "      <td>211.919192</td>\n",
       "      <td>160.575758</td>\n",
       "      <td>0.250000</td>\n",
       "      <td>69.646465</td>\n",
       "    </tr>\n",
       "    <tr>\n",
       "      <th>3</th>\n",
       "      <td>16306001000152</td>\n",
       "      <td>59dd9c1486c53a0ba3a6b321</td>\n",
       "      <td>104.658537</td>\n",
       "      <td>80.341463</td>\n",
       "      <td>0.333333</td>\n",
       "      <td>70.268293</td>\n",
       "    </tr>\n",
       "  </tbody>\n",
       "</table>\n",
       "</div>"
      ],
      "text/plain": [
       "            TTBID                       _id           b           g  \\\n",
       "0  16306001000152  59dd9c1486c53a0ba3a6b31e  212.919622  231.394799   \n",
       "1  16306001000152  59dd9c1486c53a0ba3a6b31f  114.830664  171.700229   \n",
       "2  16306001000152  59dd9c1486c53a0ba3a6b320  211.919192  160.575758   \n",
       "3  16306001000152  59dd9c1486c53a0ba3a6b321  104.658537   80.341463   \n",
       "\n",
       "   percentage           r  \n",
       "0    0.333333  236.234043  \n",
       "1    0.083333  194.457666  \n",
       "2    0.250000   69.646465  \n",
       "3    0.333333   70.268293  "
      ]
     },
     "execution_count": 39,
     "metadata": {},
     "output_type": "execute_result"
    }
   ],
   "source": [
    "pd.DataFrame(list(TEST.find()))"
   ]
  },
  {
   "cell_type": "code",
   "execution_count": null,
   "metadata": {
    "collapsed": true
   },
   "outputs": [],
   "source": []
  }
 ],
 "metadata": {
  "kernelspec": {
   "display_name": "Python [conda env:datainc]",
   "language": "python",
   "name": "conda-env-datainc-py"
  },
  "language_info": {
   "codemirror_mode": {
    "name": "ipython",
    "version": 3
   },
   "file_extension": ".py",
   "mimetype": "text/x-python",
   "name": "python",
   "nbconvert_exporter": "python",
   "pygments_lexer": "ipython3",
   "version": "3.6.2"
  }
 },
 "nbformat": 4,
 "nbformat_minor": 2
}
