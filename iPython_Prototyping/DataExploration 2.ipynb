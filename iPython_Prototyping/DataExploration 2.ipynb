{
 "cells": [
  {
   "cell_type": "markdown",
   "metadata": {},
   "source": [
    "# Imports"
   ]
  },
  {
   "cell_type": "code",
   "execution_count": 91,
   "metadata": {},
   "outputs": [
    {
     "data": {
      "text/html": [
       "<script>requirejs.config({paths: { 'plotly': ['https://cdn.plot.ly/plotly-latest.min']},});if(!window.Plotly) {{require(['plotly'],function(plotly) {window.Plotly=plotly;});}}</script>"
      ],
      "text/vnd.plotly.v1+html": [
       "<script>requirejs.config({paths: { 'plotly': ['https://cdn.plot.ly/plotly-latest.min']},});if(!window.Plotly) {{require(['plotly'],function(plotly) {window.Plotly=plotly;});}}</script>"
      ]
     },
     "metadata": {},
     "output_type": "display_data"
    }
   ],
   "source": [
    "import datetime\n",
    "import pymongo\n",
    "import pandas as pd\n",
    "import matplotlib\n",
    "import matplotlib.pyplot as plt\n",
    "matplotlib.style.use('ggplot')\n",
    "\n",
    "import re\n",
    "from pygeocoder import Geocoder, GeocoderError\n",
    "\n",
    "import numpy as np\n",
    "from collections import defaultdict\n",
    "\n",
    "import plotly\n",
    "import plotly.plotly as py\n",
    "plotly.offline.init_notebook_mode(connected=True)"
   ]
  },
  {
   "cell_type": "code",
   "execution_count": 26,
   "metadata": {
    "collapsed": true
   },
   "outputs": [],
   "source": [
    "from sklearn import linear_model\n",
    "import sklearn"
   ]
  },
  {
   "cell_type": "markdown",
   "metadata": {},
   "source": [
    "# Connect to Data"
   ]
  },
  {
   "cell_type": "markdown",
   "metadata": {},
   "source": [
    "##### Connect to databases"
   ]
  },
  {
   "cell_type": "code",
   "execution_count": 2,
   "metadata": {
    "collapsed": true
   },
   "outputs": [],
   "source": [
    "# Set up connection to mongodb\n",
    "client = pymongo.MongoClient() # Connect to default client\n",
    "db = client.TTB # Get a database (note: lazy evaluation)\n",
    "TTB = db.TTB # collection for form data\n",
    "TTB_COLORS = db.COLORS # collection for the label image data\n",
    "TTB_IMG_META = db.IMG_META\n",
    "TTB_IMG_SUP = db.IMG_SUP"
   ]
  },
  {
   "cell_type": "markdown",
   "metadata": {},
   "source": [
    "##### Load into pandas"
   ]
  },
  {
   "cell_type": "code",
   "execution_count": 3,
   "metadata": {
    "collapsed": true
   },
   "outputs": [],
   "source": [
    "df = pd.DataFrame(list(TTB.find()))\n",
    "df_colors = pd.DataFrame(list(TTB_COLORS.find()))\n",
    "df_img_meta = pd.DataFrame(list(TTB_IMG_META.find()))\n",
    "df_img_sup = pd.DataFrame(list(TTB_IMG_SUP.find()))"
   ]
  },
  {
   "cell_type": "markdown",
   "metadata": {},
   "source": [
    "##### Drop useless `_id` columns"
   ]
  },
  {
   "cell_type": "code",
   "execution_count": 4,
   "metadata": {
    "collapsed": true
   },
   "outputs": [],
   "source": [
    "df_colors = df_colors.drop(['_id'], axis=1)\n",
    "df_img_meta = df_img_meta.drop(['_id'], axis=1)\n",
    "df_img_sup = df_img_sup.drop(['_id'], axis=1)"
   ]
  },
  {
   "cell_type": "markdown",
   "metadata": {},
   "source": [
    "##### Drop duplicates, unclear why present"
   ]
  },
  {
   "cell_type": "code",
   "execution_count": 5,
   "metadata": {},
   "outputs": [
    {
     "data": {
      "text/plain": [
       "391"
      ]
     },
     "execution_count": 5,
     "metadata": {},
     "output_type": "execute_result"
    }
   ],
   "source": [
    "df_colors.shape[0] - df_colors.drop_duplicates().shape[0]"
   ]
  },
  {
   "cell_type": "code",
   "execution_count": 6,
   "metadata": {
    "collapsed": true
   },
   "outputs": [],
   "source": [
    "df_colors = df_colors.drop_duplicates()"
   ]
  },
  {
   "cell_type": "code",
   "execution_count": 6,
   "metadata": {},
   "outputs": [
    {
     "data": {
      "text/plain": [
       "119"
      ]
     },
     "execution_count": 6,
     "metadata": {},
     "output_type": "execute_result"
    }
   ],
   "source": [
    "df_img_meta.shape[0] - df_img_meta.drop_duplicates().shape[0]"
   ]
  },
  {
   "cell_type": "code",
   "execution_count": 7,
   "metadata": {
    "collapsed": true
   },
   "outputs": [],
   "source": [
    "df_img_meta = df_img_meta.drop_duplicates()"
   ]
  },
  {
   "cell_type": "code",
   "execution_count": 8,
   "metadata": {},
   "outputs": [
    {
     "data": {
      "text/plain": [
       "119"
      ]
     },
     "execution_count": 8,
     "metadata": {},
     "output_type": "execute_result"
    }
   ],
   "source": [
    "df_img_sup.shape[0] - df_img_meta.drop_duplicates().shape[0]"
   ]
  },
  {
   "cell_type": "code",
   "execution_count": 9,
   "metadata": {
    "collapsed": true
   },
   "outputs": [],
   "source": [
    "df_img_sup = df_img_sup.drop_duplicates()"
   ]
  },
  {
   "cell_type": "markdown",
   "metadata": {},
   "source": [
    "##### Helper lookup for US states"
   ]
  },
  {
   "cell_type": "code",
   "execution_count": 10,
   "metadata": {
    "collapsed": true
   },
   "outputs": [],
   "source": [
    "# get list of all US states, convert to uppercase as that is what is used\n",
    "states = ['Alabama', 'Alaska', 'Arizona', 'Arkansas', 'California', 'Colorado', 'Connecticut', 'Delaware', 'Florida', 'Georgia', 'Hawaii', 'Idaho', 'Illinois', 'Indiana', 'Iowa', 'Kansas', 'Kentucky', 'Louisiana', 'Maine', 'Maryland', 'Massachusetts', 'Michigan', 'Minnesota', 'Mississippi', 'Missouri', 'Montana', 'Nebraska', 'Nevada', 'New Hampshire', 'New Jersey', 'New Mexico', 'New York', 'North Carolina', 'North Dakota', 'Ohio', 'Oklahoma', 'Oregon', 'Pennsylvania', 'Rhode Island', 'South Carolina', 'South Dakota', 'Tennessee', 'Texas', 'Utah', 'Vermont', 'Virginia', 'Washington', 'West Virginia', 'Wisconsin', 'Wyoming']\n",
    "states = [state.upper() for state in states]\n",
    "\n",
    "us_state_abbrev = {'Alabama': 'AL','Alaska': 'AK','Arizona': 'AZ','Arkansas': 'AR','California': 'CA','Colorado': 'CO','Connecticut': 'CT','Delaware': 'DE','Florida': 'FL','Georgia': 'GA','Hawaii': 'HI','Idaho': 'ID','Illinois': 'IL','Indiana': 'IN','Iowa': 'IA','Kansas': 'KS','Kentucky': 'KY','Louisiana': 'LA','Maine': 'ME','Maryland': 'MD','Massachusetts': 'MA','Michigan': 'MI','Minnesota': 'MN','Mississippi': 'MS','Missouri': 'MO','Montana': 'MT','Nebraska': 'NE','Nevada': 'NV','New Hampshire': 'NH','New Jersey': 'NJ','New Mexico': 'NM','New York': 'NY','North Carolina': 'NC','North Dakota': 'ND','Ohio': 'OH','Oklahoma': 'OK','Oregon': 'OR','Pennsylvania': 'PA','Rhode Island': 'RI','South Carolina': 'SC','South Dakota': 'SD','Tennessee': 'TN','Texas': 'TX','Utah': 'UT','Vermont': 'VT','Virginia': 'VA','Washington': 'WA','West Virginia': 'WV','Wisconsin': 'WI','Wyoming': 'WY'}\n",
    "\n",
    "# capitalized versions\n",
    "abbrev_lookup=defaultdict(str)\n",
    "for k, v in us_state_abbrev.items():\n",
    "    abbrev_lookup[k.upper()] = v\n"
   ]
  },
  {
   "cell_type": "markdown",
   "metadata": {},
   "source": [
    "##### Select US states only from the main df"
   ]
  },
  {
   "cell_type": "code",
   "execution_count": 11,
   "metadata": {},
   "outputs": [
    {
     "data": {
      "text/plain": [
       "54484"
      ]
     },
     "execution_count": 11,
     "metadata": {},
     "output_type": "execute_result"
    }
   ],
   "source": [
    "us_only = df.loc[df['OriginCode'].isin(states)]\n",
    "us_only = us_only.loc[df['Status'] == 'APPROVED']\n",
    "us_only['_id'].count()"
   ]
  },
  {
   "cell_type": "markdown",
   "metadata": {},
   "source": [
    "# Analysis"
   ]
  },
  {
   "cell_type": "markdown",
   "metadata": {},
   "source": [
    "## A quick look at our tables"
   ]
  },
  {
   "cell_type": "code",
   "execution_count": 13,
   "metadata": {},
   "outputs": [
    {
     "data": {
      "text/plain": [
       "(61465, 4)"
      ]
     },
     "execution_count": 13,
     "metadata": {},
     "output_type": "execute_result"
    }
   ],
   "source": [
    "df_img_meta.shape"
   ]
  },
  {
   "cell_type": "code",
   "execution_count": 14,
   "metadata": {},
   "outputs": [
    {
     "data": {
      "text/html": [
       "<div>\n",
       "<style>\n",
       "    .dataframe thead tr:only-child th {\n",
       "        text-align: right;\n",
       "    }\n",
       "\n",
       "    .dataframe thead th {\n",
       "        text-align: left;\n",
       "    }\n",
       "\n",
       "    .dataframe tbody tr th {\n",
       "        vertical-align: top;\n",
       "    }\n",
       "</style>\n",
       "<table border=\"1\" class=\"dataframe\">\n",
       "  <thead>\n",
       "    <tr style=\"text-align: right;\">\n",
       "      <th></th>\n",
       "      <th>ImgType</th>\n",
       "      <th>LabelName</th>\n",
       "      <th>TTBID</th>\n",
       "      <th>URL</th>\n",
       "    </tr>\n",
       "  </thead>\n",
       "  <tbody>\n",
       "    <tr>\n",
       "      <th>0</th>\n",
       "      <td>RGB</td>\n",
       "      <td>Brand (front)</td>\n",
       "      <td>16001001000009</td>\n",
       "      <td>https://www.ttbonline.gov/colasonline/publicVi...</td>\n",
       "    </tr>\n",
       "    <tr>\n",
       "      <th>1</th>\n",
       "      <td>RGB</td>\n",
       "      <td>Brand (front)</td>\n",
       "      <td>16001001000018</td>\n",
       "      <td>https://www.ttbonline.gov/colasonline/publicVi...</td>\n",
       "    </tr>\n",
       "    <tr>\n",
       "      <th>2</th>\n",
       "      <td>RGB</td>\n",
       "      <td>Back</td>\n",
       "      <td>16001001000018</td>\n",
       "      <td>https://www.ttbonline.gov/colasonline/publicVi...</td>\n",
       "    </tr>\n",
       "    <tr>\n",
       "      <th>3</th>\n",
       "      <td>RGB</td>\n",
       "      <td>Strip</td>\n",
       "      <td>16001001000018</td>\n",
       "      <td>https://www.ttbonline.gov/colasonline/publicVi...</td>\n",
       "    </tr>\n",
       "    <tr>\n",
       "      <th>4</th>\n",
       "      <td>RGB</td>\n",
       "      <td>Brand (front)</td>\n",
       "      <td>16001001000021</td>\n",
       "      <td>https://www.ttbonline.gov/colasonline/publicVi...</td>\n",
       "    </tr>\n",
       "  </tbody>\n",
       "</table>\n",
       "</div>"
      ],
      "text/plain": [
       "  ImgType      LabelName           TTBID  \\\n",
       "0     RGB  Brand (front)  16001001000009   \n",
       "1     RGB  Brand (front)  16001001000018   \n",
       "2     RGB           Back  16001001000018   \n",
       "3     RGB          Strip  16001001000018   \n",
       "4     RGB  Brand (front)  16001001000021   \n",
       "\n",
       "                                                 URL  \n",
       "0  https://www.ttbonline.gov/colasonline/publicVi...  \n",
       "1  https://www.ttbonline.gov/colasonline/publicVi...  \n",
       "2  https://www.ttbonline.gov/colasonline/publicVi...  \n",
       "3  https://www.ttbonline.gov/colasonline/publicVi...  \n",
       "4  https://www.ttbonline.gov/colasonline/publicVi...  "
      ]
     },
     "execution_count": 14,
     "metadata": {},
     "output_type": "execute_result"
    }
   ],
   "source": [
    "df_img_meta.head()"
   ]
  },
  {
   "cell_type": "code",
   "execution_count": 15,
   "metadata": {},
   "outputs": [
    {
     "data": {
      "text/html": [
       "<div>\n",
       "<style>\n",
       "    .dataframe thead tr:only-child th {\n",
       "        text-align: right;\n",
       "    }\n",
       "\n",
       "    .dataframe thead th {\n",
       "        text-align: left;\n",
       "    }\n",
       "\n",
       "    .dataframe tbody tr th {\n",
       "        vertical-align: top;\n",
       "    }\n",
       "</style>\n",
       "<table border=\"1\" class=\"dataframe\">\n",
       "  <thead>\n",
       "    <tr style=\"text-align: right;\">\n",
       "      <th></th>\n",
       "      <th>TTBID</th>\n",
       "      <th>b</th>\n",
       "      <th>g</th>\n",
       "      <th>img_num</th>\n",
       "      <th>percentage</th>\n",
       "      <th>r</th>\n",
       "    </tr>\n",
       "  </thead>\n",
       "  <tbody>\n",
       "    <tr>\n",
       "      <th>0</th>\n",
       "      <td>16001001000009</td>\n",
       "      <td>57.854447</td>\n",
       "      <td>56.692722</td>\n",
       "      <td>0</td>\n",
       "      <td>0.50</td>\n",
       "      <td>60.746631</td>\n",
       "    </tr>\n",
       "    <tr>\n",
       "      <th>1</th>\n",
       "      <td>16001001000009</td>\n",
       "      <td>239.106518</td>\n",
       "      <td>238.742448</td>\n",
       "      <td>0</td>\n",
       "      <td>0.50</td>\n",
       "      <td>239.810811</td>\n",
       "    </tr>\n",
       "    <tr>\n",
       "      <th>2</th>\n",
       "      <td>16001001000018</td>\n",
       "      <td>166.517781</td>\n",
       "      <td>174.014225</td>\n",
       "      <td>0</td>\n",
       "      <td>0.50</td>\n",
       "      <td>179.844950</td>\n",
       "    </tr>\n",
       "    <tr>\n",
       "      <th>3</th>\n",
       "      <td>16001001000018</td>\n",
       "      <td>48.377104</td>\n",
       "      <td>50.838384</td>\n",
       "      <td>0</td>\n",
       "      <td>0.50</td>\n",
       "      <td>53.707071</td>\n",
       "    </tr>\n",
       "    <tr>\n",
       "      <th>4</th>\n",
       "      <td>16001001000018</td>\n",
       "      <td>232.319809</td>\n",
       "      <td>234.338902</td>\n",
       "      <td>1</td>\n",
       "      <td>0.25</td>\n",
       "      <td>236.873508</td>\n",
       "    </tr>\n",
       "  </tbody>\n",
       "</table>\n",
       "</div>"
      ],
      "text/plain": [
       "            TTBID           b           g img_num  percentage           r\n",
       "0  16001001000009   57.854447   56.692722       0        0.50   60.746631\n",
       "1  16001001000009  239.106518  238.742448       0        0.50  239.810811\n",
       "2  16001001000018  166.517781  174.014225       0        0.50  179.844950\n",
       "3  16001001000018   48.377104   50.838384       0        0.50   53.707071\n",
       "4  16001001000018  232.319809  234.338902       1        0.25  236.873508"
      ]
     },
     "execution_count": 15,
     "metadata": {},
     "output_type": "execute_result"
    }
   ],
   "source": [
    "df_colors.head()"
   ]
  },
  {
   "cell_type": "code",
   "execution_count": 16,
   "metadata": {},
   "outputs": [
    {
     "data": {
      "text/html": [
       "<div>\n",
       "<style>\n",
       "    .dataframe thead tr:only-child th {\n",
       "        text-align: right;\n",
       "    }\n",
       "\n",
       "    .dataframe thead th {\n",
       "        text-align: left;\n",
       "    }\n",
       "\n",
       "    .dataframe tbody tr th {\n",
       "        vertical-align: top;\n",
       "    }\n",
       "</style>\n",
       "<table border=\"1\" class=\"dataframe\">\n",
       "  <thead>\n",
       "    <tr style=\"text-align: right;\">\n",
       "      <th></th>\n",
       "      <th>EntropySum</th>\n",
       "      <th>TTBID</th>\n",
       "    </tr>\n",
       "  </thead>\n",
       "  <tbody>\n",
       "    <tr>\n",
       "      <th>0</th>\n",
       "      <td>47094.762136</td>\n",
       "      <td>16001001000009</td>\n",
       "    </tr>\n",
       "    <tr>\n",
       "      <th>1</th>\n",
       "      <td>75152.047524</td>\n",
       "      <td>16001001000018</td>\n",
       "    </tr>\n",
       "    <tr>\n",
       "      <th>2</th>\n",
       "      <td>76623.535135</td>\n",
       "      <td>16001001000018</td>\n",
       "    </tr>\n",
       "    <tr>\n",
       "      <th>3</th>\n",
       "      <td>6882.318540</td>\n",
       "      <td>16001001000018</td>\n",
       "    </tr>\n",
       "    <tr>\n",
       "      <th>4</th>\n",
       "      <td>75163.828744</td>\n",
       "      <td>16001001000021</td>\n",
       "    </tr>\n",
       "  </tbody>\n",
       "</table>\n",
       "</div>"
      ],
      "text/plain": [
       "     EntropySum           TTBID\n",
       "0  47094.762136  16001001000009\n",
       "1  75152.047524  16001001000018\n",
       "2  76623.535135  16001001000018\n",
       "3   6882.318540  16001001000018\n",
       "4  75163.828744  16001001000021"
      ]
     },
     "execution_count": 16,
     "metadata": {},
     "output_type": "execute_result"
    }
   ],
   "source": [
    "df_img_sup.head()"
   ]
  },
  {
   "cell_type": "markdown",
   "metadata": {},
   "source": [
    "## Where on the packaging do these labels go?"
   ]
  },
  {
   "cell_type": "markdown",
   "metadata": {},
   "source": [
    "Almost all labels are simpley pasted on the front, or back, though there are some that go elsewhere"
   ]
  },
  {
   "cell_type": "code",
   "execution_count": 12,
   "metadata": {},
   "outputs": [
    {
     "data": {
      "text/html": [
       "<div>\n",
       "<style>\n",
       "    .dataframe thead tr:only-child th {\n",
       "        text-align: right;\n",
       "    }\n",
       "\n",
       "    .dataframe thead th {\n",
       "        text-align: left;\n",
       "    }\n",
       "\n",
       "    .dataframe tbody tr th {\n",
       "        vertical-align: top;\n",
       "    }\n",
       "</style>\n",
       "<table border=\"1\" class=\"dataframe\">\n",
       "  <thead>\n",
       "    <tr style=\"text-align: right;\">\n",
       "      <th></th>\n",
       "      <th>ImgType</th>\n",
       "      <th>TTBID</th>\n",
       "      <th>URL</th>\n",
       "    </tr>\n",
       "    <tr>\n",
       "      <th>LabelName</th>\n",
       "      <th></th>\n",
       "      <th></th>\n",
       "      <th></th>\n",
       "    </tr>\n",
       "  </thead>\n",
       "  <tbody>\n",
       "    <tr>\n",
       "      <th>Back</th>\n",
       "      <td>19443</td>\n",
       "      <td>19443</td>\n",
       "      <td>19443</td>\n",
       "    </tr>\n",
       "    <tr>\n",
       "      <th>Brand (front)</th>\n",
       "      <td>37652</td>\n",
       "      <td>37652</td>\n",
       "      <td>37652</td>\n",
       "    </tr>\n",
       "    <tr>\n",
       "      <th>Neck</th>\n",
       "      <td>1746</td>\n",
       "      <td>1746</td>\n",
       "      <td>1746</td>\n",
       "    </tr>\n",
       "    <tr>\n",
       "      <th>Other</th>\n",
       "      <td>1959</td>\n",
       "      <td>1959</td>\n",
       "      <td>1959</td>\n",
       "    </tr>\n",
       "    <tr>\n",
       "      <th>Strip</th>\n",
       "      <td>665</td>\n",
       "      <td>665</td>\n",
       "      <td>665</td>\n",
       "    </tr>\n",
       "  </tbody>\n",
       "</table>\n",
       "</div>"
      ],
      "text/plain": [
       "               ImgType  TTBID    URL\n",
       "LabelName                           \n",
       "Back             19443  19443  19443\n",
       "Brand (front)    37652  37652  37652\n",
       "Neck              1746   1746   1746\n",
       "Other             1959   1959   1959\n",
       "Strip              665    665    665"
      ]
     },
     "execution_count": 12,
     "metadata": {},
     "output_type": "execute_result"
    }
   ],
   "source": [
    "df_img_meta.groupby('LabelName').count()"
   ]
  },
  {
   "cell_type": "markdown",
   "metadata": {},
   "source": [
    "## What types of images are we getting (can we do anything with the alpha?)"
   ]
  },
  {
   "cell_type": "markdown",
   "metadata": {},
   "source": [
    "Join our tables, to get a new table with the recieve date and the type of image"
   ]
  },
  {
   "cell_type": "code",
   "execution_count": 13,
   "metadata": {
    "collapsed": true
   },
   "outputs": [],
   "source": [
    "alpha_date = pd.merge(df[['recieve_date', 'TTBID']], \n",
    "                      df_img_meta[['TTBID', 'ImgType']], \n",
    "                      left_on='TTBID', right_on='TTBID', how='inner')"
   ]
  },
  {
   "cell_type": "code",
   "execution_count": 14,
   "metadata": {
    "collapsed": true
   },
   "outputs": [],
   "source": [
    "alpha_date['recieve_date'] = pd.to_datetime(alpha_date['recieve_date'], format='%m/%d/%Y')"
   ]
  },
  {
   "cell_type": "code",
   "execution_count": 15,
   "metadata": {},
   "outputs": [
    {
     "data": {
      "text/html": [
       "<div>\n",
       "<style>\n",
       "    .dataframe thead tr:only-child th {\n",
       "        text-align: right;\n",
       "    }\n",
       "\n",
       "    .dataframe thead th {\n",
       "        text-align: left;\n",
       "    }\n",
       "\n",
       "    .dataframe tbody tr th {\n",
       "        vertical-align: top;\n",
       "    }\n",
       "</style>\n",
       "<table border=\"1\" class=\"dataframe\">\n",
       "  <thead>\n",
       "    <tr style=\"text-align: right;\">\n",
       "      <th></th>\n",
       "      <th>recieve_date</th>\n",
       "      <th>TTBID</th>\n",
       "      <th>ImgType</th>\n",
       "    </tr>\n",
       "  </thead>\n",
       "  <tbody>\n",
       "    <tr>\n",
       "      <th>0</th>\n",
       "      <td>2016-01-01</td>\n",
       "      <td>16001001000009</td>\n",
       "      <td>RGB</td>\n",
       "    </tr>\n",
       "    <tr>\n",
       "      <th>1</th>\n",
       "      <td>2016-01-01</td>\n",
       "      <td>16001001000018</td>\n",
       "      <td>RGB</td>\n",
       "    </tr>\n",
       "    <tr>\n",
       "      <th>2</th>\n",
       "      <td>2016-01-01</td>\n",
       "      <td>16001001000018</td>\n",
       "      <td>RGB</td>\n",
       "    </tr>\n",
       "    <tr>\n",
       "      <th>3</th>\n",
       "      <td>2016-01-01</td>\n",
       "      <td>16001001000018</td>\n",
       "      <td>RGB</td>\n",
       "    </tr>\n",
       "    <tr>\n",
       "      <th>4</th>\n",
       "      <td>2016-01-01</td>\n",
       "      <td>16001001000021</td>\n",
       "      <td>RGB</td>\n",
       "    </tr>\n",
       "  </tbody>\n",
       "</table>\n",
       "</div>"
      ],
      "text/plain": [
       "  recieve_date           TTBID ImgType\n",
       "0   2016-01-01  16001001000009     RGB\n",
       "1   2016-01-01  16001001000018     RGB\n",
       "2   2016-01-01  16001001000018     RGB\n",
       "3   2016-01-01  16001001000018     RGB\n",
       "4   2016-01-01  16001001000021     RGB"
      ]
     },
     "execution_count": 15,
     "metadata": {},
     "output_type": "execute_result"
    }
   ],
   "source": [
    "alpha_date.head()"
   ]
  },
  {
   "cell_type": "markdown",
   "metadata": {},
   "source": [
    "We can see how the applications evolve over time by using Grouper to look at weekly changes (`W`) or montly changes (`M`), and also grouping by the image type"
   ]
  },
  {
   "cell_type": "code",
   "execution_count": 48,
   "metadata": {
    "collapsed": true
   },
   "outputs": [],
   "source": [
    "img_type_by_date = alpha_date.groupby([pd.Grouper(key='recieve_date', freq='W'), 'ImgType']).count()\n",
    "img_type_by_date.columns = ['counts']"
   ]
  },
  {
   "cell_type": "code",
   "execution_count": 49,
   "metadata": {},
   "outputs": [
    {
     "data": {
      "text/html": [
       "<div>\n",
       "<style>\n",
       "    .dataframe thead tr:only-child th {\n",
       "        text-align: right;\n",
       "    }\n",
       "\n",
       "    .dataframe thead th {\n",
       "        text-align: left;\n",
       "    }\n",
       "\n",
       "    .dataframe tbody tr th {\n",
       "        vertical-align: top;\n",
       "    }\n",
       "</style>\n",
       "<table border=\"1\" class=\"dataframe\">\n",
       "  <thead>\n",
       "    <tr>\n",
       "      <th></th>\n",
       "      <th colspan=\"3\" halign=\"left\">counts</th>\n",
       "    </tr>\n",
       "    <tr>\n",
       "      <th>ImgType</th>\n",
       "      <th>GREY</th>\n",
       "      <th>RGB</th>\n",
       "      <th>RGBA</th>\n",
       "    </tr>\n",
       "    <tr>\n",
       "      <th>recieve_date</th>\n",
       "      <th></th>\n",
       "      <th></th>\n",
       "      <th></th>\n",
       "    </tr>\n",
       "  </thead>\n",
       "  <tbody>\n",
       "    <tr>\n",
       "      <th>2016-01-03</th>\n",
       "      <td>1</td>\n",
       "      <td>96</td>\n",
       "      <td>16</td>\n",
       "    </tr>\n",
       "    <tr>\n",
       "      <th>2016-01-10</th>\n",
       "      <td>26</td>\n",
       "      <td>1720</td>\n",
       "      <td>97</td>\n",
       "    </tr>\n",
       "    <tr>\n",
       "      <th>2016-01-17</th>\n",
       "      <td>43</td>\n",
       "      <td>1615</td>\n",
       "      <td>92</td>\n",
       "    </tr>\n",
       "    <tr>\n",
       "      <th>2016-01-24</th>\n",
       "      <td>33</td>\n",
       "      <td>1553</td>\n",
       "      <td>69</td>\n",
       "    </tr>\n",
       "    <tr>\n",
       "      <th>2016-01-31</th>\n",
       "      <td>21</td>\n",
       "      <td>1545</td>\n",
       "      <td>80</td>\n",
       "    </tr>\n",
       "  </tbody>\n",
       "</table>\n",
       "</div>"
      ],
      "text/plain": [
       "             counts           \n",
       "ImgType        GREY   RGB RGBA\n",
       "recieve_date                  \n",
       "2016-01-03        1    96   16\n",
       "2016-01-10       26  1720   97\n",
       "2016-01-17       43  1615   92\n",
       "2016-01-24       33  1553   69\n",
       "2016-01-31       21  1545   80"
      ]
     },
     "execution_count": 49,
     "metadata": {},
     "output_type": "execute_result"
    }
   ],
   "source": [
    "img_type_by_date = img_type_by_date.unstack()\n",
    "img_type_by_date.head()"
   ]
  },
  {
   "cell_type": "code",
   "execution_count": 50,
   "metadata": {},
   "outputs": [
    {
     "data": {
      "text/plain": [
       "MultiIndex(levels=[['counts'], ['GREY', 'RGB', 'RGBA']],\n",
       "           labels=[[0, 0, 0], [0, 1, 2]],\n",
       "           names=[None, 'ImgType'])"
      ]
     },
     "execution_count": 50,
     "metadata": {},
     "output_type": "execute_result"
    }
   ],
   "source": [
    "img_type_by_date.columns"
   ]
  },
  {
   "cell_type": "code",
   "execution_count": 54,
   "metadata": {},
   "outputs": [
    {
     "data": {
      "application/vnd.plotly.v1+json": {
       "data": [
        {
         "name": "Grey",
         "type": "scatter",
         "x": [
          "2016-01-03",
          "2016-01-10",
          "2016-01-17",
          "2016-01-24",
          "2016-01-31",
          "2016-02-07",
          "2016-02-14",
          "2016-02-21",
          "2016-02-28",
          "2016-03-06",
          "2016-03-13",
          "2016-03-20",
          "2016-03-27",
          "2016-04-03",
          "2016-04-10",
          "2016-04-17",
          "2016-04-24",
          "2016-05-01",
          "2016-05-08",
          "2016-05-15",
          "2016-05-22",
          "2016-05-29",
          "2016-06-05",
          "2016-06-12",
          "2016-06-19",
          "2016-06-26",
          "2016-07-03",
          "2016-07-10",
          "2016-07-17",
          "2016-07-24",
          "2016-07-31",
          "2016-08-07",
          "2016-08-14",
          "2016-08-21",
          "2016-08-28",
          "2016-09-04",
          "2016-09-11",
          "2016-09-18",
          "2016-09-25",
          "2016-10-02",
          "2016-10-09",
          "2016-10-16",
          "2016-10-23",
          "2016-10-30",
          "2016-11-06",
          "2016-11-13",
          "2016-11-20",
          "2016-11-27",
          "2016-12-04",
          "2016-12-11",
          "2016-12-18",
          "2016-12-25",
          "2017-01-01"
         ],
         "y": [
          1,
          26,
          43,
          33,
          21,
          49,
          33,
          251,
          16,
          68,
          48,
          65,
          47,
          35,
          43,
          12,
          59,
          41,
          19,
          9,
          39,
          14,
          43,
          18,
          29,
          36,
          13,
          21,
          10,
          3,
          10,
          28,
          41,
          20,
          18,
          5,
          6,
          94,
          47,
          39,
          5,
          12,
          59,
          22,
          17,
          27,
          35,
          14,
          25,
          29,
          12,
          19,
          6
         ]
        },
        {
         "name": "RGB",
         "type": "scatter",
         "x": [
          "2016-01-03",
          "2016-01-10",
          "2016-01-17",
          "2016-01-24",
          "2016-01-31",
          "2016-02-07",
          "2016-02-14",
          "2016-02-21",
          "2016-02-28",
          "2016-03-06",
          "2016-03-13",
          "2016-03-20",
          "2016-03-27",
          "2016-04-03",
          "2016-04-10",
          "2016-04-17",
          "2016-04-24",
          "2016-05-01",
          "2016-05-08",
          "2016-05-15",
          "2016-05-22",
          "2016-05-29",
          "2016-06-05",
          "2016-06-12",
          "2016-06-19",
          "2016-06-26",
          "2016-07-03",
          "2016-07-10",
          "2016-07-17",
          "2016-07-24",
          "2016-07-31",
          "2016-08-07",
          "2016-08-14",
          "2016-08-21",
          "2016-08-28",
          "2016-09-04",
          "2016-09-11",
          "2016-09-18",
          "2016-09-25",
          "2016-10-02",
          "2016-10-09",
          "2016-10-16",
          "2016-10-23",
          "2016-10-30",
          "2016-11-06",
          "2016-11-13",
          "2016-11-20",
          "2016-11-27",
          "2016-12-04",
          "2016-12-11",
          "2016-12-18",
          "2016-12-25",
          "2017-01-01"
         ],
         "y": [
          96,
          1720,
          1615,
          1553,
          1545,
          1297,
          609,
          2152,
          1244,
          1197,
          1067,
          1745,
          2148,
          808,
          655,
          463,
          1363,
          1645,
          620,
          1319,
          1446,
          1059,
          1517,
          903,
          1227,
          1474,
          1330,
          1102,
          473,
          315,
          775,
          1142,
          955,
          1152,
          775,
          229,
          306,
          1234,
          759,
          1313,
          432,
          778,
          1331,
          1073,
          539,
          972,
          914,
          301,
          1401,
          1822,
          512,
          946,
          688
         ]
        },
        {
         "name": "RGBA",
         "type": "scatter",
         "x": [
          "2016-01-03",
          "2016-01-10",
          "2016-01-17",
          "2016-01-24",
          "2016-01-31",
          "2016-02-07",
          "2016-02-14",
          "2016-02-21",
          "2016-02-28",
          "2016-03-06",
          "2016-03-13",
          "2016-03-20",
          "2016-03-27",
          "2016-04-03",
          "2016-04-10",
          "2016-04-17",
          "2016-04-24",
          "2016-05-01",
          "2016-05-08",
          "2016-05-15",
          "2016-05-22",
          "2016-05-29",
          "2016-06-05",
          "2016-06-12",
          "2016-06-19",
          "2016-06-26",
          "2016-07-03",
          "2016-07-10",
          "2016-07-17",
          "2016-07-24",
          "2016-07-31",
          "2016-08-07",
          "2016-08-14",
          "2016-08-21",
          "2016-08-28",
          "2016-09-04",
          "2016-09-11",
          "2016-09-18",
          "2016-09-25",
          "2016-10-02",
          "2016-10-09",
          "2016-10-16",
          "2016-10-23",
          "2016-10-30",
          "2016-11-06",
          "2016-11-13",
          "2016-11-20",
          "2016-11-27",
          "2016-12-04",
          "2016-12-11",
          "2016-12-18",
          "2016-12-25",
          "2017-01-01"
         ],
         "y": [
          16,
          97,
          92,
          69,
          80,
          76,
          23,
          93,
          85,
          78,
          54,
          88,
          93,
          56,
          41,
          25,
          114,
          141,
          33,
          68,
          64,
          48,
          78,
          77,
          140,
          79,
          88,
          84,
          33,
          31,
          30,
          44,
          32,
          96,
          61,
          18,
          23,
          102,
          53,
          107,
          21,
          67,
          84,
          98,
          43,
          69,
          105,
          54,
          81,
          144,
          58,
          98,
          42
         ]
        }
       ],
       "layout": {
        "xaxis": {
         "visible": false
        },
        "yaxis": {
         "visible": false
        }
       }
      },
      "text/html": [
       "<div id=\"d4431416-9ce9-4dab-bcfa-96c20faf438e\" style=\"height: 525px; width: 100%;\" class=\"plotly-graph-div\"></div><script type=\"text/javascript\">require([\"plotly\"], function(Plotly) { window.PLOTLYENV=window.PLOTLYENV || {};window.PLOTLYENV.BASE_URL=\"https://plot.ly\";Plotly.newPlot(\"d4431416-9ce9-4dab-bcfa-96c20faf438e\", [{\"type\": \"scatter\", \"name\": \"Grey\", \"x\": [\"2016-01-03\", \"2016-01-10\", \"2016-01-17\", \"2016-01-24\", \"2016-01-31\", \"2016-02-07\", \"2016-02-14\", \"2016-02-21\", \"2016-02-28\", \"2016-03-06\", \"2016-03-13\", \"2016-03-20\", \"2016-03-27\", \"2016-04-03\", \"2016-04-10\", \"2016-04-17\", \"2016-04-24\", \"2016-05-01\", \"2016-05-08\", \"2016-05-15\", \"2016-05-22\", \"2016-05-29\", \"2016-06-05\", \"2016-06-12\", \"2016-06-19\", \"2016-06-26\", \"2016-07-03\", \"2016-07-10\", \"2016-07-17\", \"2016-07-24\", \"2016-07-31\", \"2016-08-07\", \"2016-08-14\", \"2016-08-21\", \"2016-08-28\", \"2016-09-04\", \"2016-09-11\", \"2016-09-18\", \"2016-09-25\", \"2016-10-02\", \"2016-10-09\", \"2016-10-16\", \"2016-10-23\", \"2016-10-30\", \"2016-11-06\", \"2016-11-13\", \"2016-11-20\", \"2016-11-27\", \"2016-12-04\", \"2016-12-11\", \"2016-12-18\", \"2016-12-25\", \"2017-01-01\"], \"y\": [1, 26, 43, 33, 21, 49, 33, 251, 16, 68, 48, 65, 47, 35, 43, 12, 59, 41, 19, 9, 39, 14, 43, 18, 29, 36, 13, 21, 10, 3, 10, 28, 41, 20, 18, 5, 6, 94, 47, 39, 5, 12, 59, 22, 17, 27, 35, 14, 25, 29, 12, 19, 6]}, {\"type\": \"scatter\", \"name\": \"RGB\", \"x\": [\"2016-01-03\", \"2016-01-10\", \"2016-01-17\", \"2016-01-24\", \"2016-01-31\", \"2016-02-07\", \"2016-02-14\", \"2016-02-21\", \"2016-02-28\", \"2016-03-06\", \"2016-03-13\", \"2016-03-20\", \"2016-03-27\", \"2016-04-03\", \"2016-04-10\", \"2016-04-17\", \"2016-04-24\", \"2016-05-01\", \"2016-05-08\", \"2016-05-15\", \"2016-05-22\", \"2016-05-29\", \"2016-06-05\", \"2016-06-12\", \"2016-06-19\", \"2016-06-26\", \"2016-07-03\", \"2016-07-10\", \"2016-07-17\", \"2016-07-24\", \"2016-07-31\", \"2016-08-07\", \"2016-08-14\", \"2016-08-21\", \"2016-08-28\", \"2016-09-04\", \"2016-09-11\", \"2016-09-18\", \"2016-09-25\", \"2016-10-02\", \"2016-10-09\", \"2016-10-16\", \"2016-10-23\", \"2016-10-30\", \"2016-11-06\", \"2016-11-13\", \"2016-11-20\", \"2016-11-27\", \"2016-12-04\", \"2016-12-11\", \"2016-12-18\", \"2016-12-25\", \"2017-01-01\"], \"y\": [96, 1720, 1615, 1553, 1545, 1297, 609, 2152, 1244, 1197, 1067, 1745, 2148, 808, 655, 463, 1363, 1645, 620, 1319, 1446, 1059, 1517, 903, 1227, 1474, 1330, 1102, 473, 315, 775, 1142, 955, 1152, 775, 229, 306, 1234, 759, 1313, 432, 778, 1331, 1073, 539, 972, 914, 301, 1401, 1822, 512, 946, 688]}, {\"type\": \"scatter\", \"name\": \"RGBA\", \"x\": [\"2016-01-03\", \"2016-01-10\", \"2016-01-17\", \"2016-01-24\", \"2016-01-31\", \"2016-02-07\", \"2016-02-14\", \"2016-02-21\", \"2016-02-28\", \"2016-03-06\", \"2016-03-13\", \"2016-03-20\", \"2016-03-27\", \"2016-04-03\", \"2016-04-10\", \"2016-04-17\", \"2016-04-24\", \"2016-05-01\", \"2016-05-08\", \"2016-05-15\", \"2016-05-22\", \"2016-05-29\", \"2016-06-05\", \"2016-06-12\", \"2016-06-19\", \"2016-06-26\", \"2016-07-03\", \"2016-07-10\", \"2016-07-17\", \"2016-07-24\", \"2016-07-31\", \"2016-08-07\", \"2016-08-14\", \"2016-08-21\", \"2016-08-28\", \"2016-09-04\", \"2016-09-11\", \"2016-09-18\", \"2016-09-25\", \"2016-10-02\", \"2016-10-09\", \"2016-10-16\", \"2016-10-23\", \"2016-10-30\", \"2016-11-06\", \"2016-11-13\", \"2016-11-20\", \"2016-11-27\", \"2016-12-04\", \"2016-12-11\", \"2016-12-18\", \"2016-12-25\", \"2017-01-01\"], \"y\": [16, 97, 92, 69, 80, 76, 23, 93, 85, 78, 54, 88, 93, 56, 41, 25, 114, 141, 33, 68, 64, 48, 78, 77, 140, 79, 88, 84, 33, 31, 30, 44, 32, 96, 61, 18, 23, 102, 53, 107, 21, 67, 84, 98, 43, 69, 105, 54, 81, 144, 58, 98, 42]}], {\"xaxis\": {\"visible\": false}, \"yaxis\": {\"visible\": false}}, {\"showLink\": true, \"linkText\": \"Export to plot.ly\"})});</script>"
      ],
      "text/vnd.plotly.v1+html": [
       "<div id=\"d4431416-9ce9-4dab-bcfa-96c20faf438e\" style=\"height: 525px; width: 100%;\" class=\"plotly-graph-div\"></div><script type=\"text/javascript\">require([\"plotly\"], function(Plotly) { window.PLOTLYENV=window.PLOTLYENV || {};window.PLOTLYENV.BASE_URL=\"https://plot.ly\";Plotly.newPlot(\"d4431416-9ce9-4dab-bcfa-96c20faf438e\", [{\"type\": \"scatter\", \"name\": \"Grey\", \"x\": [\"2016-01-03\", \"2016-01-10\", \"2016-01-17\", \"2016-01-24\", \"2016-01-31\", \"2016-02-07\", \"2016-02-14\", \"2016-02-21\", \"2016-02-28\", \"2016-03-06\", \"2016-03-13\", \"2016-03-20\", \"2016-03-27\", \"2016-04-03\", \"2016-04-10\", \"2016-04-17\", \"2016-04-24\", \"2016-05-01\", \"2016-05-08\", \"2016-05-15\", \"2016-05-22\", \"2016-05-29\", \"2016-06-05\", \"2016-06-12\", \"2016-06-19\", \"2016-06-26\", \"2016-07-03\", \"2016-07-10\", \"2016-07-17\", \"2016-07-24\", \"2016-07-31\", \"2016-08-07\", \"2016-08-14\", \"2016-08-21\", \"2016-08-28\", \"2016-09-04\", \"2016-09-11\", \"2016-09-18\", \"2016-09-25\", \"2016-10-02\", \"2016-10-09\", \"2016-10-16\", \"2016-10-23\", \"2016-10-30\", \"2016-11-06\", \"2016-11-13\", \"2016-11-20\", \"2016-11-27\", \"2016-12-04\", \"2016-12-11\", \"2016-12-18\", \"2016-12-25\", \"2017-01-01\"], \"y\": [1, 26, 43, 33, 21, 49, 33, 251, 16, 68, 48, 65, 47, 35, 43, 12, 59, 41, 19, 9, 39, 14, 43, 18, 29, 36, 13, 21, 10, 3, 10, 28, 41, 20, 18, 5, 6, 94, 47, 39, 5, 12, 59, 22, 17, 27, 35, 14, 25, 29, 12, 19, 6]}, {\"type\": \"scatter\", \"name\": \"RGB\", \"x\": [\"2016-01-03\", \"2016-01-10\", \"2016-01-17\", \"2016-01-24\", \"2016-01-31\", \"2016-02-07\", \"2016-02-14\", \"2016-02-21\", \"2016-02-28\", \"2016-03-06\", \"2016-03-13\", \"2016-03-20\", \"2016-03-27\", \"2016-04-03\", \"2016-04-10\", \"2016-04-17\", \"2016-04-24\", \"2016-05-01\", \"2016-05-08\", \"2016-05-15\", \"2016-05-22\", \"2016-05-29\", \"2016-06-05\", \"2016-06-12\", \"2016-06-19\", \"2016-06-26\", \"2016-07-03\", \"2016-07-10\", \"2016-07-17\", \"2016-07-24\", \"2016-07-31\", \"2016-08-07\", \"2016-08-14\", \"2016-08-21\", \"2016-08-28\", \"2016-09-04\", \"2016-09-11\", \"2016-09-18\", \"2016-09-25\", \"2016-10-02\", \"2016-10-09\", \"2016-10-16\", \"2016-10-23\", \"2016-10-30\", \"2016-11-06\", \"2016-11-13\", \"2016-11-20\", \"2016-11-27\", \"2016-12-04\", \"2016-12-11\", \"2016-12-18\", \"2016-12-25\", \"2017-01-01\"], \"y\": [96, 1720, 1615, 1553, 1545, 1297, 609, 2152, 1244, 1197, 1067, 1745, 2148, 808, 655, 463, 1363, 1645, 620, 1319, 1446, 1059, 1517, 903, 1227, 1474, 1330, 1102, 473, 315, 775, 1142, 955, 1152, 775, 229, 306, 1234, 759, 1313, 432, 778, 1331, 1073, 539, 972, 914, 301, 1401, 1822, 512, 946, 688]}, {\"type\": \"scatter\", \"name\": \"RGBA\", \"x\": [\"2016-01-03\", \"2016-01-10\", \"2016-01-17\", \"2016-01-24\", \"2016-01-31\", \"2016-02-07\", \"2016-02-14\", \"2016-02-21\", \"2016-02-28\", \"2016-03-06\", \"2016-03-13\", \"2016-03-20\", \"2016-03-27\", \"2016-04-03\", \"2016-04-10\", \"2016-04-17\", \"2016-04-24\", \"2016-05-01\", \"2016-05-08\", \"2016-05-15\", \"2016-05-22\", \"2016-05-29\", \"2016-06-05\", \"2016-06-12\", \"2016-06-19\", \"2016-06-26\", \"2016-07-03\", \"2016-07-10\", \"2016-07-17\", \"2016-07-24\", \"2016-07-31\", \"2016-08-07\", \"2016-08-14\", \"2016-08-21\", \"2016-08-28\", \"2016-09-04\", \"2016-09-11\", \"2016-09-18\", \"2016-09-25\", \"2016-10-02\", \"2016-10-09\", \"2016-10-16\", \"2016-10-23\", \"2016-10-30\", \"2016-11-06\", \"2016-11-13\", \"2016-11-20\", \"2016-11-27\", \"2016-12-04\", \"2016-12-11\", \"2016-12-18\", \"2016-12-25\", \"2017-01-01\"], \"y\": [16, 97, 92, 69, 80, 76, 23, 93, 85, 78, 54, 88, 93, 56, 41, 25, 114, 141, 33, 68, 64, 48, 78, 77, 140, 79, 88, 84, 33, 31, 30, 44, 32, 96, 61, 18, 23, 102, 53, 107, 21, 67, 84, 98, 43, 69, 105, 54, 81, 144, 58, 98, 42]}], {\"xaxis\": {\"visible\": false}, \"yaxis\": {\"visible\": false}}, {\"showLink\": true, \"linkText\": \"Export to plot.ly\"})});</script>"
      ]
     },
     "metadata": {},
     "output_type": "display_data"
    }
   ],
   "source": [
    "greys = dict(\n",
    "            type='scatter',\n",
    "            name='Grey',\n",
    "            x=img_type_by_date.index,\n",
    "            y=img_type_by_date['counts']['GREY'])\n",
    "rgb = dict(\n",
    "            type='scatter',\n",
    "            name='RGB',\n",
    "            x=img_type_by_date.index,\n",
    "            y=img_type_by_date['counts']['RGB'])\n",
    "rgba = dict(\n",
    "            type='scatter',\n",
    "            name='RGBA',\n",
    "            x=img_type_by_date.index,\n",
    "            y=img_type_by_date['counts']['RGBA'])\n",
    "\n",
    "layout = dict(\n",
    "            title = 'Image Type By Time',\n",
    "            xaxis = dict(title='Week', tickangle = -45),\n",
    "            yaxis = dict(title='Number of Applications')\n",
    "             )\n",
    "\n",
    "# clean version, no labels\n",
    "layout = dict(\n",
    "            xaxis = dict(visible = False),\n",
    "            yaxis = dict(visible = False)\n",
    "             )\n",
    "\n",
    "fig = dict( data=[greys, rgb, rgba], layout=layout )\n",
    "plotly.offline.iplot( fig )"
   ]
  },
  {
   "cell_type": "code",
   "execution_count": 53,
   "metadata": {
    "collapsed": true
   },
   "outputs": [
    {
     "data": {
      "text/plain": [
       "'<div id=\"a4d05b26-b670-4d41-9ef4-12df6cbc1e87\" style=\"height: 100%; width: 100%;\" class=\"plotly-graph-div\"></div><script type=\"text/javascript\">window.PLOTLYENV=window.PLOTLYENV || {};window.PLOTLYENV.BASE_URL=\"https://plot.ly\";Plotly.newPlot(\"a4d05b26-b670-4d41-9ef4-12df6cbc1e87\", [{\"type\": \"scatter\", \"name\": \"Grey\", \"x\": [\"2016-01-03\", \"2016-01-10\", \"2016-01-17\", \"2016-01-24\", \"2016-01-31\", \"2016-02-07\", \"2016-02-14\", \"2016-02-21\", \"2016-02-28\", \"2016-03-06\", \"2016-03-13\", \"2016-03-20\", \"2016-03-27\", \"2016-04-03\", \"2016-04-10\", \"2016-04-17\", \"2016-04-24\", \"2016-05-01\", \"2016-05-08\", \"2016-05-15\", \"2016-05-22\", \"2016-05-29\", \"2016-06-05\", \"2016-06-12\", \"2016-06-19\", \"2016-06-26\", \"2016-07-03\", \"2016-07-10\", \"2016-07-17\", \"2016-07-24\", \"2016-07-31\", \"2016-08-07\", \"2016-08-14\", \"2016-08-21\", \"2016-08-28\", \"2016-09-04\", \"2016-09-11\", \"2016-09-18\", \"2016-09-25\", \"2016-10-02\", \"2016-10-09\", \"2016-10-16\", \"2016-10-23\", \"2016-10-30\", \"2016-11-06\", \"2016-11-13\", \"2016-11-20\", \"2016-11-27\", \"2016-12-04\", \"2016-12-11\", \"2016-12-18\", \"2016-12-25\", \"2017-01-01\"], \"y\": [1, 26, 43, 33, 21, 49, 33, 251, 16, 68, 48, 65, 47, 35, 43, 12, 59, 41, 19, 9, 39, 14, 43, 18, 29, 36, 13, 21, 10, 3, 10, 28, 41, 20, 18, 5, 6, 94, 47, 39, 5, 12, 59, 22, 17, 27, 35, 14, 25, 29, 12, 19, 6]}, {\"type\": \"scatter\", \"name\": \"RGB\", \"x\": [\"2016-01-03\", \"2016-01-10\", \"2016-01-17\", \"2016-01-24\", \"2016-01-31\", \"2016-02-07\", \"2016-02-14\", \"2016-02-21\", \"2016-02-28\", \"2016-03-06\", \"2016-03-13\", \"2016-03-20\", \"2016-03-27\", \"2016-04-03\", \"2016-04-10\", \"2016-04-17\", \"2016-04-24\", \"2016-05-01\", \"2016-05-08\", \"2016-05-15\", \"2016-05-22\", \"2016-05-29\", \"2016-06-05\", \"2016-06-12\", \"2016-06-19\", \"2016-06-26\", \"2016-07-03\", \"2016-07-10\", \"2016-07-17\", \"2016-07-24\", \"2016-07-31\", \"2016-08-07\", \"2016-08-14\", \"2016-08-21\", \"2016-08-28\", \"2016-09-04\", \"2016-09-11\", \"2016-09-18\", \"2016-09-25\", \"2016-10-02\", \"2016-10-09\", \"2016-10-16\", \"2016-10-23\", \"2016-10-30\", \"2016-11-06\", \"2016-11-13\", \"2016-11-20\", \"2016-11-27\", \"2016-12-04\", \"2016-12-11\", \"2016-12-18\", \"2016-12-25\", \"2017-01-01\"], \"y\": [96, 1720, 1615, 1553, 1545, 1297, 609, 2152, 1244, 1197, 1067, 1745, 2148, 808, 655, 463, 1363, 1645, 620, 1319, 1446, 1059, 1517, 903, 1227, 1474, 1330, 1102, 473, 315, 775, 1142, 955, 1152, 775, 229, 306, 1234, 759, 1313, 432, 778, 1331, 1073, 539, 972, 914, 301, 1401, 1822, 512, 946, 688]}, {\"type\": \"scatter\", \"name\": \"RGBA\", \"x\": [\"2016-01-03\", \"2016-01-10\", \"2016-01-17\", \"2016-01-24\", \"2016-01-31\", \"2016-02-07\", \"2016-02-14\", \"2016-02-21\", \"2016-02-28\", \"2016-03-06\", \"2016-03-13\", \"2016-03-20\", \"2016-03-27\", \"2016-04-03\", \"2016-04-10\", \"2016-04-17\", \"2016-04-24\", \"2016-05-01\", \"2016-05-08\", \"2016-05-15\", \"2016-05-22\", \"2016-05-29\", \"2016-06-05\", \"2016-06-12\", \"2016-06-19\", \"2016-06-26\", \"2016-07-03\", \"2016-07-10\", \"2016-07-17\", \"2016-07-24\", \"2016-07-31\", \"2016-08-07\", \"2016-08-14\", \"2016-08-21\", \"2016-08-28\", \"2016-09-04\", \"2016-09-11\", \"2016-09-18\", \"2016-09-25\", \"2016-10-02\", \"2016-10-09\", \"2016-10-16\", \"2016-10-23\", \"2016-10-30\", \"2016-11-06\", \"2016-11-13\", \"2016-11-20\", \"2016-11-27\", \"2016-12-04\", \"2016-12-11\", \"2016-12-18\", \"2016-12-25\", \"2017-01-01\"], \"y\": [16, 97, 92, 69, 80, 76, 23, 93, 85, 78, 54, 88, 93, 56, 41, 25, 114, 141, 33, 68, 64, 48, 78, 77, 140, 79, 88, 84, 33, 31, 30, 44, 32, 96, 61, 18, 23, 102, 53, 107, 21, 67, 84, 98, 43, 69, 105, 54, 81, 144, 58, 98, 42]}], {\"title\": \"Image Type By Time\", \"xaxis\": {\"title\": \"Week\", \"tickangle\": -45}, \"yaxis\": {\"title\": \"Number of Applications\"}}, {\"showLink\": true, \"linkText\": \"Export to plot.ly\"})</script>'"
      ]
     },
     "execution_count": 53,
     "metadata": {},
     "output_type": "execute_result"
    }
   ],
   "source": [
    "plotly.offline.plot(fig, include_plotlyjs=False, output_type='div')"
   ]
  },
  {
   "cell_type": "markdown",
   "metadata": {},
   "source": [
    "#### It's worth noting that although there is little change in the number of alpha images, if they are manufactured in large quantities, it may still be of interest to ACTEGA"
   ]
  },
  {
   "cell_type": "code",
   "execution_count": 57,
   "metadata": {},
   "outputs": [
    {
     "data": {
      "text/plain": [
       "(3674, 3)"
      ]
     },
     "execution_count": 57,
     "metadata": {},
     "output_type": "execute_result"
    }
   ],
   "source": [
    "a_only = alpha_date.loc[alpha_date['ImgType'] == 'RGBA']\n",
    "a_only.shape"
   ]
  },
  {
   "cell_type": "code",
   "execution_count": 58,
   "metadata": {
    "collapsed": true
   },
   "outputs": [],
   "source": [
    "a_companies = pd.merge(a_only, df, left_on='TTBID', right_on='TTBID', how='inner')"
   ]
  },
  {
   "cell_type": "markdown",
   "metadata": {},
   "source": [
    "Although there were close to 3700 new applications that included images with _clear_ parts, these came from a small subset of companies"
   ]
  },
  {
   "cell_type": "code",
   "execution_count": 61,
   "metadata": {},
   "outputs": [
    {
     "data": {
      "text/plain": [
       "(930,)"
      ]
     },
     "execution_count": 61,
     "metadata": {},
     "output_type": "execute_result"
    }
   ],
   "source": [
    "a_companies['PlantRegistry/BasicPermit/BrewersNo(PrincipalPlaceofBusiness)'].unique().shape"
   ]
  },
  {
   "cell_type": "code",
   "execution_count": 75,
   "metadata": {},
   "outputs": [],
   "source": [
    "addresses = a_companies['PlantRegistry/BasicPermit/BrewersNo(PrincipalPlaceofBusiness)'].unique()"
   ]
  },
  {
   "cell_type": "code",
   "execution_count": 76,
   "metadata": {},
   "outputs": [],
   "source": [
    "addresses = [re.split(r'\\n', line) for line in addresses]\n",
    "addresses = [list(filter(None, address)) for address in addresses]"
   ]
  },
  {
   "cell_type": "code",
   "execution_count": 77,
   "metadata": {},
   "outputs": [
    {
     "data": {
      "text/plain": [
       "['DSP-KY-15008',\n",
       " 'THREE SPRINGS BOTTLING COMPANY, LLC',\n",
       " '201 CAMPING WORLD CT',\n",
       " 'BOWLING GREEN, KY 42104']"
      ]
     },
     "execution_count": 77,
     "metadata": {},
     "output_type": "execute_result"
    }
   ],
   "source": [
    "addresses[1]"
   ]
  },
  {
   "cell_type": "code",
   "execution_count": 87,
   "metadata": {},
   "outputs": [
    {
     "name": "stdout",
     "output_type": "stream",
     "text": [
      "4545 FELTERRDMILPITAS, CA 95035\n"
     ]
    },
    {
     "data": {
      "text/plain": [
       "<pygeolib.GeocoderResult at 0x7feacedf6358>"
      ]
     },
     "execution_count": 87,
     "metadata": {},
     "output_type": "execute_result"
    }
   ],
   "source": [
    "test = ''.join(addresses[0][2:])\n",
    "print(test)\n",
    "res = Geocoder.geocode(test)\n",
    "res.valid_address"
   ]
  },
  {
   "cell_type": "code",
   "execution_count": 118,
   "metadata": {},
   "outputs": [
    {
     "name": "stdout",
     "output_type": "stream",
     "text": [
      "['BWN-CA-15202', 'BIG DOG VINEYARDS, HOWELL CORP., INC.', '4545 FELTERRD', 'MILPITAS, CA 95035']\n",
      "['DSP-KY-15008', 'THREE SPRINGS BOTTLING COMPANY, LLC', '201 CAMPING WORLD CT', 'BOWLING GREEN, KY 42104']\n",
      "['BR-NY-21136', 'HEIKO GIESBERG', '7174ROUTE 209, HEIKO', 'WAWARSING, NY 12489']\n",
      "['BR-NM-21014', 'TRACTOR BREWING COMPANY, TROUBLED MINDS, INC.', '18004TH ST, NW', 'ALBUQUERQUE, NM 87102']\n",
      "['DSP-WA-21003', 'HERITAGE DISTILLING, HERITAGE DISTILLING COMPANY, INC.', '320757TH CT NW', 'GIG HARBOR, WA 98335']\n",
      "['BWN-PA-21014', 'THE COLONY MEADERY, LLC', '905HARRISON ST , STE 115', 'ALLENTOWN, PA 18105']\n",
      "['BWN-CA-21397', 'NORTH AMERICAN DIRT FARMER, JASON EDWARD CHARLES, LLC', '216608TH ST, E', 'SONOMA, CA 95476']\n",
      "['DSP-KY-15007', 'STRONG SPIRITS, INC.', '999 WITHROW CT', 'BARDSTOWN, KY 40004']\n",
      "['BR-WA-IRO-15002', 'IRON GOAT BREWING, IRON GOAT LLC', '2204 E MALLON AVE , B', 'SPOKANE, WA 99202']\n",
      "['BWN-CA-15060', 'CUVAISON WINERY, CUVAISON, INC.', '1221 DUHIG RD', 'NAPA, CA 94559']\n",
      "['DSP-NH-15002', 'FABRIZIA SPIRITS, LLC', '2 INDUSTRIAL WAY', 'SALEM, NH 03079']\n",
      "['BW-NY-867', 'BILLSBORO VINEYARDS AND WINERY, LLC', '4760 W LAKE RD', 'GENEVA, NY 14456']\n",
      "['BR-MO-MOT-15000', \"MOTHER'S BREWING CO., LLC\", '215 S GRANT AVE', 'SPRINGFIELD, MO 65806']\n",
      "['DSP-MI-20025', 'LONG ROAD DISTILLERS, LONG ROAD DISTILLERS LLC', '537LEONARD ST NW', 'GRAND RAPIDS, MI 49504']\n",
      "['DSP-NV-21009', 'DAMON INDUSTRIES', '822PACKER WAY', 'SPARKS, NV 89431']\n",
      "['BWN-CA-20165', 'CLAYPOOL CELLARS, CLAYPOOL CELLARS, LLC', '216928TH ST E , STE 200', 'SONOMA, CA 95476']\n",
      "['BWN-NH-21008', 'WHITE MOUNTAIN WINERY, WCP VINTNERS LLC', '2724WHITE MOUNTAIN HWY , UNIT 4', 'NORTH CONWAY, NH 03860']\n",
      "['DSP-OR-20011', 'OREGON RYEGRASS SPIRITS, SPIRITOPIA LIQUEURS, LLC', '720NE GRANGER AVE , STE B', 'CORVALLIS, OR 97330']\n",
      "['BWN-CA-21627', 'PORTER-BASS VINEYARDS, PORTER-BASS, LLC', '3033COFFEY LN , STE D', 'SANTA ROSA, CA 95403']\n",
      "['BWN-CA-21253', 'LITTLE OAKS WINERY LLC', '1945CAMINO VIDA ROBLE , STE I', 'CARLSBAD, CA 92008']\n",
      "['BR-VA-20024', 'BELTWAY BREWING COMPANY, BELTWAY BREWING COMPANY LLC', '22620DAVIS DR , STE 110', 'STERLING, VA 20164']\n",
      "['BWN-CA-21458', 'MATTHEW FRITZ WINE COMPANY LLC', '499MOORE LN', 'HEALDSBURG, CA 95448']\n",
      "['BWN-CA-15195', 'SURH-LUCHTEL, SURH-LUCHTEL CELLARS, INC.', '1221 DUHIG RD', 'NAPA, CA 94559']\n",
      "['BW-NY-624', 'BULLY HILL VINEYARDS, INC.', '8843 GREYTON H. TAYLOR MEMORIAL DR', 'HAMMONDSPORT, NY 14840']\n",
      "['DSP-MI-20004', 'TWO JAMES, TWO JAMES SPIRITS LLC', '2445MICHIGAN AVE', 'DETROIT, MI 48216']\n",
      "['BR-ID-20009', 'WOODLAND EMPIRE ALE CRAFT, WOODLAND EMPIRE ALE CRAFT, INC', '1114W FRONT ST', 'BOISE, ID 83702']\n",
      "['BR-OR-RAC-1', 'CASCADE BREWING COMPANY, CASCADE BREWING COMPANY LLC', '7424 SW BEAVERTON HILLSDALE HWY', 'PORTLAND, OR 97225']\n",
      "['BW-OK-18', 'WOODS & WATERS WINERY AND VINEYARD, LLC', '4 MI WEST ON HWY 62 AND 2 MI SOUTH AT HOG CREEK', 'ANADARKO, OK 73005']\n",
      "['BW-CA-5572', 'ORCUTT ROAD CELLARS, PARAGON VINEYARD CO., INC.', '4915 ORCUTT RD', 'SAN LUIS OBISPO, CA 93401']\n",
      "['BR-AK-TWI-15002', 'DENALI BREWING COMPANY, TWISTER CREEK, LLC', '37083 S TALKEETNA SPUR RD', 'TALKEETNA, AK 99676']\n",
      "['BR-CA-20313', 'ALESMITH BREWING COMPANY, JDZ, INC.', '990EMPIRE ST', 'SAN DIEGO, CA 92126']\n",
      "['BWN-WA-15463', 'WACHTLER WINERY, WACHTLER CORPORATION', '5919 78TH AVE NW', 'GIG HARBOR, WA 98335']\n",
      "['BWN-NC-21029', 'HONEYGIRL MEADERY LLC', '105HOOD ST , UNIT 6', 'DURHAM, NC 27701']\n",
      "['BR-MA-NIG-15000', 'NIGHT SHIFT BREWING, INC.', '87 SANTILLI HWY', 'EVERETT, MA 02149']\n",
      "['BR-OH-20011', 'MADTREE BREWING, LLC', '5164KENNEDY AVE , BLDG', 'CINCINNATI, OH 45213']\n",
      "['BR-OR-MIL-15001', 'OLD TOWN BREWING, MILNE, INC.', '5201 NE ML KING BLVD', 'PORTLAND, OR 97211']\n",
      "['BWN-NY-21022', 'SAVAGE WINERY, RICHARD BYINGTON, RUSSELL BYINGTON, SHAWN BOYER', '11300SAVAGE RD', 'CHAFFEE, NY 14030']\n",
      "['BW-NY-657', 'CASA LARGA VINEYARDS, INC.', '2287 TURK HILL RD', 'FAIRPORT, NY 14450']\n",
      "['BW-CA-6369', 'KELLER ESTATE WINERY, KELLER ESTATE LTD.', '5875 LAKEVILLE HWY', 'PETALUMA, CA 94954']\n",
      "['BR-AL-GOO-15000', 'GOOD PEOPLE BREWING COMPANY, GOOD PEOPLE, LLC', '11414TH ST S', 'BIRMINGHAM, AL 35233']\n",
      "['BWN-CA-21193', 'SENDERS WINES, SENDERS WINES LLC', '26891CADDY CT', 'DAVIS, CA 95618']\n",
      "['BWN-CA-16639', 'MYKA CELLARS, INC.', '18 HANGER WAY , SUITE C', 'WATSONVILLE, CA 95076']\n",
      "['BW-CA-5706', 'PAHLMEYER, LLC', '105 ZINFANDEL LN', 'SAINT HELENA, CA 94574']\n",
      "['DSP-MD-15000', 'FIORE WINERY, INC.', '3026 WHITEFORD RD', 'PYLESVILLE, MD 21132']\n",
      "['BWN-CA-16818', 'CITY VINTNERS SAN FRANCISCO WINERY LLC', '53 BLUXOME ST', 'SAN FRANCISCO, CA 94107']\n",
      "['BWN-IN-15032', \"MCCLURE'S TATE ORCHARD, JP MCCLURE ENTERPRISES, LLC\", '5054 N US 31', 'PERU, IN 46970']\n",
      "['BWN-CA-15307', 'SCOTTO FAMILY CELLARS, TRI-STAR MARKETING, LLC', '220 S CLUFF AVE', 'LODI, CA 95240']\n",
      "['BW-IL-140', 'FOX VALLEY WINERY, INC.', '3663WOLF CROSSING RD', 'OSWEGO, IL 60543']\n",
      "['BWN-TX-21050', 'VINES ON THE ROCKS, VINES ON THE ROCKS, LLC', '4839US HWY 90 E', 'HONDO, TX 78861']\n",
      "['BR-AZ-NOT-15000', 'COLLEGE STREET BREWHOUSE & PUB, WEATHERSON HUGHES, LLC', '1940 COLLEGE DR', 'LAKE HAVASU CITY, AZ 86403']\n",
      "['BWC-CA-5099', 'TREASURY WINE ESTATES AMERICAS COMPANY', '655 AIRPARK RD', 'NAPA, CA 94558']\n",
      "['BWN-CA-16556', 'SANS LIEGE WINES, SANS LIEGE INC.', '2717 AVIATION WAY , C-7', 'SANTA MARIA, CA 93455']\n",
      "['BWN-MN-21020', 'ROUND LAKE VINEYARDS & WINERY, LLC', '30124STATE HWY 264', 'ROUND LAKE, MN 56167']\n",
      "['BWN-SD-21004', 'FIREHOUSE WINE CELLARS, FAT BOYS, INC.', '616MAIN ST', 'RAPID CITY, SD 57701']\n",
      "['BWN-CA-20441', 'DESPARADA, DESPARADA WINES, LLC', '3060LIMESTONE WAY', 'TEMPLETON, CA 93465']\n",
      "['BWN-NC-21055', 'DEEP CREEK WINERY, ROBERT JOHN ACTON', '405JOHNATHAN WALK', 'BRYSON CITY, NC 28713']\n",
      "['DSP-NY-21041', 'GRISTMILL DISTILLERS, INC.', '44KEENE KNOLLS WAY , BLDG C', 'KEENE, NY 12942']\n",
      "['BR-OR-21074', 'ORDNANCE BREWING, NEIGHBOR DUDES, LLC', '405 N OLSON RD', 'BOARDMAN, OR 97818']\n",
      "['BWN-CA-15994', 'BEAVER CREEK VINEYARDS, BEAVER CREEK VINEYARDS, LLC', '22000 HIGHWAY 29', 'MIDDLETOWN, CA 95461']\n",
      "['BW-NY-839', 'RAPHAEL, J. PETROCELLI WINE CELLARS L.L.C.', '39390 MAINRD , ROUTE 25', 'PECONIC, NY 11958']\n",
      "['BWN-TX-21171', 'NACA VALLEY VINEYARD, EARL B MOUTON, WANDA C MOUTON, EARL S MOUTON, CHELSEA M MOUTON', '9897FM 1878', 'NACOGDOCHES, TX 75961']\n",
      "['DSP-FL-1', 'FLORIDA DISTILLERS, CARIBBEAN DISTILLERS LLC', '425 RECKER HWY', 'AUBURNDALE, FL 33823']\n",
      "['BWN-PA-15034', 'UNGRAPEFUL WINERY, LLC', '638TURNER DR', 'BLAIRSVILLE, PA 15717']\n",
      "['BWN-CA-15420', 'CARDELLA WINERY, LLC', '10034 CIENEGA RD', 'HOLLISTER, CA 95023']\n",
      "['BWN-CA-21124', 'DOUGLAS IAN STEWART', '11001G COUNTY ROAD 151', 'BOONVILLE, CA 94515']\n",
      "['BR-WA-FIS-2', 'FISH BREWING COMPANY', '514 JEFFERSON ST SE', 'OLYMPIA, WA 98501']\n",
      "['BR-RI-COA-1', 'COASTAL EXTREME BREWING CO., COASTAL EXTREME BREWING CO., LLC', '293 J.T. CONNELL HWY', 'NEWPORT, RI 02840']\n",
      "['BW-CA-5399', 'TREASURY WINE ESTATES AMERICAS COMPANY', '1250 CUTTINGS WHARF RD', 'NAPA, CA 94559']\n",
      "['BR-NJ-21035', 'JERSEY GIRL BREWING, JERSEY GIRL BREWING, LLC', '426SAND SHORE RD', 'MOUNT OLIVE, NJ 07836']\n",
      "['BWN-IA-21027', 'MADIGAN WINERY, LLC', '1536LILY RD', 'LANSING, IA 52151']\n",
      "['BWN-OH-21056', 'A.R. WINERY, LLC', '3564GORDON LANDIS RD', 'ARCANUM, OH 45304']\n",
      "['BWN-CA-21232', 'AARON WINES, KEOLA, LLC', '3050LIMESTONE WAY', 'PASO ROBLES, CA 93446']\n",
      "['BW-TX-54', 'MESA VINEYARDS, MESA VINEYARDS, L.P.', '5640 E I H 10', 'FORT STOCKTON, TX 79735']\n",
      "['BWN-TN-21002', 'NATCHEZ HILLS VINEYARD, JKO ENTERPRISES, INC.', '109OVERHEAD BRIDGE RD', 'HAMPSHIRE, TN 38461']\n",
      "['BR-MO-CRI-15000', '2ND SHIFT BREWING, CRIDER BREWING LLC', '1401 OLIVE RD', 'NEW HAVEN, MO 63068']\n",
      "['BWN-WI-21024', \"HAWK'S MILL WINERY, JORNY'S END LLC\", 'W8170 PILZ RD', 'BROWNTOWN, WI 53522']\n",
      "['BW-CA-5051', 'VML Russian River Winery, H.D.D. LLC', '4035 WESTSIDE RD', 'HEALDSBURG, CA 95448']\n",
      "['BR-CT-COT-1', 'COTTRELL BREWING COMPANY, LLC', '100 MECHANIC ST', 'PAWCATUCK, CT 06379']\n",
      "['DSP-MS-20003', 'RICH GRAIN DISTILLING CO., LLC', '339W PEACE ST', 'CANTON, MS 39046']\n",
      "['BR-MD-PSA-15000', 'PSA BREWERIES, PSA BREWERY, LLC', '4216 SHANNON DR', 'BALTIMORE, MD 21213']\n",
      "['BR-NY-21031', 'DIRK THE NORSEMAN, 7 N 15TH ST CORP', '7N 15TH ST', 'BROOKLYN, NY 11222']\n",
      "['BWN-CA-15932', 'BARTALOTTIWINE COMPANY, BARTALOTTI WINE COMPANY', '901 ENTERPRISE WAY , SUITE B', 'NAPA, CA 94558']\n",
      "['BWN-WA-21125', 'STORY CELLARS, STORY CELLARS, LLC', '9321NE 123RD CT', 'KIRKLAND, WA 98034']\n",
      "['BR-ME-21010', 'FOUNDATION BREWING COMPANY', '1INDUSTRIAL WAY , STE 5 , And Suite 7', 'PORTLAND, ME 04103']\n"
     ]
    },
    {
     "name": "stdout",
     "output_type": "stream",
     "text": [
      "['BWN-CA-16663', 'SINGER CELLARS, BARRY SINGER GALLERY,INC', '833 CHILENO VALLEY RD', 'PETALUMA, CA 94952']\n",
      "['DSP-NY-21071', 'THIEVES SPIRITS, BITTER THIEVES, LLC', '630FLUSHING AVE', 'BROOKLYN, NY 11206']\n",
      "['BWN-SC-21011', 'LAZY BEAR WINERY, LAZY BEAR WINERY LLC', '644HESTER STORE RD', 'EASLEY, SC 29640']\n",
      "['BWN-CA-15812', 'JOSEPH PHELPS VINEYARDS LLC', '1625 FREESTONE FLAT RD', 'FREESTONE, CA 95472']\n",
      "['BWN-WV-15012', 'MOSS FARMS WINERY, LLC', '100 HARVEST LN', 'WHEELING, WV 26003']\n",
      "['BWN-CA-16153', 'C2 CELLARS, C2 CELLARS, INC.', '9050 SAN ANTONIORD', 'ORCUTT, CA 93455']\n",
      "['BW-OR-320', 'NW WINE COMPANY, LLC', '20980 NE NIEDERBERGER RD', 'DUNDEE, OR 97115']\n",
      "['BR-OR-WIL-15001', '10 BARREL BREWING, 10 BARREL BREWING, LLC', '62970 18TH ST', 'BEND, OR 97701']\n",
      "['BR-NC-HAM-15000', \"NATTY GREENE'S BREWING COMPANY, HAMBURGER SQUARE BREWHOUSE, INC.\", '1918 W LEE ST', 'GREENSBORO, NC 27403']\n",
      "['BW-CA-5368', 'CHATEAU DIANA, CHATEAU DIANA, LLC', '6195 DRY CREEK RD', 'HEALDSBURG, CA 95448']\n",
      "['BWN-CA-21812', 'FOUR SISTERS RANCH, LLC', '2995PLEASANT RD', 'SAN MIGUEL, CA 93451']\n",
      "['DSP-WA-21054', 'BLACKFISH SPIRITS DISTILLERY, WAWHO DOT COM, INC.', '42037TH ST NW , STE A', 'AUBURN, WA 98001']\n",
      "['BW-CA-4372', 'WEIBEL CHAMPAGNE VINEYARDS, WEIBEL INCORPORATED', '1 WINEMASTER WAY , STE D', 'LODI, CA 95240']\n",
      "['BWN-CA-20250', 'BACCAROSSA, GARAGE WINEMAKER LLC', '19620 REDBERRY DR', 'LOS GATOS, CA 95303']\n",
      "['DSP-MI-20048', 'GRAY SKIES DISTILLERY, LLC', '700NW OTTAWA', 'GRAND RAPIDS, MI 49503']\n",
      "['BW-CA-6180', 'ST. FRANCIS WINERY & VINEYARD, LP, ST. FRANCIS WINERY & VINEYARD, INC. (GEN. PART.)', '500 PYTHIAN RD', 'SANTA ROSA, CA 95409']\n",
      "['BWN-OR-15147', 'BEACON HILL WINERY, OREGON TERROIR, LLC', '22070 NE RIDGE RD', 'GASTON, OR 97119']\n",
      "['BWN-CA-21112', 'BAIOCCHI, BAIOCCHI FAMILY VINEYARDS, LLC', '8054FAIRPLAY RD', 'FAIR PLAY, CA 95684']\n",
      "['BR-ME-MAI-15002', 'MAINE BEER COMPANY, LLC', '525US ROUTE 1', 'FREEPORT, ME 04032']\n",
      "['DSP-IN-1', 'PROXIMO DISTILLERS, PROXIMO DISTILLERS, LLC', '220 SHIPPING ST', 'LAWRENCEBURG, IN 47025']\n",
      "['DSP-PA-20011', 'DISOBEDIENT SPIRITS LLC', '30S MAIN ST', 'HOMER CITY, PA 15748']\n",
      "['DSP-CO-15014', 'LEOPOLD BROS., ANN ARBOR BREWING COMPANY, L.L.C.', '5285 JOLIET ST', 'DENVER, CO 80239']\n",
      "['BWN-OH-21074', 'BEAR VINE WINERY, LLC', '15617SR 273', 'RIDGEWAY, OH 43345']\n",
      "['BR-FL-21141', 'CYCLE BREWING INC.', '21355TH AVE S', 'ST PETERSBURG, FL 33712']\n",
      "['BR-NY-CHV-1', 'ALBANY PUMP STATION, C.H. EVANS BREWING CO., INC.', '19 QUACKENBUSH SQ', 'ALBANY, NY 12207']\n",
      "['BWN-AZ-21019', 'HOFFMAN FAMILY CELLARS, DESERT ROCK INDUSTRIES LLC', '7302E HELM DR , STE 1002', 'SCOTTSDALE, AZ 85260']\n",
      "['DSP-KY-12', 'BARTON 1792 DISTILLERY, SAZERAC DISTILLERS, LLC', '300BARTON RD', 'BARDSTOWN, KY 40004']\n",
      "['DSP-MD-20011', 'WHITE TIGER DISTILLERY, LLC', '1625SONNY SCHULZ BLVD , STE E', 'STEVENSVILLE, MD 21666']\n",
      "['BR-GA-20017', 'ORPHEUS BREWING, BELTLINE BREWING, LLC', '1440NE DUTCH VALLEY PL , STE 2001', 'ATLANTA, GA 30324']\n",
      "['DSP-UT-15001', 'HIGH WEST DISTILLERY, LLC', '703 PARK AVE', 'PARK CITY, UT 84060']\n",
      "['BW-CA-5067', 'LIANA ESTATES, PEJU FAMILY OPERATING PARTNERSHIP, LPPEJU PROVINCE CORPORATION, ARIANA PEJU & LISA', '2750LAS AMIGAS RD', 'NAPA, CA 94558']\n",
      "['BW-CA-4537', 'CHAPPELLET WINERY INC', '1581 SAGE CANYON RD', 'SAINT HELENA, CA 94574']\n",
      "['DSP-CA-232', 'ALAMBIC, INC.', '1110 BEL ARBRES DR , SUITES B & D', 'REDWOOD VALLEY, CA 95470']\n",
      "['BR-WI-21059', 'MOBCRAFT BEER INC.', '706S 5TH ST', 'MILWAUKEE, WI 53204']\n",
      "['BWN-CA-21927', 'SHIRAH WINE LLC', '2705AVIATION WAY', 'SANTA MARIA, CA 93455']\n",
      "['BW-CA-6528', 'OWL RIDGE WINE SERVICES, GREG & GREG, INC.', '2064 GRAVENSTEIN HWY N , BUILDING 1, SUITE 120', 'SEBASTOPOL, CA 95472']\n",
      "['BW-KS-8', 'WYLDEWOOD CELLARS, WYLDEWOOD CELLARS, INC.', '951 E 119TH ST', 'PECK, KS 67120']\n",
      "['DSP-NH-21008', 'NEW ENGLAND SWEETWATER FARM AND DISTILLERY, ROBERT ALEXANDER PATTON SPRUILL', '136MAIN ST', 'WINCHESTER, NH 03470']\n",
      "['BWN-IA-15021', 'PENOACH WINERY, PENOACH WINERY & NURSERY LLC', '26759 NORTH AVE', 'ADEL, IA 50003']\n",
      "['BWN-WI-15055', 'ISLAND ORCHARD, ISLAND ORCHARD CIDER, LLC', '12040 GARRETT BAY RD', 'ELLISON BAY, WI 54210']\n",
      "['BWN-TX-15048', \"ENOCH'S STOMP VINEYARD AND WINERY L.L.C.\", '870FERGUSON RD', 'HARLETON, TX 75651']\n",
      "['BR-GA-RED-15000', 'RED HARE BREWING COMPANY, RED HARE BREWING COMPANY, LLC', '1998 DELK INDUSTRIAL BLVD', 'MARIETTA, GA 30067']\n",
      "['BWN-WA-21139', 'FORCE MAJEURE VINEYARDS, GRAND REVE VINTNERS, LLC', '18720142ND AVE, NE', 'WOODINVILLE, WA 98072']\n",
      "['BW-VA-104', 'INDEPENDENCE, INC.', '3247 CARTERS MOUNTAIN RD', 'CHARLOTTESVILLE, VA 22902']\n",
      "['DSP-NY-21061', 'NIAGARA DISTILLING COMPANY LLC', '459ELLICOTT ST', 'BUFFALO, NY 14203']\n",
      "['BR-TN-BLA-15001', 'BLACKBERRY FARM BREWERY, BLACKBERRY FARM, LLC', '1471 W MILLERS COVE RD', 'WALLAND, TN 37886']\n",
      "['BR-CA-20475', 'SONOMA COUNTY BREWING COMPANY, LLC', '399BUSINESS PARK CT , STE 506', 'WINDSOR, CA 95492']\n",
      "['BW-CA-5269', 'FARELLA-PARK VINEYARDS LLC', '2222 N THIRD AVE', 'NAPA, CA 94558']\n",
      "['BR-WA-ELY-15001', 'ELYSIAN BREWING COMPANY, ELYSIAN BREWING COMPANY, INC.', '5510 AIRPORTWAY S', 'SEATTLE, WA 98108']\n",
      "['BWN-CA-15002', 'DA VE WINERY INC.', '2515 NAPA VALLEY CORPORATE DR', 'NAPA, CA 94558']\n",
      "['BWN-CA-21909', 'ALMENDRA WINERY & DISTILLERY, ALMENDRA WINERY & DISTILLERY INC.', '9275MIDWAY RD', 'DURHAM, CA 95938']\n",
      "['BR-CA-STR-15003', 'STRAND BREWNG CO., LLC', '2201 DOMINGUEZ ST', 'TORRANCE, CA 90501']\n",
      "['BWN-TN-21016', 'TENNESSEE HOMEMADE WINES, LLC', '643PARKWAY', 'GATLINBURG, TN 37738']\n",
      "['BWN-OH-21081', 'CREEKSIDE COTTAGE WINERY LLC', '8818CLEVELAND AVE SE', 'MAGNOLIA, OH 44643']\n",
      "['BWN-CA-21849', 'PENROSE HILL, PENROSE LANE, LIMITED', '499MOORE LN', 'HEALDSBURG, CA 95448']\n",
      "['DSP-CO-20063', 'SKI BUM RUM, OFF-PISTE ENTERPRISES, LLC', '331CORPORATE CIR , STE C', 'GOLDEN, CO 80401']\n",
      "['DSP-FL-20044', 'MANIFEST DISTILLING, LLC', '960E FORSYTH ST', 'JACKSONVILLE, FL 32202']\n",
      "['BR-NH-21014', 'THE ABLE EBENEZER BREWING COMPANY LLC', '31COLUMBIA CIR', 'MERRIMACK, NH 03054']\n",
      "['BWN-CA-15641', 'DIAMOND RIDGE ESTATE WINERY AND VINEYARDS, INC.', '119 W NORTH ST', 'HEALDSBURG, CA 95448']\n",
      "['DSP-NC-21041', 'FAINTING GOAT SPIRITS, LLC', '115W LEWIS ST', 'GREENSBORO, NC 27406']\n",
      "['BWN-CA-16153', 'C2 CELLARS, C2 CELLARS, INC.', '9050SAN ANTONIORD', 'ORCUTT, CA 93455']\n",
      "['BWN-NY-21100', 'SAM ANDREWS WINERY LLC', '4016INTERLAKEN BEACH RD', 'INTERLAKEN, NY 14847']\n",
      "['BWN-FL-21018', 'ANDY WINERY, ANDY WINERY INC', '6520W 20TH AVEUNIT 1', 'HIALEAH, FL 33016']\n",
      "['DSP-TX-15034', 'JEM BEVERAGE COMPANY, INC.', '217 W DIVISION ST', 'PILOT POINT, TX 76258']\n",
      "['BR-MN-MAN-15000', 'MANKATO BREWERY, MANKATO BREWERY, LLC', '1119CENTER ST', 'NORTH MANKATO, MN 56003']\n",
      "['DSP-CA-20050', 'MACKAY DISTILLERS, MACKAY LLC', '45554TH STSTE 102', 'SAN DIEGO, CA 92114']\n",
      "['BW-WV-10', 'FORKS OF CHEAT WINERY, JERRY N. DEAL', '2811STEWARTSTOWN RD', 'MORGANTOWN, WV 26508']\n",
      "['BW-CA-6612', 'SONOMA WINE COMPANY, SONOMA WINE COMPANY, LLC', '9119GRATONRD', 'GRATON, CA 95444']\n",
      "['BW-CA-6088', 'PLATEAU VINEYARDS', '20170SIERRA SOTO RD', 'MURRIETA, CA 92562']\n",
      "['BW-CA-6978', 'MEADOWOOD ASSOCIATES, MEADOWOOD ASSOCIATES, A LIMITED PARTNERSHIP, PACIFIC UNION MEADOWOOD PARTNERS,', '1030SILVERADO TRL N', 'SAINT HELENA, CA 94574']\n",
      "['DSP-NJ-21014', 'PINE TAVERN DISTILLERY LLC', '149A PINE TAVERN RD', 'MONROEVILLE, NJ 08343']\n",
      "['BWN-CA-15442', 'ANABA WINES, SWEAZEY WINERY INVESTMENT, LLC', '216928TH ST E STE 200 , BLDG B', 'SONOMA, CA 95476']\n",
      "['BW-CA-5398', 'TREASURY CHATEAU & ESTATES', '21468, 21672 AND 21480 EIGHTH STREET EAST', 'SONOMA, CA 95476']\n",
      "['BWN-OR-15244', 'J WRIGLEY, WRIGLEY FAMILY VENTURES, LLC', '1360 W MAIN', 'SHERIDAN, OR 97378']\n",
      "['BW-NY-904', 'SHINN ESTATE VINEYARDS, SHINN WINERY, LLC', '2000OREGON RD', 'MATTITUCK, NY 11952']\n",
      "['BR-NJ-RHB-15000', 'RIVER HORSE BREWING COMPANY, RHB ACQUISITION LLC', '2GRAPHICS DR', 'EWING, NJ 08628']\n",
      "['BR-WI-21019', 'WISCONSIN BREWING COMPANY, LLC', '1079AMERICAN WAY', 'VERONA, WI 53593']\n",
      "['BWN-CA-16528', 'PAX MAHLE WINES, LLC', '64501ST STUNITS A, B, D, F, K, L', 'FORESTVILLE, CA 95436']\n",
      "['DSP-OR-20008', 'ROLLING RIVER SPIRITS, ROLLING RIVER SPIRITS, LLC', '1215SE 8TH AVESTE H', 'PORTLAND, OR 97214']\n",
      "['DSP-NY-15015', 'LONG ISLAND SPIRITS, INC.', '2182SOUND AVE', 'BAITING HOLLOW, NY 11933']\n",
      "['BWN-NY-21090', 'HEARTSEASE HILL, HEARTSEASE HILL, LLC', '217PRITCHARD RD', 'WEST WINFIELD, NY 13491']\n"
     ]
    },
    {
     "name": "stdout",
     "output_type": "stream",
     "text": [
      "['BWN-CA-15127', 'D.R. STEPHENS ESTATE WINES, D.R. STEPHENS ESTATE WINES, LLC', '3524SILVERADO TRL', 'SAINT HELENA, CA 94574']\n",
      "['BW-CA-5398', 'BEAULIEU VINEYARD, TREASURY WINE ESTATES AMERICAS COMPANY', '2146821480, 216728TH STREET EAST', 'SONOMA, CA 95476']\n",
      "['BWN-NY-21039', 'APPLE COUNTRY SPIRITS, CELK DISTILLING, LLC', '3274EDDY RD', 'WILLIAMSON, NY 14589']\n",
      "['DSP-WV-21006', 'MOSS FARMS WINERY, LLC', '100HARVEST LN', 'WHEELING, WV 26003']\n",
      "['DSP-MN-20003', 'CROOKED WATER, NORSEMAN DISTILLERY LLC', '429TAFT ST NE STE 19', 'MINNEAPOLIS, MN 55413']\n",
      "['BR-NC-21141', 'CABARRUS BREWING COMPANY, LLC', '329MCGILL AVE NW', 'CONCORD, NC 28027']\n",
      "['BR-DE-MIL-15000', '16 MILE, 16 MILE BREWING COMPANY INC', '413 S BEDFORD ST', 'GEORGETOWN, DE 19947']\n",
      "['BWN-OR-15195', 'ABIQUA WIND VINEYARD, LGA, INC.', '19822MCKILLOP RD', 'SCOTTS MILLS, OR 97375']\n",
      "['BWN-OH-15123', 'TNT WINERY LLC', '1165GRANADA RD NW', 'DELLROY, OH 44620']\n",
      "['BR-PA-VIC-1', 'VICTORY BREWING COMPANY', '420ACORN LN', 'DOWNINGTOWN, PA 19335']\n",
      "['DSP-MI-20024', 'MAMMOTH DISTILLING, LLC', '1554 N EAST TORCH LAKE DRBLDG A , STE D', 'CENTRAL LAKE, MI 49622']\n",
      "['DSP-WA-21050', 'SKUNK BROTHERS SPIRITS, SKUNK BROTHERS SPIRITS INC.', '40SW CASCADE AVESTE 45', 'STEVENSON, WA 98648']\n",
      "['BWN-NM-15020', 'NOISY WATER ART WEAR, INC.', '2342SUDDERTH DR', 'RUIDOSO, NM 88345']\n",
      "['BR-CA-AME-15003', 'ANGEL CITY BREWING COMPANY, AMERICAN CRAFT BREWERY LLC', '216 S ALAMEDAST', 'LOS ANGELES, CA 90012']\n",
      "['DSP-WA-21054', 'BLACKFISH SPIRITS DISTILLERY, WAWHO DOT COM, INC.', '42037TH ST NW STE A', 'AUBURN, WA 98001']\n",
      "['BR-OR-WIL-15001', '10 BARREL BREWING, 10 BARREL BREWING, LLC', '6297018TH ST', 'BEND, OR 97701']\n",
      "['DSP-SC-21006', 'STRIPED PIG DISTILLERY LLC', '2225OLD SCHOOL DRUNIT A', 'CHARLESTON, SC 29405']\n",
      "['BR-ID-PAY-15000', 'PAYETTE BREWING COMPANY, PAYETTE BREWING COMPANY LLC', '111 W 33RD ST', 'GARDEN CITY, ID 83714']\n",
      "['BWN-MD-15032', \"LAYTON'S CHANCE, LAYTON'S CHANCE VINEYARD AND WINERY, LLC\", '4225NEW BRIDGE RD', 'VIENNA, MD 21869']\n",
      "['BR-WA-EVE-15000', \"EVERYBODY'S BREWING, EVERYBODYS BREWING LLC\", '151 E JEWETT BLVD', 'WHITE SALMON, WA 98672']\n",
      "['DSP-OH-20032', 'HIDDEN SPIRITS COCKTAILS, LTD.', '77MILFORD DRSTE 247', 'HUDSON, OH 44236']\n",
      "['BR-OR-ORG-1', 'BAY FRONT BREWERY & PUBLIC HOUSE, OREGON BREWING COMPANY', '2320 SE OSU DR', 'NEWPORT, OR 97365']\n",
      "['BWN-WA-21085', 'WT VINTNERS LLC', '19501144TH AVE, NESTE F1200', 'WOODINVILLE, WA 98072']\n",
      "['BR-NM-SIE-1', 'SIERRA BLANCA, SIERRA BLANCA BREWING CO., INC.', '1016INDUSTRIAL RD', 'MORIARTY, NM 87035']\n",
      "['BWN-VA-21012', 'MAGGIE MALICK WINE CAVES, LLC', '12138HARPERS FERRY RD', 'PURCELLVILLE, VA 20132']\n",
      "['DSP-CA-20011', 'SPIRIT WORKS DISTILLERY, LLC', '6790MCKINLEY STSTE 100', 'SEBASTOPOL, CA 95472']\n",
      "['DSP-CO-15035', 'SPRING44 DISTILLING, INC', '505 W 66TH ST', 'LOVELAND, CO 80538']\n",
      "['BW-OR-66', 'SOKOL BLOSSER WINERY, SOKOL BLOSSER LTD', '5000SOKOL BLOSSER LN', 'DUNDEE, OR 97115']\n",
      "['BR-VA-20049', 'OLD OX BREWERY, LLC', '44652GUILFORD DRUNIT 110-114', 'ASHBURN, VA 20147']\n",
      "['BR-WA-ELY-15001', 'ELYSIAN BREWING COMPANY, ELYSIAN BREWING COMPANY, INC.', '5510AIRPORTWAY S', 'SEATTLE, WA 98108']\n",
      "['DSP-KY-230', 'JIM BEAM BRANDS CO.', '526 HAPPY HOLLOW ROAD', 'CLERMONT, KY 40110']\n",
      "['DSP-KY-20038', 'PCS DISTILLING COMPANY, R KEITH HAZELBAKER VENTURES INC', '436BAXTER AVE', 'LOUISVILLE, KY 40204']\n",
      "['BW-CA-4828', 'RUTHERFORD WINE COMPANY, ROUND HILL CELLARS', '1680SILVERADO TRL', 'SAINT HELENA, CA 94574']\n",
      "['BWN-CA-17134', 'MOUNT VEEDER MAGIC VINEYARDS, GREGORY T. CROUSE AND KAREN C. CROUSE', '1721PARTICK RD', 'NAPA, CA 94558']\n",
      "['BR-AL-BLU-15000', 'BLUE PANTS BREWERY LLC', '500LANIER RDBUILDING 1 SUITE A', 'MADISON, AL 35758']\n",
      "['DSP-OR-6', 'CLEAR CREEK DISTILLERS, CLEAR CREEK DISTILLERY LLC', '2389NW WILSON ST', 'PORTLAND, OR 97210']\n",
      "['DSP-IL-20007', 'CH DISTILLERY, 773, LLC', '564W RANDOLPH STSTE 1E', 'CHICAGO, IL 60661']\n",
      "['DSP-FL-26', 'MANGO BOTTLING, INC.', '767CLEARLAKE RD', 'COCOA, FL 32922']\n",
      "['DSP-AK-20008', 'ARCTIC HARVEST, ARCTIC HARVEST LLC', '4753EIELSON FARM RD', 'NORTH POLE, AK 99705']\n",
      "['BW-CA-5752', 'DON SEBASTIANI & SONS INTERNATIONAL WINE NEGOCIANTS', '520AIRPARK RD', 'NAPA, CA 94558']\n",
      "['BR-NY-BLE-1', 'BLUE POINT BREWING COMPANY, INC.', '161RIVER AVE', 'PATCHOGUE, NY 11772']\n",
      "['BW-WA-166', 'TOWNSHEND CELLAR, TOWNSHEND CELLAR, INC.', '1222 N REGAL ST', 'SPOKANE, WA 99202']\n",
      "['BR-SC-21024', 'CAROLINA BAUERNHAUS ALES, CAROLINA BAUERNHAUS, LLC', '115W FEDERAL ST', 'ANDERSON, SC 29625']\n",
      "['BW-CA-6418', 'WATTS WINERY, WATTS TRANSPORTATION, LLC', '17036 N LOCUST TREE RDQ,R,M,N', 'LODI, CA 95240']\n",
      "['BWN-CA-15994', 'BEAVER CREEK VINEYARDS, BEAVER CREEK VINEYARDS, LLC', '22000HIGHWAY 29', 'MIDDLETOWN, CA 95461']\n",
      "['BR-CA-HER-15002', 'HERMITAGE BREWING COMPANY, HERMITAGE BREWING COMPANY LP', '1627 S 7TH ST', 'SAN JOSE, CA 95112']\n",
      "['DSP-NY-15027', 'NEW YORK DISTILLING, NEW YORK DISTILLING COMPANY, LLC', '405LEONARD ST', 'BROOKLYN, NY 11222']\n",
      "['BWN-WA-21100', 'EDWARD LYNNE CELLARS, LLC', '748VINEYARD LN', 'CAMANO ISLAND, WA 98282']\n",
      "['BR-NJ-21052', '7 MILE BREWERY, 7 MILE BREWERY, LLC', '3156S ROUTE 9UNIT 1-2', 'RIO GRANDE, NJ 08242']\n",
      "['BR-NY-21163', 'CONEY ISLAND BREWING COMPANY, AMERICAN CRAFT BREWERY LLC', '1904SURF AVE, Retail Space 3', 'BROOKLYN, NY 11224']\n",
      "['BW-CO-58', 'JACK RABBIT HILL, JACK RABBIT HILL, LLC.', '26567NORTH RD', 'HOTCHKISS, CO 81419']\n",
      "['DSP-SC-21015', 'SALUTE! LLC', '800OLD JONES RD', 'GEER, SC 29651']\n",
      "['BR-IN-20051', 'DANNY BOY BEER WORKS, THE ABBEY TAP HOUSE LLC', '12702MEETING HOUSE RD', 'CARMEL, IN 46032']\n",
      "['BR-AK-ALB-1', 'ALASKAN BREWING CO., ALASKAN BREWING, LLC', '5429SHAUNE DR', 'JUNEAU, AK 99801']\n",
      "['DSP-CO-20064', 'HIGHLANDS DISTILLERY, BLU CELLAR DOOR LLC', '78224TH RD', 'GRAND JUNCTION, CO 81505']\n",
      "['BWN-CA-22138', 'LOMPOC WINE FACTORY, STEPHEN BRIDGE', '321N D ST', 'LOMPOC, CA 93436']\n",
      "['BW-OR-298', 'STONE WOLF CELLARS, STONE WOLF VINEYARDS, INC.', '2155 NE LAFAYETTE AVE', 'MCMINNVILLE, OR 97128']\n",
      "['DSP-CO-20038', 'BIG FAT PASTOR, INC.', '6754N FRANKLIN AVE', 'LOVELAND, CO 80538']\n",
      "['DSP-AL-20016', 'YELLOW HAMMER SPIRITS, SOUTHEAST WINE, LLC', '173HIGHWAY 301', 'CALERA, AL 35040']\n",
      "['DSP-WA-21083', 'DISTILLERS WAY, LLC', '5235INDUSTRIAL PL', 'FERNDALE, WA 98248']\n",
      "['BW-FL-44', 'FLORIDA ORANGE GROVES, INC.', '1500PASADENA AVE S', 'SAINT PETERSBURG, FL 33707']\n",
      "['BWN-WV-15012', 'MOSS FARMS WINERY, LLC', '100HARVEST LN', 'WHEELING, WV 26003']\n",
      "['BW-OR-273', 'R. STUART & CO., SPARKLING OREGON!, LLC', '845 NE 5TH ST', 'MCMINNVILLE, OR 97128']\n",
      "['BWN-OH-21107', 'OTTER CREEK VINEYARDS, LLC', '5291BENNINGTON CHAPEL RD', 'JOHNSTOWN, OH 43031']\n",
      "['BR-KY-BFC-1', 'JD COCKTAIL COMPANY, BROWN-FORMAN CORPORATION', '2921DIXIE HWY', 'LOUISVILLE, KY 40216']\n",
      "['BR-IN-20016', \"CARSON'S BREWERY, CARSON'S BREWERY, LLC\", '2404LYNCH RD', 'EVANSVILLE, IN 47711']\n",
      "['DSP-AL-20011', 'AVONDALE BREWING COMPANY, LLC', '41003RD AVE S', 'BIRMINGHAM, AL 35222']\n",
      "['DSP-TX-20075', 'PROVISION SPIRIT, LLC', '208CARLIE LN', 'BLANCO, TX 78606']\n",
      "['BR-WI-JAC-1', 'JACOB LEINENKUGEL BREWING CO., LLC', '1JEFFERSON AVE', 'CHIPPEWA FALLS, WI 54729']\n",
      "['BWN-MI-21159', 'SOUL SQUEEZE CELLARS, LLC', '1829CARROLL RD', 'TRAVERSE CITY, MI 49686']\n",
      "['DSP-CA-20029', 'OLD HARBOR DISTILLING COMPANY, SKUBIC ENTERPRISES, LLC', '27017TH ST', 'SAN DIEGO, CA 92101']\n",
      "['BWN-CA-15674', 'SANGUIS, MATTHIAS PIPPIG AND JAMIE KINSER', '8ASHLEY AVE', 'SANTA BARBARA, CA 93103']\n",
      "['BW-NY-839', 'RAPHAEL, J. PETROCELLI WINE CELLARS L.L.C.', '39390 MAINRD, ROUTE 25', 'PECONIC, NY 11958']\n",
      "['BWN-CA-16714', 'KOSTA BROWNE WINERY, KB WINES, LLC', '6751LAGUNA PARK WAYBUILDING B, E & J', 'SEBASTOPOL, CA 95472']\n",
      "['BW-CA-4533', 'STERLING VINEYARDS, TREASURY WINE ESTATES AMERICAS COMPANY', '1111DUNAWEAL LN', 'CALISTOGA, CA 94515']\n",
      "['DSP-IN-21003', 'CARDINAL SPIRITS LLC', '922S MORTON ST', 'BLOOMINGTON, IN 47403']\n",
      "['BWN-OR-15312', 'PURPLE HANDS WINERY, PURPLE HANDS, LLC', '1200 SW 99W', 'DUNDEE, OR 97115']\n",
      "['DSP-TN-15005', 'OLE SMOKY DISTILLERY, LLC', '903PARKWAYSTE 111, 128 & 129', 'GATLINBURG, TN 37738']\n",
      "['DSP-CA-20135', 'MANUCCI SPIRITS, MANUCCI WINERY, INC.', '3775ADELAIDA RD', 'PASO ROBLES, CA 93446']\n",
      "['BR-OH-HOF-15000', 'HOOF HEARTED BREWING LLC', '300COUNTY ROAD 26', 'MARENGO, OH 43334']\n",
      "['BW-CA-6038', 'GROVE STREET WINERY, GROVE ACQUISITION, LLC', '13300BUCKMAN DR', 'HOPLAND, CA 95449']\n"
     ]
    },
    {
     "name": "stdout",
     "output_type": "stream",
     "text": [
      "['BR-OR-21019', 'PLANK TOWN BREWING CO., PLANKTOWN LLC', '346MAIN ST', 'SPRINGFIELD, OR 97477']\n",
      "['BR-CA-MAR-15001', 'OCEANSIDE ALE WORKS, MARK ROBIN PURCIEL & SCOTT TAYLOR THOMAS \"PARTNERSHIP\"', '1800ORD WAY', 'OCEANSIDE, CA 92056']\n",
      "['BWN-WA-21053', 'HARMELL CELLARS, LLC', '269NARCISSA PL', 'WALLA WALLA, WA 99362']\n",
      "['BR-IA-20051', 'KEG CREEK BREWING COMPANY, LLC', '22381221ST ST', 'GLENWOOD, IA 51534']\n",
      "['BWN-CA-21943', 'FILLMORE WEST VINEYARDS, FILLMORE WEST VINEYARDS, LLC', '2455W 3RD ST', 'SAN FRANCISCO, CA 94107']\n",
      "['BWN-CA-21723', 'CORNER 103, LLC', '214818TH STSTE 30', 'SONOMA, CA 95476']\n",
      "['BW-WA-316', 'SYNCLINE WINE CELLARS, MORCHELLA WINE CELLARS, LLC', '111BALCH RD', 'LYLE, WA 98635']\n",
      "['BWN-VA-15055', 'SUNSET HILLS VINEYARD, LLC', '38295FREMONT OVERLOOK LN', 'PURCELLVILLE, VA 20132']\n",
      "['BR-PA-VIC-1', 'VICTORY BREWING COMPANY, LLC', '420ACORN LN', 'DOWNINGTOWN, PA 19335']\n",
      "['DSP-MI-20064', 'HOMES BREWERY LLC', '2321JACKSON AVE', 'ANN ARBOR, MI 48103']\n",
      "['DSP-NY-15056', 'SOUTHERN TIER DISTILLING COMPANY, SOUTHERN TIER DISTILLING, LLC', '2051A STONEMAN CIR', 'LAKEWOOD, NY 14750']\n",
      "['BW-NY-714', 'SWEDISH HILL VINEYARD, INC.', '4565 ROUTE 414', 'ROMULUS, NY 14541']\n",
      "['BWN-CA-16970', 'JIGAR WINES, JIGAR PATEL WINES, INC.', '4791DRY CREEK RD9-C', 'HEALDSBURG, CA 95448']\n",
      "['BW-CA-3863', 'OAK RIDGE WINERY, LLC', '6100 E VICTOR RD', 'LODI, CA 95240']\n",
      "['BR-CO-ODE-1', 'ODELL BREWING COMPANY, ODELL BREWING COMPANY, INC.', '800 E LINCOLN AVE', 'FORT COLLINS, CO 80524']\n",
      "['BWN-PA-21084', 'THE RENEGADE WINERY, LLC', '221E BROAD ST', 'EAST STROUDSBURG, PA 18301']\n",
      "['BWN-CA-15903', 'VILLA SAN JULIETTE, VILLA SAN JULIETTE', '6385CROSS CANYONS RD', 'SAN MIGUEL, CA 93451']\n",
      "['BR-MS-20014', 'BILOXI BREWING COMPANY, BILOXI BREWING COMPANY, LLC', '186BOHN ST', 'BILOXI, MS 39530']\n",
      "['BWN-CA-21624', 'NEW WORLD KOSHER, INC.', '11026TH ST', 'BERKELEY, CA 94710']\n"
     ]
    }
   ],
   "source": [
    "lat_long_list = []\n",
    "for address in addresses:\n",
    "    try:\n",
    "        res = Geocoder.geocode(address[2:])\n",
    "        if res.valid_address:\n",
    "            lat_long_list.append((address[1], res.latitude, res.longitude))\n",
    "    except GeocoderError:\n",
    "        print(address)"
   ]
  },
  {
   "cell_type": "code",
   "execution_count": 137,
   "metadata": {},
   "outputs": [
    {
     "data": {
      "text/plain": [
       "(314, 3)"
      ]
     },
     "execution_count": 137,
     "metadata": {},
     "output_type": "execute_result"
    }
   ],
   "source": [
    "lat_long = pd.DataFrame(lat_long_list)\n",
    "lat_long.columns = ['name', 'lat', 'long']\n",
    "lat_long.shape"
   ]
  },
  {
   "cell_type": "code",
   "execution_count": 139,
   "metadata": {},
   "outputs": [
    {
     "data": {
      "text/plain": [
       "(930, 3)"
      ]
     },
     "execution_count": 139,
     "metadata": {},
     "output_type": "execute_result"
    }
   ],
   "source": [
    "res = a_companies[['PlantRegistry/BasicPermit/BrewersNo(PrincipalPlaceofBusiness)', 'TTBID']].groupby(\n",
    "    'PlantRegistry/BasicPermit/BrewersNo(PrincipalPlaceofBusiness)').count()\n",
    "res.reset_index(inplace=True)\n",
    "res['name'] = [re.split(r'\\n', registry)[1] for registry in res['PlantRegistry/BasicPermit/BrewersNo(PrincipalPlaceofBusiness)']]\n",
    "res.shape"
   ]
  },
  {
   "cell_type": "code",
   "execution_count": 140,
   "metadata": {},
   "outputs": [
    {
     "data": {
      "text/html": [
       "<div>\n",
       "<style>\n",
       "    .dataframe thead tr:only-child th {\n",
       "        text-align: right;\n",
       "    }\n",
       "\n",
       "    .dataframe thead th {\n",
       "        text-align: left;\n",
       "    }\n",
       "\n",
       "    .dataframe tbody tr th {\n",
       "        vertical-align: top;\n",
       "    }\n",
       "</style>\n",
       "<table border=\"1\" class=\"dataframe\">\n",
       "  <thead>\n",
       "    <tr style=\"text-align: right;\">\n",
       "      <th></th>\n",
       "      <th>name</th>\n",
       "      <th>lat</th>\n",
       "      <th>long</th>\n",
       "      <th>count</th>\n",
       "    </tr>\n",
       "  </thead>\n",
       "  <tbody>\n",
       "    <tr>\n",
       "      <th>0</th>\n",
       "      <td>RIVER HORSE BREWING COMPANY, RHB ACQUISITION LLC</td>\n",
       "      <td>40.276377</td>\n",
       "      <td>-74.796004</td>\n",
       "      <td>2</td>\n",
       "    </tr>\n",
       "    <tr>\n",
       "      <th>1</th>\n",
       "      <td>RIVER HORSE BREWING COMPANY, RHB ACQUISITION LLC</td>\n",
       "      <td>40.276377</td>\n",
       "      <td>-74.796004</td>\n",
       "      <td>4</td>\n",
       "    </tr>\n",
       "    <tr>\n",
       "      <th>2</th>\n",
       "      <td>The Flag Ship Brewing Company, GORDON JAMES LLC</td>\n",
       "      <td>40.636929</td>\n",
       "      <td>-74.075816</td>\n",
       "      <td>2</td>\n",
       "    </tr>\n",
       "    <tr>\n",
       "      <th>3</th>\n",
       "      <td>Day Wines, DAY CRUSH, LLC</td>\n",
       "      <td>45.267059</td>\n",
       "      <td>-123.019978</td>\n",
       "      <td>1</td>\n",
       "    </tr>\n",
       "    <tr>\n",
       "      <th>4</th>\n",
       "      <td>SOKOL BLOSSER WINERY, SOKOL BLOSSER LTD</td>\n",
       "      <td>45.251523</td>\n",
       "      <td>-123.049899</td>\n",
       "      <td>11</td>\n",
       "    </tr>\n",
       "  </tbody>\n",
       "</table>\n",
       "</div>"
      ],
      "text/plain": [
       "                                               name        lat        long  \\\n",
       "0  RIVER HORSE BREWING COMPANY, RHB ACQUISITION LLC  40.276377  -74.796004   \n",
       "1  RIVER HORSE BREWING COMPANY, RHB ACQUISITION LLC  40.276377  -74.796004   \n",
       "2   The Flag Ship Brewing Company, GORDON JAMES LLC  40.636929  -74.075816   \n",
       "3                         Day Wines, DAY CRUSH, LLC  45.267059 -123.019978   \n",
       "4           SOKOL BLOSSER WINERY, SOKOL BLOSSER LTD  45.251523 -123.049899   \n",
       "\n",
       "   count  \n",
       "0      2  \n",
       "1      4  \n",
       "2      2  \n",
       "3      1  \n",
       "4     11  "
      ]
     },
     "execution_count": 140,
     "metadata": {},
     "output_type": "execute_result"
    }
   ],
   "source": [
    "lat_long = pd.merge(lat_long, res, left_on='name', right_on='name', how='inner')\n",
    "lat_long.drop('PlantRegistry/BasicPermit/BrewersNo(PrincipalPlaceofBusiness)', 1, inplace=True)\n",
    "lat_long.rename(columns={'TTBID': 'count'}, inplace=True)\n",
    "lat_long.head()"
   ]
  },
  {
   "cell_type": "code",
   "execution_count": 161,
   "metadata": {},
   "outputs": [
    {
     "data": {
      "application/vnd.plotly.v1+json": {
       "data": [
        {
         "lat": [
          40.2763769,
          40.2763769,
          40.6369293,
          45.267059,
          45.2515229,
          45.2515229,
          38.2220226,
          37.6642676,
          40.7057895,
          36.90563059999999,
          39.113784,
          44.9428926,
          35.69956,
          30.280047,
          37.7256219,
          47.5676354,
          41.4740236,
          39.9533889,
          38.9717749,
          38.105871,
          38.650524,
          35.8087141,
          44.8442274,
          37.7801683,
          40.404099,
          32.654689,
          38.4360065,
          38.4360065,
          41.4395701,
          38.5366485,
          42.50398999999999,
          41.2377324,
          46.53825699999999,
          38.6456653,
          41.8776516,
          38.93631269999999,
          44.5049225,
          42.9201128,
          41.1890496,
          45.5191382,
          38.4791219,
          38.9791301,
          38.22036689999999,
          45.30221969999999,
          39.8756046,
          33.729281,
          38.4791219,
          38.4446747,
          44.8439878,
          41.8816597,
          37.9877476,
          39.362696,
          41.07566449999999,
          38.311111,
          38.311111,
          39.25708940000001,
          46.4575106,
          40.9562235,
          40.9562235,
          46.1164327,
          46.1164327,
          46.1164327,
          46.1164327,
          40.7969701,
          40.7969701,
          35.106596,
          35.106596,
          35.106596,
          41.0143481,
          41.0143481,
          42.559843,
          34.6348903,
          37.6376189,
          37.6376189,
          37.6376189,
          37.6376189,
          40.7059758,
          38.6320194,
          43.9521478,
          45.327831,
          33.3314137,
          33.3314137,
          38.022004,
          42.118373,
          42.0804754,
          38.9891562,
          38.9891562,
          38.9891562,
          38.9891562,
          36.3351496,
          36.1269429,
          38.579063,
          45.4599488,
          45.057554,
          38.2564221,
          39.8503046,
          47.7624159,
          38.2261354,
          29.7587571,
          38.4668934,
          43.103839,
          40.6008518,
          40.6008518,
          38.20505259999999,
          33.1158112,
          33.1158112,
          33.1158112,
          33.1158112,
          39.7234165,
          47.1752005,
          42.315363,
          42.315363,
          42.315363,
          42.315363,
          45.288894,
          40.834592,
          42.62095009999999,
          40.6487126,
          32.739475,
          41.1858556,
          37.654827,
          40.6636453,
          37.8294723,
          35.7332574,
          35.7332574,
          35.6857048,
          38.3540072,
          38.5267277,
          48.0113129,
          45.5148875,
          32.750091,
          43.63791699999999,
          39.8412,
          37.6481072,
          30.24697099999999,
          43.762282,
          42.5484908,
          35.810418,
          41.9421346,
          35.897539,
          38.5160066,
          38.5160066,
          38.6763622,
          38.6763622,
          38.6763622,
          38.6763622,
          39.900534,
          41.762941,
          41.7673962,
          39.7260138,
          41.4202749,
          42.840599,
          38.4554826,
          37.7277727,
          32.293601,
          43.241521,
          41.8870097,
          40.6834987,
          41.1224375,
          31.32444,
          32.7950904,
          40.1272234,
          40.1272234,
          40.1272234,
          40.1272234,
          38.4290473,
          38.5918819,
          41.6755798,
          39.2305071,
          38.1505352,
          47.560333,
          47.560333,
          33.342807,
          35.5436073,
          39.2718245,
          42.980852,
          45.84824099999999,
          44.6399335,
          44.52738859999999,
          47.3865,
          41.81215630000001,
          38.974719,
          38.850971,
          42.7481,
          40.9987734,
          41.599166,
          48.979829,
          39.753793,
          36.1929069,
          38.4360065,
          41.4497027,
          40.0927251,
          34.6875373,
          43.9530249,
          38.3487066,
          34.1157552,
          41.5076504,
          43.0465346,
          38.5154936,
          43.441786,
          33.4048717,
          33.057619,
          38.4242157,
          42.4848974,
          36.7836173,
          37.7547503,
          37.7547503,
          37.7547503,
          37.7547503,
          36.7366002,
          38.4961945,
          38.82586190000001,
          42.3858183,
          26.1835563,
          38.3618081,
          38.2205044,
          43.3075048,
          43.3075048,
          43.3075048,
          43.3075048,
          36.378174,
          38.2726597,
          33.7480032,
          44.922611,
          29.5692359,
          29.5692359,
          29.5692359,
          29.5692359,
          42.2667135,
          38.4546356,
          41.23809019999999,
          39.76740400000001,
          37.151443,
          38.5731152,
          46.20959089999999,
          35.1899215,
          40.1624473,
          42.7234246,
          42.7234246,
          42.7234246,
          42.7234246,
          34.1089328,
          42.65621,
          36.2196613,
          38.6456653,
          38.7176467,
          38.7176467,
          30.2257728,
          38.77909100000001,
          38.5184676,
          38.5767118,
          45.3852286,
          37.0603809,
          32.7105583,
          46.233944,
          38.9721865,
          45.4140952,
          38.2685619,
          30.7087383,
          41.3021439,
          41.3021439,
          41.263609,
          45.267059,
          46.1157214,
          46.1157214,
          30.1550912,
          38.660742,
          33.54718,
          38.883052,
          42.45594699999999,
          33.1109393,
          35.6741448,
          35.2392805,
          35.2392805,
          46.47760299999999,
          39.6531949,
          33.45606300000001,
          33.45606300000001,
          38.44573099999999,
          44.249827,
          44.249827,
          38.3618081,
          28.0522606,
          28.0522606,
          38.2562954,
          39.9941,
          30.8337164,
          39.943961,
          41.1620592,
          39.724193,
          33.408941,
          36.1374441,
          29.48184299999999,
          38.2785715,
          45.2414301,
          40.7692299,
          40.7692299,
          34.58593,
          42.3651616,
          46.9248211,
          35.6301402,
          30.7152772,
          40.5532474,
          43.617859,
          39.7661085,
          27.7708353,
          43.0821747,
          35.440101,
          39.2233495,
          40.721645,
          38.7148,
          36.403642,
          44.7620365,
          38.0179666,
          40.014792,
          39.00087329999999,
          39.319486,
          38.3372896,
          44.9334328,
          36.5287482,
          30.8396378,
          30.8396378,
          38.4627304,
          42.4502431,
          36.820358,
          46.2128429,
          38.555327,
          38.18499,
          39.5919979,
          38.4776937,
          40.0395565,
          38.519045,
          38.2493358,
          30.2199405,
          38.4430537,
          37.305274,
          44.6666751,
          38.3195786,
          47.5202699,
          32.8179162,
          39.792734,
          39.792734,
          38.1875123,
          47.6141922,
          35.5637944,
          39.65265249999999,
          44.80371,
          44.6283053,
          38.660742,
          38.4653981,
          45.148796,
          35.6633445,
          38.5749064,
          35.242175,
          39.6644067,
          42.0871398,
          31.9403676,
          39.785887,
          34.0590775,
          35.6605906,
          35.6605906
         ],
         "locationmode": "USA-states",
         "lon": [
          -74.796004,
          -74.796004,
          -74.075816,
          -123.019978,
          -123.0498988,
          -123.0498988,
          -122.2707909,
          -121.7253659,
          -74.0071687,
          -86.6736873,
          -122.820126,
          -85.7548909,
          -96.6624954,
          -97.70238649999999,
          -80.6339675,
          -122.3354681,
          -81.5650184,
          -75.1451613,
          -95.2356542,
          -122.6447656,
          -122.911949,
          -78.6211297,
          -123.2293415,
          -122.4119061,
          -79.870272,
          -116.488217,
          -122.8698501,
          -122.8698501,
          -76.7464602,
          -122.8053558,
          -76.717799,
          -81.9732521,
          -92.513981,
          -122.9078679,
          -88.72518889999999,
          -77.6296108,
          -98.9886864,
          -75.8633437,
          -96.081346,
          -122.6511493,
          -122.616009,
          -123.0979299,
          -122.2288018,
          -123.0745463,
          -86.0828565,
          -84.55833919999999,
          -122.616009,
          -122.4084054,
          -93.7447929,
          -87.6258493,
          -121.0439342,
          -77.42645399999999,
          -100.6397371,
          -122.276027,
          -122.276027,
          -123.2374667,
          -120.2408034,
          -72.7530943,
          -72.7530943,
          -122.9390233,
          -122.9390233,
          -122.9390233,
          -122.9390233,
          -75.2130236,
          -75.2130236,
          -114.2105121,
          -114.2105121,
          -114.2105121,
          -72.5325142,
          -72.5325142,
          -94.146148,
          -111.9340992,
          -120.9821437,
          -120.9821437,
          -120.9821437,
          -120.9821437,
          -74.0113527,
          -90.80290219999999,
          -90.55640400000001,
          -84.9615896,
          -105.6699332,
          -105.6699332,
          -120.479838,
          -123.550604,
          -90.68512199999999,
          -76.3195616,
          -76.3195616,
          -76.3195616,
          -76.3195616,
          -94.2207871,
          -115.1934459,
          -122.7743509,
          -98.42810860000002,
          -123.0856069,
          -85.75864659999999,
          -89.2417779,
          -122.1499485,
          -122.3783983,
          -95.36369239999999,
          -122.3768767,
          -75.24332799999999,
          -81.2124448,
          -81.2124448,
          -121.2970729,
          -117.1200116,
          -117.1200116,
          -117.1200116,
          -117.1200116,
          -105.016385,
          -119.8543229,
          -123.240237,
          -123.240237,
          -123.240237,
          -123.240237,
          -123.046728,
          -84.3096219,
          -75.188936,
          -122.2209222,
          -117.1255158,
          -73.14242,
          -121.699076,
          -81.55309539999999,
          -122.3704411,
          -120.5814147,
          -120.5814147,
          -120.6526845,
          -122.3350044,
          -122.3180978,
          -122.54199,
          -122.9696895,
          -97.32580899999999,
          -72.397789,
          -76.902693,
          -85.34945429999999,
          -98.0556639,
          -87.78544,
          -76.6551334,
          -78.61792299999999,
          -87.7080421,
          -86.97563099999999,
          -122.458787,
          -122.458787,
          -122.862232,
          -122.862232,
          -122.862232,
          -122.862232,
          -76.34009999999999,
          -88.545363,
          -72.6779776,
          -76.9218905,
          -73.2821981,
          -78.815945,
          -122.4180526,
          -78.91330479999999,
          -109.87498,
          -123.397627,
          -87.6723821,
          -74.00454110000001,
          -80.3353608,
          -89.3304,
          -96.4736693,
          -83.0093495,
          -83.0093495,
          -83.0093495,
          -83.0093495,
          -122.3903162,
          -122.601829,
          -87.9975948,
          -95.4793965,
          -85.96853569999999,
          -122.3377055,
          -122.3377055,
          -117.204537,
          -120.8247002,
          -121.0120726,
          -72.3645569,
          -122.560199,
          -72.8268434,
          -72.61741789999999,
          -122.111088,
          -80.87755179999999,
          -123.0834925,
          -77.68683899999999,
          -84.449432,
          -74.2974519,
          -87.8339012,
          -122.697667,
          -104.9884662,
          -105.8612769,
          -122.8698501,
          -96.02698509999999,
          -88.16351619999999,
          -120.3685954,
          -123.275387,
          -122.2828528,
          -117.2530164,
          -90.5191177,
          -77.0970509,
          -122.4109602,
          -72.654038,
          -111.830165,
          -116.818681,
          -122.8484378,
          -77.1387264,
          -78.1713529,
          -122.3897798,
          -122.3897798,
          -122.3897798,
          -122.3897798,
          -121.3691394,
          -122.8270995,
          -120.8091336,
          -87.9914807,
          -80.155391,
          -122.3121571,
          -84.3424916,
          -96.5063953,
          -96.5063953,
          -96.5063953,
          -96.5063953,
          -121.3431324,
          -122.6618868,
          -93.56540079999999,
          -92.575915,
          -98.3107588,
          -98.3107588,
          -98.3107588,
          -98.3107588,
          -84.9635125,
          -77.91309319999999,
          -81.8594918,
          -86.0723469,
          -96.922371,
          -121.4810826,
          -119.1172081,
          -120.5824459,
          -105.1001316,
          -76.9758532,
          -76.9758532,
          -76.9758532,
          -76.9758532,
          -117.6907225,
          -74.511139,
          -88.2111336,
          -122.9078679,
          -91.3206924,
          -91.3206924,
          -97.9474091,
          -104.861259,
          -120.8222519,
          -121.487744,
          -122.9492007,
          -78.89569949999999,
          -117.1536284,
          -119.677575,
          -94.7224756,
          -122.5715216,
          -122.3479151,
          -84.8905623,
          -72.9244908,
          -72.9244908,
          -70.131438,
          -123.019978,
          -122.916533,
          -122.916533,
          -84.20208500000001,
          -90.3949219,
          -117.044756,
          -77.92403999999999,
          -79.271061,
          -90.27514819999999,
          -120.6444759,
          -120.6078811,
          -120.6078811,
          -119.238146,
          -106.8394299,
          -86.849678,
          -86.849678,
          -78.86911599999999,
          -73.801648,
          -73.801648,
          -122.3121571,
          -81.7992659,
          -81.7992659,
          -85.7546019,
          -74.7838,
          -86.43189389999999,
          -75.15422699999999,
          -81.4867616,
          -121.8153557,
          -91.03735999999999,
          -80.5850632,
          -82.8649866,
          -122.4209597,
          -123.0699526,
          -73.9647396,
          -73.9647396,
          -120.101133,
          -89.0292391,
          -114.0740612,
          -77.92568279999999,
          -90.5104008,
          -80.12046289999999,
          -116.202689,
          -104.9647155,
          -82.751854,
          -83.4212703,
          -113.873076,
          -77.5376153,
          -73.957258,
          -90.432778,
          -121.658011,
          -73.1104273,
          -87.6727727,
          -77.235714,
          -74.91098579999999,
          -76.6259025,
          -122.2818858,
          -93.36006630000001,
          -121.8205144,
          -81.57562829999999,
          -81.57562829999999,
          -122.3709214,
          -73.2538426,
          -120.013276,
          -119.2864613,
          -122.519499,
          -92.637952,
          -105.023368,
          -122.4380036,
          -74.2236186,
          -122.798528,
          -122.4981057,
          -95.87286089999999,
          -78.8727396,
          -122.128553,
          -90.1737424,
          -122.3440621,
          -120.50277,
          -116.9838606,
          -104.8624509,
          -104.8624509,
          -121.2811864,
          -122.3275885,
          -89.6485744,
          -104.8124366,
          -68.7656982,
          -123.2344958,
          -90.3949219,
          -122.4289932,
          -123.287178,
          -120.6687053,
          -122.8328263,
          -119.1098258,
          -104.890231,
          -79.3480026,
          -82.0221766,
          -76.96667599999999,
          -77.89968650000002,
          -120.6515737,
          -120.6515737
         ],
         "marker": {
          "cmax": 39,
          "color": [
           2,
           4,
           2,
           1,
           11,
           1,
           5,
           1,
           1,
           8,
           6,
           12,
           1,
           1,
           4,
           1,
           1,
           6,
           3,
           2,
           2,
           1,
           7,
           31,
           5,
           7,
           1,
           1,
           7,
           6,
           14,
           15,
           12,
           2,
           4,
           2,
           2,
           7,
           1,
           6,
           1,
           13,
           1,
           2,
           3,
           2,
           21,
           1,
           6,
           14,
           1,
           1,
           2,
           7,
           2,
           1,
           3,
           1,
           2,
           2,
           2,
           2,
           2,
           1,
           1,
           2,
           3,
           9,
           2,
           7,
           12,
           19,
           2,
           2,
           2,
           2,
           1,
           4,
           1,
           1,
           2,
           1,
           2,
           1,
           1,
           1,
           1,
           1,
           1,
           4,
           2,
           1,
           2,
           2,
           1,
           1,
           1,
           2,
           5,
           6,
           10,
           2,
           2,
           2,
           10,
           10,
           10,
           10,
           1,
           2,
           6,
           10,
           6,
           10,
           2,
           1,
           4,
           1,
           1,
           1,
           1,
           2,
           9,
           4,
           10,
           2,
           2,
           1,
           1,
           2,
           6,
           4,
           5,
           1,
           2,
           2,
           1,
           3,
           7,
           1,
           1,
           6,
           1,
           3,
           1,
           3,
           20,
           1,
           14,
           4,
           7,
           1,
           11,
           1,
           18,
           3,
           3,
           1,
           8,
           1,
           2,
           4,
           2,
           4,
           2,
           3,
           2,
           1,
           1,
           2,
           3,
           1,
           1,
           2,
           1,
           4,
           2,
           1,
           2,
           2,
           1,
           2,
           1,
           1,
           1,
           3,
           16,
           1,
           3,
           7,
           1,
           10,
           1,
           3,
           2,
           1,
           2,
           1,
           2,
           8,
           39,
           1,
           2,
           6,
           2,
           3,
           1,
           3,
           1,
           3,
           1,
           3,
           1,
           2,
           1,
           18,
           2,
           1,
           2,
           1,
           1,
           1,
           2,
           10,
           1,
           1,
           1,
           1,
           1,
           1,
           1,
           1,
           1,
           3,
           4,
           4,
           1,
           3,
           3,
           3,
           3,
           6,
           4,
           2,
           11,
           1,
           1,
           6,
           1,
           1,
           5,
           1,
           2,
           4,
           1,
           1,
           1,
           2,
           2,
           17,
           1,
           1,
           3,
           1,
           2,
           12,
           4,
           2,
           2,
           2,
           1,
           2,
           2,
           4,
           2,
           2,
           2,
           7,
           1,
           4,
           1,
           4,
           8,
           1,
           1,
           2,
           2,
           2,
           1,
           5,
           2,
           4,
           2,
           3,
           2,
           3,
           1,
           6,
           8,
           1,
           5,
           1,
           1,
           2,
           2,
           2,
           1,
           2,
           12,
           4,
           1,
           3,
           3,
           5,
           1,
           1,
           1,
           1,
           2,
           7,
           3,
           2,
           3,
           1,
           2,
           4,
           2,
           3,
           1,
           2,
           1,
           10,
           3,
           8,
           1,
           4,
           2,
           2,
           2,
           2,
           3,
           6,
           4,
           2,
           5,
           1,
           1,
           1,
           1,
           9,
           2,
           5,
           1,
           3,
           4,
           4,
           1,
           5,
           1,
           6,
           2
          ],
          "colorbar": {
           "title": ""
          },
          "size": 5
         },
         "mode": "markers",
         "name": "Locations",
         "text": [
          "RIVER HORSE BREWING COMPANY, RHB ACQUISITION LLC:  2",
          "RIVER HORSE BREWING COMPANY, RHB ACQUISITION LLC:  4",
          "The Flag Ship Brewing Company, GORDON JAMES LLC:  2",
          "Day Wines, DAY CRUSH, LLC:  1",
          "SOKOL BLOSSER WINERY, SOKOL BLOSSER LTD:  11",
          "SOKOL BLOSSER WINERY, SOKOL BLOSSER LTD:  1",
          "1-800-WINESHOP, 1-800-WINESHOP.COM, INC.:  5",
          "WENTE BROS.:  1",
          "ROYAL SPRING BRANCH DISTILLERY, DW ADAMS DISTILLING, LLC:  1",
          "BDP BREWING COMPANY:  8",
          "NICE WINE COMPANY, INC.:  6",
          "FRENCH ROAD CELLARS, LLC:  12",
          "DELICATO VINEYARDS:  1",
          "DELICATO NAPA BOTTLING, DELICATO VINEYARDS:  1",
          "VAN RUITEN FAMILY WINERY, VAN RUITEN FAMILY WINERY LLC:  4",
          "KERLOO CELLARS, R 2 PRODUCTIONS LLC:  1",
          "MERCER WINE ESTATES, MERCER WINE ESTATES, LLC:  1",
          "ROY-PITZ BREWING CO., LLC:  6",
          "FREE STATE BREWERY, FREE STATE BREWING CO., INC.:  3",
          "NAYLOR WINE CELLARS, INC.:  2",
          "MAURITSON FAMILY WINERY:  2",
          "PINE TOP DISTILLERY LLC:  1",
          "EOLA HILLS WINE CELLARS, EOLA HILLS WINE CELLARS, INC.:  7",
          "BRAXTON BREWING COMPANY, LLC:  31",
          "THE BREW GENTLEMEN BEER COMPANY, THE BREW GENTLEMEN BEER COMPANY:  5",
          "WESTFALL WINERY, RICHARD WESTFALL AND DONNA WESTFALL:  7",
          "SONOMA WINE COMPANY, SONOMA WINE COMPANY, LLC:  1",
          "SONOMA WINE COMPANY, SONOMA WINE COMPANY, LLC:  1",
          "PAPPY JACK'S WINERY LLC:  7",
          "FIREBALL FARM & CIDERS, LLC:  6",
          "SOUTH HILL CIDER LLC:  14",
          "BONOBO WINERY, OV THE FARM, LLC:  15",
          "BLACKHOOF ESTATE WINERY, LLC:  12",
          "MATTHEW CHRISTOPHER VILLARD:  2",
          "WHISKEY ACRES DISTILLING CO.:  4",
          "SOUTH MOUNTAIN WINERY, BRUCE NED FREEMAN:  2",
          "PERNOD RICARD USA, PERNOD RICARD USA BOTTLING, LLC:  2",
          "EMPIRE FARMSTEAD BREWERY, INC.:  7",
          "NEBRASKA BREWING CO.:  1",
          "RAM CELLARS, LLC:  6",
          "SONOMA ESTATE VINTNERS, LLC:  1",
          "CAMPOVIDA, CAMPOVIDA WINES, LLC:  13",
          "JAMIESON RANCH VINEYARDS, MADISON VINEYARD HOLDINGS, LLC:  1",
          "ALEXANA WINERY, REVANA FAMILY PARTNERS, L.P.:  2",
          "THE BIER BREWERY AND TAPROOM, SOUTH BROAD RIPPLE BREWING COMPANY, LLC:  3",
          "LAKE PLACID SPIRITS, LLC:  2",
          "A W DIRECT, LLC:  21",
          "ATLAS WINE COMPANY, ATLAS WINE COMPANY, LLC:  1",
          "SCHRAM VINEYARDS, SCHRAM WINERY, LLC:  6",
          "BADERBRAU BREWING, BADERBRAU LLC:  14",
          "MIRAMONT ESTATE VINEYARD & WINERY, MIRAMONT ESTATE VINEYARDS & WINERY INC:  1",
          "FLYING DOG BREWERY, FLYING DOG BREWERY, LLLP:  1",
          "FEATHER RIVER VINEYARDS, L.L.C.:  2",
          "RUTHERFORD WINE COMPANY, ROUND HILL CELLARS:  7",
          "RUTHERFORD WINE COMPANY, ROUND HILL CELLARS:  2",
          "AMERICAN CRAFT WHISKEY DISTILLERY, TAMAR DISTILLERY, INC.:  1",
          "SILVER LAKE AT ROZA HILLS, WASHINGTON WINE & BEVERAGE CO.:  3",
          "LONG ISLAND SPIRITS, INC.:  1",
          "LONG ISLAND SPIRITS, INC.:  2",
          "PLATA WINE PARTNERS, LLC:  2",
          "PLATA WINE PARTNERS, LLC:  2",
          "PLATA WINE PARTNERS, LLC:  2",
          "PLATA WINE PARTNERS, LLC:  2",
          "FRANKLIN HILL VINEYARDS, FRANKLIN HILL VINEYARDS, INC.:  1",
          "FRANKLIN HILL VINEYARDS, FRANKLIN HILL VINEYARDS, INC.:  1",
          "FIRESTONE WALKER LLC:  2",
          "FIRESTONE WALKER LLC:  3",
          "FIRESTONE WALKER LLC:  9",
          "SHINN ESTATE VINEYARDS, SHINN WINERY, LLC:  2",
          "SHINN ESTATE VINEYARDS, SHINN WINERY, LLC:  7",
          "SOLDIER CREEK WINERY, LLC:  12",
          "ARIZONA STRONGHOLD VINEYARDS, LLC:  19",
          "E. & J. GALLO WINERY:  2",
          "E. & J. GALLO WINERY:  2",
          "E. & J. GALLO WINERY:  2",
          "E. & J. GALLO WINERY:  2",
          "NEVERSINK SPIRITS, THE FOOD CYCLE DISTILLERY, LLC.:  1",
          "CHANDLER HILL VINEYARDS, CHANDLER HILL VINEYARDS, LLC:  4",
          "SAN JOAQUIN WINE CO., SAN JOAQUIN WINE COMPANY INC.:  1",
          "MACKINAW TRAIL WINERY, INC.:  1",
          "NOISY WATER ART WEAR, INC.:  2",
          "NOISY WATER ART WEAR, INC.:  1",
          "VILLA VALLECITO VINEYARDS, VILLA VALLECITO VINEYARDS, INC.:  2",
          "FORIS VINEYARDS WINERY, FORIS VINEYARDS WINERY LLC:  1",
          "IOWA GRAPE VINES WINERY, LLC:  1",
          "BLACKWATER DISTILLING, INC.:  1",
          "BLACKWATER DISTILLING, INC.:  1",
          "BLACKWATER DISTILLING, INC.:  1",
          "BLACKWATER DISTILLING, INC.:  1",
          "WILDROSE VINEYARDS, R. LAWSON ENTERPRISES, LLC:  4",
          "SMITH-MADRONE VINEYARDS, COOK'S FLAT ASSOCIATES, LP STUART SMITH, GP:  2",
          "TRINITE WINERY, GONZAGUE & CLAIRE LURTON VINEYARDS, INC.:  1",
          "VINO AQUINO, VINO AQUINO TACOMA, INC.:  2",
          "STANGELAND WINERY, L.D. MILLER ENTERPRISES, INC.:  2",
          "BREWERY BECKER, BRAUEREI BECKER LLC:  1",
          "REINSTONE BREWERY, INC.:  1",
          "COVINGTON CELLARS, COVINGTON CELLARS, LLC:  1",
          "CARNEROS HILLS WINERY, JACKSON FAMILY WINES, INC.:  2",
          "THE GENTLEMAN, BUCHANAN MACKLEY INCORPORATED:  5",
          "PINA CELLARS, PINA CELLARS LP:  6",
          "MOHAWK VALLEY WINERY INC.:  10",
          "TNT WINERY LLC:  2",
          "TNT WINERY LLC:  2",
          "LANGETWINS WINE ESTATES, LANGETWINS WINE COMPANY, INC.:  2",
          "STONE BREWING CO., KOOCHENVAGNER'S BREWING CO.:  10",
          "STONE BREWING CO., KOOCHENVAGNER'S BREWING CO.:  10",
          "STONE BREWING CO., KOOCHENVAGNER'S BREWING CO.:  10",
          "STONE BREWING CO., KOOCHENVAGNER'S BREWING CO.:  10",
          "SLEEPING GIANT BREWING COMPANY, LLC:  1",
          "ANDALUSIA WHISKEY CO., BLANCO VALLEY DISTILLERS, LLC:  2",
          "SCHMIDT FAMILY VINEYARDS, CALVIN GALE SCHMIDT:  6",
          "SCHMIDT FAMILY VINEYARDS, CALVIN GALE SCHMIDT:  10",
          "SCHMIDT FAMILY VINEYARDS, CALVIN GALE SCHMIDT:  6",
          "SCHMIDT FAMILY VINEYARDS, CALVIN GALE SCHMIDT:  10",
          "TORII MOR WINERY, TORII MOR WINERY, L.L.C.:  2",
          "JUBILEE WINERY, JUBILEE WINERY LLC:  1",
          "EPOCHALYPSE BREWING, BUTTERNUTS BEER AND ALE, LLC:  4",
          "ROCKY'S RIDGE VINEYARD, ROCKY'S RIDGE VINEYARD,LLC:  1",
          "THORN ST BREWERY, BIG HOP LLC:  1",
          "NOTCH BREWING COMPANY, NOTCH BREWING, LLC:  1",
          "WOOD FAMILY VINEYARDS, RHONDA RENE'WOOD & MICHAEL JAMES WOOD:  1",
          "MCALPINE MEADERY LLC:  2",
          "TERRELL WINES, CHRISTOPHER JAMES TERRELL:  9",
          "CASTORO CELLARS:  4",
          "CASTORO CELLARS:  10",
          "VIA VEGA WINERY, LAWRENCE ANDREW CELLARS:  2",
          "WHETSTONE WINE CELLARS, WHETSTONE WINE CELLARS, LLC:  2",
          "RUSTRIDGE WINERY, RUSTRIDGE WINERY, INC.:  1",
          "KAYAK SPIRITS DISTILLERY LLC:  1",
          "12TH & MAPLE WINE COMPANY, CORUS ESTATES & VINEYARDS, LLC:  2",
          "THE ACRE DISTILLING CO., ACRE DISTILLING COMPANY, LLC:  6",
          "VERMONT SPIRITS DISTILLING COMPANY:  4",
          "THUNDER RIDGE VINEYARDS, LLC:  5",
          "MAKER'S MARK DISTILLERY, INC.:  1",
          "TREATY OAK DISTILLING CO., GRAHAM BARNES DISTILLING INC:  2",
          "BLIND HORSE WINERY, LLC:  2",
          "BLACK DIAMONDFARM, LLC:  1",
          "BIG BOSS BREWING, EBC BREWERY, LLC:  3",
          "REVOLUTION BEER LLC:  7",
          "LEIPER'S FORK DISTILLERY, LLC:  1",
          "MEADOWOOD ASSOCIATES, MEADOWOOD ASSOCIATES, A LIMITED PARTNERSHIP, PACIFIC UNION MEADOWOOD PARTNERS,:  1",
          "MEADOWOOD ASSOCIATES, MEADOWOOD ASSOCIATES, A LIMITED PARTNERSHIP, PACIFIC UNION MEADOWOOD PARTNERS,:  6",
          "VTPR, VTPR, INC.:  1",
          "VTPR, VTPR, INC.:  3",
          "VTPR, VTPR, INC.:  1",
          "VTPR, VTPR, INC.:  3",
          "SURLY PENGUIN, SURLY PENGUIN LLC:  20",
          "AYLOR INC.:  1",
          "ASYLUM DISTILLERY, SOUTHAMPTON PARTNERS LLC:  14",
          "CAVA WINERY AND VINEYARD, CAVA WINERY AND VINEYARD INC:  4",
          "MYSTO MEAD LLC:  7",
          "DUELING GROUNDS DISTILLERY LLC:  1",
          "PEJU FAMILY WINERY, PEJU FAMILY OPERATING PARTNERSHIP, LP:  11",
          "LOVINGSTON WINERY LLC:  1",
          "PASSION CELLARS, PASSION CELLARS, LLC:  18",
          "the garden shed, UMPQUA WINE SERVICES AND STORAGE CORP:  3",
          "GOOSE ISLAND BEER COMPANY, FULTON STREET BREWERY, LLC:  3",
          "MCCLINTOCK DISTILLING, MCCLINTOCK DISTILLING LLC.:  1",
          "GARDINER LIQUID MERCANTILE, LLC:  8",
          "JAMES RIVER DISTILLERY, LLC:  1",
          "TRINITAS CELLARS, TRINITAS CELLARS, LLC:  2",
          "UNCORKED WINES, INVEIGLE, LLC:  4",
          "UNCORKED WINES, INVEIGLE, LLC:  2",
          "UNCORKED WINES, INVEIGLE, LLC:  4",
          "UNCORKED WINES, INVEIGLE, LLC:  2",
          "CARDINALE WINERY, JACKSON FAMILY WINES, INC.:  3",
          "KRILL FAMILY VINEYARDS, KRILL FAMILY VINEYARDS, LLC:  2",
          "POLLYANNA BREWING COMPANY:  1",
          "CROOKED POST WINERY, CROOKED POST WINERY, LLC:  1",
          "BEST VINEYARDS, BEST VINEYARDS, LLC:  2",
          "TWO BEERS BREWING COMPANY, TWO BEERS BREWING COMPANY LLC:  3",
          "TWO BEERS BREWING COMPANY, TWO BEERS BREWING COMPANY LLC:  1",
          "PREMIUM VINTNERS, LLC:  1",
          "EPOCH ESTATE WINES, ARMSTRONG VINEYARDS, INC.:  2",
          "SWEETBRIAR VINEYARD AND WINERY, MICHAEL LORENZ MACKENTHUN:  1",
          "SUMMIT WINERY LLC:  4",
          "DOLIO WINERY & VINEYARD, DOLIO WINERY LLC:  2",
          "SMUGGLERS' NOTCH DISTILLERY, LLC:  1",
          "GREEN MOUNTAIN DISTILLERS, LLC:  2",
          "SOOS CREEK WINE CELLARS, SOOS CREEK WINE CELLARS, LLC:  2",
          "THE WINERY AT SPRING HILL, THE WINERY AT SPRING HILL, INC.:  1",
          "BRUTOCAO CELLARS, BRUTOCAO FAMILY ENTERPRISES, LLC, GP, BRUTOCAO MANAGEMENT, LLC, GP:  2",
          "WINERY AT LA GRANGE, PWC WINERY, LLC:  1",
          "RED CEDAR SPIRITS, WORKING BUGS, LLC:  1",
          "CITRUS DISTILLERS, CITRUS DISTILLERS, LLC:  1",
          "BODACIOUS BERRIES, FRUITS AND BREWS, BODACIOUS BERRIES, FRUITS AND BREWS:  3",
          "ATWOOD ALES, SMITHINGTON ENTERPRISES LLC:  16",
          "GREAT DIVIDE BREWING COMPANY:  1",
          "VIVAC WINERY, CHRIS PADBERG & JESSE PADBERG:  3",
          "PURPLE WINE AND SPIRITS, PURPLE WINE COMPANY, LLC:  7",
          "FUGA WINERY LLC:  1",
          "RIGGS BEER COMPANY:  10",
          "LOUBUD WINES, LOUBUD WINES L.L.C.:  1",
          "SWEET CHEEKS VINEYARDS, INC.:  3",
          "RAZI'S WINERY, LLC:  2",
          "LEDSON VINEYARDS AND WINERY, STEVE NOBLE LEDSON:  1",
          "RIVER'S EDGE WINERY, MICHAEL L. & YVONNE LANDT LLC:  2",
          "JACKIE O'S PUB AND BREWERY, ZOD LLC:  1",
          "GHOST HORSE VINEYARDS, LLC:  2",
          "BROOK FARM VINEYARDS, BROOK FARM VINEYARDS LLC:  8",
          "AH WINES, INC.:  39",
          "RAMONA RANCH WINERY, RAMONA RANCH WINERY, LLC:  1",
          "GUARACHI FAMILY WINES, TRIUMPH BEVERAGE COMPANY, LLC:  2",
          "DOMAINE LESEURRE, LLC:  6",
          "KOSICEK VINEYARDS, KOSICEK FARMSLLC:  2",
          "ROAR WINES, GARY FRANSCIONI, INC.:  3",
          "ROAR WINES, GARY FRANSCIONI, INC.:  1",
          "ROAR WINES, GARY FRANSCIONI, INC.:  3",
          "ROAR WINES, GARY FRANSCIONI, INC.:  1",
          "CALERA WINE COMPANY, CALERA WINE COMPANY:  3",
          "SONOMA-CUTRER VINEYARDS, SONOMA-CUTRER VINEYARDS, INC.:  1",
          "ROME VALLEY VINEYARDS, BJ ROME:  3",
          "SONGBIRD CELLARS LLC:  1",
          "COASTAL BAY BEVERAGE COMPANY LLC:  2",
          "TRUJILLO WINE, TRUJILLO WINE, LLC:  1",
          "TEXAS CUSTOM WINE WORKS, TEXAS CUSTOM WINE WORKS, LLC:  18",
          "CALICO SKIES VINEYARD AND WINERY, CALICO SKIES VINEYARD AND WINERY, INC.:  2",
          "CALICO SKIES VINEYARD AND WINERY, CALICO SKIES VINEYARD AND WINERY, INC.:  1",
          "CALICO SKIES VINEYARD AND WINERY, CALICO SKIES VINEYARD AND WINERY, INC.:  2",
          "CALICO SKIES VINEYARD AND WINERY, CALICO SKIES VINEYARD AND WINERY, INC.:  1",
          "PARAISO SPRINGS VINEYARDS, RICHARD & CLAUDIA SMITH TRUSTEE OF THE RICHARD R. SMITHFAMILY TRUST:  1",
          "THE LAGUNITAS BREWING COMPANY:  1",
          "LAZY HORSE BREWING, STUTZMAN ENTERPRISES, L.L.C.:  2",
          "SIXTY-FIVE VINES, LLC:  10",
          "Tucker Hill Vineyards Inc.:  1",
          "Tucker Hill Vineyards Inc.:  1",
          "Tucker Hill Vineyards Inc.:  1",
          "Tucker Hill Vineyards Inc.:  1",
          "THE DARKHORSE BREWING COMPANY, MOR-DALL ENTERPRISES, INC.:  1",
          "OLD HOUSE VINEYARDS, OLD HOUSE VINEYARDS, LLC:  1",
          "LOPEZ ISLAND BREWING COMPANY:  1",
          "BLACK ACRE BREWING COMPANY, LLC:  1",
          "WHEAT STATE WINE CO., LLC:  1",
          "RUBICON BREWING COMPANY, STRAYHAN INVESTMENTS INC.:  3",
          "RIVERSANDS DISTILLERY, LAKE SPOKANE DEVELOPMENT, INC.:  4",
          "SINOR-LAVALLEE, VALOR WINE CO., LLC:  4",
          "WIBBY BREWING, RISKY WIBBY LLC:  1",
          "RED TAIL RIDGE WINERY, RED TAIL RIDGE, INC.:  3",
          "RED TAIL RIDGE WINERY, RED TAIL RIDGE, INC.:  3",
          "RED TAIL RIDGE WINERY, RED TAIL RIDGE, INC.:  3",
          "RED TAIL RIDGE WINERY, RED TAIL RIDGE, INC.:  3",
          "DALE BROS. BREWERY, DALE BROS. BREWERY, INC.:  6",
          "ROYAL MEADERY LLC:  4",
          "PARIS WINERY, PARIS WINERY, INC.:  2",
          "SEVEN OXEN WINERY, KILER CANYON LLC:  11",
          "LOST CREEK VINEYARD, LOST CREEK VINEYARD, LLC:  1",
          "LOST CREEK VINEYARD, LOST CREEK VINEYARD, LLC:  1",
          "HYE MEADOWS WINERY, HYE MEADOW WINERY, LLC:  6",
          "TOPPLING GOLIATH BREWING CO., TOPPLING GOLIATH, INC.:  1",
          "SCOTT HARVEY WINES, CREATIVE WINE CONCEPTS, INC.:  1",
          "MISSION BREWERY, MISSION BREWERY, INC.:  5",
          "RAPTOR RIDGE, RAPTOR RIDGE WINERY, L.L.C.:  1",
          "SANS SOUCY VINEYARDS, SANS SOUCY VINEYARDS, L.L.C.:  2",
          "WEST O BEER, LLC:  4",
          "RIVERAERIE CELLARS, RIVERAERIE CELLARS, L.L.C.:  1",
          "UNION HORSE DISTILLING COMPANY, LLC:  1",
          "PORTLAND CIDER COMPANY LLC:  1",
          "ONE HOPE WINES, HOPE WINE, LLC:  2",
          "ELEVATION DISTILLING, LLC:  2",
          "THREE TAVERNS CRAFT BREWERY, LLC:  17",
          "THREE TAVERNS CRAFT BREWERY, LLC:  1",
          "NANTUCKET VINEYARD, NANTUCKET VINEYARD, LLC:  1",
          "DAY WINES, DAY CRUSH, LLC:  3",
          "FABRIZIA SPIRITS, LLC:  1",
          "FABRIZIA SPIRITS, LLC:  2",
          "BLOOM BREW, BLOOM-DENK ENTERPRISES LLC:  12",
          "VOODOO BREWING COMPANY, LLC:  4",
          "WILSON CREEK WINERY & VINEYARDS, WILSON CREEK WINERY & VINEYARDS, INC.:  2",
          "MIRACLE VALLEY VINEYARD, MIRACLE VALLEY VINEYARD, LLC:  2",
          "WOODBURY VINEYARDS, WOODBURY VINEYARDS, INC.:  2",
          "E2 FAMILY WINERY, HERMAN EHLERS & SONS, INC.:  1",
          "VISTA CREEK CELLARS, VISTA CREEK CELLARS, LLC:  2",
          "ORCUTT ROAD CELLARS, PARAGON VINEYARD CO., INC.:  2",
          "ORCUTT ROAD CELLARS, PARAGON VINEYARD CO., INC.:  4",
          "CLAAR CELLARS, CLAAR CELLARS, L.L.C.:  2",
          "808 DISTILLERY, LLC:  2",
          "GEORGIAN HOUSE OF GREATER WASHINGTON, LLC:  2",
          "GEORGIAN HOUSE OF GREATER WASHINGTON, LLC:  7",
          "BERKSHIRE MOUNTAIN DISTILLERS, INC.:  1",
          "GRISTMILL DISTILLERS, INC.:  4",
          "GRISTMILL DISTILLERS, INC.:  1",
          "HERB LAMB VINEYARDS, HERB LAMB VINEYARDS LLC:  4",
          "FLORIDA DISTILLERS, CARIBBEAN DISTILLERS LLC:  8",
          "FLORIDA DISTILLERS, CARIBBEAN DISTILLERS LLC:  1",
          "GRAND CANYON BREWERY, CRUISERS ROUTE 66 CAFE, LLC:  1",
          "SOUTH COUNTY BREWING CO., LLC:  2",
          "TIMBER CREEK DISTILLING, TIMBER CREEK DISTILLING, LLC.:  2",
          "ZERO GRAVITY CRAFT BREWERY, ZG HOLDINGS, LLC:  2",
          "TIMBER RIDGE WINERY, LLC:  1",
          "SIERRA NEVADA BREWING CO.:  5",
          "MAINE DISTILLERIES, LLC:  2",
          "SWEET HOME CAROLINA VINEYARD AND WINERY, LLC:  4",
          "MISSOURI SPIRITS HOUSE, LLC:  2",
          "GUNDLACH BUNDSCHU WINERY, VINEBURG LLC:  3",
          "STOLLER FAMILY ESTATE, STOLLER VINEYARDS, INC.:  2",
          "HIGH WEST DISTILLERY, LLC:  3",
          "HIGH WEST DISTILLERY, LLC:  1",
          "ARTISTE MANAGEMENT CO., LLC:  6",
          "ONE VARIA LLC:  8",
          "MISSOULA WINERY, LLC:  1",
          "BAYWOOD CELLARS, BAYWOOD CELLARS, INC.:  5",
          "DEEP WOODS DISTILLERY LTD.:  1",
          "MCLAUGHLIN DISTILLERY, KIM K MCLAUGHLIN:  1",
          "10 BARREL BREWING COMPANY, 10 BARREL BREWING IDAHO, LLC:  2",
          "THE WINEMAKER'S SHOP, LLC:  2",
          "HDC WINE COMPANY, HDC WINE COMPANY LLC:  2",
          "RUSSELL B. GREGORY LLC:  1",
          "CELLA WINERY, L.L.C.:  2",
          "VANISH BREWING, BLACK HOPS FARM, LLC:  12",
          "THE BROOKLYN BREWERY, THE BROOKLYN BREWERY CORPORATION:  4",
          "SIX MILE BRIDGE BREWERY, THE SHERRING BREWING COMPANY LLC:  1",
          "COWGIRL WINERY, COWGIRL WINERY, LLC:  3",
          "HELL'S GATE DISTILLERY, J AND J FARM LLC:  3",
          "LITTLE CREEK WINERY, RIPPLE RIDGE VINEYARDS, LLC:  5",
          "BIG HILL WINERY & CIDERWORKS LLC:  1",
          "CAPE MAY BREWING COMPANY, CAPE MAY BREWING LIMITED LIABILITY COMPANY:  1",
          "THE BALTIMORE WHISKEY COMPANY, THE BALTIMORE WHISKEY COMPANY, LLC:  1",
          "JUDD'S HILL, FINKELSTEIN VINEYARDS:  1",
          "THE WOODEN EAGLE DISTILLERY, THE DAMPFWERK DISTILLERY CO:  2",
          "FOLKTALE WINERY, CULT OF 8:  7",
          "BLUE PANTS BREWERY LLC:  3",
          "BLUE PANTS BREWERY LLC:  2",
          "UNUM WINE CELLARS, LLC:  3",
          "MARQUETTE MAID, EAGLES LANDING WINERY LLC:  1",
          "ZIVELI, DOBRA VINA INC.:  2",
          "BADGER MOUNTAIN, INC.:  4",
          "MADRIGAL FAMILY WINERY LLC:  2",
          "SHAWNEE BLUFF WINERY, SHAWNEE BLUFF WINERY, LLC:  3",
          "ANGELO'S WINERY, ANGELO'S TAVERNA AND CARBOY WINERY LLC:  1",
          "WHITEHALL LANE WINERY, LEONARDINI FAMILY WINERY, LLC:  2",
          "SUAREZ FAMILY BREWERY, SUAREZ FAMILY LLC:  1",
          "KENDALL-JACKSON, JACKSON FAMILY WINES, INC.:  10",
          "WX Bottling, WINERY EXCHANGE, INC.:  3",
          "WATERSTONE WINERY, LLC:  8",
          "sole artisan ales, SUSQUEHANNA BREWING CO, LLC:  1",
          "RIDGE VINEYARDS, INC.:  4",
          "MEADOWLARK BREWING LLC:  2",
          "HENDRY WINERY, GEORGE O. HENDRY:  2",
          "S & S INDUSTRIES LLC:  2",
          "COWHORN VINEYARD & GARDEN, B & B ORGANICS, LLC:  2",
          "LEOPOLD BROS., ANN ARBOR BREWING COMPANY, L.L.C.:  3",
          "LEOPOLD BROS., ANN ARBOR BREWING COMPANY, L.L.C.:  6",
          "M2 VINTNERS, M2 VINTNERS, INCORPORATED:  4",
          "PANTHER DISTILLERY, LLC:  2",
          "KEUKA SPRING VINEYARDS, KEUKA SPRING VINEYARDS, LLC:  5",
          "DRY DOCK BREWING CO., DRY DOCK ENTERPRISES, INC.:  1",
          "RIVER'S EDGE BREWING COMPANY LLC:  1",
          "VIVACITY SPIRITS, VERACITY SPIRITS LLC:  1",
          "VOODOO BREWING CO., INC:  1",
          "GRGICH HILLS ESTATE, GRGICH HILLS CELLAR:  9",
          "YAMHILL VALLEY VINEYARDS, INC.:  2",
          "CALIPASO WINERY LLC:  5",
          "MERRIAM VINEYARDS, WINDACRE WEST, LLC:  1",
          "FETZER VINEYARDS:  3",
          "GORGET DISTILLING, GORGET DISTILLING CO.,:  4",
          "SOUTHERN TIER BREWING COMPANY, LLC:  4",
          "WATERMELON CREEK VINEYARD, WATERMELON CREEK VINEYARD, LLC:  1",
          "HANOVER DISTILLING COMPANY:  5",
          "THE ALE APOTHECARY, LLC:  1",
          "PACIFIC WINE SERVICES, PACIFIC WINE SERVICES, LLC:  6",
          "PACIFIC WINE SERVICES, PACIFIC WINE SERVICES, LLC:  2"
         ],
         "type": "scattergeo"
        }
       ],
       "layout": {
        "geo": {
         "countrycolor": "rgb(217, 217, 217)",
         "countrywidth": 0.5,
         "landcolor": "rgb(125, 125, 125)",
         "projection": {
          "type": "albers usa"
         },
         "scope": "usa",
         "showland": true,
         "subunitcolor": "rgb(217, 217, 217)",
         "subunitwidth": 0.5
        },
        "title": "Manufacturers using alpha"
       }
      },
      "text/html": [
       "<div id=\"0b29c5ec-b25b-4278-86c3-1c4be761ac22\" style=\"height: 525px; width: 100%;\" class=\"plotly-graph-div\"></div><script type=\"text/javascript\">require([\"plotly\"], function(Plotly) { window.PLOTLYENV=window.PLOTLYENV || {};window.PLOTLYENV.BASE_URL=\"https://plot.ly\";Plotly.newPlot(\"0b29c5ec-b25b-4278-86c3-1c4be761ac22\", [{\"type\": \"scattergeo\", \"locationmode\": \"USA-states\", \"name\": \"Locations\", \"lat\": [40.2763769, 40.2763769, 40.6369293, 45.267059, 45.2515229, 45.2515229, 38.2220226, 37.6642676, 40.7057895, 36.90563059999999, 39.113784, 44.9428926, 35.69956, 30.280047, 37.7256219, 47.5676354, 41.4740236, 39.9533889, 38.9717749, 38.105871, 38.650524, 35.8087141, 44.8442274, 37.7801683, 40.404099, 32.654689, 38.4360065, 38.4360065, 41.4395701, 38.5366485, 42.50398999999999, 41.2377324, 46.53825699999999, 38.6456653, 41.8776516, 38.93631269999999, 44.5049225, 42.9201128, 41.1890496, 45.5191382, 38.4791219, 38.9791301, 38.22036689999999, 45.30221969999999, 39.8756046, 33.729281, 38.4791219, 38.4446747, 44.8439878, 41.8816597, 37.9877476, 39.362696, 41.07566449999999, 38.311111, 38.311111, 39.25708940000001, 46.4575106, 40.9562235, 40.9562235, 46.1164327, 46.1164327, 46.1164327, 46.1164327, 40.7969701, 40.7969701, 35.106596, 35.106596, 35.106596, 41.0143481, 41.0143481, 42.559843, 34.6348903, 37.6376189, 37.6376189, 37.6376189, 37.6376189, 40.7059758, 38.6320194, 43.9521478, 45.327831, 33.3314137, 33.3314137, 38.022004, 42.118373, 42.0804754, 38.9891562, 38.9891562, 38.9891562, 38.9891562, 36.3351496, 36.1269429, 38.579063, 45.4599488, 45.057554, 38.2564221, 39.8503046, 47.7624159, 38.2261354, 29.7587571, 38.4668934, 43.103839, 40.6008518, 40.6008518, 38.20505259999999, 33.1158112, 33.1158112, 33.1158112, 33.1158112, 39.7234165, 47.1752005, 42.315363, 42.315363, 42.315363, 42.315363, 45.288894, 40.834592, 42.62095009999999, 40.6487126, 32.739475, 41.1858556, 37.654827, 40.6636453, 37.8294723, 35.7332574, 35.7332574, 35.6857048, 38.3540072, 38.5267277, 48.0113129, 45.5148875, 32.750091, 43.63791699999999, 39.8412, 37.6481072, 30.24697099999999, 43.762282, 42.5484908, 35.810418, 41.9421346, 35.897539, 38.5160066, 38.5160066, 38.6763622, 38.6763622, 38.6763622, 38.6763622, 39.900534, 41.762941, 41.7673962, 39.7260138, 41.4202749, 42.840599, 38.4554826, 37.7277727, 32.293601, 43.241521, 41.8870097, 40.6834987, 41.1224375, 31.32444, 32.7950904, 40.1272234, 40.1272234, 40.1272234, 40.1272234, 38.4290473, 38.5918819, 41.6755798, 39.2305071, 38.1505352, 47.560333, 47.560333, 33.342807, 35.5436073, 39.2718245, 42.980852, 45.84824099999999, 44.6399335, 44.52738859999999, 47.3865, 41.81215630000001, 38.974719, 38.850971, 42.7481, 40.9987734, 41.599166, 48.979829, 39.753793, 36.1929069, 38.4360065, 41.4497027, 40.0927251, 34.6875373, 43.9530249, 38.3487066, 34.1157552, 41.5076504, 43.0465346, 38.5154936, 43.441786, 33.4048717, 33.057619, 38.4242157, 42.4848974, 36.7836173, 37.7547503, 37.7547503, 37.7547503, 37.7547503, 36.7366002, 38.4961945, 38.82586190000001, 42.3858183, 26.1835563, 38.3618081, 38.2205044, 43.3075048, 43.3075048, 43.3075048, 43.3075048, 36.378174, 38.2726597, 33.7480032, 44.922611, 29.5692359, 29.5692359, 29.5692359, 29.5692359, 42.2667135, 38.4546356, 41.23809019999999, 39.76740400000001, 37.151443, 38.5731152, 46.20959089999999, 35.1899215, 40.1624473, 42.7234246, 42.7234246, 42.7234246, 42.7234246, 34.1089328, 42.65621, 36.2196613, 38.6456653, 38.7176467, 38.7176467, 30.2257728, 38.77909100000001, 38.5184676, 38.5767118, 45.3852286, 37.0603809, 32.7105583, 46.233944, 38.9721865, 45.4140952, 38.2685619, 30.7087383, 41.3021439, 41.3021439, 41.263609, 45.267059, 46.1157214, 46.1157214, 30.1550912, 38.660742, 33.54718, 38.883052, 42.45594699999999, 33.1109393, 35.6741448, 35.2392805, 35.2392805, 46.47760299999999, 39.6531949, 33.45606300000001, 33.45606300000001, 38.44573099999999, 44.249827, 44.249827, 38.3618081, 28.0522606, 28.0522606, 38.2562954, 39.9941, 30.8337164, 39.943961, 41.1620592, 39.724193, 33.408941, 36.1374441, 29.48184299999999, 38.2785715, 45.2414301, 40.7692299, 40.7692299, 34.58593, 42.3651616, 46.9248211, 35.6301402, 30.7152772, 40.5532474, 43.617859, 39.7661085, 27.7708353, 43.0821747, 35.440101, 39.2233495, 40.721645, 38.7148, 36.403642, 44.7620365, 38.0179666, 40.014792, 39.00087329999999, 39.319486, 38.3372896, 44.9334328, 36.5287482, 30.8396378, 30.8396378, 38.4627304, 42.4502431, 36.820358, 46.2128429, 38.555327, 38.18499, 39.5919979, 38.4776937, 40.0395565, 38.519045, 38.2493358, 30.2199405, 38.4430537, 37.305274, 44.6666751, 38.3195786, 47.5202699, 32.8179162, 39.792734, 39.792734, 38.1875123, 47.6141922, 35.5637944, 39.65265249999999, 44.80371, 44.6283053, 38.660742, 38.4653981, 45.148796, 35.6633445, 38.5749064, 35.242175, 39.6644067, 42.0871398, 31.9403676, 39.785887, 34.0590775, 35.6605906, 35.6605906], \"lon\": [-74.796004, -74.796004, -74.075816, -123.019978, -123.0498988, -123.0498988, -122.2707909, -121.7253659, -74.0071687, -86.6736873, -122.820126, -85.7548909, -96.6624954, -97.70238649999999, -80.6339675, -122.3354681, -81.5650184, -75.1451613, -95.2356542, -122.6447656, -122.911949, -78.6211297, -123.2293415, -122.4119061, -79.870272, -116.488217, -122.8698501, -122.8698501, -76.7464602, -122.8053558, -76.717799, -81.9732521, -92.513981, -122.9078679, -88.72518889999999, -77.6296108, -98.9886864, -75.8633437, -96.081346, -122.6511493, -122.616009, -123.0979299, -122.2288018, -123.0745463, -86.0828565, -84.55833919999999, -122.616009, -122.4084054, -93.7447929, -87.6258493, -121.0439342, -77.42645399999999, -100.6397371, -122.276027, -122.276027, -123.2374667, -120.2408034, -72.7530943, -72.7530943, -122.9390233, -122.9390233, -122.9390233, -122.9390233, -75.2130236, -75.2130236, -114.2105121, -114.2105121, -114.2105121, -72.5325142, -72.5325142, -94.146148, -111.9340992, -120.9821437, -120.9821437, -120.9821437, -120.9821437, -74.0113527, -90.80290219999999, -90.55640400000001, -84.9615896, -105.6699332, -105.6699332, -120.479838, -123.550604, -90.68512199999999, -76.3195616, -76.3195616, -76.3195616, -76.3195616, -94.2207871, -115.1934459, -122.7743509, -98.42810860000002, -123.0856069, -85.75864659999999, -89.2417779, -122.1499485, -122.3783983, -95.36369239999999, -122.3768767, -75.24332799999999, -81.2124448, -81.2124448, -121.2970729, -117.1200116, -117.1200116, -117.1200116, -117.1200116, -105.016385, -119.8543229, -123.240237, -123.240237, -123.240237, -123.240237, -123.046728, -84.3096219, -75.188936, -122.2209222, -117.1255158, -73.14242, -121.699076, -81.55309539999999, -122.3704411, -120.5814147, -120.5814147, -120.6526845, -122.3350044, -122.3180978, -122.54199, -122.9696895, -97.32580899999999, -72.397789, -76.902693, -85.34945429999999, -98.0556639, -87.78544, -76.6551334, -78.61792299999999, -87.7080421, -86.97563099999999, -122.458787, -122.458787, -122.862232, -122.862232, -122.862232, -122.862232, -76.34009999999999, -88.545363, -72.6779776, -76.9218905, -73.2821981, -78.815945, -122.4180526, -78.91330479999999, -109.87498, -123.397627, -87.6723821, -74.00454110000001, -80.3353608, -89.3304, -96.4736693, -83.0093495, -83.0093495, -83.0093495, -83.0093495, -122.3903162, -122.601829, -87.9975948, -95.4793965, -85.96853569999999, -122.3377055, -122.3377055, -117.204537, -120.8247002, -121.0120726, -72.3645569, -122.560199, -72.8268434, -72.61741789999999, -122.111088, -80.87755179999999, -123.0834925, -77.68683899999999, -84.449432, -74.2974519, -87.8339012, -122.697667, -104.9884662, -105.8612769, -122.8698501, -96.02698509999999, -88.16351619999999, -120.3685954, -123.275387, -122.2828528, -117.2530164, -90.5191177, -77.0970509, -122.4109602, -72.654038, -111.830165, -116.818681, -122.8484378, -77.1387264, -78.1713529, -122.3897798, -122.3897798, -122.3897798, -122.3897798, -121.3691394, -122.8270995, -120.8091336, -87.9914807, -80.155391, -122.3121571, -84.3424916, -96.5063953, -96.5063953, -96.5063953, -96.5063953, -121.3431324, -122.6618868, -93.56540079999999, -92.575915, -98.3107588, -98.3107588, -98.3107588, -98.3107588, -84.9635125, -77.91309319999999, -81.8594918, -86.0723469, -96.922371, -121.4810826, -119.1172081, -120.5824459, -105.1001316, -76.9758532, -76.9758532, -76.9758532, -76.9758532, -117.6907225, -74.511139, -88.2111336, -122.9078679, -91.3206924, -91.3206924, -97.9474091, -104.861259, -120.8222519, -121.487744, -122.9492007, -78.89569949999999, -117.1536284, -119.677575, -94.7224756, -122.5715216, -122.3479151, -84.8905623, -72.9244908, -72.9244908, -70.131438, -123.019978, -122.916533, -122.916533, -84.20208500000001, -90.3949219, -117.044756, -77.92403999999999, -79.271061, -90.27514819999999, -120.6444759, -120.6078811, -120.6078811, -119.238146, -106.8394299, -86.849678, -86.849678, -78.86911599999999, -73.801648, -73.801648, -122.3121571, -81.7992659, -81.7992659, -85.7546019, -74.7838, -86.43189389999999, -75.15422699999999, -81.4867616, -121.8153557, -91.03735999999999, -80.5850632, -82.8649866, -122.4209597, -123.0699526, -73.9647396, -73.9647396, -120.101133, -89.0292391, -114.0740612, -77.92568279999999, -90.5104008, -80.12046289999999, -116.202689, -104.9647155, -82.751854, -83.4212703, -113.873076, -77.5376153, -73.957258, -90.432778, -121.658011, -73.1104273, -87.6727727, -77.235714, -74.91098579999999, -76.6259025, -122.2818858, -93.36006630000001, -121.8205144, -81.57562829999999, -81.57562829999999, -122.3709214, -73.2538426, -120.013276, -119.2864613, -122.519499, -92.637952, -105.023368, -122.4380036, -74.2236186, -122.798528, -122.4981057, -95.87286089999999, -78.8727396, -122.128553, -90.1737424, -122.3440621, -120.50277, -116.9838606, -104.8624509, -104.8624509, -121.2811864, -122.3275885, -89.6485744, -104.8124366, -68.7656982, -123.2344958, -90.3949219, -122.4289932, -123.287178, -120.6687053, -122.8328263, -119.1098258, -104.890231, -79.3480026, -82.0221766, -76.96667599999999, -77.89968650000002, -120.6515737, -120.6515737], \"text\": [\"RIVER HORSE BREWING COMPANY, RHB ACQUISITION LLC:  2\", \"RIVER HORSE BREWING COMPANY, RHB ACQUISITION LLC:  4\", \"The Flag Ship Brewing Company, GORDON JAMES LLC:  2\", \"Day Wines, DAY CRUSH, LLC:  1\", \"SOKOL BLOSSER WINERY, SOKOL BLOSSER LTD:  11\", \"SOKOL BLOSSER WINERY, SOKOL BLOSSER LTD:  1\", \"1-800-WINESHOP, 1-800-WINESHOP.COM, INC.:  5\", \"WENTE BROS.:  1\", \"ROYAL SPRING BRANCH DISTILLERY, DW ADAMS DISTILLING, LLC:  1\", \"BDP BREWING COMPANY:  8\", \"NICE WINE COMPANY, INC.:  6\", \"FRENCH ROAD CELLARS, LLC:  12\", \"DELICATO VINEYARDS:  1\", \"DELICATO NAPA BOTTLING, DELICATO VINEYARDS:  1\", \"VAN RUITEN FAMILY WINERY, VAN RUITEN FAMILY WINERY LLC:  4\", \"KERLOO CELLARS, R 2 PRODUCTIONS LLC:  1\", \"MERCER WINE ESTATES, MERCER WINE ESTATES, LLC:  1\", \"ROY-PITZ BREWING CO., LLC:  6\", \"FREE STATE BREWERY, FREE STATE BREWING CO., INC.:  3\", \"NAYLOR WINE CELLARS, INC.:  2\", \"MAURITSON FAMILY WINERY:  2\", \"PINE TOP DISTILLERY LLC:  1\", \"EOLA HILLS WINE CELLARS, EOLA HILLS WINE CELLARS, INC.:  7\", \"BRAXTON BREWING COMPANY, LLC:  31\", \"THE BREW GENTLEMEN BEER COMPANY, THE BREW GENTLEMEN BEER COMPANY:  5\", \"WESTFALL WINERY, RICHARD WESTFALL AND DONNA WESTFALL:  7\", \"SONOMA WINE COMPANY, SONOMA WINE COMPANY, LLC:  1\", \"SONOMA WINE COMPANY, SONOMA WINE COMPANY, LLC:  1\", \"PAPPY JACK'S WINERY LLC:  7\", \"FIREBALL FARM & CIDERS, LLC:  6\", \"SOUTH HILL CIDER LLC:  14\", \"BONOBO WINERY, OV THE FARM, LLC:  15\", \"BLACKHOOF ESTATE WINERY, LLC:  12\", \"MATTHEW CHRISTOPHER VILLARD:  2\", \"WHISKEY ACRES DISTILLING CO.:  4\", \"SOUTH MOUNTAIN WINERY, BRUCE NED FREEMAN:  2\", \"PERNOD RICARD USA, PERNOD RICARD USA BOTTLING, LLC:  2\", \"EMPIRE FARMSTEAD BREWERY, INC.:  7\", \"NEBRASKA BREWING CO.:  1\", \"RAM CELLARS, LLC:  6\", \"SONOMA ESTATE VINTNERS, LLC:  1\", \"CAMPOVIDA, CAMPOVIDA WINES, LLC:  13\", \"JAMIESON RANCH VINEYARDS, MADISON VINEYARD HOLDINGS, LLC:  1\", \"ALEXANA WINERY, REVANA FAMILY PARTNERS, L.P.:  2\", \"THE BIER BREWERY AND TAPROOM, SOUTH BROAD RIPPLE BREWING COMPANY, LLC:  3\", \"LAKE PLACID SPIRITS, LLC:  2\", \"A W DIRECT, LLC:  21\", \"ATLAS WINE COMPANY, ATLAS WINE COMPANY, LLC:  1\", \"SCHRAM VINEYARDS, SCHRAM WINERY, LLC:  6\", \"BADERBRAU BREWING, BADERBRAU LLC:  14\", \"MIRAMONT ESTATE VINEYARD & WINERY, MIRAMONT ESTATE VINEYARDS & WINERY INC:  1\", \"FLYING DOG BREWERY, FLYING DOG BREWERY, LLLP:  1\", \"FEATHER RIVER VINEYARDS, L.L.C.:  2\", \"RUTHERFORD WINE COMPANY, ROUND HILL CELLARS:  7\", \"RUTHERFORD WINE COMPANY, ROUND HILL CELLARS:  2\", \"AMERICAN CRAFT WHISKEY DISTILLERY, TAMAR DISTILLERY, INC.:  1\", \"SILVER LAKE AT ROZA HILLS, WASHINGTON WINE & BEVERAGE CO.:  3\", \"LONG ISLAND SPIRITS, INC.:  1\", \"LONG ISLAND SPIRITS, INC.:  2\", \"PLATA WINE PARTNERS, LLC:  2\", \"PLATA WINE PARTNERS, LLC:  2\", \"PLATA WINE PARTNERS, LLC:  2\", \"PLATA WINE PARTNERS, LLC:  2\", \"FRANKLIN HILL VINEYARDS, FRANKLIN HILL VINEYARDS, INC.:  1\", \"FRANKLIN HILL VINEYARDS, FRANKLIN HILL VINEYARDS, INC.:  1\", \"FIRESTONE WALKER LLC:  2\", \"FIRESTONE WALKER LLC:  3\", \"FIRESTONE WALKER LLC:  9\", \"SHINN ESTATE VINEYARDS, SHINN WINERY, LLC:  2\", \"SHINN ESTATE VINEYARDS, SHINN WINERY, LLC:  7\", \"SOLDIER CREEK WINERY, LLC:  12\", \"ARIZONA STRONGHOLD VINEYARDS, LLC:  19\", \"E. & J. GALLO WINERY:  2\", \"E. & J. GALLO WINERY:  2\", \"E. & J. GALLO WINERY:  2\", \"E. & J. GALLO WINERY:  2\", \"NEVERSINK SPIRITS, THE FOOD CYCLE DISTILLERY, LLC.:  1\", \"CHANDLER HILL VINEYARDS, CHANDLER HILL VINEYARDS, LLC:  4\", \"SAN JOAQUIN WINE CO., SAN JOAQUIN WINE COMPANY INC.:  1\", \"MACKINAW TRAIL WINERY, INC.:  1\", \"NOISY WATER ART WEAR, INC.:  2\", \"NOISY WATER ART WEAR, INC.:  1\", \"VILLA VALLECITO VINEYARDS, VILLA VALLECITO VINEYARDS, INC.:  2\", \"FORIS VINEYARDS WINERY, FORIS VINEYARDS WINERY LLC:  1\", \"IOWA GRAPE VINES WINERY, LLC:  1\", \"BLACKWATER DISTILLING, INC.:  1\", \"BLACKWATER DISTILLING, INC.:  1\", \"BLACKWATER DISTILLING, INC.:  1\", \"BLACKWATER DISTILLING, INC.:  1\", \"WILDROSE VINEYARDS, R. LAWSON ENTERPRISES, LLC:  4\", \"SMITH-MADRONE VINEYARDS, COOK'S FLAT ASSOCIATES, LP STUART SMITH, GP:  2\", \"TRINITE WINERY, GONZAGUE & CLAIRE LURTON VINEYARDS, INC.:  1\", \"VINO AQUINO, VINO AQUINO TACOMA, INC.:  2\", \"STANGELAND WINERY, L.D. MILLER ENTERPRISES, INC.:  2\", \"BREWERY BECKER, BRAUEREI BECKER LLC:  1\", \"REINSTONE BREWERY, INC.:  1\", \"COVINGTON CELLARS, COVINGTON CELLARS, LLC:  1\", \"CARNEROS HILLS WINERY, JACKSON FAMILY WINES, INC.:  2\", \"THE GENTLEMAN, BUCHANAN MACKLEY INCORPORATED:  5\", \"PINA CELLARS, PINA CELLARS LP:  6\", \"MOHAWK VALLEY WINERY INC.:  10\", \"TNT WINERY LLC:  2\", \"TNT WINERY LLC:  2\", \"LANGETWINS WINE ESTATES, LANGETWINS WINE COMPANY, INC.:  2\", \"STONE BREWING CO., KOOCHENVAGNER'S BREWING CO.:  10\", \"STONE BREWING CO., KOOCHENVAGNER'S BREWING CO.:  10\", \"STONE BREWING CO., KOOCHENVAGNER'S BREWING CO.:  10\", \"STONE BREWING CO., KOOCHENVAGNER'S BREWING CO.:  10\", \"SLEEPING GIANT BREWING COMPANY, LLC:  1\", \"ANDALUSIA WHISKEY CO., BLANCO VALLEY DISTILLERS, LLC:  2\", \"SCHMIDT FAMILY VINEYARDS, CALVIN GALE SCHMIDT:  6\", \"SCHMIDT FAMILY VINEYARDS, CALVIN GALE SCHMIDT:  10\", \"SCHMIDT FAMILY VINEYARDS, CALVIN GALE SCHMIDT:  6\", \"SCHMIDT FAMILY VINEYARDS, CALVIN GALE SCHMIDT:  10\", \"TORII MOR WINERY, TORII MOR WINERY, L.L.C.:  2\", \"JUBILEE WINERY, JUBILEE WINERY LLC:  1\", \"EPOCHALYPSE BREWING, BUTTERNUTS BEER AND ALE, LLC:  4\", \"ROCKY'S RIDGE VINEYARD, ROCKY'S RIDGE VINEYARD,LLC:  1\", \"THORN ST BREWERY, BIG HOP LLC:  1\", \"NOTCH BREWING COMPANY, NOTCH BREWING, LLC:  1\", \"WOOD FAMILY VINEYARDS, RHONDA RENE'WOOD & MICHAEL JAMES WOOD:  1\", \"MCALPINE MEADERY LLC:  2\", \"TERRELL WINES, CHRISTOPHER JAMES TERRELL:  9\", \"CASTORO CELLARS:  4\", \"CASTORO CELLARS:  10\", \"VIA VEGA WINERY, LAWRENCE ANDREW CELLARS:  2\", \"WHETSTONE WINE CELLARS, WHETSTONE WINE CELLARS, LLC:  2\", \"RUSTRIDGE WINERY, RUSTRIDGE WINERY, INC.:  1\", \"KAYAK SPIRITS DISTILLERY LLC:  1\", \"12TH & MAPLE WINE COMPANY, CORUS ESTATES & VINEYARDS, LLC:  2\", \"THE ACRE DISTILLING CO., ACRE DISTILLING COMPANY, LLC:  6\", \"VERMONT SPIRITS DISTILLING COMPANY:  4\", \"THUNDER RIDGE VINEYARDS, LLC:  5\", \"MAKER'S MARK DISTILLERY, INC.:  1\", \"TREATY OAK DISTILLING CO., GRAHAM BARNES DISTILLING INC:  2\", \"BLIND HORSE WINERY, LLC:  2\", \"BLACK DIAMONDFARM, LLC:  1\", \"BIG BOSS BREWING, EBC BREWERY, LLC:  3\", \"REVOLUTION BEER LLC:  7\", \"LEIPER'S FORK DISTILLERY, LLC:  1\", \"MEADOWOOD ASSOCIATES, MEADOWOOD ASSOCIATES, A LIMITED PARTNERSHIP, PACIFIC UNION MEADOWOOD PARTNERS,:  1\", \"MEADOWOOD ASSOCIATES, MEADOWOOD ASSOCIATES, A LIMITED PARTNERSHIP, PACIFIC UNION MEADOWOOD PARTNERS,:  6\", \"VTPR, VTPR, INC.:  1\", \"VTPR, VTPR, INC.:  3\", \"VTPR, VTPR, INC.:  1\", \"VTPR, VTPR, INC.:  3\", \"SURLY PENGUIN, SURLY PENGUIN LLC:  20\", \"AYLOR INC.:  1\", \"ASYLUM DISTILLERY, SOUTHAMPTON PARTNERS LLC:  14\", \"CAVA WINERY AND VINEYARD, CAVA WINERY AND VINEYARD INC:  4\", \"MYSTO MEAD LLC:  7\", \"DUELING GROUNDS DISTILLERY LLC:  1\", \"PEJU FAMILY WINERY, PEJU FAMILY OPERATING PARTNERSHIP, LP:  11\", \"LOVINGSTON WINERY LLC:  1\", \"PASSION CELLARS, PASSION CELLARS, LLC:  18\", \"the garden shed, UMPQUA WINE SERVICES AND STORAGE CORP:  3\", \"GOOSE ISLAND BEER COMPANY, FULTON STREET BREWERY, LLC:  3\", \"MCCLINTOCK DISTILLING, MCCLINTOCK DISTILLING LLC.:  1\", \"GARDINER LIQUID MERCANTILE, LLC:  8\", \"JAMES RIVER DISTILLERY, LLC:  1\", \"TRINITAS CELLARS, TRINITAS CELLARS, LLC:  2\", \"UNCORKED WINES, INVEIGLE, LLC:  4\", \"UNCORKED WINES, INVEIGLE, LLC:  2\", \"UNCORKED WINES, INVEIGLE, LLC:  4\", \"UNCORKED WINES, INVEIGLE, LLC:  2\", \"CARDINALE WINERY, JACKSON FAMILY WINES, INC.:  3\", \"KRILL FAMILY VINEYARDS, KRILL FAMILY VINEYARDS, LLC:  2\", \"POLLYANNA BREWING COMPANY:  1\", \"CROOKED POST WINERY, CROOKED POST WINERY, LLC:  1\", \"BEST VINEYARDS, BEST VINEYARDS, LLC:  2\", \"TWO BEERS BREWING COMPANY, TWO BEERS BREWING COMPANY LLC:  3\", \"TWO BEERS BREWING COMPANY, TWO BEERS BREWING COMPANY LLC:  1\", \"PREMIUM VINTNERS, LLC:  1\", \"EPOCH ESTATE WINES, ARMSTRONG VINEYARDS, INC.:  2\", \"SWEETBRIAR VINEYARD AND WINERY, MICHAEL LORENZ MACKENTHUN:  1\", \"SUMMIT WINERY LLC:  4\", \"DOLIO WINERY & VINEYARD, DOLIO WINERY LLC:  2\", \"SMUGGLERS' NOTCH DISTILLERY, LLC:  1\", \"GREEN MOUNTAIN DISTILLERS, LLC:  2\", \"SOOS CREEK WINE CELLARS, SOOS CREEK WINE CELLARS, LLC:  2\", \"THE WINERY AT SPRING HILL, THE WINERY AT SPRING HILL, INC.:  1\", \"BRUTOCAO CELLARS, BRUTOCAO FAMILY ENTERPRISES, LLC, GP, BRUTOCAO MANAGEMENT, LLC, GP:  2\", \"WINERY AT LA GRANGE, PWC WINERY, LLC:  1\", \"RED CEDAR SPIRITS, WORKING BUGS, LLC:  1\", \"CITRUS DISTILLERS, CITRUS DISTILLERS, LLC:  1\", \"BODACIOUS BERRIES, FRUITS AND BREWS, BODACIOUS BERRIES, FRUITS AND BREWS:  3\", \"ATWOOD ALES, SMITHINGTON ENTERPRISES LLC:  16\", \"GREAT DIVIDE BREWING COMPANY:  1\", \"VIVAC WINERY, CHRIS PADBERG & JESSE PADBERG:  3\", \"PURPLE WINE AND SPIRITS, PURPLE WINE COMPANY, LLC:  7\", \"FUGA WINERY LLC:  1\", \"RIGGS BEER COMPANY:  10\", \"LOUBUD WINES, LOUBUD WINES L.L.C.:  1\", \"SWEET CHEEKS VINEYARDS, INC.:  3\", \"RAZI'S WINERY, LLC:  2\", \"LEDSON VINEYARDS AND WINERY, STEVE NOBLE LEDSON:  1\", \"RIVER'S EDGE WINERY, MICHAEL L. & YVONNE LANDT LLC:  2\", \"JACKIE O'S PUB AND BREWERY, ZOD LLC:  1\", \"GHOST HORSE VINEYARDS, LLC:  2\", \"BROOK FARM VINEYARDS, BROOK FARM VINEYARDS LLC:  8\", \"AH WINES, INC.:  39\", \"RAMONA RANCH WINERY, RAMONA RANCH WINERY, LLC:  1\", \"GUARACHI FAMILY WINES, TRIUMPH BEVERAGE COMPANY, LLC:  2\", \"DOMAINE LESEURRE, LLC:  6\", \"KOSICEK VINEYARDS, KOSICEK FARMSLLC:  2\", \"ROAR WINES, GARY FRANSCIONI, INC.:  3\", \"ROAR WINES, GARY FRANSCIONI, INC.:  1\", \"ROAR WINES, GARY FRANSCIONI, INC.:  3\", \"ROAR WINES, GARY FRANSCIONI, INC.:  1\", \"CALERA WINE COMPANY, CALERA WINE COMPANY:  3\", \"SONOMA-CUTRER VINEYARDS, SONOMA-CUTRER VINEYARDS, INC.:  1\", \"ROME VALLEY VINEYARDS, BJ ROME:  3\", \"SONGBIRD CELLARS LLC:  1\", \"COASTAL BAY BEVERAGE COMPANY LLC:  2\", \"TRUJILLO WINE, TRUJILLO WINE, LLC:  1\", \"TEXAS CUSTOM WINE WORKS, TEXAS CUSTOM WINE WORKS, LLC:  18\", \"CALICO SKIES VINEYARD AND WINERY, CALICO SKIES VINEYARD AND WINERY, INC.:  2\", \"CALICO SKIES VINEYARD AND WINERY, CALICO SKIES VINEYARD AND WINERY, INC.:  1\", \"CALICO SKIES VINEYARD AND WINERY, CALICO SKIES VINEYARD AND WINERY, INC.:  2\", \"CALICO SKIES VINEYARD AND WINERY, CALICO SKIES VINEYARD AND WINERY, INC.:  1\", \"PARAISO SPRINGS VINEYARDS, RICHARD & CLAUDIA SMITH TRUSTEE OF THE RICHARD R. SMITHFAMILY TRUST:  1\", \"THE LAGUNITAS BREWING COMPANY:  1\", \"LAZY HORSE BREWING, STUTZMAN ENTERPRISES, L.L.C.:  2\", \"SIXTY-FIVE VINES, LLC:  10\", \"Tucker Hill Vineyards Inc.:  1\", \"Tucker Hill Vineyards Inc.:  1\", \"Tucker Hill Vineyards Inc.:  1\", \"Tucker Hill Vineyards Inc.:  1\", \"THE DARKHORSE BREWING COMPANY, MOR-DALL ENTERPRISES, INC.:  1\", \"OLD HOUSE VINEYARDS, OLD HOUSE VINEYARDS, LLC:  1\", \"LOPEZ ISLAND BREWING COMPANY:  1\", \"BLACK ACRE BREWING COMPANY, LLC:  1\", \"WHEAT STATE WINE CO., LLC:  1\", \"RUBICON BREWING COMPANY, STRAYHAN INVESTMENTS INC.:  3\", \"RIVERSANDS DISTILLERY, LAKE SPOKANE DEVELOPMENT, INC.:  4\", \"SINOR-LAVALLEE, VALOR WINE CO., LLC:  4\", \"WIBBY BREWING, RISKY WIBBY LLC:  1\", \"RED TAIL RIDGE WINERY, RED TAIL RIDGE, INC.:  3\", \"RED TAIL RIDGE WINERY, RED TAIL RIDGE, INC.:  3\", \"RED TAIL RIDGE WINERY, RED TAIL RIDGE, INC.:  3\", \"RED TAIL RIDGE WINERY, RED TAIL RIDGE, INC.:  3\", \"DALE BROS. BREWERY, DALE BROS. BREWERY, INC.:  6\", \"ROYAL MEADERY LLC:  4\", \"PARIS WINERY, PARIS WINERY, INC.:  2\", \"SEVEN OXEN WINERY, KILER CANYON LLC:  11\", \"LOST CREEK VINEYARD, LOST CREEK VINEYARD, LLC:  1\", \"LOST CREEK VINEYARD, LOST CREEK VINEYARD, LLC:  1\", \"HYE MEADOWS WINERY, HYE MEADOW WINERY, LLC:  6\", \"TOPPLING GOLIATH BREWING CO., TOPPLING GOLIATH, INC.:  1\", \"SCOTT HARVEY WINES, CREATIVE WINE CONCEPTS, INC.:  1\", \"MISSION BREWERY, MISSION BREWERY, INC.:  5\", \"RAPTOR RIDGE, RAPTOR RIDGE WINERY, L.L.C.:  1\", \"SANS SOUCY VINEYARDS, SANS SOUCY VINEYARDS, L.L.C.:  2\", \"WEST O BEER, LLC:  4\", \"RIVERAERIE CELLARS, RIVERAERIE CELLARS, L.L.C.:  1\", \"UNION HORSE DISTILLING COMPANY, LLC:  1\", \"PORTLAND CIDER COMPANY LLC:  1\", \"ONE HOPE WINES, HOPE WINE, LLC:  2\", \"ELEVATION DISTILLING, LLC:  2\", \"THREE TAVERNS CRAFT BREWERY, LLC:  17\", \"THREE TAVERNS CRAFT BREWERY, LLC:  1\", \"NANTUCKET VINEYARD, NANTUCKET VINEYARD, LLC:  1\", \"DAY WINES, DAY CRUSH, LLC:  3\", \"FABRIZIA SPIRITS, LLC:  1\", \"FABRIZIA SPIRITS, LLC:  2\", \"BLOOM BREW, BLOOM-DENK ENTERPRISES LLC:  12\", \"VOODOO BREWING COMPANY, LLC:  4\", \"WILSON CREEK WINERY & VINEYARDS, WILSON CREEK WINERY & VINEYARDS, INC.:  2\", \"MIRACLE VALLEY VINEYARD, MIRACLE VALLEY VINEYARD, LLC:  2\", \"WOODBURY VINEYARDS, WOODBURY VINEYARDS, INC.:  2\", \"E2 FAMILY WINERY, HERMAN EHLERS & SONS, INC.:  1\", \"VISTA CREEK CELLARS, VISTA CREEK CELLARS, LLC:  2\", \"ORCUTT ROAD CELLARS, PARAGON VINEYARD CO., INC.:  2\", \"ORCUTT ROAD CELLARS, PARAGON VINEYARD CO., INC.:  4\", \"CLAAR CELLARS, CLAAR CELLARS, L.L.C.:  2\", \"808 DISTILLERY, LLC:  2\", \"GEORGIAN HOUSE OF GREATER WASHINGTON, LLC:  2\", \"GEORGIAN HOUSE OF GREATER WASHINGTON, LLC:  7\", \"BERKSHIRE MOUNTAIN DISTILLERS, INC.:  1\", \"GRISTMILL DISTILLERS, INC.:  4\", \"GRISTMILL DISTILLERS, INC.:  1\", \"HERB LAMB VINEYARDS, HERB LAMB VINEYARDS LLC:  4\", \"FLORIDA DISTILLERS, CARIBBEAN DISTILLERS LLC:  8\", \"FLORIDA DISTILLERS, CARIBBEAN DISTILLERS LLC:  1\", \"GRAND CANYON BREWERY, CRUISERS ROUTE 66 CAFE, LLC:  1\", \"SOUTH COUNTY BREWING CO., LLC:  2\", \"TIMBER CREEK DISTILLING, TIMBER CREEK DISTILLING, LLC.:  2\", \"ZERO GRAVITY CRAFT BREWERY, ZG HOLDINGS, LLC:  2\", \"TIMBER RIDGE WINERY, LLC:  1\", \"SIERRA NEVADA BREWING CO.:  5\", \"MAINE DISTILLERIES, LLC:  2\", \"SWEET HOME CAROLINA VINEYARD AND WINERY, LLC:  4\", \"MISSOURI SPIRITS HOUSE, LLC:  2\", \"GUNDLACH BUNDSCHU WINERY, VINEBURG LLC:  3\", \"STOLLER FAMILY ESTATE, STOLLER VINEYARDS, INC.:  2\", \"HIGH WEST DISTILLERY, LLC:  3\", \"HIGH WEST DISTILLERY, LLC:  1\", \"ARTISTE MANAGEMENT CO., LLC:  6\", \"ONE VARIA LLC:  8\", \"MISSOULA WINERY, LLC:  1\", \"BAYWOOD CELLARS, BAYWOOD CELLARS, INC.:  5\", \"DEEP WOODS DISTILLERY LTD.:  1\", \"MCLAUGHLIN DISTILLERY, KIM K MCLAUGHLIN:  1\", \"10 BARREL BREWING COMPANY, 10 BARREL BREWING IDAHO, LLC:  2\", \"THE WINEMAKER'S SHOP, LLC:  2\", \"HDC WINE COMPANY, HDC WINE COMPANY LLC:  2\", \"RUSSELL B. GREGORY LLC:  1\", \"CELLA WINERY, L.L.C.:  2\", \"VANISH BREWING, BLACK HOPS FARM, LLC:  12\", \"THE BROOKLYN BREWERY, THE BROOKLYN BREWERY CORPORATION:  4\", \"SIX MILE BRIDGE BREWERY, THE SHERRING BREWING COMPANY LLC:  1\", \"COWGIRL WINERY, COWGIRL WINERY, LLC:  3\", \"HELL'S GATE DISTILLERY, J AND J FARM LLC:  3\", \"LITTLE CREEK WINERY, RIPPLE RIDGE VINEYARDS, LLC:  5\", \"BIG HILL WINERY & CIDERWORKS LLC:  1\", \"CAPE MAY BREWING COMPANY, CAPE MAY BREWING LIMITED LIABILITY COMPANY:  1\", \"THE BALTIMORE WHISKEY COMPANY, THE BALTIMORE WHISKEY COMPANY, LLC:  1\", \"JUDD'S HILL, FINKELSTEIN VINEYARDS:  1\", \"THE WOODEN EAGLE DISTILLERY, THE DAMPFWERK DISTILLERY CO:  2\", \"FOLKTALE WINERY, CULT OF 8:  7\", \"BLUE PANTS BREWERY LLC:  3\", \"BLUE PANTS BREWERY LLC:  2\", \"UNUM WINE CELLARS, LLC:  3\", \"MARQUETTE MAID, EAGLES LANDING WINERY LLC:  1\", \"ZIVELI, DOBRA VINA INC.:  2\", \"BADGER MOUNTAIN, INC.:  4\", \"MADRIGAL FAMILY WINERY LLC:  2\", \"SHAWNEE BLUFF WINERY, SHAWNEE BLUFF WINERY, LLC:  3\", \"ANGELO'S WINERY, ANGELO'S TAVERNA AND CARBOY WINERY LLC:  1\", \"WHITEHALL LANE WINERY, LEONARDINI FAMILY WINERY, LLC:  2\", \"SUAREZ FAMILY BREWERY, SUAREZ FAMILY LLC:  1\", \"KENDALL-JACKSON, JACKSON FAMILY WINES, INC.:  10\", \"WX Bottling, WINERY EXCHANGE, INC.:  3\", \"WATERSTONE WINERY, LLC:  8\", \"sole artisan ales, SUSQUEHANNA BREWING CO, LLC:  1\", \"RIDGE VINEYARDS, INC.:  4\", \"MEADOWLARK BREWING LLC:  2\", \"HENDRY WINERY, GEORGE O. HENDRY:  2\", \"S & S INDUSTRIES LLC:  2\", \"COWHORN VINEYARD & GARDEN, B & B ORGANICS, LLC:  2\", \"LEOPOLD BROS., ANN ARBOR BREWING COMPANY, L.L.C.:  3\", \"LEOPOLD BROS., ANN ARBOR BREWING COMPANY, L.L.C.:  6\", \"M2 VINTNERS, M2 VINTNERS, INCORPORATED:  4\", \"PANTHER DISTILLERY, LLC:  2\", \"KEUKA SPRING VINEYARDS, KEUKA SPRING VINEYARDS, LLC:  5\", \"DRY DOCK BREWING CO., DRY DOCK ENTERPRISES, INC.:  1\", \"RIVER'S EDGE BREWING COMPANY LLC:  1\", \"VIVACITY SPIRITS, VERACITY SPIRITS LLC:  1\", \"VOODOO BREWING CO., INC:  1\", \"GRGICH HILLS ESTATE, GRGICH HILLS CELLAR:  9\", \"YAMHILL VALLEY VINEYARDS, INC.:  2\", \"CALIPASO WINERY LLC:  5\", \"MERRIAM VINEYARDS, WINDACRE WEST, LLC:  1\", \"FETZER VINEYARDS:  3\", \"GORGET DISTILLING, GORGET DISTILLING CO.,:  4\", \"SOUTHERN TIER BREWING COMPANY, LLC:  4\", \"WATERMELON CREEK VINEYARD, WATERMELON CREEK VINEYARD, LLC:  1\", \"HANOVER DISTILLING COMPANY:  5\", \"THE ALE APOTHECARY, LLC:  1\", \"PACIFIC WINE SERVICES, PACIFIC WINE SERVICES, LLC:  6\", \"PACIFIC WINE SERVICES, PACIFIC WINE SERVICES, LLC:  2\"], \"mode\": \"markers\", \"marker\": {\"size\": 5, \"color\": [2, 4, 2, 1, 11, 1, 5, 1, 1, 8, 6, 12, 1, 1, 4, 1, 1, 6, 3, 2, 2, 1, 7, 31, 5, 7, 1, 1, 7, 6, 14, 15, 12, 2, 4, 2, 2, 7, 1, 6, 1, 13, 1, 2, 3, 2, 21, 1, 6, 14, 1, 1, 2, 7, 2, 1, 3, 1, 2, 2, 2, 2, 2, 1, 1, 2, 3, 9, 2, 7, 12, 19, 2, 2, 2, 2, 1, 4, 1, 1, 2, 1, 2, 1, 1, 1, 1, 1, 1, 4, 2, 1, 2, 2, 1, 1, 1, 2, 5, 6, 10, 2, 2, 2, 10, 10, 10, 10, 1, 2, 6, 10, 6, 10, 2, 1, 4, 1, 1, 1, 1, 2, 9, 4, 10, 2, 2, 1, 1, 2, 6, 4, 5, 1, 2, 2, 1, 3, 7, 1, 1, 6, 1, 3, 1, 3, 20, 1, 14, 4, 7, 1, 11, 1, 18, 3, 3, 1, 8, 1, 2, 4, 2, 4, 2, 3, 2, 1, 1, 2, 3, 1, 1, 2, 1, 4, 2, 1, 2, 2, 1, 2, 1, 1, 1, 3, 16, 1, 3, 7, 1, 10, 1, 3, 2, 1, 2, 1, 2, 8, 39, 1, 2, 6, 2, 3, 1, 3, 1, 3, 1, 3, 1, 2, 1, 18, 2, 1, 2, 1, 1, 1, 2, 10, 1, 1, 1, 1, 1, 1, 1, 1, 1, 3, 4, 4, 1, 3, 3, 3, 3, 6, 4, 2, 11, 1, 1, 6, 1, 1, 5, 1, 2, 4, 1, 1, 1, 2, 2, 17, 1, 1, 3, 1, 2, 12, 4, 2, 2, 2, 1, 2, 2, 4, 2, 2, 2, 7, 1, 4, 1, 4, 8, 1, 1, 2, 2, 2, 1, 5, 2, 4, 2, 3, 2, 3, 1, 6, 8, 1, 5, 1, 1, 2, 2, 2, 1, 2, 12, 4, 1, 3, 3, 5, 1, 1, 1, 1, 2, 7, 3, 2, 3, 1, 2, 4, 2, 3, 1, 2, 1, 10, 3, 8, 1, 4, 2, 2, 2, 2, 3, 6, 4, 2, 5, 1, 1, 1, 1, 9, 2, 5, 1, 3, 4, 4, 1, 5, 1, 6, 2], \"cmax\": 39, \"colorbar\": {\"title\": \"\"}}}], {\"title\": \"Manufacturers using alpha\", \"geo\": {\"scope\": \"usa\", \"projection\": {\"type\": \"albers usa\"}, \"showland\": true, \"landcolor\": \"rgb(125, 125, 125)\", \"subunitcolor\": \"rgb(217, 217, 217)\", \"countrycolor\": \"rgb(217, 217, 217)\", \"countrywidth\": 0.5, \"subunitwidth\": 0.5}}, {\"showLink\": true, \"linkText\": \"Export to plot.ly\"})});</script>"
      ],
      "text/vnd.plotly.v1+html": [
       "<div id=\"0b29c5ec-b25b-4278-86c3-1c4be761ac22\" style=\"height: 525px; width: 100%;\" class=\"plotly-graph-div\"></div><script type=\"text/javascript\">require([\"plotly\"], function(Plotly) { window.PLOTLYENV=window.PLOTLYENV || {};window.PLOTLYENV.BASE_URL=\"https://plot.ly\";Plotly.newPlot(\"0b29c5ec-b25b-4278-86c3-1c4be761ac22\", [{\"type\": \"scattergeo\", \"locationmode\": \"USA-states\", \"name\": \"Locations\", \"lat\": [40.2763769, 40.2763769, 40.6369293, 45.267059, 45.2515229, 45.2515229, 38.2220226, 37.6642676, 40.7057895, 36.90563059999999, 39.113784, 44.9428926, 35.69956, 30.280047, 37.7256219, 47.5676354, 41.4740236, 39.9533889, 38.9717749, 38.105871, 38.650524, 35.8087141, 44.8442274, 37.7801683, 40.404099, 32.654689, 38.4360065, 38.4360065, 41.4395701, 38.5366485, 42.50398999999999, 41.2377324, 46.53825699999999, 38.6456653, 41.8776516, 38.93631269999999, 44.5049225, 42.9201128, 41.1890496, 45.5191382, 38.4791219, 38.9791301, 38.22036689999999, 45.30221969999999, 39.8756046, 33.729281, 38.4791219, 38.4446747, 44.8439878, 41.8816597, 37.9877476, 39.362696, 41.07566449999999, 38.311111, 38.311111, 39.25708940000001, 46.4575106, 40.9562235, 40.9562235, 46.1164327, 46.1164327, 46.1164327, 46.1164327, 40.7969701, 40.7969701, 35.106596, 35.106596, 35.106596, 41.0143481, 41.0143481, 42.559843, 34.6348903, 37.6376189, 37.6376189, 37.6376189, 37.6376189, 40.7059758, 38.6320194, 43.9521478, 45.327831, 33.3314137, 33.3314137, 38.022004, 42.118373, 42.0804754, 38.9891562, 38.9891562, 38.9891562, 38.9891562, 36.3351496, 36.1269429, 38.579063, 45.4599488, 45.057554, 38.2564221, 39.8503046, 47.7624159, 38.2261354, 29.7587571, 38.4668934, 43.103839, 40.6008518, 40.6008518, 38.20505259999999, 33.1158112, 33.1158112, 33.1158112, 33.1158112, 39.7234165, 47.1752005, 42.315363, 42.315363, 42.315363, 42.315363, 45.288894, 40.834592, 42.62095009999999, 40.6487126, 32.739475, 41.1858556, 37.654827, 40.6636453, 37.8294723, 35.7332574, 35.7332574, 35.6857048, 38.3540072, 38.5267277, 48.0113129, 45.5148875, 32.750091, 43.63791699999999, 39.8412, 37.6481072, 30.24697099999999, 43.762282, 42.5484908, 35.810418, 41.9421346, 35.897539, 38.5160066, 38.5160066, 38.6763622, 38.6763622, 38.6763622, 38.6763622, 39.900534, 41.762941, 41.7673962, 39.7260138, 41.4202749, 42.840599, 38.4554826, 37.7277727, 32.293601, 43.241521, 41.8870097, 40.6834987, 41.1224375, 31.32444, 32.7950904, 40.1272234, 40.1272234, 40.1272234, 40.1272234, 38.4290473, 38.5918819, 41.6755798, 39.2305071, 38.1505352, 47.560333, 47.560333, 33.342807, 35.5436073, 39.2718245, 42.980852, 45.84824099999999, 44.6399335, 44.52738859999999, 47.3865, 41.81215630000001, 38.974719, 38.850971, 42.7481, 40.9987734, 41.599166, 48.979829, 39.753793, 36.1929069, 38.4360065, 41.4497027, 40.0927251, 34.6875373, 43.9530249, 38.3487066, 34.1157552, 41.5076504, 43.0465346, 38.5154936, 43.441786, 33.4048717, 33.057619, 38.4242157, 42.4848974, 36.7836173, 37.7547503, 37.7547503, 37.7547503, 37.7547503, 36.7366002, 38.4961945, 38.82586190000001, 42.3858183, 26.1835563, 38.3618081, 38.2205044, 43.3075048, 43.3075048, 43.3075048, 43.3075048, 36.378174, 38.2726597, 33.7480032, 44.922611, 29.5692359, 29.5692359, 29.5692359, 29.5692359, 42.2667135, 38.4546356, 41.23809019999999, 39.76740400000001, 37.151443, 38.5731152, 46.20959089999999, 35.1899215, 40.1624473, 42.7234246, 42.7234246, 42.7234246, 42.7234246, 34.1089328, 42.65621, 36.2196613, 38.6456653, 38.7176467, 38.7176467, 30.2257728, 38.77909100000001, 38.5184676, 38.5767118, 45.3852286, 37.0603809, 32.7105583, 46.233944, 38.9721865, 45.4140952, 38.2685619, 30.7087383, 41.3021439, 41.3021439, 41.263609, 45.267059, 46.1157214, 46.1157214, 30.1550912, 38.660742, 33.54718, 38.883052, 42.45594699999999, 33.1109393, 35.6741448, 35.2392805, 35.2392805, 46.47760299999999, 39.6531949, 33.45606300000001, 33.45606300000001, 38.44573099999999, 44.249827, 44.249827, 38.3618081, 28.0522606, 28.0522606, 38.2562954, 39.9941, 30.8337164, 39.943961, 41.1620592, 39.724193, 33.408941, 36.1374441, 29.48184299999999, 38.2785715, 45.2414301, 40.7692299, 40.7692299, 34.58593, 42.3651616, 46.9248211, 35.6301402, 30.7152772, 40.5532474, 43.617859, 39.7661085, 27.7708353, 43.0821747, 35.440101, 39.2233495, 40.721645, 38.7148, 36.403642, 44.7620365, 38.0179666, 40.014792, 39.00087329999999, 39.319486, 38.3372896, 44.9334328, 36.5287482, 30.8396378, 30.8396378, 38.4627304, 42.4502431, 36.820358, 46.2128429, 38.555327, 38.18499, 39.5919979, 38.4776937, 40.0395565, 38.519045, 38.2493358, 30.2199405, 38.4430537, 37.305274, 44.6666751, 38.3195786, 47.5202699, 32.8179162, 39.792734, 39.792734, 38.1875123, 47.6141922, 35.5637944, 39.65265249999999, 44.80371, 44.6283053, 38.660742, 38.4653981, 45.148796, 35.6633445, 38.5749064, 35.242175, 39.6644067, 42.0871398, 31.9403676, 39.785887, 34.0590775, 35.6605906, 35.6605906], \"lon\": [-74.796004, -74.796004, -74.075816, -123.019978, -123.0498988, -123.0498988, -122.2707909, -121.7253659, -74.0071687, -86.6736873, -122.820126, -85.7548909, -96.6624954, -97.70238649999999, -80.6339675, -122.3354681, -81.5650184, -75.1451613, -95.2356542, -122.6447656, -122.911949, -78.6211297, -123.2293415, -122.4119061, -79.870272, -116.488217, -122.8698501, -122.8698501, -76.7464602, -122.8053558, -76.717799, -81.9732521, -92.513981, -122.9078679, -88.72518889999999, -77.6296108, -98.9886864, -75.8633437, -96.081346, -122.6511493, -122.616009, -123.0979299, -122.2288018, -123.0745463, -86.0828565, -84.55833919999999, -122.616009, -122.4084054, -93.7447929, -87.6258493, -121.0439342, -77.42645399999999, -100.6397371, -122.276027, -122.276027, -123.2374667, -120.2408034, -72.7530943, -72.7530943, -122.9390233, -122.9390233, -122.9390233, -122.9390233, -75.2130236, -75.2130236, -114.2105121, -114.2105121, -114.2105121, -72.5325142, -72.5325142, -94.146148, -111.9340992, -120.9821437, -120.9821437, -120.9821437, -120.9821437, -74.0113527, -90.80290219999999, -90.55640400000001, -84.9615896, -105.6699332, -105.6699332, -120.479838, -123.550604, -90.68512199999999, -76.3195616, -76.3195616, -76.3195616, -76.3195616, -94.2207871, -115.1934459, -122.7743509, -98.42810860000002, -123.0856069, -85.75864659999999, -89.2417779, -122.1499485, -122.3783983, -95.36369239999999, -122.3768767, -75.24332799999999, -81.2124448, -81.2124448, -121.2970729, -117.1200116, -117.1200116, -117.1200116, -117.1200116, -105.016385, -119.8543229, -123.240237, -123.240237, -123.240237, -123.240237, -123.046728, -84.3096219, -75.188936, -122.2209222, -117.1255158, -73.14242, -121.699076, -81.55309539999999, -122.3704411, -120.5814147, -120.5814147, -120.6526845, -122.3350044, -122.3180978, -122.54199, -122.9696895, -97.32580899999999, -72.397789, -76.902693, -85.34945429999999, -98.0556639, -87.78544, -76.6551334, -78.61792299999999, -87.7080421, -86.97563099999999, -122.458787, -122.458787, -122.862232, -122.862232, -122.862232, -122.862232, -76.34009999999999, -88.545363, -72.6779776, -76.9218905, -73.2821981, -78.815945, -122.4180526, -78.91330479999999, -109.87498, -123.397627, -87.6723821, -74.00454110000001, -80.3353608, -89.3304, -96.4736693, -83.0093495, -83.0093495, -83.0093495, -83.0093495, -122.3903162, -122.601829, -87.9975948, -95.4793965, -85.96853569999999, -122.3377055, -122.3377055, -117.204537, -120.8247002, -121.0120726, -72.3645569, -122.560199, -72.8268434, -72.61741789999999, -122.111088, -80.87755179999999, -123.0834925, -77.68683899999999, -84.449432, -74.2974519, -87.8339012, -122.697667, -104.9884662, -105.8612769, -122.8698501, -96.02698509999999, -88.16351619999999, -120.3685954, -123.275387, -122.2828528, -117.2530164, -90.5191177, -77.0970509, -122.4109602, -72.654038, -111.830165, -116.818681, -122.8484378, -77.1387264, -78.1713529, -122.3897798, -122.3897798, -122.3897798, -122.3897798, -121.3691394, -122.8270995, -120.8091336, -87.9914807, -80.155391, -122.3121571, -84.3424916, -96.5063953, -96.5063953, -96.5063953, -96.5063953, -121.3431324, -122.6618868, -93.56540079999999, -92.575915, -98.3107588, -98.3107588, -98.3107588, -98.3107588, -84.9635125, -77.91309319999999, -81.8594918, -86.0723469, -96.922371, -121.4810826, -119.1172081, -120.5824459, -105.1001316, -76.9758532, -76.9758532, -76.9758532, -76.9758532, -117.6907225, -74.511139, -88.2111336, -122.9078679, -91.3206924, -91.3206924, -97.9474091, -104.861259, -120.8222519, -121.487744, -122.9492007, -78.89569949999999, -117.1536284, -119.677575, -94.7224756, -122.5715216, -122.3479151, -84.8905623, -72.9244908, -72.9244908, -70.131438, -123.019978, -122.916533, -122.916533, -84.20208500000001, -90.3949219, -117.044756, -77.92403999999999, -79.271061, -90.27514819999999, -120.6444759, -120.6078811, -120.6078811, -119.238146, -106.8394299, -86.849678, -86.849678, -78.86911599999999, -73.801648, -73.801648, -122.3121571, -81.7992659, -81.7992659, -85.7546019, -74.7838, -86.43189389999999, -75.15422699999999, -81.4867616, -121.8153557, -91.03735999999999, -80.5850632, -82.8649866, -122.4209597, -123.0699526, -73.9647396, -73.9647396, -120.101133, -89.0292391, -114.0740612, -77.92568279999999, -90.5104008, -80.12046289999999, -116.202689, -104.9647155, -82.751854, -83.4212703, -113.873076, -77.5376153, -73.957258, -90.432778, -121.658011, -73.1104273, -87.6727727, -77.235714, -74.91098579999999, -76.6259025, -122.2818858, -93.36006630000001, -121.8205144, -81.57562829999999, -81.57562829999999, -122.3709214, -73.2538426, -120.013276, -119.2864613, -122.519499, -92.637952, -105.023368, -122.4380036, -74.2236186, -122.798528, -122.4981057, -95.87286089999999, -78.8727396, -122.128553, -90.1737424, -122.3440621, -120.50277, -116.9838606, -104.8624509, -104.8624509, -121.2811864, -122.3275885, -89.6485744, -104.8124366, -68.7656982, -123.2344958, -90.3949219, -122.4289932, -123.287178, -120.6687053, -122.8328263, -119.1098258, -104.890231, -79.3480026, -82.0221766, -76.96667599999999, -77.89968650000002, -120.6515737, -120.6515737], \"text\": [\"RIVER HORSE BREWING COMPANY, RHB ACQUISITION LLC:  2\", \"RIVER HORSE BREWING COMPANY, RHB ACQUISITION LLC:  4\", \"The Flag Ship Brewing Company, GORDON JAMES LLC:  2\", \"Day Wines, DAY CRUSH, LLC:  1\", \"SOKOL BLOSSER WINERY, SOKOL BLOSSER LTD:  11\", \"SOKOL BLOSSER WINERY, SOKOL BLOSSER LTD:  1\", \"1-800-WINESHOP, 1-800-WINESHOP.COM, INC.:  5\", \"WENTE BROS.:  1\", \"ROYAL SPRING BRANCH DISTILLERY, DW ADAMS DISTILLING, LLC:  1\", \"BDP BREWING COMPANY:  8\", \"NICE WINE COMPANY, INC.:  6\", \"FRENCH ROAD CELLARS, LLC:  12\", \"DELICATO VINEYARDS:  1\", \"DELICATO NAPA BOTTLING, DELICATO VINEYARDS:  1\", \"VAN RUITEN FAMILY WINERY, VAN RUITEN FAMILY WINERY LLC:  4\", \"KERLOO CELLARS, R 2 PRODUCTIONS LLC:  1\", \"MERCER WINE ESTATES, MERCER WINE ESTATES, LLC:  1\", \"ROY-PITZ BREWING CO., LLC:  6\", \"FREE STATE BREWERY, FREE STATE BREWING CO., INC.:  3\", \"NAYLOR WINE CELLARS, INC.:  2\", \"MAURITSON FAMILY WINERY:  2\", \"PINE TOP DISTILLERY LLC:  1\", \"EOLA HILLS WINE CELLARS, EOLA HILLS WINE CELLARS, INC.:  7\", \"BRAXTON BREWING COMPANY, LLC:  31\", \"THE BREW GENTLEMEN BEER COMPANY, THE BREW GENTLEMEN BEER COMPANY:  5\", \"WESTFALL WINERY, RICHARD WESTFALL AND DONNA WESTFALL:  7\", \"SONOMA WINE COMPANY, SONOMA WINE COMPANY, LLC:  1\", \"SONOMA WINE COMPANY, SONOMA WINE COMPANY, LLC:  1\", \"PAPPY JACK'S WINERY LLC:  7\", \"FIREBALL FARM & CIDERS, LLC:  6\", \"SOUTH HILL CIDER LLC:  14\", \"BONOBO WINERY, OV THE FARM, LLC:  15\", \"BLACKHOOF ESTATE WINERY, LLC:  12\", \"MATTHEW CHRISTOPHER VILLARD:  2\", \"WHISKEY ACRES DISTILLING CO.:  4\", \"SOUTH MOUNTAIN WINERY, BRUCE NED FREEMAN:  2\", \"PERNOD RICARD USA, PERNOD RICARD USA BOTTLING, LLC:  2\", \"EMPIRE FARMSTEAD BREWERY, INC.:  7\", \"NEBRASKA BREWING CO.:  1\", \"RAM CELLARS, LLC:  6\", \"SONOMA ESTATE VINTNERS, LLC:  1\", \"CAMPOVIDA, CAMPOVIDA WINES, LLC:  13\", \"JAMIESON RANCH VINEYARDS, MADISON VINEYARD HOLDINGS, LLC:  1\", \"ALEXANA WINERY, REVANA FAMILY PARTNERS, L.P.:  2\", \"THE BIER BREWERY AND TAPROOM, SOUTH BROAD RIPPLE BREWING COMPANY, LLC:  3\", \"LAKE PLACID SPIRITS, LLC:  2\", \"A W DIRECT, LLC:  21\", \"ATLAS WINE COMPANY, ATLAS WINE COMPANY, LLC:  1\", \"SCHRAM VINEYARDS, SCHRAM WINERY, LLC:  6\", \"BADERBRAU BREWING, BADERBRAU LLC:  14\", \"MIRAMONT ESTATE VINEYARD & WINERY, MIRAMONT ESTATE VINEYARDS & WINERY INC:  1\", \"FLYING DOG BREWERY, FLYING DOG BREWERY, LLLP:  1\", \"FEATHER RIVER VINEYARDS, L.L.C.:  2\", \"RUTHERFORD WINE COMPANY, ROUND HILL CELLARS:  7\", \"RUTHERFORD WINE COMPANY, ROUND HILL CELLARS:  2\", \"AMERICAN CRAFT WHISKEY DISTILLERY, TAMAR DISTILLERY, INC.:  1\", \"SILVER LAKE AT ROZA HILLS, WASHINGTON WINE & BEVERAGE CO.:  3\", \"LONG ISLAND SPIRITS, INC.:  1\", \"LONG ISLAND SPIRITS, INC.:  2\", \"PLATA WINE PARTNERS, LLC:  2\", \"PLATA WINE PARTNERS, LLC:  2\", \"PLATA WINE PARTNERS, LLC:  2\", \"PLATA WINE PARTNERS, LLC:  2\", \"FRANKLIN HILL VINEYARDS, FRANKLIN HILL VINEYARDS, INC.:  1\", \"FRANKLIN HILL VINEYARDS, FRANKLIN HILL VINEYARDS, INC.:  1\", \"FIRESTONE WALKER LLC:  2\", \"FIRESTONE WALKER LLC:  3\", \"FIRESTONE WALKER LLC:  9\", \"SHINN ESTATE VINEYARDS, SHINN WINERY, LLC:  2\", \"SHINN ESTATE VINEYARDS, SHINN WINERY, LLC:  7\", \"SOLDIER CREEK WINERY, LLC:  12\", \"ARIZONA STRONGHOLD VINEYARDS, LLC:  19\", \"E. & J. GALLO WINERY:  2\", \"E. & J. GALLO WINERY:  2\", \"E. & J. GALLO WINERY:  2\", \"E. & J. GALLO WINERY:  2\", \"NEVERSINK SPIRITS, THE FOOD CYCLE DISTILLERY, LLC.:  1\", \"CHANDLER HILL VINEYARDS, CHANDLER HILL VINEYARDS, LLC:  4\", \"SAN JOAQUIN WINE CO., SAN JOAQUIN WINE COMPANY INC.:  1\", \"MACKINAW TRAIL WINERY, INC.:  1\", \"NOISY WATER ART WEAR, INC.:  2\", \"NOISY WATER ART WEAR, INC.:  1\", \"VILLA VALLECITO VINEYARDS, VILLA VALLECITO VINEYARDS, INC.:  2\", \"FORIS VINEYARDS WINERY, FORIS VINEYARDS WINERY LLC:  1\", \"IOWA GRAPE VINES WINERY, LLC:  1\", \"BLACKWATER DISTILLING, INC.:  1\", \"BLACKWATER DISTILLING, INC.:  1\", \"BLACKWATER DISTILLING, INC.:  1\", \"BLACKWATER DISTILLING, INC.:  1\", \"WILDROSE VINEYARDS, R. LAWSON ENTERPRISES, LLC:  4\", \"SMITH-MADRONE VINEYARDS, COOK'S FLAT ASSOCIATES, LP STUART SMITH, GP:  2\", \"TRINITE WINERY, GONZAGUE & CLAIRE LURTON VINEYARDS, INC.:  1\", \"VINO AQUINO, VINO AQUINO TACOMA, INC.:  2\", \"STANGELAND WINERY, L.D. MILLER ENTERPRISES, INC.:  2\", \"BREWERY BECKER, BRAUEREI BECKER LLC:  1\", \"REINSTONE BREWERY, INC.:  1\", \"COVINGTON CELLARS, COVINGTON CELLARS, LLC:  1\", \"CARNEROS HILLS WINERY, JACKSON FAMILY WINES, INC.:  2\", \"THE GENTLEMAN, BUCHANAN MACKLEY INCORPORATED:  5\", \"PINA CELLARS, PINA CELLARS LP:  6\", \"MOHAWK VALLEY WINERY INC.:  10\", \"TNT WINERY LLC:  2\", \"TNT WINERY LLC:  2\", \"LANGETWINS WINE ESTATES, LANGETWINS WINE COMPANY, INC.:  2\", \"STONE BREWING CO., KOOCHENVAGNER'S BREWING CO.:  10\", \"STONE BREWING CO., KOOCHENVAGNER'S BREWING CO.:  10\", \"STONE BREWING CO., KOOCHENVAGNER'S BREWING CO.:  10\", \"STONE BREWING CO., KOOCHENVAGNER'S BREWING CO.:  10\", \"SLEEPING GIANT BREWING COMPANY, LLC:  1\", \"ANDALUSIA WHISKEY CO., BLANCO VALLEY DISTILLERS, LLC:  2\", \"SCHMIDT FAMILY VINEYARDS, CALVIN GALE SCHMIDT:  6\", \"SCHMIDT FAMILY VINEYARDS, CALVIN GALE SCHMIDT:  10\", \"SCHMIDT FAMILY VINEYARDS, CALVIN GALE SCHMIDT:  6\", \"SCHMIDT FAMILY VINEYARDS, CALVIN GALE SCHMIDT:  10\", \"TORII MOR WINERY, TORII MOR WINERY, L.L.C.:  2\", \"JUBILEE WINERY, JUBILEE WINERY LLC:  1\", \"EPOCHALYPSE BREWING, BUTTERNUTS BEER AND ALE, LLC:  4\", \"ROCKY'S RIDGE VINEYARD, ROCKY'S RIDGE VINEYARD,LLC:  1\", \"THORN ST BREWERY, BIG HOP LLC:  1\", \"NOTCH BREWING COMPANY, NOTCH BREWING, LLC:  1\", \"WOOD FAMILY VINEYARDS, RHONDA RENE'WOOD & MICHAEL JAMES WOOD:  1\", \"MCALPINE MEADERY LLC:  2\", \"TERRELL WINES, CHRISTOPHER JAMES TERRELL:  9\", \"CASTORO CELLARS:  4\", \"CASTORO CELLARS:  10\", \"VIA VEGA WINERY, LAWRENCE ANDREW CELLARS:  2\", \"WHETSTONE WINE CELLARS, WHETSTONE WINE CELLARS, LLC:  2\", \"RUSTRIDGE WINERY, RUSTRIDGE WINERY, INC.:  1\", \"KAYAK SPIRITS DISTILLERY LLC:  1\", \"12TH & MAPLE WINE COMPANY, CORUS ESTATES & VINEYARDS, LLC:  2\", \"THE ACRE DISTILLING CO., ACRE DISTILLING COMPANY, LLC:  6\", \"VERMONT SPIRITS DISTILLING COMPANY:  4\", \"THUNDER RIDGE VINEYARDS, LLC:  5\", \"MAKER'S MARK DISTILLERY, INC.:  1\", \"TREATY OAK DISTILLING CO., GRAHAM BARNES DISTILLING INC:  2\", \"BLIND HORSE WINERY, LLC:  2\", \"BLACK DIAMONDFARM, LLC:  1\", \"BIG BOSS BREWING, EBC BREWERY, LLC:  3\", \"REVOLUTION BEER LLC:  7\", \"LEIPER'S FORK DISTILLERY, LLC:  1\", \"MEADOWOOD ASSOCIATES, MEADOWOOD ASSOCIATES, A LIMITED PARTNERSHIP, PACIFIC UNION MEADOWOOD PARTNERS,:  1\", \"MEADOWOOD ASSOCIATES, MEADOWOOD ASSOCIATES, A LIMITED PARTNERSHIP, PACIFIC UNION MEADOWOOD PARTNERS,:  6\", \"VTPR, VTPR, INC.:  1\", \"VTPR, VTPR, INC.:  3\", \"VTPR, VTPR, INC.:  1\", \"VTPR, VTPR, INC.:  3\", \"SURLY PENGUIN, SURLY PENGUIN LLC:  20\", \"AYLOR INC.:  1\", \"ASYLUM DISTILLERY, SOUTHAMPTON PARTNERS LLC:  14\", \"CAVA WINERY AND VINEYARD, CAVA WINERY AND VINEYARD INC:  4\", \"MYSTO MEAD LLC:  7\", \"DUELING GROUNDS DISTILLERY LLC:  1\", \"PEJU FAMILY WINERY, PEJU FAMILY OPERATING PARTNERSHIP, LP:  11\", \"LOVINGSTON WINERY LLC:  1\", \"PASSION CELLARS, PASSION CELLARS, LLC:  18\", \"the garden shed, UMPQUA WINE SERVICES AND STORAGE CORP:  3\", \"GOOSE ISLAND BEER COMPANY, FULTON STREET BREWERY, LLC:  3\", \"MCCLINTOCK DISTILLING, MCCLINTOCK DISTILLING LLC.:  1\", \"GARDINER LIQUID MERCANTILE, LLC:  8\", \"JAMES RIVER DISTILLERY, LLC:  1\", \"TRINITAS CELLARS, TRINITAS CELLARS, LLC:  2\", \"UNCORKED WINES, INVEIGLE, LLC:  4\", \"UNCORKED WINES, INVEIGLE, LLC:  2\", \"UNCORKED WINES, INVEIGLE, LLC:  4\", \"UNCORKED WINES, INVEIGLE, LLC:  2\", \"CARDINALE WINERY, JACKSON FAMILY WINES, INC.:  3\", \"KRILL FAMILY VINEYARDS, KRILL FAMILY VINEYARDS, LLC:  2\", \"POLLYANNA BREWING COMPANY:  1\", \"CROOKED POST WINERY, CROOKED POST WINERY, LLC:  1\", \"BEST VINEYARDS, BEST VINEYARDS, LLC:  2\", \"TWO BEERS BREWING COMPANY, TWO BEERS BREWING COMPANY LLC:  3\", \"TWO BEERS BREWING COMPANY, TWO BEERS BREWING COMPANY LLC:  1\", \"PREMIUM VINTNERS, LLC:  1\", \"EPOCH ESTATE WINES, ARMSTRONG VINEYARDS, INC.:  2\", \"SWEETBRIAR VINEYARD AND WINERY, MICHAEL LORENZ MACKENTHUN:  1\", \"SUMMIT WINERY LLC:  4\", \"DOLIO WINERY & VINEYARD, DOLIO WINERY LLC:  2\", \"SMUGGLERS' NOTCH DISTILLERY, LLC:  1\", \"GREEN MOUNTAIN DISTILLERS, LLC:  2\", \"SOOS CREEK WINE CELLARS, SOOS CREEK WINE CELLARS, LLC:  2\", \"THE WINERY AT SPRING HILL, THE WINERY AT SPRING HILL, INC.:  1\", \"BRUTOCAO CELLARS, BRUTOCAO FAMILY ENTERPRISES, LLC, GP, BRUTOCAO MANAGEMENT, LLC, GP:  2\", \"WINERY AT LA GRANGE, PWC WINERY, LLC:  1\", \"RED CEDAR SPIRITS, WORKING BUGS, LLC:  1\", \"CITRUS DISTILLERS, CITRUS DISTILLERS, LLC:  1\", \"BODACIOUS BERRIES, FRUITS AND BREWS, BODACIOUS BERRIES, FRUITS AND BREWS:  3\", \"ATWOOD ALES, SMITHINGTON ENTERPRISES LLC:  16\", \"GREAT DIVIDE BREWING COMPANY:  1\", \"VIVAC WINERY, CHRIS PADBERG & JESSE PADBERG:  3\", \"PURPLE WINE AND SPIRITS, PURPLE WINE COMPANY, LLC:  7\", \"FUGA WINERY LLC:  1\", \"RIGGS BEER COMPANY:  10\", \"LOUBUD WINES, LOUBUD WINES L.L.C.:  1\", \"SWEET CHEEKS VINEYARDS, INC.:  3\", \"RAZI'S WINERY, LLC:  2\", \"LEDSON VINEYARDS AND WINERY, STEVE NOBLE LEDSON:  1\", \"RIVER'S EDGE WINERY, MICHAEL L. & YVONNE LANDT LLC:  2\", \"JACKIE O'S PUB AND BREWERY, ZOD LLC:  1\", \"GHOST HORSE VINEYARDS, LLC:  2\", \"BROOK FARM VINEYARDS, BROOK FARM VINEYARDS LLC:  8\", \"AH WINES, INC.:  39\", \"RAMONA RANCH WINERY, RAMONA RANCH WINERY, LLC:  1\", \"GUARACHI FAMILY WINES, TRIUMPH BEVERAGE COMPANY, LLC:  2\", \"DOMAINE LESEURRE, LLC:  6\", \"KOSICEK VINEYARDS, KOSICEK FARMSLLC:  2\", \"ROAR WINES, GARY FRANSCIONI, INC.:  3\", \"ROAR WINES, GARY FRANSCIONI, INC.:  1\", \"ROAR WINES, GARY FRANSCIONI, INC.:  3\", \"ROAR WINES, GARY FRANSCIONI, INC.:  1\", \"CALERA WINE COMPANY, CALERA WINE COMPANY:  3\", \"SONOMA-CUTRER VINEYARDS, SONOMA-CUTRER VINEYARDS, INC.:  1\", \"ROME VALLEY VINEYARDS, BJ ROME:  3\", \"SONGBIRD CELLARS LLC:  1\", \"COASTAL BAY BEVERAGE COMPANY LLC:  2\", \"TRUJILLO WINE, TRUJILLO WINE, LLC:  1\", \"TEXAS CUSTOM WINE WORKS, TEXAS CUSTOM WINE WORKS, LLC:  18\", \"CALICO SKIES VINEYARD AND WINERY, CALICO SKIES VINEYARD AND WINERY, INC.:  2\", \"CALICO SKIES VINEYARD AND WINERY, CALICO SKIES VINEYARD AND WINERY, INC.:  1\", \"CALICO SKIES VINEYARD AND WINERY, CALICO SKIES VINEYARD AND WINERY, INC.:  2\", \"CALICO SKIES VINEYARD AND WINERY, CALICO SKIES VINEYARD AND WINERY, INC.:  1\", \"PARAISO SPRINGS VINEYARDS, RICHARD & CLAUDIA SMITH TRUSTEE OF THE RICHARD R. SMITHFAMILY TRUST:  1\", \"THE LAGUNITAS BREWING COMPANY:  1\", \"LAZY HORSE BREWING, STUTZMAN ENTERPRISES, L.L.C.:  2\", \"SIXTY-FIVE VINES, LLC:  10\", \"Tucker Hill Vineyards Inc.:  1\", \"Tucker Hill Vineyards Inc.:  1\", \"Tucker Hill Vineyards Inc.:  1\", \"Tucker Hill Vineyards Inc.:  1\", \"THE DARKHORSE BREWING COMPANY, MOR-DALL ENTERPRISES, INC.:  1\", \"OLD HOUSE VINEYARDS, OLD HOUSE VINEYARDS, LLC:  1\", \"LOPEZ ISLAND BREWING COMPANY:  1\", \"BLACK ACRE BREWING COMPANY, LLC:  1\", \"WHEAT STATE WINE CO., LLC:  1\", \"RUBICON BREWING COMPANY, STRAYHAN INVESTMENTS INC.:  3\", \"RIVERSANDS DISTILLERY, LAKE SPOKANE DEVELOPMENT, INC.:  4\", \"SINOR-LAVALLEE, VALOR WINE CO., LLC:  4\", \"WIBBY BREWING, RISKY WIBBY LLC:  1\", \"RED TAIL RIDGE WINERY, RED TAIL RIDGE, INC.:  3\", \"RED TAIL RIDGE WINERY, RED TAIL RIDGE, INC.:  3\", \"RED TAIL RIDGE WINERY, RED TAIL RIDGE, INC.:  3\", \"RED TAIL RIDGE WINERY, RED TAIL RIDGE, INC.:  3\", \"DALE BROS. BREWERY, DALE BROS. BREWERY, INC.:  6\", \"ROYAL MEADERY LLC:  4\", \"PARIS WINERY, PARIS WINERY, INC.:  2\", \"SEVEN OXEN WINERY, KILER CANYON LLC:  11\", \"LOST CREEK VINEYARD, LOST CREEK VINEYARD, LLC:  1\", \"LOST CREEK VINEYARD, LOST CREEK VINEYARD, LLC:  1\", \"HYE MEADOWS WINERY, HYE MEADOW WINERY, LLC:  6\", \"TOPPLING GOLIATH BREWING CO., TOPPLING GOLIATH, INC.:  1\", \"SCOTT HARVEY WINES, CREATIVE WINE CONCEPTS, INC.:  1\", \"MISSION BREWERY, MISSION BREWERY, INC.:  5\", \"RAPTOR RIDGE, RAPTOR RIDGE WINERY, L.L.C.:  1\", \"SANS SOUCY VINEYARDS, SANS SOUCY VINEYARDS, L.L.C.:  2\", \"WEST O BEER, LLC:  4\", \"RIVERAERIE CELLARS, RIVERAERIE CELLARS, L.L.C.:  1\", \"UNION HORSE DISTILLING COMPANY, LLC:  1\", \"PORTLAND CIDER COMPANY LLC:  1\", \"ONE HOPE WINES, HOPE WINE, LLC:  2\", \"ELEVATION DISTILLING, LLC:  2\", \"THREE TAVERNS CRAFT BREWERY, LLC:  17\", \"THREE TAVERNS CRAFT BREWERY, LLC:  1\", \"NANTUCKET VINEYARD, NANTUCKET VINEYARD, LLC:  1\", \"DAY WINES, DAY CRUSH, LLC:  3\", \"FABRIZIA SPIRITS, LLC:  1\", \"FABRIZIA SPIRITS, LLC:  2\", \"BLOOM BREW, BLOOM-DENK ENTERPRISES LLC:  12\", \"VOODOO BREWING COMPANY, LLC:  4\", \"WILSON CREEK WINERY & VINEYARDS, WILSON CREEK WINERY & VINEYARDS, INC.:  2\", \"MIRACLE VALLEY VINEYARD, MIRACLE VALLEY VINEYARD, LLC:  2\", \"WOODBURY VINEYARDS, WOODBURY VINEYARDS, INC.:  2\", \"E2 FAMILY WINERY, HERMAN EHLERS & SONS, INC.:  1\", \"VISTA CREEK CELLARS, VISTA CREEK CELLARS, LLC:  2\", \"ORCUTT ROAD CELLARS, PARAGON VINEYARD CO., INC.:  2\", \"ORCUTT ROAD CELLARS, PARAGON VINEYARD CO., INC.:  4\", \"CLAAR CELLARS, CLAAR CELLARS, L.L.C.:  2\", \"808 DISTILLERY, LLC:  2\", \"GEORGIAN HOUSE OF GREATER WASHINGTON, LLC:  2\", \"GEORGIAN HOUSE OF GREATER WASHINGTON, LLC:  7\", \"BERKSHIRE MOUNTAIN DISTILLERS, INC.:  1\", \"GRISTMILL DISTILLERS, INC.:  4\", \"GRISTMILL DISTILLERS, INC.:  1\", \"HERB LAMB VINEYARDS, HERB LAMB VINEYARDS LLC:  4\", \"FLORIDA DISTILLERS, CARIBBEAN DISTILLERS LLC:  8\", \"FLORIDA DISTILLERS, CARIBBEAN DISTILLERS LLC:  1\", \"GRAND CANYON BREWERY, CRUISERS ROUTE 66 CAFE, LLC:  1\", \"SOUTH COUNTY BREWING CO., LLC:  2\", \"TIMBER CREEK DISTILLING, TIMBER CREEK DISTILLING, LLC.:  2\", \"ZERO GRAVITY CRAFT BREWERY, ZG HOLDINGS, LLC:  2\", \"TIMBER RIDGE WINERY, LLC:  1\", \"SIERRA NEVADA BREWING CO.:  5\", \"MAINE DISTILLERIES, LLC:  2\", \"SWEET HOME CAROLINA VINEYARD AND WINERY, LLC:  4\", \"MISSOURI SPIRITS HOUSE, LLC:  2\", \"GUNDLACH BUNDSCHU WINERY, VINEBURG LLC:  3\", \"STOLLER FAMILY ESTATE, STOLLER VINEYARDS, INC.:  2\", \"HIGH WEST DISTILLERY, LLC:  3\", \"HIGH WEST DISTILLERY, LLC:  1\", \"ARTISTE MANAGEMENT CO., LLC:  6\", \"ONE VARIA LLC:  8\", \"MISSOULA WINERY, LLC:  1\", \"BAYWOOD CELLARS, BAYWOOD CELLARS, INC.:  5\", \"DEEP WOODS DISTILLERY LTD.:  1\", \"MCLAUGHLIN DISTILLERY, KIM K MCLAUGHLIN:  1\", \"10 BARREL BREWING COMPANY, 10 BARREL BREWING IDAHO, LLC:  2\", \"THE WINEMAKER'S SHOP, LLC:  2\", \"HDC WINE COMPANY, HDC WINE COMPANY LLC:  2\", \"RUSSELL B. GREGORY LLC:  1\", \"CELLA WINERY, L.L.C.:  2\", \"VANISH BREWING, BLACK HOPS FARM, LLC:  12\", \"THE BROOKLYN BREWERY, THE BROOKLYN BREWERY CORPORATION:  4\", \"SIX MILE BRIDGE BREWERY, THE SHERRING BREWING COMPANY LLC:  1\", \"COWGIRL WINERY, COWGIRL WINERY, LLC:  3\", \"HELL'S GATE DISTILLERY, J AND J FARM LLC:  3\", \"LITTLE CREEK WINERY, RIPPLE RIDGE VINEYARDS, LLC:  5\", \"BIG HILL WINERY & CIDERWORKS LLC:  1\", \"CAPE MAY BREWING COMPANY, CAPE MAY BREWING LIMITED LIABILITY COMPANY:  1\", \"THE BALTIMORE WHISKEY COMPANY, THE BALTIMORE WHISKEY COMPANY, LLC:  1\", \"JUDD'S HILL, FINKELSTEIN VINEYARDS:  1\", \"THE WOODEN EAGLE DISTILLERY, THE DAMPFWERK DISTILLERY CO:  2\", \"FOLKTALE WINERY, CULT OF 8:  7\", \"BLUE PANTS BREWERY LLC:  3\", \"BLUE PANTS BREWERY LLC:  2\", \"UNUM WINE CELLARS, LLC:  3\", \"MARQUETTE MAID, EAGLES LANDING WINERY LLC:  1\", \"ZIVELI, DOBRA VINA INC.:  2\", \"BADGER MOUNTAIN, INC.:  4\", \"MADRIGAL FAMILY WINERY LLC:  2\", \"SHAWNEE BLUFF WINERY, SHAWNEE BLUFF WINERY, LLC:  3\", \"ANGELO'S WINERY, ANGELO'S TAVERNA AND CARBOY WINERY LLC:  1\", \"WHITEHALL LANE WINERY, LEONARDINI FAMILY WINERY, LLC:  2\", \"SUAREZ FAMILY BREWERY, SUAREZ FAMILY LLC:  1\", \"KENDALL-JACKSON, JACKSON FAMILY WINES, INC.:  10\", \"WX Bottling, WINERY EXCHANGE, INC.:  3\", \"WATERSTONE WINERY, LLC:  8\", \"sole artisan ales, SUSQUEHANNA BREWING CO, LLC:  1\", \"RIDGE VINEYARDS, INC.:  4\", \"MEADOWLARK BREWING LLC:  2\", \"HENDRY WINERY, GEORGE O. HENDRY:  2\", \"S & S INDUSTRIES LLC:  2\", \"COWHORN VINEYARD & GARDEN, B & B ORGANICS, LLC:  2\", \"LEOPOLD BROS., ANN ARBOR BREWING COMPANY, L.L.C.:  3\", \"LEOPOLD BROS., ANN ARBOR BREWING COMPANY, L.L.C.:  6\", \"M2 VINTNERS, M2 VINTNERS, INCORPORATED:  4\", \"PANTHER DISTILLERY, LLC:  2\", \"KEUKA SPRING VINEYARDS, KEUKA SPRING VINEYARDS, LLC:  5\", \"DRY DOCK BREWING CO., DRY DOCK ENTERPRISES, INC.:  1\", \"RIVER'S EDGE BREWING COMPANY LLC:  1\", \"VIVACITY SPIRITS, VERACITY SPIRITS LLC:  1\", \"VOODOO BREWING CO., INC:  1\", \"GRGICH HILLS ESTATE, GRGICH HILLS CELLAR:  9\", \"YAMHILL VALLEY VINEYARDS, INC.:  2\", \"CALIPASO WINERY LLC:  5\", \"MERRIAM VINEYARDS, WINDACRE WEST, LLC:  1\", \"FETZER VINEYARDS:  3\", \"GORGET DISTILLING, GORGET DISTILLING CO.,:  4\", \"SOUTHERN TIER BREWING COMPANY, LLC:  4\", \"WATERMELON CREEK VINEYARD, WATERMELON CREEK VINEYARD, LLC:  1\", \"HANOVER DISTILLING COMPANY:  5\", \"THE ALE APOTHECARY, LLC:  1\", \"PACIFIC WINE SERVICES, PACIFIC WINE SERVICES, LLC:  6\", \"PACIFIC WINE SERVICES, PACIFIC WINE SERVICES, LLC:  2\"], \"mode\": \"markers\", \"marker\": {\"size\": 5, \"color\": [2, 4, 2, 1, 11, 1, 5, 1, 1, 8, 6, 12, 1, 1, 4, 1, 1, 6, 3, 2, 2, 1, 7, 31, 5, 7, 1, 1, 7, 6, 14, 15, 12, 2, 4, 2, 2, 7, 1, 6, 1, 13, 1, 2, 3, 2, 21, 1, 6, 14, 1, 1, 2, 7, 2, 1, 3, 1, 2, 2, 2, 2, 2, 1, 1, 2, 3, 9, 2, 7, 12, 19, 2, 2, 2, 2, 1, 4, 1, 1, 2, 1, 2, 1, 1, 1, 1, 1, 1, 4, 2, 1, 2, 2, 1, 1, 1, 2, 5, 6, 10, 2, 2, 2, 10, 10, 10, 10, 1, 2, 6, 10, 6, 10, 2, 1, 4, 1, 1, 1, 1, 2, 9, 4, 10, 2, 2, 1, 1, 2, 6, 4, 5, 1, 2, 2, 1, 3, 7, 1, 1, 6, 1, 3, 1, 3, 20, 1, 14, 4, 7, 1, 11, 1, 18, 3, 3, 1, 8, 1, 2, 4, 2, 4, 2, 3, 2, 1, 1, 2, 3, 1, 1, 2, 1, 4, 2, 1, 2, 2, 1, 2, 1, 1, 1, 3, 16, 1, 3, 7, 1, 10, 1, 3, 2, 1, 2, 1, 2, 8, 39, 1, 2, 6, 2, 3, 1, 3, 1, 3, 1, 3, 1, 2, 1, 18, 2, 1, 2, 1, 1, 1, 2, 10, 1, 1, 1, 1, 1, 1, 1, 1, 1, 3, 4, 4, 1, 3, 3, 3, 3, 6, 4, 2, 11, 1, 1, 6, 1, 1, 5, 1, 2, 4, 1, 1, 1, 2, 2, 17, 1, 1, 3, 1, 2, 12, 4, 2, 2, 2, 1, 2, 2, 4, 2, 2, 2, 7, 1, 4, 1, 4, 8, 1, 1, 2, 2, 2, 1, 5, 2, 4, 2, 3, 2, 3, 1, 6, 8, 1, 5, 1, 1, 2, 2, 2, 1, 2, 12, 4, 1, 3, 3, 5, 1, 1, 1, 1, 2, 7, 3, 2, 3, 1, 2, 4, 2, 3, 1, 2, 1, 10, 3, 8, 1, 4, 2, 2, 2, 2, 3, 6, 4, 2, 5, 1, 1, 1, 1, 9, 2, 5, 1, 3, 4, 4, 1, 5, 1, 6, 2], \"cmax\": 39, \"colorbar\": {\"title\": \"\"}}}], {\"title\": \"Manufacturers using alpha\", \"geo\": {\"scope\": \"usa\", \"projection\": {\"type\": \"albers usa\"}, \"showland\": true, \"landcolor\": \"rgb(125, 125, 125)\", \"subunitcolor\": \"rgb(217, 217, 217)\", \"countrycolor\": \"rgb(217, 217, 217)\", \"countrywidth\": 0.5, \"subunitwidth\": 0.5}}, {\"showLink\": true, \"linkText\": \"Export to plot.ly\"})});</script>"
      ]
     },
     "metadata": {},
     "output_type": "display_data"
    }
   ],
   "source": [
    "locations = dict(\n",
    "            type = 'scattergeo',\n",
    "            locationmode = 'USA-states',\n",
    "            name = 'Locations',\n",
    "            lat=lat_long['lat'],\n",
    "            lon = lat_long['long'],\n",
    "            text = lat_long['name'] + ':  ' + lat_long['count'].astype(str),\n",
    "            mode = 'markers',\n",
    "            marker = dict(size=5,\n",
    "                         color = lat_long['count'],\n",
    "                         cmax = lat_long['count'].max(),\n",
    "                         colorbar=dict(title=\"\")\n",
    "                         )\n",
    "            )\n",
    "\n",
    "\n",
    "# clean version, no labels\n",
    "layout = dict(\n",
    "            title = 'Manufacturers using alpha',\n",
    "            geo = dict(\n",
    "                scope='usa',\n",
    "                projection=dict( type='albers usa' ),\n",
    "                showland = True,\n",
    "                landcolor = \"rgb(125, 125, 125)\",\n",
    "                subunitcolor = \"rgb(217, 217, 217)\",\n",
    "                countrycolor = \"rgb(217, 217, 217)\",\n",
    "                countrywidth = 0.5,\n",
    "                subunitwidth = 0.5\n",
    "            ),\n",
    "             )\n",
    "\n",
    "fig = dict( data=[locations], layout=layout )\n",
    "plotly.offline.iplot( fig )"
   ]
  },
  {
   "cell_type": "code",
   "execution_count": 162,
   "metadata": {
    "collapsed": true
   },
   "outputs": [
    {
     "data": {
      "text/plain": [
       "'<div id=\"43b0a6b1-3650-4893-b1bd-c39f3b68bd6b\" style=\"height: 100%; width: 100%;\" class=\"plotly-graph-div\"></div><script type=\"text/javascript\">window.PLOTLYENV=window.PLOTLYENV || {};window.PLOTLYENV.BASE_URL=\"https://plot.ly\";Plotly.newPlot(\"43b0a6b1-3650-4893-b1bd-c39f3b68bd6b\", [{\"type\": \"scattergeo\", \"locationmode\": \"USA-states\", \"name\": \"Locations\", \"lat\": [40.2763769, 40.2763769, 40.6369293, 45.267059, 45.2515229, 45.2515229, 38.2220226, 37.6642676, 40.7057895, 36.90563059999999, 39.113784, 44.9428926, 35.69956, 30.280047, 37.7256219, 47.5676354, 41.4740236, 39.9533889, 38.9717749, 38.105871, 38.650524, 35.8087141, 44.8442274, 37.7801683, 40.404099, 32.654689, 38.4360065, 38.4360065, 41.4395701, 38.5366485, 42.50398999999999, 41.2377324, 46.53825699999999, 38.6456653, 41.8776516, 38.93631269999999, 44.5049225, 42.9201128, 41.1890496, 45.5191382, 38.4791219, 38.9791301, 38.22036689999999, 45.30221969999999, 39.8756046, 33.729281, 38.4791219, 38.4446747, 44.8439878, 41.8816597, 37.9877476, 39.362696, 41.07566449999999, 38.311111, 38.311111, 39.25708940000001, 46.4575106, 40.9562235, 40.9562235, 46.1164327, 46.1164327, 46.1164327, 46.1164327, 40.7969701, 40.7969701, 35.106596, 35.106596, 35.106596, 41.0143481, 41.0143481, 42.559843, 34.6348903, 37.6376189, 37.6376189, 37.6376189, 37.6376189, 40.7059758, 38.6320194, 43.9521478, 45.327831, 33.3314137, 33.3314137, 38.022004, 42.118373, 42.0804754, 38.9891562, 38.9891562, 38.9891562, 38.9891562, 36.3351496, 36.1269429, 38.579063, 45.4599488, 45.057554, 38.2564221, 39.8503046, 47.7624159, 38.2261354, 29.7587571, 38.4668934, 43.103839, 40.6008518, 40.6008518, 38.20505259999999, 33.1158112, 33.1158112, 33.1158112, 33.1158112, 39.7234165, 47.1752005, 42.315363, 42.315363, 42.315363, 42.315363, 45.288894, 40.834592, 42.62095009999999, 40.6487126, 32.739475, 41.1858556, 37.654827, 40.6636453, 37.8294723, 35.7332574, 35.7332574, 35.6857048, 38.3540072, 38.5267277, 48.0113129, 45.5148875, 32.750091, 43.63791699999999, 39.8412, 37.6481072, 30.24697099999999, 43.762282, 42.5484908, 35.810418, 41.9421346, 35.897539, 38.5160066, 38.5160066, 38.6763622, 38.6763622, 38.6763622, 38.6763622, 39.900534, 41.762941, 41.7673962, 39.7260138, 41.4202749, 42.840599, 38.4554826, 37.7277727, 32.293601, 43.241521, 41.8870097, 40.6834987, 41.1224375, 31.32444, 32.7950904, 40.1272234, 40.1272234, 40.1272234, 40.1272234, 38.4290473, 38.5918819, 41.6755798, 39.2305071, 38.1505352, 47.560333, 47.560333, 33.342807, 35.5436073, 39.2718245, 42.980852, 45.84824099999999, 44.6399335, 44.52738859999999, 47.3865, 41.81215630000001, 38.974719, 38.850971, 42.7481, 40.9987734, 41.599166, 48.979829, 39.753793, 36.1929069, 38.4360065, 41.4497027, 40.0927251, 34.6875373, 43.9530249, 38.3487066, 34.1157552, 41.5076504, 43.0465346, 38.5154936, 43.441786, 33.4048717, 33.057619, 38.4242157, 42.4848974, 36.7836173, 37.7547503, 37.7547503, 37.7547503, 37.7547503, 36.7366002, 38.4961945, 38.82586190000001, 42.3858183, 26.1835563, 38.3618081, 38.2205044, 43.3075048, 43.3075048, 43.3075048, 43.3075048, 36.378174, 38.2726597, 33.7480032, 44.922611, 29.5692359, 29.5692359, 29.5692359, 29.5692359, 42.2667135, 38.4546356, 41.23809019999999, 39.76740400000001, 37.151443, 38.5731152, 46.20959089999999, 35.1899215, 40.1624473, 42.7234246, 42.7234246, 42.7234246, 42.7234246, 34.1089328, 42.65621, 36.2196613, 38.6456653, 38.7176467, 38.7176467, 30.2257728, 38.77909100000001, 38.5184676, 38.5767118, 45.3852286, 37.0603809, 32.7105583, 46.233944, 38.9721865, 45.4140952, 38.2685619, 30.7087383, 41.3021439, 41.3021439, 41.263609, 45.267059, 46.1157214, 46.1157214, 30.1550912, 38.660742, 33.54718, 38.883052, 42.45594699999999, 33.1109393, 35.6741448, 35.2392805, 35.2392805, 46.47760299999999, 39.6531949, 33.45606300000001, 33.45606300000001, 38.44573099999999, 44.249827, 44.249827, 38.3618081, 28.0522606, 28.0522606, 38.2562954, 39.9941, 30.8337164, 39.943961, 41.1620592, 39.724193, 33.408941, 36.1374441, 29.48184299999999, 38.2785715, 45.2414301, 40.7692299, 40.7692299, 34.58593, 42.3651616, 46.9248211, 35.6301402, 30.7152772, 40.5532474, 43.617859, 39.7661085, 27.7708353, 43.0821747, 35.440101, 39.2233495, 40.721645, 38.7148, 36.403642, 44.7620365, 38.0179666, 40.014792, 39.00087329999999, 39.319486, 38.3372896, 44.9334328, 36.5287482, 30.8396378, 30.8396378, 38.4627304, 42.4502431, 36.820358, 46.2128429, 38.555327, 38.18499, 39.5919979, 38.4776937, 40.0395565, 38.519045, 38.2493358, 30.2199405, 38.4430537, 37.305274, 44.6666751, 38.3195786, 47.5202699, 32.8179162, 39.792734, 39.792734, 38.1875123, 47.6141922, 35.5637944, 39.65265249999999, 44.80371, 44.6283053, 38.660742, 38.4653981, 45.148796, 35.6633445, 38.5749064, 35.242175, 39.6644067, 42.0871398, 31.9403676, 39.785887, 34.0590775, 35.6605906, 35.6605906], \"lon\": [-74.796004, -74.796004, -74.075816, -123.019978, -123.0498988, -123.0498988, -122.2707909, -121.7253659, -74.0071687, -86.6736873, -122.820126, -85.7548909, -96.6624954, -97.70238649999999, -80.6339675, -122.3354681, -81.5650184, -75.1451613, -95.2356542, -122.6447656, -122.911949, -78.6211297, -123.2293415, -122.4119061, -79.870272, -116.488217, -122.8698501, -122.8698501, -76.7464602, -122.8053558, -76.717799, -81.9732521, -92.513981, -122.9078679, -88.72518889999999, -77.6296108, -98.9886864, -75.8633437, -96.081346, -122.6511493, -122.616009, -123.0979299, -122.2288018, -123.0745463, -86.0828565, -84.55833919999999, -122.616009, -122.4084054, -93.7447929, -87.6258493, -121.0439342, -77.42645399999999, -100.6397371, -122.276027, -122.276027, -123.2374667, -120.2408034, -72.7530943, -72.7530943, -122.9390233, -122.9390233, -122.9390233, -122.9390233, -75.2130236, -75.2130236, -114.2105121, -114.2105121, -114.2105121, -72.5325142, -72.5325142, -94.146148, -111.9340992, -120.9821437, -120.9821437, -120.9821437, -120.9821437, -74.0113527, -90.80290219999999, -90.55640400000001, -84.9615896, -105.6699332, -105.6699332, -120.479838, -123.550604, -90.68512199999999, -76.3195616, -76.3195616, -76.3195616, -76.3195616, -94.2207871, -115.1934459, -122.7743509, -98.42810860000002, -123.0856069, -85.75864659999999, -89.2417779, -122.1499485, -122.3783983, -95.36369239999999, -122.3768767, -75.24332799999999, -81.2124448, -81.2124448, -121.2970729, -117.1200116, -117.1200116, -117.1200116, -117.1200116, -105.016385, -119.8543229, -123.240237, -123.240237, -123.240237, -123.240237, -123.046728, -84.3096219, -75.188936, -122.2209222, -117.1255158, -73.14242, -121.699076, -81.55309539999999, -122.3704411, -120.5814147, -120.5814147, -120.6526845, -122.3350044, -122.3180978, -122.54199, -122.9696895, -97.32580899999999, -72.397789, -76.902693, -85.34945429999999, -98.0556639, -87.78544, -76.6551334, -78.61792299999999, -87.7080421, -86.97563099999999, -122.458787, -122.458787, -122.862232, -122.862232, -122.862232, -122.862232, -76.34009999999999, -88.545363, -72.6779776, -76.9218905, -73.2821981, -78.815945, -122.4180526, -78.91330479999999, -109.87498, -123.397627, -87.6723821, -74.00454110000001, -80.3353608, -89.3304, -96.4736693, -83.0093495, -83.0093495, -83.0093495, -83.0093495, -122.3903162, -122.601829, -87.9975948, -95.4793965, -85.96853569999999, -122.3377055, -122.3377055, -117.204537, -120.8247002, -121.0120726, -72.3645569, -122.560199, -72.8268434, -72.61741789999999, -122.111088, -80.87755179999999, -123.0834925, -77.68683899999999, -84.449432, -74.2974519, -87.8339012, -122.697667, -104.9884662, -105.8612769, -122.8698501, -96.02698509999999, -88.16351619999999, -120.3685954, -123.275387, -122.2828528, -117.2530164, -90.5191177, -77.0970509, -122.4109602, -72.654038, -111.830165, -116.818681, -122.8484378, -77.1387264, -78.1713529, -122.3897798, -122.3897798, -122.3897798, -122.3897798, -121.3691394, -122.8270995, -120.8091336, -87.9914807, -80.155391, -122.3121571, -84.3424916, -96.5063953, -96.5063953, -96.5063953, -96.5063953, -121.3431324, -122.6618868, -93.56540079999999, -92.575915, -98.3107588, -98.3107588, -98.3107588, -98.3107588, -84.9635125, -77.91309319999999, -81.8594918, -86.0723469, -96.922371, -121.4810826, -119.1172081, -120.5824459, -105.1001316, -76.9758532, -76.9758532, -76.9758532, -76.9758532, -117.6907225, -74.511139, -88.2111336, -122.9078679, -91.3206924, -91.3206924, -97.9474091, -104.861259, -120.8222519, -121.487744, -122.9492007, -78.89569949999999, -117.1536284, -119.677575, -94.7224756, -122.5715216, -122.3479151, -84.8905623, -72.9244908, -72.9244908, -70.131438, -123.019978, -122.916533, -122.916533, -84.20208500000001, -90.3949219, -117.044756, -77.92403999999999, -79.271061, -90.27514819999999, -120.6444759, -120.6078811, -120.6078811, -119.238146, -106.8394299, -86.849678, -86.849678, -78.86911599999999, -73.801648, -73.801648, -122.3121571, -81.7992659, -81.7992659, -85.7546019, -74.7838, -86.43189389999999, -75.15422699999999, -81.4867616, -121.8153557, -91.03735999999999, -80.5850632, -82.8649866, -122.4209597, -123.0699526, -73.9647396, -73.9647396, -120.101133, -89.0292391, -114.0740612, -77.92568279999999, -90.5104008, -80.12046289999999, -116.202689, -104.9647155, -82.751854, -83.4212703, -113.873076, -77.5376153, -73.957258, -90.432778, -121.658011, -73.1104273, -87.6727727, -77.235714, -74.91098579999999, -76.6259025, -122.2818858, -93.36006630000001, -121.8205144, -81.57562829999999, -81.57562829999999, -122.3709214, -73.2538426, -120.013276, -119.2864613, -122.519499, -92.637952, -105.023368, -122.4380036, -74.2236186, -122.798528, -122.4981057, -95.87286089999999, -78.8727396, -122.128553, -90.1737424, -122.3440621, -120.50277, -116.9838606, -104.8624509, -104.8624509, -121.2811864, -122.3275885, -89.6485744, -104.8124366, -68.7656982, -123.2344958, -90.3949219, -122.4289932, -123.287178, -120.6687053, -122.8328263, -119.1098258, -104.890231, -79.3480026, -82.0221766, -76.96667599999999, -77.89968650000002, -120.6515737, -120.6515737], \"text\": [\"RIVER HORSE BREWING COMPANY, RHB ACQUISITION LLC:  2\", \"RIVER HORSE BREWING COMPANY, RHB ACQUISITION LLC:  4\", \"The Flag Ship Brewing Company, GORDON JAMES LLC:  2\", \"Day Wines, DAY CRUSH, LLC:  1\", \"SOKOL BLOSSER WINERY, SOKOL BLOSSER LTD:  11\", \"SOKOL BLOSSER WINERY, SOKOL BLOSSER LTD:  1\", \"1-800-WINESHOP, 1-800-WINESHOP.COM, INC.:  5\", \"WENTE BROS.:  1\", \"ROYAL SPRING BRANCH DISTILLERY, DW ADAMS DISTILLING, LLC:  1\", \"BDP BREWING COMPANY:  8\", \"NICE WINE COMPANY, INC.:  6\", \"FRENCH ROAD CELLARS, LLC:  12\", \"DELICATO VINEYARDS:  1\", \"DELICATO NAPA BOTTLING, DELICATO VINEYARDS:  1\", \"VAN RUITEN FAMILY WINERY, VAN RUITEN FAMILY WINERY LLC:  4\", \"KERLOO CELLARS, R 2 PRODUCTIONS LLC:  1\", \"MERCER WINE ESTATES, MERCER WINE ESTATES, LLC:  1\", \"ROY-PITZ BREWING CO., LLC:  6\", \"FREE STATE BREWERY, FREE STATE BREWING CO., INC.:  3\", \"NAYLOR WINE CELLARS, INC.:  2\", \"MAURITSON FAMILY WINERY:  2\", \"PINE TOP DISTILLERY LLC:  1\", \"EOLA HILLS WINE CELLARS, EOLA HILLS WINE CELLARS, INC.:  7\", \"BRAXTON BREWING COMPANY, LLC:  31\", \"THE BREW GENTLEMEN BEER COMPANY, THE BREW GENTLEMEN BEER COMPANY:  5\", \"WESTFALL WINERY, RICHARD WESTFALL AND DONNA WESTFALL:  7\", \"SONOMA WINE COMPANY, SONOMA WINE COMPANY, LLC:  1\", \"SONOMA WINE COMPANY, SONOMA WINE COMPANY, LLC:  1\", \"PAPPY JACK\\'S WINERY LLC:  7\", \"FIREBALL FARM & CIDERS, LLC:  6\", \"SOUTH HILL CIDER LLC:  14\", \"BONOBO WINERY, OV THE FARM, LLC:  15\", \"BLACKHOOF ESTATE WINERY, LLC:  12\", \"MATTHEW CHRISTOPHER VILLARD:  2\", \"WHISKEY ACRES DISTILLING CO.:  4\", \"SOUTH MOUNTAIN WINERY, BRUCE NED FREEMAN:  2\", \"PERNOD RICARD USA, PERNOD RICARD USA BOTTLING, LLC:  2\", \"EMPIRE FARMSTEAD BREWERY, INC.:  7\", \"NEBRASKA BREWING CO.:  1\", \"RAM CELLARS, LLC:  6\", \"SONOMA ESTATE VINTNERS, LLC:  1\", \"CAMPOVIDA, CAMPOVIDA WINES, LLC:  13\", \"JAMIESON RANCH VINEYARDS, MADISON VINEYARD HOLDINGS, LLC:  1\", \"ALEXANA WINERY, REVANA FAMILY PARTNERS, L.P.:  2\", \"THE BIER BREWERY AND TAPROOM, SOUTH BROAD RIPPLE BREWING COMPANY, LLC:  3\", \"LAKE PLACID SPIRITS, LLC:  2\", \"A W DIRECT, LLC:  21\", \"ATLAS WINE COMPANY, ATLAS WINE COMPANY, LLC:  1\", \"SCHRAM VINEYARDS, SCHRAM WINERY, LLC:  6\", \"BADERBRAU BREWING, BADERBRAU LLC:  14\", \"MIRAMONT ESTATE VINEYARD & WINERY, MIRAMONT ESTATE VINEYARDS & WINERY INC:  1\", \"FLYING DOG BREWERY, FLYING DOG BREWERY, LLLP:  1\", \"FEATHER RIVER VINEYARDS, L.L.C.:  2\", \"RUTHERFORD WINE COMPANY, ROUND HILL CELLARS:  7\", \"RUTHERFORD WINE COMPANY, ROUND HILL CELLARS:  2\", \"AMERICAN CRAFT WHISKEY DISTILLERY, TAMAR DISTILLERY, INC.:  1\", \"SILVER LAKE AT ROZA HILLS, WASHINGTON WINE & BEVERAGE CO.:  3\", \"LONG ISLAND SPIRITS, INC.:  1\", \"LONG ISLAND SPIRITS, INC.:  2\", \"PLATA WINE PARTNERS, LLC:  2\", \"PLATA WINE PARTNERS, LLC:  2\", \"PLATA WINE PARTNERS, LLC:  2\", \"PLATA WINE PARTNERS, LLC:  2\", \"FRANKLIN HILL VINEYARDS, FRANKLIN HILL VINEYARDS, INC.:  1\", \"FRANKLIN HILL VINEYARDS, FRANKLIN HILL VINEYARDS, INC.:  1\", \"FIRESTONE WALKER LLC:  2\", \"FIRESTONE WALKER LLC:  3\", \"FIRESTONE WALKER LLC:  9\", \"SHINN ESTATE VINEYARDS, SHINN WINERY, LLC:  2\", \"SHINN ESTATE VINEYARDS, SHINN WINERY, LLC:  7\", \"SOLDIER CREEK WINERY, LLC:  12\", \"ARIZONA STRONGHOLD VINEYARDS, LLC:  19\", \"E. & J. GALLO WINERY:  2\", \"E. & J. GALLO WINERY:  2\", \"E. & J. GALLO WINERY:  2\", \"E. & J. GALLO WINERY:  2\", \"NEVERSINK SPIRITS, THE FOOD CYCLE DISTILLERY, LLC.:  1\", \"CHANDLER HILL VINEYARDS, CHANDLER HILL VINEYARDS, LLC:  4\", \"SAN JOAQUIN WINE CO., SAN JOAQUIN WINE COMPANY INC.:  1\", \"MACKINAW TRAIL WINERY, INC.:  1\", \"NOISY WATER ART WEAR, INC.:  2\", \"NOISY WATER ART WEAR, INC.:  1\", \"VILLA VALLECITO VINEYARDS, VILLA VALLECITO VINEYARDS, INC.:  2\", \"FORIS VINEYARDS WINERY, FORIS VINEYARDS WINERY LLC:  1\", \"IOWA GRAPE VINES WINERY, LLC:  1\", \"BLACKWATER DISTILLING, INC.:  1\", \"BLACKWATER DISTILLING, INC.:  1\", \"BLACKWATER DISTILLING, INC.:  1\", \"BLACKWATER DISTILLING, INC.:  1\", \"WILDROSE VINEYARDS, R. LAWSON ENTERPRISES, LLC:  4\", \"SMITH-MADRONE VINEYARDS, COOK\\'S FLAT ASSOCIATES, LP STUART SMITH, GP:  2\", \"TRINITE WINERY, GONZAGUE & CLAIRE LURTON VINEYARDS, INC.:  1\", \"VINO AQUINO, VINO AQUINO TACOMA, INC.:  2\", \"STANGELAND WINERY, L.D. MILLER ENTERPRISES, INC.:  2\", \"BREWERY BECKER, BRAUEREI BECKER LLC:  1\", \"REINSTONE BREWERY, INC.:  1\", \"COVINGTON CELLARS, COVINGTON CELLARS, LLC:  1\", \"CARNEROS HILLS WINERY, JACKSON FAMILY WINES, INC.:  2\", \"THE GENTLEMAN, BUCHANAN MACKLEY INCORPORATED:  5\", \"PINA CELLARS, PINA CELLARS LP:  6\", \"MOHAWK VALLEY WINERY INC.:  10\", \"TNT WINERY LLC:  2\", \"TNT WINERY LLC:  2\", \"LANGETWINS WINE ESTATES, LANGETWINS WINE COMPANY, INC.:  2\", \"STONE BREWING CO., KOOCHENVAGNER\\'S BREWING CO.:  10\", \"STONE BREWING CO., KOOCHENVAGNER\\'S BREWING CO.:  10\", \"STONE BREWING CO., KOOCHENVAGNER\\'S BREWING CO.:  10\", \"STONE BREWING CO., KOOCHENVAGNER\\'S BREWING CO.:  10\", \"SLEEPING GIANT BREWING COMPANY, LLC:  1\", \"ANDALUSIA WHISKEY CO., BLANCO VALLEY DISTILLERS, LLC:  2\", \"SCHMIDT FAMILY VINEYARDS, CALVIN GALE SCHMIDT:  6\", \"SCHMIDT FAMILY VINEYARDS, CALVIN GALE SCHMIDT:  10\", \"SCHMIDT FAMILY VINEYARDS, CALVIN GALE SCHMIDT:  6\", \"SCHMIDT FAMILY VINEYARDS, CALVIN GALE SCHMIDT:  10\", \"TORII MOR WINERY, TORII MOR WINERY, L.L.C.:  2\", \"JUBILEE WINERY, JUBILEE WINERY LLC:  1\", \"EPOCHALYPSE BREWING, BUTTERNUTS BEER AND ALE, LLC:  4\", \"ROCKY\\'S RIDGE VINEYARD, ROCKY\\'S RIDGE VINEYARD,LLC:  1\", \"THORN ST BREWERY, BIG HOP LLC:  1\", \"NOTCH BREWING COMPANY, NOTCH BREWING, LLC:  1\", \"WOOD FAMILY VINEYARDS, RHONDA RENE\\'WOOD & MICHAEL JAMES WOOD:  1\", \"MCALPINE MEADERY LLC:  2\", \"TERRELL WINES, CHRISTOPHER JAMES TERRELL:  9\", \"CASTORO CELLARS:  4\", \"CASTORO CELLARS:  10\", \"VIA VEGA WINERY, LAWRENCE ANDREW CELLARS:  2\", \"WHETSTONE WINE CELLARS, WHETSTONE WINE CELLARS, LLC:  2\", \"RUSTRIDGE WINERY, RUSTRIDGE WINERY, INC.:  1\", \"KAYAK SPIRITS DISTILLERY LLC:  1\", \"12TH & MAPLE WINE COMPANY, CORUS ESTATES & VINEYARDS, LLC:  2\", \"THE ACRE DISTILLING CO., ACRE DISTILLING COMPANY, LLC:  6\", \"VERMONT SPIRITS DISTILLING COMPANY:  4\", \"THUNDER RIDGE VINEYARDS, LLC:  5\", \"MAKER\\'S MARK DISTILLERY, INC.:  1\", \"TREATY OAK DISTILLING CO., GRAHAM BARNES DISTILLING INC:  2\", \"BLIND HORSE WINERY, LLC:  2\", \"BLACK DIAMONDFARM, LLC:  1\", \"BIG BOSS BREWING, EBC BREWERY, LLC:  3\", \"REVOLUTION BEER LLC:  7\", \"LEIPER\\'S FORK DISTILLERY, LLC:  1\", \"MEADOWOOD ASSOCIATES, MEADOWOOD ASSOCIATES, A LIMITED PARTNERSHIP, PACIFIC UNION MEADOWOOD PARTNERS,:  1\", \"MEADOWOOD ASSOCIATES, MEADOWOOD ASSOCIATES, A LIMITED PARTNERSHIP, PACIFIC UNION MEADOWOOD PARTNERS,:  6\", \"VTPR, VTPR, INC.:  1\", \"VTPR, VTPR, INC.:  3\", \"VTPR, VTPR, INC.:  1\", \"VTPR, VTPR, INC.:  3\", \"SURLY PENGUIN, SURLY PENGUIN LLC:  20\", \"AYLOR INC.:  1\", \"ASYLUM DISTILLERY, SOUTHAMPTON PARTNERS LLC:  14\", \"CAVA WINERY AND VINEYARD, CAVA WINERY AND VINEYARD INC:  4\", \"MYSTO MEAD LLC:  7\", \"DUELING GROUNDS DISTILLERY LLC:  1\", \"PEJU FAMILY WINERY, PEJU FAMILY OPERATING PARTNERSHIP, LP:  11\", \"LOVINGSTON WINERY LLC:  1\", \"PASSION CELLARS, PASSION CELLARS, LLC:  18\", \"the garden shed, UMPQUA WINE SERVICES AND STORAGE CORP:  3\", \"GOOSE ISLAND BEER COMPANY, FULTON STREET BREWERY, LLC:  3\", \"MCCLINTOCK DISTILLING, MCCLINTOCK DISTILLING LLC.:  1\", \"GARDINER LIQUID MERCANTILE, LLC:  8\", \"JAMES RIVER DISTILLERY, LLC:  1\", \"TRINITAS CELLARS, TRINITAS CELLARS, LLC:  2\", \"UNCORKED WINES, INVEIGLE, LLC:  4\", \"UNCORKED WINES, INVEIGLE, LLC:  2\", \"UNCORKED WINES, INVEIGLE, LLC:  4\", \"UNCORKED WINES, INVEIGLE, LLC:  2\", \"CARDINALE WINERY, JACKSON FAMILY WINES, INC.:  3\", \"KRILL FAMILY VINEYARDS, KRILL FAMILY VINEYARDS, LLC:  2\", \"POLLYANNA BREWING COMPANY:  1\", \"CROOKED POST WINERY, CROOKED POST WINERY, LLC:  1\", \"BEST VINEYARDS, BEST VINEYARDS, LLC:  2\", \"TWO BEERS BREWING COMPANY, TWO BEERS BREWING COMPANY LLC:  3\", \"TWO BEERS BREWING COMPANY, TWO BEERS BREWING COMPANY LLC:  1\", \"PREMIUM VINTNERS, LLC:  1\", \"EPOCH ESTATE WINES, ARMSTRONG VINEYARDS, INC.:  2\", \"SWEETBRIAR VINEYARD AND WINERY, MICHAEL LORENZ MACKENTHUN:  1\", \"SUMMIT WINERY LLC:  4\", \"DOLIO WINERY & VINEYARD, DOLIO WINERY LLC:  2\", \"SMUGGLERS\\' NOTCH DISTILLERY, LLC:  1\", \"GREEN MOUNTAIN DISTILLERS, LLC:  2\", \"SOOS CREEK WINE CELLARS, SOOS CREEK WINE CELLARS, LLC:  2\", \"THE WINERY AT SPRING HILL, THE WINERY AT SPRING HILL, INC.:  1\", \"BRUTOCAO CELLARS, BRUTOCAO FAMILY ENTERPRISES, LLC, GP, BRUTOCAO MANAGEMENT, LLC, GP:  2\", \"WINERY AT LA GRANGE, PWC WINERY, LLC:  1\", \"RED CEDAR SPIRITS, WORKING BUGS, LLC:  1\", \"CITRUS DISTILLERS, CITRUS DISTILLERS, LLC:  1\", \"BODACIOUS BERRIES, FRUITS AND BREWS, BODACIOUS BERRIES, FRUITS AND BREWS:  3\", \"ATWOOD ALES, SMITHINGTON ENTERPRISES LLC:  16\", \"GREAT DIVIDE BREWING COMPANY:  1\", \"VIVAC WINERY, CHRIS PADBERG & JESSE PADBERG:  3\", \"PURPLE WINE AND SPIRITS, PURPLE WINE COMPANY, LLC:  7\", \"FUGA WINERY LLC:  1\", \"RIGGS BEER COMPANY:  10\", \"LOUBUD WINES, LOUBUD WINES L.L.C.:  1\", \"SWEET CHEEKS VINEYARDS, INC.:  3\", \"RAZI\\'S WINERY, LLC:  2\", \"LEDSON VINEYARDS AND WINERY, STEVE NOBLE LEDSON:  1\", \"RIVER\\'S EDGE WINERY, MICHAEL L. & YVONNE LANDT LLC:  2\", \"JACKIE O\\'S PUB AND BREWERY, ZOD LLC:  1\", \"GHOST HORSE VINEYARDS, LLC:  2\", \"BROOK FARM VINEYARDS, BROOK FARM VINEYARDS LLC:  8\", \"AH WINES, INC.:  39\", \"RAMONA RANCH WINERY, RAMONA RANCH WINERY, LLC:  1\", \"GUARACHI FAMILY WINES, TRIUMPH BEVERAGE COMPANY, LLC:  2\", \"DOMAINE LESEURRE, LLC:  6\", \"KOSICEK VINEYARDS, KOSICEK FARMSLLC:  2\", \"ROAR WINES, GARY FRANSCIONI, INC.:  3\", \"ROAR WINES, GARY FRANSCIONI, INC.:  1\", \"ROAR WINES, GARY FRANSCIONI, INC.:  3\", \"ROAR WINES, GARY FRANSCIONI, INC.:  1\", \"CALERA WINE COMPANY, CALERA WINE COMPANY:  3\", \"SONOMA-CUTRER VINEYARDS, SONOMA-CUTRER VINEYARDS, INC.:  1\", \"ROME VALLEY VINEYARDS, BJ ROME:  3\", \"SONGBIRD CELLARS LLC:  1\", \"COASTAL BAY BEVERAGE COMPANY LLC:  2\", \"TRUJILLO WINE, TRUJILLO WINE, LLC:  1\", \"TEXAS CUSTOM WINE WORKS, TEXAS CUSTOM WINE WORKS, LLC:  18\", \"CALICO SKIES VINEYARD AND WINERY, CALICO SKIES VINEYARD AND WINERY, INC.:  2\", \"CALICO SKIES VINEYARD AND WINERY, CALICO SKIES VINEYARD AND WINERY, INC.:  1\", \"CALICO SKIES VINEYARD AND WINERY, CALICO SKIES VINEYARD AND WINERY, INC.:  2\", \"CALICO SKIES VINEYARD AND WINERY, CALICO SKIES VINEYARD AND WINERY, INC.:  1\", \"PARAISO SPRINGS VINEYARDS, RICHARD & CLAUDIA SMITH TRUSTEE OF THE RICHARD R. SMITHFAMILY TRUST:  1\", \"THE LAGUNITAS BREWING COMPANY:  1\", \"LAZY HORSE BREWING, STUTZMAN ENTERPRISES, L.L.C.:  2\", \"SIXTY-FIVE VINES, LLC:  10\", \"Tucker Hill Vineyards Inc.:  1\", \"Tucker Hill Vineyards Inc.:  1\", \"Tucker Hill Vineyards Inc.:  1\", \"Tucker Hill Vineyards Inc.:  1\", \"THE DARKHORSE BREWING COMPANY, MOR-DALL ENTERPRISES, INC.:  1\", \"OLD HOUSE VINEYARDS, OLD HOUSE VINEYARDS, LLC:  1\", \"LOPEZ ISLAND BREWING COMPANY:  1\", \"BLACK ACRE BREWING COMPANY, LLC:  1\", \"WHEAT STATE WINE CO., LLC:  1\", \"RUBICON BREWING COMPANY, STRAYHAN INVESTMENTS INC.:  3\", \"RIVERSANDS DISTILLERY, LAKE SPOKANE DEVELOPMENT, INC.:  4\", \"SINOR-LAVALLEE, VALOR WINE CO., LLC:  4\", \"WIBBY BREWING, RISKY WIBBY LLC:  1\", \"RED TAIL RIDGE WINERY, RED TAIL RIDGE, INC.:  3\", \"RED TAIL RIDGE WINERY, RED TAIL RIDGE, INC.:  3\", \"RED TAIL RIDGE WINERY, RED TAIL RIDGE, INC.:  3\", \"RED TAIL RIDGE WINERY, RED TAIL RIDGE, INC.:  3\", \"DALE BROS. BREWERY, DALE BROS. BREWERY, INC.:  6\", \"ROYAL MEADERY LLC:  4\", \"PARIS WINERY, PARIS WINERY, INC.:  2\", \"SEVEN OXEN WINERY, KILER CANYON LLC:  11\", \"LOST CREEK VINEYARD, LOST CREEK VINEYARD, LLC:  1\", \"LOST CREEK VINEYARD, LOST CREEK VINEYARD, LLC:  1\", \"HYE MEADOWS WINERY, HYE MEADOW WINERY, LLC:  6\", \"TOPPLING GOLIATH BREWING CO., TOPPLING GOLIATH, INC.:  1\", \"SCOTT HARVEY WINES, CREATIVE WINE CONCEPTS, INC.:  1\", \"MISSION BREWERY, MISSION BREWERY, INC.:  5\", \"RAPTOR RIDGE, RAPTOR RIDGE WINERY, L.L.C.:  1\", \"SANS SOUCY VINEYARDS, SANS SOUCY VINEYARDS, L.L.C.:  2\", \"WEST O BEER, LLC:  4\", \"RIVERAERIE CELLARS, RIVERAERIE CELLARS, L.L.C.:  1\", \"UNION HORSE DISTILLING COMPANY, LLC:  1\", \"PORTLAND CIDER COMPANY LLC:  1\", \"ONE HOPE WINES, HOPE WINE, LLC:  2\", \"ELEVATION DISTILLING, LLC:  2\", \"THREE TAVERNS CRAFT BREWERY, LLC:  17\", \"THREE TAVERNS CRAFT BREWERY, LLC:  1\", \"NANTUCKET VINEYARD, NANTUCKET VINEYARD, LLC:  1\", \"DAY WINES, DAY CRUSH, LLC:  3\", \"FABRIZIA SPIRITS, LLC:  1\", \"FABRIZIA SPIRITS, LLC:  2\", \"BLOOM BREW, BLOOM-DENK ENTERPRISES LLC:  12\", \"VOODOO BREWING COMPANY, LLC:  4\", \"WILSON CREEK WINERY & VINEYARDS, WILSON CREEK WINERY & VINEYARDS, INC.:  2\", \"MIRACLE VALLEY VINEYARD, MIRACLE VALLEY VINEYARD, LLC:  2\", \"WOODBURY VINEYARDS, WOODBURY VINEYARDS, INC.:  2\", \"E2 FAMILY WINERY, HERMAN EHLERS & SONS, INC.:  1\", \"VISTA CREEK CELLARS, VISTA CREEK CELLARS, LLC:  2\", \"ORCUTT ROAD CELLARS, PARAGON VINEYARD CO., INC.:  2\", \"ORCUTT ROAD CELLARS, PARAGON VINEYARD CO., INC.:  4\", \"CLAAR CELLARS, CLAAR CELLARS, L.L.C.:  2\", \"808 DISTILLERY, LLC:  2\", \"GEORGIAN HOUSE OF GREATER WASHINGTON, LLC:  2\", \"GEORGIAN HOUSE OF GREATER WASHINGTON, LLC:  7\", \"BERKSHIRE MOUNTAIN DISTILLERS, INC.:  1\", \"GRISTMILL DISTILLERS, INC.:  4\", \"GRISTMILL DISTILLERS, INC.:  1\", \"HERB LAMB VINEYARDS, HERB LAMB VINEYARDS LLC:  4\", \"FLORIDA DISTILLERS, CARIBBEAN DISTILLERS LLC:  8\", \"FLORIDA DISTILLERS, CARIBBEAN DISTILLERS LLC:  1\", \"GRAND CANYON BREWERY, CRUISERS ROUTE 66 CAFE, LLC:  1\", \"SOUTH COUNTY BREWING CO., LLC:  2\", \"TIMBER CREEK DISTILLING, TIMBER CREEK DISTILLING, LLC.:  2\", \"ZERO GRAVITY CRAFT BREWERY, ZG HOLDINGS, LLC:  2\", \"TIMBER RIDGE WINERY, LLC:  1\", \"SIERRA NEVADA BREWING CO.:  5\", \"MAINE DISTILLERIES, LLC:  2\", \"SWEET HOME CAROLINA VINEYARD AND WINERY, LLC:  4\", \"MISSOURI SPIRITS HOUSE, LLC:  2\", \"GUNDLACH BUNDSCHU WINERY, VINEBURG LLC:  3\", \"STOLLER FAMILY ESTATE, STOLLER VINEYARDS, INC.:  2\", \"HIGH WEST DISTILLERY, LLC:  3\", \"HIGH WEST DISTILLERY, LLC:  1\", \"ARTISTE MANAGEMENT CO., LLC:  6\", \"ONE VARIA LLC:  8\", \"MISSOULA WINERY, LLC:  1\", \"BAYWOOD CELLARS, BAYWOOD CELLARS, INC.:  5\", \"DEEP WOODS DISTILLERY LTD.:  1\", \"MCLAUGHLIN DISTILLERY, KIM K MCLAUGHLIN:  1\", \"10 BARREL BREWING COMPANY, 10 BARREL BREWING IDAHO, LLC:  2\", \"THE WINEMAKER\\'S SHOP, LLC:  2\", \"HDC WINE COMPANY, HDC WINE COMPANY LLC:  2\", \"RUSSELL B. GREGORY LLC:  1\", \"CELLA WINERY, L.L.C.:  2\", \"VANISH BREWING, BLACK HOPS FARM, LLC:  12\", \"THE BROOKLYN BREWERY, THE BROOKLYN BREWERY CORPORATION:  4\", \"SIX MILE BRIDGE BREWERY, THE SHERRING BREWING COMPANY LLC:  1\", \"COWGIRL WINERY, COWGIRL WINERY, LLC:  3\", \"HELL\\'S GATE DISTILLERY, J AND J FARM LLC:  3\", \"LITTLE CREEK WINERY, RIPPLE RIDGE VINEYARDS, LLC:  5\", \"BIG HILL WINERY & CIDERWORKS LLC:  1\", \"CAPE MAY BREWING COMPANY, CAPE MAY BREWING LIMITED LIABILITY COMPANY:  1\", \"THE BALTIMORE WHISKEY COMPANY, THE BALTIMORE WHISKEY COMPANY, LLC:  1\", \"JUDD\\'S HILL, FINKELSTEIN VINEYARDS:  1\", \"THE WOODEN EAGLE DISTILLERY, THE DAMPFWERK DISTILLERY CO:  2\", \"FOLKTALE WINERY, CULT OF 8:  7\", \"BLUE PANTS BREWERY LLC:  3\", \"BLUE PANTS BREWERY LLC:  2\", \"UNUM WINE CELLARS, LLC:  3\", \"MARQUETTE MAID, EAGLES LANDING WINERY LLC:  1\", \"ZIVELI, DOBRA VINA INC.:  2\", \"BADGER MOUNTAIN, INC.:  4\", \"MADRIGAL FAMILY WINERY LLC:  2\", \"SHAWNEE BLUFF WINERY, SHAWNEE BLUFF WINERY, LLC:  3\", \"ANGELO\\'S WINERY, ANGELO\\'S TAVERNA AND CARBOY WINERY LLC:  1\", \"WHITEHALL LANE WINERY, LEONARDINI FAMILY WINERY, LLC:  2\", \"SUAREZ FAMILY BREWERY, SUAREZ FAMILY LLC:  1\", \"KENDALL-JACKSON, JACKSON FAMILY WINES, INC.:  10\", \"WX Bottling, WINERY EXCHANGE, INC.:  3\", \"WATERSTONE WINERY, LLC:  8\", \"sole artisan ales, SUSQUEHANNA BREWING CO, LLC:  1\", \"RIDGE VINEYARDS, INC.:  4\", \"MEADOWLARK BREWING LLC:  2\", \"HENDRY WINERY, GEORGE O. HENDRY:  2\", \"S & S INDUSTRIES LLC:  2\", \"COWHORN VINEYARD & GARDEN, B & B ORGANICS, LLC:  2\", \"LEOPOLD BROS., ANN ARBOR BREWING COMPANY, L.L.C.:  3\", \"LEOPOLD BROS., ANN ARBOR BREWING COMPANY, L.L.C.:  6\", \"M2 VINTNERS, M2 VINTNERS, INCORPORATED:  4\", \"PANTHER DISTILLERY, LLC:  2\", \"KEUKA SPRING VINEYARDS, KEUKA SPRING VINEYARDS, LLC:  5\", \"DRY DOCK BREWING CO., DRY DOCK ENTERPRISES, INC.:  1\", \"RIVER\\'S EDGE BREWING COMPANY LLC:  1\", \"VIVACITY SPIRITS, VERACITY SPIRITS LLC:  1\", \"VOODOO BREWING CO., INC:  1\", \"GRGICH HILLS ESTATE, GRGICH HILLS CELLAR:  9\", \"YAMHILL VALLEY VINEYARDS, INC.:  2\", \"CALIPASO WINERY LLC:  5\", \"MERRIAM VINEYARDS, WINDACRE WEST, LLC:  1\", \"FETZER VINEYARDS:  3\", \"GORGET DISTILLING, GORGET DISTILLING CO.,:  4\", \"SOUTHERN TIER BREWING COMPANY, LLC:  4\", \"WATERMELON CREEK VINEYARD, WATERMELON CREEK VINEYARD, LLC:  1\", \"HANOVER DISTILLING COMPANY:  5\", \"THE ALE APOTHECARY, LLC:  1\", \"PACIFIC WINE SERVICES, PACIFIC WINE SERVICES, LLC:  6\", \"PACIFIC WINE SERVICES, PACIFIC WINE SERVICES, LLC:  2\"], \"mode\": \"markers\", \"marker\": {\"size\": 5, \"color\": [2, 4, 2, 1, 11, 1, 5, 1, 1, 8, 6, 12, 1, 1, 4, 1, 1, 6, 3, 2, 2, 1, 7, 31, 5, 7, 1, 1, 7, 6, 14, 15, 12, 2, 4, 2, 2, 7, 1, 6, 1, 13, 1, 2, 3, 2, 21, 1, 6, 14, 1, 1, 2, 7, 2, 1, 3, 1, 2, 2, 2, 2, 2, 1, 1, 2, 3, 9, 2, 7, 12, 19, 2, 2, 2, 2, 1, 4, 1, 1, 2, 1, 2, 1, 1, 1, 1, 1, 1, 4, 2, 1, 2, 2, 1, 1, 1, 2, 5, 6, 10, 2, 2, 2, 10, 10, 10, 10, 1, 2, 6, 10, 6, 10, 2, 1, 4, 1, 1, 1, 1, 2, 9, 4, 10, 2, 2, 1, 1, 2, 6, 4, 5, 1, 2, 2, 1, 3, 7, 1, 1, 6, 1, 3, 1, 3, 20, 1, 14, 4, 7, 1, 11, 1, 18, 3, 3, 1, 8, 1, 2, 4, 2, 4, 2, 3, 2, 1, 1, 2, 3, 1, 1, 2, 1, 4, 2, 1, 2, 2, 1, 2, 1, 1, 1, 3, 16, 1, 3, 7, 1, 10, 1, 3, 2, 1, 2, 1, 2, 8, 39, 1, 2, 6, 2, 3, 1, 3, 1, 3, 1, 3, 1, 2, 1, 18, 2, 1, 2, 1, 1, 1, 2, 10, 1, 1, 1, 1, 1, 1, 1, 1, 1, 3, 4, 4, 1, 3, 3, 3, 3, 6, 4, 2, 11, 1, 1, 6, 1, 1, 5, 1, 2, 4, 1, 1, 1, 2, 2, 17, 1, 1, 3, 1, 2, 12, 4, 2, 2, 2, 1, 2, 2, 4, 2, 2, 2, 7, 1, 4, 1, 4, 8, 1, 1, 2, 2, 2, 1, 5, 2, 4, 2, 3, 2, 3, 1, 6, 8, 1, 5, 1, 1, 2, 2, 2, 1, 2, 12, 4, 1, 3, 3, 5, 1, 1, 1, 1, 2, 7, 3, 2, 3, 1, 2, 4, 2, 3, 1, 2, 1, 10, 3, 8, 1, 4, 2, 2, 2, 2, 3, 6, 4, 2, 5, 1, 1, 1, 1, 9, 2, 5, 1, 3, 4, 4, 1, 5, 1, 6, 2], \"cmax\": 39, \"colorbar\": {\"title\": \"\"}}}], {\"title\": \"Manufacturers using alpha\", \"geo\": {\"scope\": \"usa\", \"projection\": {\"type\": \"albers usa\"}, \"showland\": true, \"landcolor\": \"rgb(125, 125, 125)\", \"subunitcolor\": \"rgb(217, 217, 217)\", \"countrycolor\": \"rgb(217, 217, 217)\", \"countrywidth\": 0.5, \"subunitwidth\": 0.5}}, {\"showLink\": true, \"linkText\": \"Export to plot.ly\"})</script>'"
      ]
     },
     "execution_count": 162,
     "metadata": {},
     "output_type": "execute_result"
    }
   ],
   "source": [
    "plotly.offline.plot(fig, include_plotlyjs=False, output_type='div')"
   ]
  },
  {
   "cell_type": "markdown",
   "metadata": {},
   "source": [
    "## Number of colors by type of beverage"
   ]
  },
  {
   "cell_type": "markdown",
   "metadata": {},
   "source": [
    "We can group more broadly using the following categories"
   ]
  },
  {
   "cell_type": "code",
   "execution_count": 23,
   "metadata": {
    "collapsed": true
   },
   "outputs": [],
   "source": [
    "SPIRITS_MISC = [\"CORDIALS (FRUIT & PEELS)\", \"FRUIT FLAVORED LIQUEURS\", \"CURACAO\", \"TRIPLE SEC\", \"FRUITS & PEELS SCHNAPPS LIQUEUR\", \"OTHER FRUITS & PEELS LIQUEURS\", \"CORDIALS (HERBS & SEEDS)\", \"ANISETTE, OUZO, OJEN\", \"COFFEE (CAFE) LIQUEUR\", \"KUMMEL\", \"PEPPERMINT SCHNAPPS\", \"HERBS AND SEEDS SCHNAPPS LIQUEUR\", \"AMARETTO\", \"SAMBUCA\", \"ARACK/RAKI/ARAK\", \"OTHER (HERBS & SEEDS)\", \"CORDIALS (CREMES OR CREAMS)\", \"CREME DE CACAO WHITE\", \"CREME DE CACAO BROWN\", \"CREME DE MENTHE WHITE\", \"CREME DE MENTHE GREEN\", \"CREME DE ALMOND (NOYAUX)\", \"DAIRY CREAM LIQUEUR/CORDIAL\", \"NON DAIRY CREME LIQUEUR/CORDIAL\", \"OTHER LIQUEUR (CREME OR CREAMS)\", \"SPECIALTIES & PROPRIETARIES\", \"OTHER SPECIALTIES & PROPRIETARIES\", \"CORDIALS (FRUIT & PEELS)\", \"FRUIT FLAVORED LIQUEURS\", \"CURACAO\", \"TRIPLE SEC\", \"FRUITS & PEELS SCHNAPPS LIQUEUR\", \"OTHER FRUIT & PEELS LIQUEURS\", \"CORDIALS (HERBS & SEEDS)\", \"ANISETTE, OUZO, OJEN\", \"COFFEE (CAFE) LIQUEUR\", \"KUMMEL\", \"PEPPERMINT SCHNAPPS\", \"HERBS & SEEDS SCHNAPPS LIQUEUR\", \"AMARETTO\", \"SAMBUCA\", \"ARACK/RAKI/ARAK\", \"OTHER HERB & SEED CORDIALS/LIQUEURS\", \"CORDIALS (CREMES OR CREAMS)\", \"CREME DE CACAO WHITE\", \"CREME DE CACAO BROWN\", \"CREME DE MENTHE WHITE\", \"CREME DE MENTHE GREEN\", \"CREME DE ALMOND (NOYAUX)a\", \"DAIRY CREAM LIQUEUR/CO\", \"NON DAIRY CREME LIQUEUR/CORDIAL\", \"OTHER LIQUEUR (CREMES OR CREAMS)\", \"SPECIALITIES & PROPRIETARIES\", \"OTHER SPECIALTIES & PROPRIETARIES\", \"COCKTAILS 48 PROOF UP\", \"MARGARITA (48 PROOF UP)\", \"COCKTAILS 48 PROOF UP (CONT)\", \"DAIQUIRI (48 PROOF UP)\", \"COLADA (48PROOF UP)\", \"OTHER COCTAILS (48PROOF UP)\", \"COCKTAILS UNDER 48 PROOF\", \"MARGARITA (UNDER 48 PROOF)\", \"OTHER TEQUILA-BASED COCKTAILS (UNDER 48 PROOF)\", \"COCKTAILS UNDER 48 PROOF (CONT)\", \"DAIQUIRI (UNDER 48 PROOF)\", \"COLADA (UNDER 48 PROOF)\", \"OTHER COCKTAILS (UNDER 48 PROOF)\", \"MIXED DRINKS-HI BALLS COCKTAILS\", \"SCREW DRIVER\", \"COLLINS\", \"BLOODY MARY\", \"EGG NOG\", \"OTHER MIXED DRINKS HI-BALLS COCKTAILS\", \"COCKTAILS 48 PROOF UP\", \"MARGARITA 48 PROOF UP\", \"DAIQUIRI 48 PROOF UP\", \"COLADA (48 PROOF UP )\", \"OTHER COCKTAILS (48 PROOF UP)\", \"COCKTAILS UNDER 48 PROOF\", \"MARGARITA UNDER 48 PROOF\", \"OTHER TEQUILA-BASED COCKTAILS (UNDER 48 PROOF)\", \"COCKTAILS UNDER 48 PR(CONT)\", \"DAIQUIRI UNDER 48 PROOF\", \"COLADA (UNDER 48 PROOF )\", \"OTHER COCKTAILS (UNDER 48 PROOF)\", \"MIXED DRINKS-HI BALLS COCKTAILS\", \"SCREW DRIVER\", \"COLLINS\", \"BLOODY MARY\", \"EGG NOG\", \"OTHER MIXED DRINKS HI-BALLS COCKTAILS\", \"86\tVERMOUTH/MIXED TYPES\", \"OTHER SPIRITS\", \"NEUTRAL SPIRITS - GRAIN\", \"NEUTRAL SPIRITS - FRUIT\", \"NEUTRAL SPIRITS - CANE\", \"NEUTRAL SPIRITS - VEGETABLE\", \"NEUTRAL SPIRITS - PETROLEUM\", \"BITTERS - BEVERAGE\", \"GRAIN SPIRITS\", \"OTHER SPIRITS\", \"SAKE\", \"SAKE - DOMESTIC FLAVORED\", \"NON ALCOHOLIC MIXES\", \"OTHER SPIRITS\", \"NEUTRAL SPIRITS - GRAIN\", \"NEUTRAL SPIRITS - FRUIT\", \"NEUTRAL SPIRITS - CANE\", \"NEUTRAL SPIRITS - VEGETABLE\", \"NEUTRAL SPIRITS - PETROLEUM\", \"BITTERS - BEVERAGE*\", \"TEQUILA FB\", \"TEQUILA USB\", \"MEZCAL\", \"MEZCAL FB\", \"SAKE - IMPORTED\", \"MEZCAL US\", \"SAKE - IMPORTED FLAVORED\", \"DILUTED TEQUILA FB\", \"DILUTED TEQUILA USB\", \"NON ALCOHOL MIXES\"]\n",
    "BEERS = [\"BEER\", \"CEREAL BEVERAGES - NEAR BEER (NON ALCOHOLIC)\", \"OTHER MALT BEVERAGES (BEER)\", \"BEER\", \"CEREAL BEVERAGES - NEAR BEER (NON ALCOHOLIC)\", \"MALT BEVERAGES\", \"ALE\", \"MALT LIQUOR\", \"STOUT\", \"PORTER\", \"MALT BEVERAGES SPECIALITIES - FLAVORED\", \"MALT BEVERAGES SPECIALITIES\", \"OTHER MALT BEVERAGES\"]\n",
    "WINE = [\"TABLE RED WINE\", \"ROSE WINE\", \"TABLE WHITE WINE\", \"TABLE FLAVORED WINE\", \"TABLE FRUIT WINE\", \"SPARKLING WINE/CHAMPAGNE\", \"CARBONATED WINE\", \"DESSERT FLAVORED WINE\", \"DESSERT /PORT/SHERRY/(COOKING) WINE\", \"DESSERT FRUIT WINE\"]\n",
    "BRANDY = [\"CALIFORNIA GRAPE BRANDY\", \"CALIFORNIA BRANDY\", \"CALIFORNIA DRIED BRANDY\", \"CALIFORNIA LEES BRANDY\", \"CALIFORNIA POMACE OR MARC BRANDY\", \"CALIFORNIA RESIDUE BRANDY\", \"CALIFORNIA NEUTRAL BRANDY\", \"OTHER CALIFORNIA BRANDY\", \"NEW YORK GRAPE BRANDY\", \"NEW YORK BRANDY\", \"NEW YORK DRIED BRANDY\", \"NEW YORK LEES BRANDY\", \"NEW YORK POMACE OR MARC BRANDY\", \"NEW YORK RESIDUE BRANDY\", \"NEW YORK NEUTRAL BRANDY\", \"OTHER NEW YORK BRANDY\", \"OTHER DOMESTIC GRAPE BRANDY\", \"BRANDY\", \"DRIED BRANDY\", \"LEES BRANDY\", \"POMACE OR MARC BRANDY\", \"RESIDUE BRANDY\", \"NEUTRAL BRANDY\", \"IMMATURE BRANDY\", \"OTHER BRANDY\", \"BRANDY - FLAVORED\", \"BRANDY - APRICOT FLAVORED\", \"BRANDY - BLACKBERRY FLAVORED\", \"BRANDY - PEACH FLAVORED\", \"BRANDY - CHERRY FLAVORED\", \"BRANDY - COFFEE FLAVORED\", \"BRANDY APPLE FLAVORED\", \"OTHER BRANDY - FLAVORED\", \"FRUIT BRANDY\", \"APPLE BRANDY\", \"CHERRY BRANDY\", \"PLUM BRANDY\", \"BLACKBERRY BRANDY\", \"BLENDED APPLE JACK BRANDY\", \"PEAR BRANDY\", \"APRICOT BRANDY\", \"DILUTED BRANDY\", \"OTHER FRUIT BRANDY\", \"FRENCH BRANDY\", \"COGNAC (BRANDY) FB\", \"COGNAC (BRANDY) USB\", \"ARMAGNAC (BRANDY) FB\", \"ARMAGNAC (BRANDY) USB\", \"OTHER FRENCH BRANDY FB\", \"OTHER FRENCH BRANDY USB\", \"OTHER FOREIGN BRANDY\", \"ITALIAN GRAPE BRANDY FB\", \"ITALIAN GRAPE BRANDY USB\", \"SPANISH GRAPE BRANDY FB\", \"SPANISH GRAPE BRANDY USB\", \"PORTUGUESE GRAPE BRANDY FB\", \"PORTUGUESE GRAPE BRANDY USB\", \"GREEK GRAPE BRANDY FB\", \"GREEK GRAPE BRANDY USB\", \"GERMAN GRAPE BRANDY FB\", \"GERMAN GRAPE BRANDY USB\", \"AUSTRALIAN GRAPE BRANDY FB\", \"AUSTRALIAN GRAPE BRANDY USB\", \"SOUTH AFRICAN GRAPE BRANDY FB\", \"SOUTH AFRICAN GRAPE BRANDY USB\", \"OTHER FOREIGN BRANDY (CONT.)\", \"BRANDY APRICOT FLAVORED\", \"BRANDY BLACKBERRY FLAVORED\", \"BRANDY PEACH FLAVORED\", \"BRANDY CHERRY FLAVORED\", \"BRANDY COFFEE FLAVORED\", \"BRANDY APPLE FLAVORED\", \"OTHER GRAPE BRANDY (PISCO, GRAPPA) FB\", \"OTHER GRAPE BRANDY (GRAPPA) USB\", \"FOREIGN FRUIT BRANDY\", \"APPLE BRANDY (CALVADOS)\", \"CHERRY BRANDY\", \"PLUM BRANDY (SLIVOVITZ)\", \"BLACKBERRY BRANDY\", \"BLENDED APPLE JACK BRANDY\", \"APRICOT BRANDY\", \"DILUTED BRANDY FB\", \"DILUTED BRANDY USB\", \"OTHER FRUIT BRANDY\", \"BLACKBERRY FLAVORED BRANDY\", \"LIQUEUR & BRANDY\", \"FLAVORED BRANDY\", \"APRICOT FLAVORED BRANDY\", \"BLACKBERRY FLAVORED BRANDY\", \"PEACH FLAVORED BRANDY\", \"CHERRY FLAVORED BRANDY\", \"LIQUEUR & BRANDY\", \"OTHER FLAVORED BRANDY\", \"BRANDY STINGER (48 PROOF UP)\", \"BRANDY SIDE CAR (48 PROOF UP)\", \"BRANDY STINGER (UNDER 48 PROOF)\", \"BRANDY SIDE CAR (UNDER 48 PROOF)\", \"BRANDY STINGER 48 PROOF UP\", \"BRANDY SIDE CAR 48 PROOF UP\", \"BRANDY STINGER UNDER 48 PROOF\", \"BRANDY SIDE CAR UNDER 48 PROOF\", \"BRANDY PEAR FLAVORED\"]\n",
    "GIN = [\"DISTILLED GIN\", \"LONDON DRY DISTILLED GIN\", \"OTHER DISTILLED GIN\", \"GIN\", \"LONDON DRY GIN\", \"OTHER GIN\", \"GIN - FLAVORED\", \"GIN - MINT FLAVORED\", \"GIN - ORANGE FLAVORED\", \"GIN - LEMON FLAVORED\", \"OTHER GIN - FLAVORED\", \"DILUTED GIN\", \"DISTILLED GIN\", \"LONDON DRY DISTILLED GIN FB\", \"LONDON DRY DISTILLED GIN USB\", \"OTHER DISTILLED GIN FB\", \"OTHER DISTILLED GIN USB\", \"GIN\", \"LONDON DRY GIN FB\", \"LONDON DRY GIN USB\", \"OTHER GIN FB\", \"OTHER GIN USB\", \"GIN - FLAVORED\", \"GIN - MINT FLAVORED\", \"GIN - ORANGE FLAVORED\", \"GIN - LEMON FLAVORED\", \"GIN - CHERRY FLAVORED\", \"GIN - APPLE FLAVORED\", \"GIN - BLACKBERRY FLAVORED\", \"GIN - PEACH FLAVORED\", \"GIN - GRAPE FLAVORED\", \"OTHER GIN - FLAVORED\", \"OTHER GIN\", \"DILUTED GIN FB\", \"DILUTED GIN USB\", \"BRANDY - GINGER FLAVORED\", \"BRANDY GINGER FLAVORED\", \"SLOE GIN\", \"GIN SPECIALTIES\", \"LIQUEURS (GIN)\", \"SLOE GIN\", \"GINGER FLAVORED BRANDY\", \"GIN SPECIALTIES\", \"LIQUEURS (GIN)\", \"GIN MARTINI (48 PROOF UP)\", \"GIN SOUR (48 PROOF UP)\", \"GIN MARTINI (UNDER 48 PROOF)\", \"GIN SOUR (UNDER 48 PROOF)\", \"GIN MARTINI 48 PROOF UP\", \"GIN SOUR 48 PROOF UP\", \"GIN MARTINI UNDER 48 PROOF\", \"GIN SOUR UNDER 48 PROOF\"]\n",
    "WHISKY = [\"STRAIGHT WHISKY\", \"STRAIGHT BOURBON WHISKY\", \"STRAIGHT RYE WHISKY\", \"STRAIGHT CORN WHISKY\", \"OTHER STRAIGHT WHISKY\", \"WHISKY BOTTLED IN BOND (BIB)\", \"BOURBON WHISKY BIB\", \"RYE WHISKY BIB\", \"CORN WHISKY BIB\", \"OTHER WHISKY BIB\", \"STRAIGHT WHISKY BLENDS\", \"STRAIGHT BOURBON WHISKY BLENDS\", \"STRAIGHT RYE WHISKY BLENDS\", \"STRAIGHT CORN WHISKY BLENDS\", \"OTHER STRAIGHT BLENDED WHISKY\", \"WHISKY BLENDS\", \"BLENDED BOURBON WHISKY\", \"BLENDED RYE WHISKY\", \"BLENDED CORN WHISKY\", \"BLENDED LIGHT WHISKY\", \"BLENDED WHISKY\", \"DILUTED BLENDED WHISKY\", \"OTHER WHISKY BLENDS\", \"WHISKY\", \"BOURBON WHISKY\", \"RYE WHISKY\", \"CORN WHISKY\", \"LIGHT WHISKY\", \"WHISKY PROPRIETARY\", \"SPIRIT WHISKY\", \"DILUTED WHISKY\", \"OTHER WHISKY (FLAVORED)\", \"SCOTCH WHISKY\", \"SCOTCH WHISKY FB\", \"SCOTCH WHISKY USB\", \"SINGLE MALT SCOTCH WHISKY\", \"UNBLENDED SCOTCH WHISKY USB\", \"DILUTED SCOTCH WHISKY FB\", \"DILUTED SCOTCH WHISKY USB\", \"CANADIAN WHISKY\", \"CANADIAN WHISKY FB\", \"CANADIAN WHISKY USB\", \"DILUTED CANADIAN WHISKY FB\", \"DILUTED CANADIAN WHISKY USB\", \"IRISH WHISKY\", \"IRISH WHISKY FB\", \"IRISH WHISKY USB\", \"DILUTED IRISH WHISKY FB\", \"DILUTED IRISH WHISKY USB\", \"WHISKY ORANGE FLAVORED\", \"WHISKY GRAPE FLAVORED\", \"WHISKY LIME FLAVORED\", \"WHISKY LEMON FLAVORED\", \"WHISKY CHERRY FLAVORED\", \"WHISKY CHOCOLATE FLAVORED\", \"WHISKY MINT FLAVORED\", \"WHISKY PEPPERMINT FLAVORED\", \"WHISKY PTHER FLAVORED\", \"OTHER IMPORTED WHISKY\", \"OTHER IMPORTED WHISKY FB\", \"OTHER IMPORTED WHISKY USB\", \"DILUTED OTHER IMPORTED WHISKY FB\", \"DILUTED OTHER IMPORTED WHISKY USB\", \"WHISKY SPECIALTIES\", \"LIQUEURS (WHISKY)\", \"WHISKY SPECIALTIES\", \"LIQUEURS (WHISKY)\", \"WHISKY MANHATTAN (48 PROOF UP)\", \"WHISKY OLD FASHIONED (48 PROOF UP)\", \"WHISKY SOUR (48 PROOF UP )\", \"WHISKY MANHATTAN (UNDER 48 PROOF)\", \"WHISKY OLD FASHIONED (UNDER 48 PROOF)\", \"WHISKY SOUR (UNDER 48 PROOF)\", \"WHISKY MANHATTAN (48 PROOF UP)\", \"WHISKY OLD FASHIONED (48 PROOF UP)\", \"WHISKY SOUR (48 PROOF UP)\", \"WHISKY MANHATTAN UNDER 48 PROOF\", \"WHISKY OLD FASHIONED UNDER 48 PROOF\", \"WHISKY SOUR UNDER 48 PROOF\"]\n",
    "RUM = [\"RUM LEMON FLAVORED\", \"RUM CHERRY FLAVORED\", \"RUM CHOCOLATE FLAVORED\", \"RUM MINT FLAVORED\", \"RUM PEPPERMINT FLAVORED\", \"UR.S. RUM (WHITE)\", \"PUERTO RICAN RUM (WHITE)\", \"VIRGIN ISLANDS RUM (WHITE)\", \"HAWAIIAN RUM (WHITE)\", \"FLORIDA RUM (WHITE)\", \"OTHER RUM (WHITE)\", \"U.S. RUM (GOLD)\", \"PUERTO RICAN RUM (GOLD)\", \"VIRGIN ISLAND RUM (GOLD)\", \"HAWAIIAN RUM (GOLD)\", \"FLORIDA RUM (GOLD)\", \"OTHER RUM (GOLD)\", \"RUM FLAVORED (BOLD)\", \"RUM ORANGE GLAVORED\", \"RUM GRAPE FLAVORED\", \"RUM LIME FLAVORED\", \"RUM LEMON FLAVORED\", \"RUM CHERRY FLAVORED\", \"RUM CHOCOLATE FLAVORED\", \"RUM MINT FLAVORED\", \"RUM PEPPERMINT FLAVORED\", \"RUM OTHER FLAVORED\", \"OTHER WHITE RUM\", \"FLAVORED RUM (BOLD)\", \"RUM ORANGE FLAVORED\", \"RUM GRAPE FLAVORED\", \"RUM LIME FLAVORED\", \"RUM OTHER FLAVORED\", \"DILUTED RUM (WHITE)\", \"DILUTED RUM (GOLD)\", \"DOMESTIC FLAVORED RUM\", \"FOREIGN RUM\", \"CUBAN RUM WHITE FB\", \"CUBAN RUM WHITE USB\", \"CUBAN RUM GOLD FB\", \"CUBAN RUM GOLD USB\", \"OTHER FORIEGN RUM\", \"JAMAICAN RUM WHITE FB\", \"JAMAICAN RUM WHITE USB\", \"JAMAICAN RUM GOLD FB\", \"JAMICAN RUM GOLD USB\", \"GUIANAN RUM WHITE FB\", \"GUIANAN RUM WHITE USB\", \"DUTCH GUIANAN RUM GOLD FB\", \"DUTCH GUIANAN RUM GOLD USB\", \"FRENCH GUIANAN RUM FB\", \"FRENCH GUIANAN RUM USB\", \"MARTINICAN RUM WHITE FB\", \"MARTINICAN RUM WHITE USB\", \"MARTINICAN RUM GOLD FB\", \"MARTINICAN RUM GOLD USB\", \"OTHER FOREIGN RUM\", \"OTHER RUM WHITE FB\", \"OTHER RUM WHITE USB\", \"OTHER RUM GOLD FB\", \"OTHER RUM GOLD USB\", \"DILUTED RUM WHITE FB\", \"DILUTED RUM WHITE USB\", \"DILUTED RUM GOLD FB\", \"DILUTED RUM GOLD USB\", \"IMPORTED FLAVORED RUM\", \"ROCK & RYE, RUM & BRANDY (ETC.)\", \"RUM SPECIALTIES\", \"LIQUEURS (RUM)\", \"ROCK & RYE, RUM & BRANDY (ETC)\", \"RUM SPECIALTIES\", \"LIQUEURS (RUM)\"]\n",
    "VODKA = [\"VODKA\", \"VODKA 80-90 PROOF\", \"VODKA\", \"VODKA 90-99 PROOF\", \"VODKA\", \"VODKA 100 PROOF UP\", \"VODKA - FLAVORED\", \"VODKA - ORANGE FLAVORED\", \"VODKA - GRAPE FLAVORED\", \"VODKA - LIME FLAVORED\", \"VODKA - LEMON FLAVORED\", \"VODKA - CHERRY FLAVORED\", \"VODKA - CHOCOLATE FLAVORED\", \"VODKA - MINT FLAVORED\", \"VODKA - PEPPERMINT FLAVORED\", \"VODKA - OTHER FLAVORED\", \"OTHER VODKA\", \"DILUTED VODKA\", \"VODKA\", \"VODKA 80-90 PROOF FB\", \"VODKA 80-90 PROOF USB\", \"VODKA\", \"VODKA 90-99 PROOF FB\", \"VODKA 90-99 PROOF USB\", \"VODKA\", \"VODKA 100 PROOF UP FB\", \"VODKA 100 PROOF UP USB\", \"VODKA - FLAVORED\", \"VODKA - ORANGE FLAVORED\", \"VODKA - GRAPE FLAVORED\", \"VODKA - LIME FLAVORED\", \"VODKA - LEMON FLAVORED\", \"VODKA - CHERRY FLAVORED\", \"VODKA - CHOCOLATE FLAVORED\", \"VODKA - MINT FLAVORED\", \"VODKA - PEPPERMINT FLAVORED\", \"VODKA - OTHER FLAVORED\", \"OTHER VODKA\", \"DILUTED VODKA FB\", \"DILUTED VODKA USB\", \"VODKA SPECIALTIES\", \"LIQUEURS (VODKA)\", \"VODKA SPECIALTIES\", \"LIQUEURS (VODKA)\", \"VODKA MARTINI (48 PROOF UP)\", \"VODKA MARTINI (UNDER 48 PROOF)\", \"VODKA MARTINI 48 PROOF UP\", \"VODKA MARTINI UNDER 48 PROOF\", \"VODKA SOUR UNDER 48 PROOF\"]"
   ]
  },
  {
   "cell_type": "markdown",
   "metadata": {},
   "source": [
    "##### Count the number of dominant colors in each image"
   ]
  },
  {
   "cell_type": "markdown",
   "metadata": {},
   "source": [
    "__NOTE:__ We can't yet merge in the meta-information about what type of label we have until we include the img_num field into the img_meta table. Without it, we have no way to disambiguate."
   ]
  },
  {
   "cell_type": "code",
   "execution_count": 24,
   "metadata": {},
   "outputs": [
    {
     "data": {
      "text/html": [
       "<div>\n",
       "<style>\n",
       "    .dataframe thead tr:only-child th {\n",
       "        text-align: right;\n",
       "    }\n",
       "\n",
       "    .dataframe thead th {\n",
       "        text-align: left;\n",
       "    }\n",
       "\n",
       "    .dataframe tbody tr th {\n",
       "        vertical-align: top;\n",
       "    }\n",
       "</style>\n",
       "<table border=\"1\" class=\"dataframe\">\n",
       "  <thead>\n",
       "    <tr style=\"text-align: right;\">\n",
       "      <th></th>\n",
       "      <th>TTBID</th>\n",
       "      <th>b</th>\n",
       "      <th>g</th>\n",
       "      <th>img_num</th>\n",
       "      <th>percentage</th>\n",
       "      <th>r</th>\n",
       "    </tr>\n",
       "  </thead>\n",
       "  <tbody>\n",
       "    <tr>\n",
       "      <th>0</th>\n",
       "      <td>16001001000009</td>\n",
       "      <td>57.854447</td>\n",
       "      <td>56.692722</td>\n",
       "      <td>0</td>\n",
       "      <td>0.50</td>\n",
       "      <td>60.746631</td>\n",
       "    </tr>\n",
       "    <tr>\n",
       "      <th>1</th>\n",
       "      <td>16001001000009</td>\n",
       "      <td>239.106518</td>\n",
       "      <td>238.742448</td>\n",
       "      <td>0</td>\n",
       "      <td>0.50</td>\n",
       "      <td>239.810811</td>\n",
       "    </tr>\n",
       "    <tr>\n",
       "      <th>2</th>\n",
       "      <td>16001001000018</td>\n",
       "      <td>166.517781</td>\n",
       "      <td>174.014225</td>\n",
       "      <td>0</td>\n",
       "      <td>0.50</td>\n",
       "      <td>179.844950</td>\n",
       "    </tr>\n",
       "    <tr>\n",
       "      <th>3</th>\n",
       "      <td>16001001000018</td>\n",
       "      <td>48.377104</td>\n",
       "      <td>50.838384</td>\n",
       "      <td>0</td>\n",
       "      <td>0.50</td>\n",
       "      <td>53.707071</td>\n",
       "    </tr>\n",
       "    <tr>\n",
       "      <th>4</th>\n",
       "      <td>16001001000018</td>\n",
       "      <td>232.319809</td>\n",
       "      <td>234.338902</td>\n",
       "      <td>1</td>\n",
       "      <td>0.25</td>\n",
       "      <td>236.873508</td>\n",
       "    </tr>\n",
       "  </tbody>\n",
       "</table>\n",
       "</div>"
      ],
      "text/plain": [
       "            TTBID           b           g img_num  percentage           r\n",
       "0  16001001000009   57.854447   56.692722       0        0.50   60.746631\n",
       "1  16001001000009  239.106518  238.742448       0        0.50  239.810811\n",
       "2  16001001000018  166.517781  174.014225       0        0.50  179.844950\n",
       "3  16001001000018   48.377104   50.838384       0        0.50   53.707071\n",
       "4  16001001000018  232.319809  234.338902       1        0.25  236.873508"
      ]
     },
     "execution_count": 24,
     "metadata": {},
     "output_type": "execute_result"
    }
   ],
   "source": [
    "df_colors.head()"
   ]
  },
  {
   "cell_type": "code",
   "execution_count": 121,
   "metadata": {
    "collapsed": true
   },
   "outputs": [
    {
     "data": {
      "text/html": [
       "<div>\n",
       "<style>\n",
       "    .dataframe thead tr:only-child th {\n",
       "        text-align: right;\n",
       "    }\n",
       "\n",
       "    .dataframe thead th {\n",
       "        text-align: left;\n",
       "    }\n",
       "\n",
       "    .dataframe tbody tr th {\n",
       "        vertical-align: top;\n",
       "    }\n",
       "</style>\n",
       "<table border=\"1\" class=\"dataframe\">\n",
       "  <thead>\n",
       "    <tr style=\"text-align: right;\">\n",
       "      <th></th>\n",
       "      <th>TTBID</th>\n",
       "      <th>b</th>\n",
       "      <th>g</th>\n",
       "      <th>img_num</th>\n",
       "      <th>percentage</th>\n",
       "      <th>r</th>\n",
       "    </tr>\n",
       "  </thead>\n",
       "  <tbody>\n",
       "    <tr>\n",
       "      <th>0</th>\n",
       "      <td>16001001000009</td>\n",
       "      <td>57.854447</td>\n",
       "      <td>56.692722</td>\n",
       "      <td>0</td>\n",
       "      <td>0.500000</td>\n",
       "      <td>60.746631</td>\n",
       "    </tr>\n",
       "    <tr>\n",
       "      <th>1</th>\n",
       "      <td>16001001000009</td>\n",
       "      <td>239.106518</td>\n",
       "      <td>238.742448</td>\n",
       "      <td>0</td>\n",
       "      <td>0.500000</td>\n",
       "      <td>239.810811</td>\n",
       "    </tr>\n",
       "    <tr>\n",
       "      <th>2</th>\n",
       "      <td>16001001000018</td>\n",
       "      <td>166.517781</td>\n",
       "      <td>174.014225</td>\n",
       "      <td>0</td>\n",
       "      <td>0.500000</td>\n",
       "      <td>179.844950</td>\n",
       "    </tr>\n",
       "    <tr>\n",
       "      <th>3</th>\n",
       "      <td>16001001000018</td>\n",
       "      <td>48.377104</td>\n",
       "      <td>50.838384</td>\n",
       "      <td>0</td>\n",
       "      <td>0.500000</td>\n",
       "      <td>53.707071</td>\n",
       "    </tr>\n",
       "    <tr>\n",
       "      <th>4</th>\n",
       "      <td>16001001000018</td>\n",
       "      <td>232.319809</td>\n",
       "      <td>234.338902</td>\n",
       "      <td>1</td>\n",
       "      <td>0.250000</td>\n",
       "      <td>236.873508</td>\n",
       "    </tr>\n",
       "    <tr>\n",
       "      <th>5</th>\n",
       "      <td>16001001000018</td>\n",
       "      <td>98.923567</td>\n",
       "      <td>108.751592</td>\n",
       "      <td>1</td>\n",
       "      <td>0.250000</td>\n",
       "      <td>118.426752</td>\n",
       "    </tr>\n",
       "    <tr>\n",
       "      <th>6</th>\n",
       "      <td>16001001000018</td>\n",
       "      <td>165.893557</td>\n",
       "      <td>171.966387</td>\n",
       "      <td>1</td>\n",
       "      <td>0.250000</td>\n",
       "      <td>179.302521</td>\n",
       "    </tr>\n",
       "    <tr>\n",
       "      <th>7</th>\n",
       "      <td>16001001000018</td>\n",
       "      <td>14.328358</td>\n",
       "      <td>16.865672</td>\n",
       "      <td>1</td>\n",
       "      <td>0.250000</td>\n",
       "      <td>18.238806</td>\n",
       "    </tr>\n",
       "    <tr>\n",
       "      <th>8</th>\n",
       "      <td>16001001000018</td>\n",
       "      <td>9.704587</td>\n",
       "      <td>10.051376</td>\n",
       "      <td>2</td>\n",
       "      <td>0.500000</td>\n",
       "      <td>10.251376</td>\n",
       "    </tr>\n",
       "    <tr>\n",
       "      <th>9</th>\n",
       "      <td>16001001000018</td>\n",
       "      <td>73.578022</td>\n",
       "      <td>88.487912</td>\n",
       "      <td>2</td>\n",
       "      <td>0.500000</td>\n",
       "      <td>95.030769</td>\n",
       "    </tr>\n",
       "    <tr>\n",
       "      <th>10</th>\n",
       "      <td>16001001000021</td>\n",
       "      <td>41.233677</td>\n",
       "      <td>49.463918</td>\n",
       "      <td>0</td>\n",
       "      <td>0.500000</td>\n",
       "      <td>65.072165</td>\n",
       "    </tr>\n",
       "    <tr>\n",
       "      <th>11</th>\n",
       "      <td>16001001000021</td>\n",
       "      <td>160.968970</td>\n",
       "      <td>171.746121</td>\n",
       "      <td>0</td>\n",
       "      <td>0.500000</td>\n",
       "      <td>185.466855</td>\n",
       "    </tr>\n",
       "    <tr>\n",
       "      <th>12</th>\n",
       "      <td>16001001000021</td>\n",
       "      <td>229.073333</td>\n",
       "      <td>231.626667</td>\n",
       "      <td>1</td>\n",
       "      <td>0.333333</td>\n",
       "      <td>234.495556</td>\n",
       "    </tr>\n",
       "    <tr>\n",
       "      <th>13</th>\n",
       "      <td>16001001000021</td>\n",
       "      <td>41.554688</td>\n",
       "      <td>48.164062</td>\n",
       "      <td>1</td>\n",
       "      <td>0.333333</td>\n",
       "      <td>52.562500</td>\n",
       "    </tr>\n",
       "    <tr>\n",
       "      <th>14</th>\n",
       "      <td>16001001000021</td>\n",
       "      <td>152.672986</td>\n",
       "      <td>159.078199</td>\n",
       "      <td>1</td>\n",
       "      <td>0.333333</td>\n",
       "      <td>167.004739</td>\n",
       "    </tr>\n",
       "    <tr>\n",
       "      <th>15</th>\n",
       "      <td>16001001000021</td>\n",
       "      <td>9.704587</td>\n",
       "      <td>10.051376</td>\n",
       "      <td>2</td>\n",
       "      <td>0.500000</td>\n",
       "      <td>10.251376</td>\n",
       "    </tr>\n",
       "    <tr>\n",
       "      <th>16</th>\n",
       "      <td>16001001000021</td>\n",
       "      <td>73.578022</td>\n",
       "      <td>88.487912</td>\n",
       "      <td>2</td>\n",
       "      <td>0.500000</td>\n",
       "      <td>95.030769</td>\n",
       "    </tr>\n",
       "    <tr>\n",
       "      <th>17</th>\n",
       "      <td>16001001000023</td>\n",
       "      <td>159.852528</td>\n",
       "      <td>170.150281</td>\n",
       "      <td>0</td>\n",
       "      <td>0.500000</td>\n",
       "      <td>183.960674</td>\n",
       "    </tr>\n",
       "    <tr>\n",
       "      <th>18</th>\n",
       "      <td>16001001000023</td>\n",
       "      <td>45.590278</td>\n",
       "      <td>52.399306</td>\n",
       "      <td>0</td>\n",
       "      <td>0.500000</td>\n",
       "      <td>65.090278</td>\n",
       "    </tr>\n",
       "    <tr>\n",
       "      <th>19</th>\n",
       "      <td>16001001000023</td>\n",
       "      <td>83.828358</td>\n",
       "      <td>90.343284</td>\n",
       "      <td>1</td>\n",
       "      <td>0.500000</td>\n",
       "      <td>97.063433</td>\n",
       "    </tr>\n",
       "    <tr>\n",
       "      <th>20</th>\n",
       "      <td>16001001000023</td>\n",
       "      <td>206.105191</td>\n",
       "      <td>210.117486</td>\n",
       "      <td>1</td>\n",
       "      <td>0.500000</td>\n",
       "      <td>214.812842</td>\n",
       "    </tr>\n",
       "    <tr>\n",
       "      <th>21</th>\n",
       "      <td>16001001000023</td>\n",
       "      <td>9.704587</td>\n",
       "      <td>10.051376</td>\n",
       "      <td>2</td>\n",
       "      <td>0.500000</td>\n",
       "      <td>10.251376</td>\n",
       "    </tr>\n",
       "    <tr>\n",
       "      <th>22</th>\n",
       "      <td>16001001000023</td>\n",
       "      <td>73.578022</td>\n",
       "      <td>88.487912</td>\n",
       "      <td>2</td>\n",
       "      <td>0.500000</td>\n",
       "      <td>95.030769</td>\n",
       "    </tr>\n",
       "    <tr>\n",
       "      <th>23</th>\n",
       "      <td>16001001000026</td>\n",
       "      <td>254.885993</td>\n",
       "      <td>254.882736</td>\n",
       "      <td>0</td>\n",
       "      <td>0.111111</td>\n",
       "      <td>254.916395</td>\n",
       "    </tr>\n",
       "    <tr>\n",
       "      <th>24</th>\n",
       "      <td>16001001000026</td>\n",
       "      <td>80.733333</td>\n",
       "      <td>69.000000</td>\n",
       "      <td>0</td>\n",
       "      <td>0.000000</td>\n",
       "      <td>197.000000</td>\n",
       "    </tr>\n",
       "    <tr>\n",
       "      <th>25</th>\n",
       "      <td>16001001000026</td>\n",
       "      <td>194.722222</td>\n",
       "      <td>194.888889</td>\n",
       "      <td>0</td>\n",
       "      <td>0.277778</td>\n",
       "      <td>199.944444</td>\n",
       "    </tr>\n",
       "    <tr>\n",
       "      <th>26</th>\n",
       "      <td>16001001000026</td>\n",
       "      <td>226.314286</td>\n",
       "      <td>225.971429</td>\n",
       "      <td>0</td>\n",
       "      <td>0.000000</td>\n",
       "      <td>231.628571</td>\n",
       "    </tr>\n",
       "    <tr>\n",
       "      <th>27</th>\n",
       "      <td>16001001000026</td>\n",
       "      <td>138.800000</td>\n",
       "      <td>139.200000</td>\n",
       "      <td>0</td>\n",
       "      <td>0.277778</td>\n",
       "      <td>136.800000</td>\n",
       "    </tr>\n",
       "    <tr>\n",
       "      <th>29</th>\n",
       "      <td>16001001000026</td>\n",
       "      <td>252.266196</td>\n",
       "      <td>252.720848</td>\n",
       "      <td>1</td>\n",
       "      <td>0.500000</td>\n",
       "      <td>252.618375</td>\n",
       "    </tr>\n",
       "    <tr>\n",
       "      <th>30</th>\n",
       "      <td>16001001000026</td>\n",
       "      <td>162.304636</td>\n",
       "      <td>162.668874</td>\n",
       "      <td>1</td>\n",
       "      <td>0.500000</td>\n",
       "      <td>162.615894</td>\n",
       "    </tr>\n",
       "    <tr>\n",
       "      <th>...</th>\n",
       "      <td>...</td>\n",
       "      <td>...</td>\n",
       "      <td>...</td>\n",
       "      <td>...</td>\n",
       "      <td>...</td>\n",
       "      <td>...</td>\n",
       "    </tr>\n",
       "    <tr>\n",
       "      <th>43108</th>\n",
       "      <td>16056001000037</td>\n",
       "      <td>66.562937</td>\n",
       "      <td>94.444056</td>\n",
       "      <td>1</td>\n",
       "      <td>0.444444</td>\n",
       "      <td>206.884615</td>\n",
       "    </tr>\n",
       "    <tr>\n",
       "      <th>43109</th>\n",
       "      <td>16056001000037</td>\n",
       "      <td>153.331418</td>\n",
       "      <td>188.955939</td>\n",
       "      <td>1</td>\n",
       "      <td>0.222222</td>\n",
       "      <td>207.385057</td>\n",
       "    </tr>\n",
       "    <tr>\n",
       "      <th>43110</th>\n",
       "      <td>16056001000037</td>\n",
       "      <td>98.692708</td>\n",
       "      <td>110.817708</td>\n",
       "      <td>1</td>\n",
       "      <td>0.333333</td>\n",
       "      <td>56.244792</td>\n",
       "    </tr>\n",
       "    <tr>\n",
       "      <th>43111</th>\n",
       "      <td>16056001000053</td>\n",
       "      <td>199.992743</td>\n",
       "      <td>206.671988</td>\n",
       "      <td>0</td>\n",
       "      <td>0.500000</td>\n",
       "      <td>210.306241</td>\n",
       "    </tr>\n",
       "    <tr>\n",
       "      <th>43112</th>\n",
       "      <td>16056001000053</td>\n",
       "      <td>66.073955</td>\n",
       "      <td>74.938907</td>\n",
       "      <td>0</td>\n",
       "      <td>0.500000</td>\n",
       "      <td>79.093248</td>\n",
       "    </tr>\n",
       "    <tr>\n",
       "      <th>43113</th>\n",
       "      <td>16056001000053</td>\n",
       "      <td>161.060694</td>\n",
       "      <td>160.693642</td>\n",
       "      <td>1</td>\n",
       "      <td>0.500000</td>\n",
       "      <td>159.511561</td>\n",
       "    </tr>\n",
       "    <tr>\n",
       "      <th>43114</th>\n",
       "      <td>16056001000053</td>\n",
       "      <td>44.868502</td>\n",
       "      <td>42.928135</td>\n",
       "      <td>1</td>\n",
       "      <td>0.500000</td>\n",
       "      <td>48.214067</td>\n",
       "    </tr>\n",
       "    <tr>\n",
       "      <th>43115</th>\n",
       "      <td>16056001000055</td>\n",
       "      <td>178.731707</td>\n",
       "      <td>191.199187</td>\n",
       "      <td>0</td>\n",
       "      <td>0.500000</td>\n",
       "      <td>209.215447</td>\n",
       "    </tr>\n",
       "    <tr>\n",
       "      <th>43116</th>\n",
       "      <td>16056001000055</td>\n",
       "      <td>63.173228</td>\n",
       "      <td>69.387795</td>\n",
       "      <td>0</td>\n",
       "      <td>0.500000</td>\n",
       "      <td>80.324803</td>\n",
       "    </tr>\n",
       "    <tr>\n",
       "      <th>43117</th>\n",
       "      <td>16056001000055</td>\n",
       "      <td>118.678808</td>\n",
       "      <td>120.701987</td>\n",
       "      <td>1</td>\n",
       "      <td>0.333333</td>\n",
       "      <td>124.099338</td>\n",
       "    </tr>\n",
       "    <tr>\n",
       "      <th>43118</th>\n",
       "      <td>16056001000055</td>\n",
       "      <td>39.385813</td>\n",
       "      <td>37.271626</td>\n",
       "      <td>1</td>\n",
       "      <td>0.333333</td>\n",
       "      <td>44.065744</td>\n",
       "    </tr>\n",
       "    <tr>\n",
       "      <th>43119</th>\n",
       "      <td>16056001000055</td>\n",
       "      <td>214.866667</td>\n",
       "      <td>214.858333</td>\n",
       "      <td>1</td>\n",
       "      <td>0.333333</td>\n",
       "      <td>214.850000</td>\n",
       "    </tr>\n",
       "    <tr>\n",
       "      <th>43120</th>\n",
       "      <td>16056001000072</td>\n",
       "      <td>247.811373</td>\n",
       "      <td>249.169209</td>\n",
       "      <td>0</td>\n",
       "      <td>0.500000</td>\n",
       "      <td>250.725381</td>\n",
       "    </tr>\n",
       "    <tr>\n",
       "      <th>43121</th>\n",
       "      <td>16056001000072</td>\n",
       "      <td>57.698925</td>\n",
       "      <td>74.609319</td>\n",
       "      <td>0</td>\n",
       "      <td>0.500000</td>\n",
       "      <td>148.799283</td>\n",
       "    </tr>\n",
       "    <tr>\n",
       "      <th>43122</th>\n",
       "      <td>16056001000072</td>\n",
       "      <td>58.761905</td>\n",
       "      <td>75.476190</td>\n",
       "      <td>1</td>\n",
       "      <td>0.500000</td>\n",
       "      <td>148.003968</td>\n",
       "    </tr>\n",
       "    <tr>\n",
       "      <th>43123</th>\n",
       "      <td>16056001000072</td>\n",
       "      <td>248.160428</td>\n",
       "      <td>249.526738</td>\n",
       "      <td>1</td>\n",
       "      <td>0.500000</td>\n",
       "      <td>250.653743</td>\n",
       "    </tr>\n",
       "    <tr>\n",
       "      <th>43124</th>\n",
       "      <td>16056001000077</td>\n",
       "      <td>243.338481</td>\n",
       "      <td>243.346203</td>\n",
       "      <td>0</td>\n",
       "      <td>0.333333</td>\n",
       "      <td>243.348777</td>\n",
       "    </tr>\n",
       "    <tr>\n",
       "      <th>43125</th>\n",
       "      <td>16056001000077</td>\n",
       "      <td>35.013889</td>\n",
       "      <td>34.944444</td>\n",
       "      <td>0</td>\n",
       "      <td>0.333333</td>\n",
       "      <td>34.972222</td>\n",
       "    </tr>\n",
       "    <tr>\n",
       "      <th>43126</th>\n",
       "      <td>16056001000077</td>\n",
       "      <td>157.662252</td>\n",
       "      <td>157.662252</td>\n",
       "      <td>0</td>\n",
       "      <td>0.333333</td>\n",
       "      <td>157.662252</td>\n",
       "    </tr>\n",
       "    <tr>\n",
       "      <th>43127</th>\n",
       "      <td>16056001000080</td>\n",
       "      <td>68.203593</td>\n",
       "      <td>60.277445</td>\n",
       "      <td>0</td>\n",
       "      <td>0.333333</td>\n",
       "      <td>206.275449</td>\n",
       "    </tr>\n",
       "    <tr>\n",
       "      <th>43128</th>\n",
       "      <td>16056001000080</td>\n",
       "      <td>247.915832</td>\n",
       "      <td>247.661323</td>\n",
       "      <td>0</td>\n",
       "      <td>0.666667</td>\n",
       "      <td>251.913828</td>\n",
       "    </tr>\n",
       "    <tr>\n",
       "      <th>43129</th>\n",
       "      <td>16056001000082</td>\n",
       "      <td>243.382732</td>\n",
       "      <td>243.384021</td>\n",
       "      <td>0</td>\n",
       "      <td>0.333333</td>\n",
       "      <td>243.382732</td>\n",
       "    </tr>\n",
       "    <tr>\n",
       "      <th>43130</th>\n",
       "      <td>16056001000082</td>\n",
       "      <td>34.140845</td>\n",
       "      <td>34.140845</td>\n",
       "      <td>0</td>\n",
       "      <td>0.333333</td>\n",
       "      <td>34.140845</td>\n",
       "    </tr>\n",
       "    <tr>\n",
       "      <th>43131</th>\n",
       "      <td>16056001000082</td>\n",
       "      <td>157.457516</td>\n",
       "      <td>157.464052</td>\n",
       "      <td>0</td>\n",
       "      <td>0.333333</td>\n",
       "      <td>157.437908</td>\n",
       "    </tr>\n",
       "    <tr>\n",
       "      <th>43132</th>\n",
       "      <td>16056001000083</td>\n",
       "      <td>68.444223</td>\n",
       "      <td>60.537849</td>\n",
       "      <td>0</td>\n",
       "      <td>0.333333</td>\n",
       "      <td>206.396414</td>\n",
       "    </tr>\n",
       "    <tr>\n",
       "      <th>43133</th>\n",
       "      <td>16056001000083</td>\n",
       "      <td>248.618474</td>\n",
       "      <td>248.365462</td>\n",
       "      <td>0</td>\n",
       "      <td>0.666667</td>\n",
       "      <td>252.481928</td>\n",
       "    </tr>\n",
       "    <tr>\n",
       "      <th>43134</th>\n",
       "      <td>16056001000087</td>\n",
       "      <td>68.580517</td>\n",
       "      <td>60.689861</td>\n",
       "      <td>0</td>\n",
       "      <td>0.333333</td>\n",
       "      <td>206.260437</td>\n",
       "    </tr>\n",
       "    <tr>\n",
       "      <th>43135</th>\n",
       "      <td>16056001000087</td>\n",
       "      <td>248.513078</td>\n",
       "      <td>248.257545</td>\n",
       "      <td>0</td>\n",
       "      <td>0.666667</td>\n",
       "      <td>252.376258</td>\n",
       "    </tr>\n",
       "    <tr>\n",
       "      <th>43136</th>\n",
       "      <td>16056001000088</td>\n",
       "      <td>68.281437</td>\n",
       "      <td>60.361277</td>\n",
       "      <td>0</td>\n",
       "      <td>0.333333</td>\n",
       "      <td>206.361277</td>\n",
       "    </tr>\n",
       "    <tr>\n",
       "      <th>43137</th>\n",
       "      <td>16056001000088</td>\n",
       "      <td>248.140281</td>\n",
       "      <td>247.885772</td>\n",
       "      <td>0</td>\n",
       "      <td>0.666667</td>\n",
       "      <td>252.146293</td>\n",
       "    </tr>\n",
       "  </tbody>\n",
       "</table>\n",
       "<p>36910 rows × 6 columns</p>\n",
       "</div>"
      ],
      "text/plain": [
       "                TTBID           b           g img_num  percentage           r\n",
       "0      16001001000009   57.854447   56.692722       0    0.500000   60.746631\n",
       "1      16001001000009  239.106518  238.742448       0    0.500000  239.810811\n",
       "2      16001001000018  166.517781  174.014225       0    0.500000  179.844950\n",
       "3      16001001000018   48.377104   50.838384       0    0.500000   53.707071\n",
       "4      16001001000018  232.319809  234.338902       1    0.250000  236.873508\n",
       "5      16001001000018   98.923567  108.751592       1    0.250000  118.426752\n",
       "6      16001001000018  165.893557  171.966387       1    0.250000  179.302521\n",
       "7      16001001000018   14.328358   16.865672       1    0.250000   18.238806\n",
       "8      16001001000018    9.704587   10.051376       2    0.500000   10.251376\n",
       "9      16001001000018   73.578022   88.487912       2    0.500000   95.030769\n",
       "10     16001001000021   41.233677   49.463918       0    0.500000   65.072165\n",
       "11     16001001000021  160.968970  171.746121       0    0.500000  185.466855\n",
       "12     16001001000021  229.073333  231.626667       1    0.333333  234.495556\n",
       "13     16001001000021   41.554688   48.164062       1    0.333333   52.562500\n",
       "14     16001001000021  152.672986  159.078199       1    0.333333  167.004739\n",
       "15     16001001000021    9.704587   10.051376       2    0.500000   10.251376\n",
       "16     16001001000021   73.578022   88.487912       2    0.500000   95.030769\n",
       "17     16001001000023  159.852528  170.150281       0    0.500000  183.960674\n",
       "18     16001001000023   45.590278   52.399306       0    0.500000   65.090278\n",
       "19     16001001000023   83.828358   90.343284       1    0.500000   97.063433\n",
       "20     16001001000023  206.105191  210.117486       1    0.500000  214.812842\n",
       "21     16001001000023    9.704587   10.051376       2    0.500000   10.251376\n",
       "22     16001001000023   73.578022   88.487912       2    0.500000   95.030769\n",
       "23     16001001000026  254.885993  254.882736       0    0.111111  254.916395\n",
       "24     16001001000026   80.733333   69.000000       0    0.000000  197.000000\n",
       "25     16001001000026  194.722222  194.888889       0    0.277778  199.944444\n",
       "26     16001001000026  226.314286  225.971429       0    0.000000  231.628571\n",
       "27     16001001000026  138.800000  139.200000       0    0.277778  136.800000\n",
       "29     16001001000026  252.266196  252.720848       1    0.500000  252.618375\n",
       "30     16001001000026  162.304636  162.668874       1    0.500000  162.615894\n",
       "...               ...         ...         ...     ...         ...         ...\n",
       "43108  16056001000037   66.562937   94.444056       1    0.444444  206.884615\n",
       "43109  16056001000037  153.331418  188.955939       1    0.222222  207.385057\n",
       "43110  16056001000037   98.692708  110.817708       1    0.333333   56.244792\n",
       "43111  16056001000053  199.992743  206.671988       0    0.500000  210.306241\n",
       "43112  16056001000053   66.073955   74.938907       0    0.500000   79.093248\n",
       "43113  16056001000053  161.060694  160.693642       1    0.500000  159.511561\n",
       "43114  16056001000053   44.868502   42.928135       1    0.500000   48.214067\n",
       "43115  16056001000055  178.731707  191.199187       0    0.500000  209.215447\n",
       "43116  16056001000055   63.173228   69.387795       0    0.500000   80.324803\n",
       "43117  16056001000055  118.678808  120.701987       1    0.333333  124.099338\n",
       "43118  16056001000055   39.385813   37.271626       1    0.333333   44.065744\n",
       "43119  16056001000055  214.866667  214.858333       1    0.333333  214.850000\n",
       "43120  16056001000072  247.811373  249.169209       0    0.500000  250.725381\n",
       "43121  16056001000072   57.698925   74.609319       0    0.500000  148.799283\n",
       "43122  16056001000072   58.761905   75.476190       1    0.500000  148.003968\n",
       "43123  16056001000072  248.160428  249.526738       1    0.500000  250.653743\n",
       "43124  16056001000077  243.338481  243.346203       0    0.333333  243.348777\n",
       "43125  16056001000077   35.013889   34.944444       0    0.333333   34.972222\n",
       "43126  16056001000077  157.662252  157.662252       0    0.333333  157.662252\n",
       "43127  16056001000080   68.203593   60.277445       0    0.333333  206.275449\n",
       "43128  16056001000080  247.915832  247.661323       0    0.666667  251.913828\n",
       "43129  16056001000082  243.382732  243.384021       0    0.333333  243.382732\n",
       "43130  16056001000082   34.140845   34.140845       0    0.333333   34.140845\n",
       "43131  16056001000082  157.457516  157.464052       0    0.333333  157.437908\n",
       "43132  16056001000083   68.444223   60.537849       0    0.333333  206.396414\n",
       "43133  16056001000083  248.618474  248.365462       0    0.666667  252.481928\n",
       "43134  16056001000087   68.580517   60.689861       0    0.333333  206.260437\n",
       "43135  16056001000087  248.513078  248.257545       0    0.666667  252.376258\n",
       "43136  16056001000088   68.281437   60.361277       0    0.333333  206.361277\n",
       "43137  16056001000088  248.140281  247.885772       0    0.666667  252.146293\n",
       "\n",
       "[36910 rows x 6 columns]"
      ]
     },
     "execution_count": 121,
     "metadata": {},
     "output_type": "execute_result"
    }
   ],
   "source": [
    "df_colors.groupby(['TTBID', 'img_num']).head()"
   ]
  },
  {
   "cell_type": "code",
   "execution_count": 25,
   "metadata": {
    "collapsed": true
   },
   "outputs": [],
   "source": [
    "num_colors = df_colors.groupby(['TTBID', 'img_num'])['percentage'].count()\n",
    "num_colors = num_colors.unstack()"
   ]
  },
  {
   "cell_type": "code",
   "execution_count": 145,
   "metadata": {},
   "outputs": [
    {
     "data": {
      "text/plain": [
       "'0'"
      ]
     },
     "execution_count": 145,
     "metadata": {},
     "output_type": "execute_result"
    }
   ],
   "source": [
    "num_colors.columns"
   ]
  },
  {
   "cell_type": "code",
   "execution_count": 26,
   "metadata": {},
   "outputs": [
    {
     "data": {
      "text/html": [
       "<div>\n",
       "<style>\n",
       "    .dataframe thead tr:only-child th {\n",
       "        text-align: right;\n",
       "    }\n",
       "\n",
       "    .dataframe thead th {\n",
       "        text-align: left;\n",
       "    }\n",
       "\n",
       "    .dataframe tbody tr th {\n",
       "        vertical-align: top;\n",
       "    }\n",
       "</style>\n",
       "<table border=\"1\" class=\"dataframe\">\n",
       "  <thead>\n",
       "    <tr style=\"text-align: right;\">\n",
       "      <th>img_num</th>\n",
       "      <th>0</th>\n",
       "      <th>1</th>\n",
       "      <th>2</th>\n",
       "      <th>3</th>\n",
       "      <th>4</th>\n",
       "      <th>5</th>\n",
       "      <th>6</th>\n",
       "      <th>7</th>\n",
       "    </tr>\n",
       "    <tr>\n",
       "      <th>TTBID</th>\n",
       "      <th></th>\n",
       "      <th></th>\n",
       "      <th></th>\n",
       "      <th></th>\n",
       "      <th></th>\n",
       "      <th></th>\n",
       "      <th></th>\n",
       "      <th></th>\n",
       "    </tr>\n",
       "  </thead>\n",
       "  <tbody>\n",
       "    <tr>\n",
       "      <th>16001001000009</th>\n",
       "      <td>2.0</td>\n",
       "      <td>NaN</td>\n",
       "      <td>NaN</td>\n",
       "      <td>NaN</td>\n",
       "      <td>NaN</td>\n",
       "      <td>NaN</td>\n",
       "      <td>NaN</td>\n",
       "      <td>NaN</td>\n",
       "    </tr>\n",
       "    <tr>\n",
       "      <th>16001001000018</th>\n",
       "      <td>2.0</td>\n",
       "      <td>4.0</td>\n",
       "      <td>2.0</td>\n",
       "      <td>NaN</td>\n",
       "      <td>NaN</td>\n",
       "      <td>NaN</td>\n",
       "      <td>NaN</td>\n",
       "      <td>NaN</td>\n",
       "    </tr>\n",
       "    <tr>\n",
       "      <th>16001001000021</th>\n",
       "      <td>2.0</td>\n",
       "      <td>3.0</td>\n",
       "      <td>2.0</td>\n",
       "      <td>NaN</td>\n",
       "      <td>NaN</td>\n",
       "      <td>NaN</td>\n",
       "      <td>NaN</td>\n",
       "      <td>NaN</td>\n",
       "    </tr>\n",
       "    <tr>\n",
       "      <th>16001001000023</th>\n",
       "      <td>2.0</td>\n",
       "      <td>2.0</td>\n",
       "      <td>2.0</td>\n",
       "      <td>NaN</td>\n",
       "      <td>NaN</td>\n",
       "      <td>NaN</td>\n",
       "      <td>NaN</td>\n",
       "      <td>NaN</td>\n",
       "    </tr>\n",
       "    <tr>\n",
       "      <th>16001001000026</th>\n",
       "      <td>6.0</td>\n",
       "      <td>2.0</td>\n",
       "      <td>NaN</td>\n",
       "      <td>NaN</td>\n",
       "      <td>NaN</td>\n",
       "      <td>NaN</td>\n",
       "      <td>NaN</td>\n",
       "      <td>NaN</td>\n",
       "    </tr>\n",
       "  </tbody>\n",
       "</table>\n",
       "</div>"
      ],
      "text/plain": [
       "img_num           0    1    2   3   4   5   6   7\n",
       "TTBID                                            \n",
       "16001001000009  2.0  NaN  NaN NaN NaN NaN NaN NaN\n",
       "16001001000018  2.0  4.0  2.0 NaN NaN NaN NaN NaN\n",
       "16001001000021  2.0  3.0  2.0 NaN NaN NaN NaN NaN\n",
       "16001001000023  2.0  2.0  2.0 NaN NaN NaN NaN NaN\n",
       "16001001000026  6.0  2.0  NaN NaN NaN NaN NaN NaN"
      ]
     },
     "execution_count": 26,
     "metadata": {},
     "output_type": "execute_result"
    }
   ],
   "source": [
    "num_colors.head()"
   ]
  },
  {
   "cell_type": "code",
   "execution_count": 144,
   "metadata": {},
   "outputs": [
    {
     "data": {
      "text/plain": [
       "6"
      ]
     },
     "execution_count": 144,
     "metadata": {},
     "output_type": "execute_result"
    }
   ],
   "source": [
    "len(num_colors.columns)"
   ]
  },
  {
   "cell_type": "code",
   "execution_count": 28,
   "metadata": {},
   "outputs": [
    {
     "name": "stderr",
     "output_type": "stream",
     "text": [
      "IOPub data rate exceeded.\n",
      "The notebook server will temporarily stop sending output\n",
      "to the client in order to avoid crashing it.\n",
      "To change this limit, set the config variable\n",
      "`--NotebookApp.iopub_data_rate_limit`.\n"
     ]
    }
   ],
   "source": [
    "data = []\n",
    "for col in num_colors.columns:\n",
    "    data.append(\n",
    "        dict(\n",
    "            type='histogram',\n",
    "            histfunc='count',\n",
    "            histnorm='percent',\n",
    "            name='Img {}'.format(col),\n",
    "            x=num_colors[col])\n",
    "    )\n",
    "\n",
    "layout = dict(\n",
    "            title = 'Number of dominant colors detected in each image',\n",
    "            xaxis = dict(title='Number of colors', tickangle = 0),\n",
    "            yaxis = dict(title='Frequency')\n",
    "             )\n",
    "\n",
    "# clean version, no labels\n",
    "#layout = dict(\n",
    "#            xaxis = dict(visible = False),\n",
    "#            yaxis = dict(visible = False)\n",
    "#             )\n",
    "\n",
    "fig = dict( data=data, layout=layout )\n",
    "plotly.offline.iplot( fig )"
   ]
  },
  {
   "cell_type": "markdown",
   "metadata": {},
   "source": [
    "# Popular colors"
   ]
  },
  {
   "cell_type": "markdown",
   "metadata": {},
   "source": [
    "Find the popular color for each of our broad classes of drinks"
   ]
  },
  {
   "cell_type": "markdown",
   "metadata": {},
   "source": [
    "##### Clean up the data"
   ]
  },
  {
   "cell_type": "markdown",
   "metadata": {},
   "source": [
    "Notice that there are some extreme and invalid values in here"
   ]
  },
  {
   "cell_type": "code",
   "execution_count": 52,
   "metadata": {},
   "outputs": [
    {
     "data": {
      "text/plain": [
       "count    195973.000000\n",
       "mean        155.808500\n",
       "std          78.379905\n",
       "min           0.000000\n",
       "25%          92.393617\n",
       "50%         169.175926\n",
       "75%         228.836364\n",
       "max         255.000000\n",
       "Name: r, dtype: float64"
      ]
     },
     "execution_count": 52,
     "metadata": {},
     "output_type": "execute_result"
    }
   ],
   "source": [
    "df_colors['r'].describe()"
   ]
  },
  {
   "cell_type": "markdown",
   "metadata": {},
   "source": [
    "Apply ceiling and floors to cap them out"
   ]
  },
  {
   "cell_type": "code",
   "execution_count": 51,
   "metadata": {
    "collapsed": true
   },
   "outputs": [],
   "source": [
    "df_colors[['r', 'g', 'b']] = df_colors[['r', 'g', 'b']].clip(lower=0.0, upper=255.0)"
   ]
  },
  {
   "cell_type": "markdown",
   "metadata": {},
   "source": [
    "##### Discretize the color space"
   ]
  },
  {
   "cell_type": "markdown",
   "metadata": {},
   "source": [
    "Calculate our bins and the labels we want associated with the bins"
   ]
  },
  {
   "cell_type": "code",
   "execution_count": 89,
   "metadata": {
    "collapsed": true
   },
   "outputs": [],
   "source": [
    "bins = np.linspace(0, 255, 5)\n",
    "labels = (bins[1:] + bins[:-1]) / 2"
   ]
  },
  {
   "cell_type": "markdown",
   "metadata": {},
   "source": [
    "Apply a `binned` categorical label to each of the rgb values"
   ]
  },
  {
   "cell_type": "code",
   "execution_count": 90,
   "metadata": {
    "collapsed": true
   },
   "outputs": [],
   "source": [
    "df_colors[['dr', 'dg', 'db']] = df_colors[['r', 'g', 'b']].apply(lambda x: pd.cut(x, bins, labels=labels, right=True, include_lowest=True))"
   ]
  },
  {
   "cell_type": "code",
   "execution_count": 91,
   "metadata": {},
   "outputs": [
    {
     "data": {
      "text/html": [
       "<div>\n",
       "<style>\n",
       "    .dataframe thead tr:only-child th {\n",
       "        text-align: right;\n",
       "    }\n",
       "\n",
       "    .dataframe thead th {\n",
       "        text-align: left;\n",
       "    }\n",
       "\n",
       "    .dataframe tbody tr th {\n",
       "        vertical-align: top;\n",
       "    }\n",
       "</style>\n",
       "<table border=\"1\" class=\"dataframe\">\n",
       "  <thead>\n",
       "    <tr style=\"text-align: right;\">\n",
       "      <th></th>\n",
       "      <th>TTBID</th>\n",
       "      <th>b</th>\n",
       "      <th>g</th>\n",
       "      <th>img_num</th>\n",
       "      <th>percentage</th>\n",
       "      <th>r</th>\n",
       "      <th>dr</th>\n",
       "      <th>dg</th>\n",
       "      <th>db</th>\n",
       "      <th>str_color</th>\n",
       "    </tr>\n",
       "  </thead>\n",
       "  <tbody>\n",
       "    <tr>\n",
       "      <th>0</th>\n",
       "      <td>16001001000009</td>\n",
       "      <td>57.854447</td>\n",
       "      <td>56.692722</td>\n",
       "      <td>0</td>\n",
       "      <td>0.50</td>\n",
       "      <td>60.746631</td>\n",
       "      <td>31.875</td>\n",
       "      <td>31.875</td>\n",
       "      <td>31.875</td>\n",
       "      <td>rgb(70, 70, 70)</td>\n",
       "    </tr>\n",
       "    <tr>\n",
       "      <th>1</th>\n",
       "      <td>16001001000009</td>\n",
       "      <td>239.106518</td>\n",
       "      <td>238.742448</td>\n",
       "      <td>0</td>\n",
       "      <td>0.50</td>\n",
       "      <td>239.810811</td>\n",
       "      <td>223.125</td>\n",
       "      <td>223.125</td>\n",
       "      <td>223.125</td>\n",
       "      <td>rgb(240, 240, 240)</td>\n",
       "    </tr>\n",
       "    <tr>\n",
       "      <th>2</th>\n",
       "      <td>16001001000018</td>\n",
       "      <td>166.517781</td>\n",
       "      <td>174.014225</td>\n",
       "      <td>0</td>\n",
       "      <td>0.50</td>\n",
       "      <td>179.844950</td>\n",
       "      <td>159.375</td>\n",
       "      <td>159.375</td>\n",
       "      <td>159.375</td>\n",
       "      <td>rgb(184, 184, 155)</td>\n",
       "    </tr>\n",
       "    <tr>\n",
       "      <th>3</th>\n",
       "      <td>16001001000018</td>\n",
       "      <td>48.377104</td>\n",
       "      <td>50.838384</td>\n",
       "      <td>0</td>\n",
       "      <td>0.50</td>\n",
       "      <td>53.707071</td>\n",
       "      <td>31.875</td>\n",
       "      <td>31.875</td>\n",
       "      <td>31.875</td>\n",
       "      <td>rgb(42, 42, 42)</td>\n",
       "    </tr>\n",
       "    <tr>\n",
       "      <th>4</th>\n",
       "      <td>16001001000018</td>\n",
       "      <td>232.319809</td>\n",
       "      <td>234.338902</td>\n",
       "      <td>1</td>\n",
       "      <td>0.25</td>\n",
       "      <td>236.873508</td>\n",
       "      <td>223.125</td>\n",
       "      <td>223.125</td>\n",
       "      <td>223.125</td>\n",
       "      <td>rgb(240, 240, 240)</td>\n",
       "    </tr>\n",
       "  </tbody>\n",
       "</table>\n",
       "</div>"
      ],
      "text/plain": [
       "            TTBID           b           g img_num  percentage           r  \\\n",
       "0  16001001000009   57.854447   56.692722       0        0.50   60.746631   \n",
       "1  16001001000009  239.106518  238.742448       0        0.50  239.810811   \n",
       "2  16001001000018  166.517781  174.014225       0        0.50  179.844950   \n",
       "3  16001001000018   48.377104   50.838384       0        0.50   53.707071   \n",
       "4  16001001000018  232.319809  234.338902       1        0.25  236.873508   \n",
       "\n",
       "        dr       dg       db           str_color  \n",
       "0   31.875   31.875   31.875     rgb(70, 70, 70)  \n",
       "1  223.125  223.125  223.125  rgb(240, 240, 240)  \n",
       "2  159.375  159.375  159.375  rgb(184, 184, 155)  \n",
       "3   31.875   31.875   31.875     rgb(42, 42, 42)  \n",
       "4  223.125  223.125  223.125  rgb(240, 240, 240)  "
      ]
     },
     "execution_count": 91,
     "metadata": {},
     "output_type": "execute_result"
    }
   ],
   "source": [
    "df_colors.head()"
   ]
  },
  {
   "cell_type": "code",
   "execution_count": 92,
   "metadata": {},
   "outputs": [
    {
     "data": {
      "text/plain": [
       "0"
      ]
     },
     "execution_count": 92,
     "metadata": {},
     "output_type": "execute_result"
    }
   ],
   "source": [
    "df_colors['dr'].isnull().sum()"
   ]
  },
  {
   "cell_type": "markdown",
   "metadata": {},
   "source": [
    "Create tuple strings, so we can more easily count the groupings of colors"
   ]
  },
  {
   "cell_type": "code",
   "execution_count": 93,
   "metadata": {
    "collapsed": true
   },
   "outputs": [],
   "source": [
    "df_colors['str_color'] = ['rgb({}, {}, {})'.format(int(r),int(g),int(b)) for (r,g,b) in zip(df_colors['dr'], df_colors['dg'], df_colors['db'])]"
   ]
  },
  {
   "cell_type": "code",
   "execution_count": 94,
   "metadata": {
    "collapsed": true
   },
   "outputs": [],
   "source": [
    "agg_colors = df_colors[['percentage', 'str_color']].groupby('str_color').sum()  # sum the percentage for each color combo\n",
    "agg_colors.reset_index(inplace=True)  # bump str_color column back over\n",
    "agg_colors.rename(columns={'percentage': 'agg_perc'}, inplace=True)  # rename percentage \n",
    "\n",
    "# add in the color channels individually\n",
    "agg_colors = pd.merge(agg_colors, df_colors[['dr', 'dg', 'db', 'str_color']], left_on='str_color', right_on='str_color', how='left')\n",
    "agg_colors.drop_duplicates(inplace=True)\n",
    "\n",
    "#agg_colors[['dr', 'dg', 'db']] = agg_colors[['dr', 'dg', 'db']].apply(lambda x: x.cat.add_categories([0]))  # add 0 as a category\n",
    "#agg_colors[['dr', 'dg', 'db']] = agg_colors[['dr', 'dg', 'db']].apply(lambda x: x.fillna(0))  # change NaN to 0"
   ]
  },
  {
   "cell_type": "code",
   "execution_count": 95,
   "metadata": {
    "collapsed": true
   },
   "outputs": [],
   "source": [
    "agg_colors['perc_scaled'] = agg_colors['agg_perc'] / agg_colors['agg_perc'].sum()"
   ]
  },
  {
   "cell_type": "code",
   "execution_count": 96,
   "metadata": {},
   "outputs": [
    {
     "data": {
      "text/plain": [
       "(64, 6)"
      ]
     },
     "execution_count": 96,
     "metadata": {},
     "output_type": "execute_result"
    }
   ],
   "source": [
    "agg_colors.shape"
   ]
  },
  {
   "cell_type": "code",
   "execution_count": 97,
   "metadata": {},
   "outputs": [
    {
     "data": {
      "text/html": [
       "<div>\n",
       "<style>\n",
       "    .dataframe thead tr:only-child th {\n",
       "        text-align: right;\n",
       "    }\n",
       "\n",
       "    .dataframe thead th {\n",
       "        text-align: left;\n",
       "    }\n",
       "\n",
       "    .dataframe tbody tr th {\n",
       "        vertical-align: top;\n",
       "    }\n",
       "</style>\n",
       "<table border=\"1\" class=\"dataframe\">\n",
       "  <thead>\n",
       "    <tr style=\"text-align: right;\">\n",
       "      <th></th>\n",
       "      <th>str_color</th>\n",
       "      <th>agg_perc</th>\n",
       "      <th>dr</th>\n",
       "      <th>dg</th>\n",
       "      <th>db</th>\n",
       "      <th>perc_scaled</th>\n",
       "    </tr>\n",
       "  </thead>\n",
       "  <tbody>\n",
       "    <tr>\n",
       "      <th>0</th>\n",
       "      <td>rgb(159, 159, 159)</td>\n",
       "      <td>7185.212037</td>\n",
       "      <td>159.375</td>\n",
       "      <td>159.375</td>\n",
       "      <td>159.375</td>\n",
       "      <td>0.128892</td>\n",
       "    </tr>\n",
       "    <tr>\n",
       "      <th>26975</th>\n",
       "      <td>rgb(159, 159, 223)</td>\n",
       "      <td>207.106349</td>\n",
       "      <td>159.375</td>\n",
       "      <td>159.375</td>\n",
       "      <td>223.125</td>\n",
       "      <td>0.003715</td>\n",
       "    </tr>\n",
       "    <tr>\n",
       "      <th>27824</th>\n",
       "      <td>rgb(159, 159, 31)</td>\n",
       "      <td>192.655688</td>\n",
       "      <td>159.375</td>\n",
       "      <td>159.375</td>\n",
       "      <td>31.875</td>\n",
       "      <td>0.003456</td>\n",
       "    </tr>\n",
       "    <tr>\n",
       "      <th>28679</th>\n",
       "      <td>rgb(159, 159, 95)</td>\n",
       "      <td>1721.512302</td>\n",
       "      <td>159.375</td>\n",
       "      <td>159.375</td>\n",
       "      <td>95.625</td>\n",
       "      <td>0.030881</td>\n",
       "    </tr>\n",
       "    <tr>\n",
       "      <th>33966</th>\n",
       "      <td>rgb(159, 223, 159)</td>\n",
       "      <td>134.723413</td>\n",
       "      <td>159.375</td>\n",
       "      <td>223.125</td>\n",
       "      <td>159.375</td>\n",
       "      <td>0.002417</td>\n",
       "    </tr>\n",
       "  </tbody>\n",
       "</table>\n",
       "</div>"
      ],
      "text/plain": [
       "                str_color     agg_perc       dr       dg       db  perc_scaled\n",
       "0      rgb(159, 159, 159)  7185.212037  159.375  159.375  159.375     0.128892\n",
       "26975  rgb(159, 159, 223)   207.106349  159.375  159.375  223.125     0.003715\n",
       "27824   rgb(159, 159, 31)   192.655688  159.375  159.375   31.875     0.003456\n",
       "28679   rgb(159, 159, 95)  1721.512302  159.375  159.375   95.625     0.030881\n",
       "33966  rgb(159, 223, 159)   134.723413  159.375  223.125  159.375     0.002417"
      ]
     },
     "execution_count": 97,
     "metadata": {},
     "output_type": "execute_result"
    }
   ],
   "source": [
    "agg_colors.head()"
   ]
  },
  {
   "cell_type": "code",
   "execution_count": 98,
   "metadata": {
    "collapsed": true
   },
   "outputs": [],
   "source": [
    "agg_colors.sort_values('str_color', inplace=True)"
   ]
  },
  {
   "cell_type": "code",
   "execution_count": 99,
   "metadata": {},
   "outputs": [
    {
     "data": {
      "application/vnd.plotly.v1+json": {
       "data": [
        {
         "marker": {
          "color": "rgb(159, 159, 159)"
         },
         "name": "rgb(159, 159, 159)",
         "type": "bar",
         "x": [
          1
         ],
         "y": [
          0.12889197497644284
         ]
        },
        {
         "marker": {
          "color": "rgb(159, 159, 223)"
         },
         "name": "rgb(159, 159, 223)",
         "type": "bar",
         "x": [
          1
         ],
         "y": [
          0.0037151786532906524
         ]
        },
        {
         "marker": {
          "color": "rgb(159, 159, 31)"
         },
         "name": "rgb(159, 159, 31)",
         "type": "bar",
         "x": [
          1
         ],
         "y": [
          0.003455955365957744
         ]
        },
        {
         "marker": {
          "color": "rgb(159, 159, 95)"
         },
         "name": "rgb(159, 159, 95)",
         "type": "bar",
         "x": [
          1
         ],
         "y": [
          0.03088136012605733
         ]
        },
        {
         "marker": {
          "color": "rgb(159, 223, 159)"
         },
         "name": "rgb(159, 223, 159)",
         "type": "bar",
         "x": [
          1
         ],
         "y": [
          0.0024167368546336486
         ]
        },
        {
         "marker": {
          "color": "rgb(159, 223, 223)"
         },
         "name": "rgb(159, 223, 223)",
         "type": "bar",
         "x": [
          1
         ],
         "y": [
          0.005643167127847388
         ]
        },
        {
         "marker": {
          "color": "rgb(159, 223, 31)"
         },
         "name": "rgb(159, 223, 31)",
         "type": "bar",
         "x": [
          1
         ],
         "y": [
          0.0007114848394939939
         ]
        },
        {
         "marker": {
          "color": "rgb(159, 223, 95)"
         },
         "name": "rgb(159, 223, 95)",
         "type": "bar",
         "x": [
          1
         ],
         "y": [
          0.0009673078781175801
         ]
        },
        {
         "marker": {
          "color": "rgb(159, 31, 159)"
         },
         "name": "rgb(159, 31, 159)",
         "type": "bar",
         "x": [
          1
         ],
         "y": [
          0.00026509601277296485
         ]
        },
        {
         "marker": {
          "color": "rgb(159, 31, 223)"
         },
         "name": "rgb(159, 31, 223)",
         "type": "bar",
         "x": [
          1
         ],
         "y": [
          0.00024370980089775019
         ]
        },
        {
         "marker": {
          "color": "rgb(159, 31, 31)"
         },
         "name": "rgb(159, 31, 31)",
         "type": "bar",
         "x": [
          1
         ],
         "y": [
          0.008977790799804495
         ]
        },
        {
         "marker": {
          "color": "rgb(159, 31, 95)"
         },
         "name": "rgb(159, 31, 95)",
         "type": "bar",
         "x": [
          1
         ],
         "y": [
          0.0030113508986431376
         ]
        },
        {
         "marker": {
          "color": "rgb(159, 95, 159)"
         },
         "name": "rgb(159, 95, 159)",
         "type": "bar",
         "x": [
          1
         ],
         "y": [
          0.0025494628223971
         ]
        },
        {
         "marker": {
          "color": "rgb(159, 95, 223)"
         },
         "name": "rgb(159, 95, 223)",
         "type": "bar",
         "x": [
          1
         ],
         "y": [
          0.00030343126619091296
         ]
        },
        {
         "marker": {
          "color": "rgb(159, 95, 31)"
         },
         "name": "rgb(159, 95, 31)",
         "type": "bar",
         "x": [
          1
         ],
         "y": [
          0.009474739640132198
         ]
        },
        {
         "marker": {
          "color": "rgb(159, 95, 95)"
         },
         "name": "rgb(159, 95, 95)",
         "type": "bar",
         "x": [
          1
         ],
         "y": [
          0.029087200979801425
         ]
        },
        {
         "marker": {
          "color": "rgb(223, 159, 159)"
         },
         "name": "rgb(223, 159, 159)",
         "type": "bar",
         "x": [
          1
         ],
         "y": [
          0.02344505653666713
         ]
        },
        {
         "marker": {
          "color": "rgb(223, 159, 223)"
         },
         "name": "rgb(223, 159, 223)",
         "type": "bar",
         "x": [
          1
         ],
         "y": [
          0.002392033442691691
         ]
        },
        {
         "marker": {
          "color": "rgb(223, 159, 31)"
         },
         "name": "rgb(223, 159, 31)",
         "type": "bar",
         "x": [
          1
         ],
         "y": [
          0.008031302029974204
         ]
        },
        {
         "marker": {
          "color": "rgb(223, 159, 95)"
         },
         "name": "rgb(223, 159, 95)",
         "type": "bar",
         "x": [
          1
         ],
         "y": [
          0.01448672759304833
         ]
        },
        {
         "marker": {
          "color": "rgb(223, 223, 159)"
         },
         "name": "rgb(223, 223, 159)",
         "type": "bar",
         "x": [
          1
         ],
         "y": [
          0.03439879284289441
         ]
        },
        {
         "marker": {
          "color": "rgb(223, 223, 223)"
         },
         "name": "rgb(223, 223, 223)",
         "type": "bar",
         "x": [
          1
         ],
         "y": [
          0.3019098553966797
         ]
        },
        {
         "marker": {
          "color": "rgb(223, 223, 31)"
         },
         "name": "rgb(223, 223, 31)",
         "type": "bar",
         "x": [
          1
         ],
         "y": [
          0.0037575737989219205
         ]
        },
        {
         "marker": {
          "color": "rgb(223, 223, 95)"
         },
         "name": "rgb(223, 223, 95)",
         "type": "bar",
         "x": [
          1
         ],
         "y": [
          0.005044984365025055
         ]
        },
        {
         "marker": {
          "color": "rgb(223, 31, 159)"
         },
         "name": "rgb(223, 31, 159)",
         "type": "bar",
         "x": [
          1
         ],
         "y": [
          0.0004046841712324263
         ]
        },
        {
         "marker": {
          "color": "rgb(223, 31, 223)"
         },
         "name": "rgb(223, 31, 223)",
         "type": "bar",
         "x": [
          1
         ],
         "y": [
          0.00013902580050823279
         ]
        },
        {
         "marker": {
          "color": "rgb(223, 31, 31)"
         },
         "name": "rgb(223, 31, 31)",
         "type": "bar",
         "x": [
          1
         ],
         "y": [
          0.00581531984547422
         ]
        },
        {
         "marker": {
          "color": "rgb(223, 31, 95)"
         },
         "name": "rgb(223, 31, 95)",
         "type": "bar",
         "x": [
          1
         ],
         "y": [
          0.0014566803094230479
         ]
        },
        {
         "marker": {
          "color": "rgb(223, 95, 159)"
         },
         "name": "rgb(223, 95, 159)",
         "type": "bar",
         "x": [
          1
         ],
         "y": [
          0.0013364235021393743
         ]
        },
        {
         "marker": {
          "color": "rgb(223, 95, 223)"
         },
         "name": "rgb(223, 95, 223)",
         "type": "bar",
         "x": [
          1
         ],
         "y": [
          0.00021010357447051562
         ]
        },
        {
         "marker": {
          "color": "rgb(223, 95, 31)"
         },
         "name": "rgb(223, 95, 31)",
         "type": "bar",
         "x": [
          1
         ],
         "y": [
          0.004281399552808995
         ]
        },
        {
         "marker": {
          "color": "rgb(223, 95, 95)"
         },
         "name": "rgb(223, 95, 95)",
         "type": "bar",
         "x": [
          1
         ],
         "y": [
          0.0061655027518046305
         ]
        },
        {
         "marker": {
          "color": "rgb(31, 159, 159)"
         },
         "name": "rgb(31, 159, 159)",
         "type": "bar",
         "x": [
          1
         ],
         "y": [
          0.002165716400369924
         ]
        },
        {
         "marker": {
          "color": "rgb(31, 159, 223)"
         },
         "name": "rgb(31, 159, 223)",
         "type": "bar",
         "x": [
          1
         ],
         "y": [
          0.002381163561786297
         ]
        },
        {
         "marker": {
          "color": "rgb(31, 159, 31)"
         },
         "name": "rgb(31, 159, 31)",
         "type": "bar",
         "x": [
          1
         ],
         "y": [
          0.00016805723313812867
         ]
        },
        {
         "marker": {
          "color": "rgb(31, 159, 95)"
         },
         "name": "rgb(31, 159, 95)",
         "type": "bar",
         "x": [
          1
         ],
         "y": [
          0.0012409863748972768
         ]
        },
        {
         "marker": {
          "color": "rgb(31, 223, 159)"
         },
         "name": "rgb(31, 223, 159)",
         "type": "bar",
         "x": [
          1
         ],
         "y": [
          0.00038026549749362303
         ]
        },
        {
         "marker": {
          "color": "rgb(31, 223, 223)"
         },
         "name": "rgb(31, 223, 223)",
         "type": "bar",
         "x": [
          1
         ],
         "y": [
          0.0011513958720932727
         ]
        },
        {
         "marker": {
          "color": "rgb(31, 223, 31)"
         },
         "name": "rgb(31, 223, 31)",
         "type": "bar",
         "x": [
          1
         ],
         "y": [
          0.0002732039331077711
         ]
        },
        {
         "marker": {
          "color": "rgb(31, 223, 95)"
         },
         "name": "rgb(31, 223, 95)",
         "type": "bar",
         "x": [
          1
         ],
         "y": [
          8.460283861209127e-05
         ]
        },
        {
         "marker": {
          "color": "rgb(31, 31, 159)"
         },
         "name": "rgb(31, 31, 159)",
         "type": "bar",
         "x": [
          1
         ],
         "y": [
          0.0009924573799111474
         ]
        },
        {
         "marker": {
          "color": "rgb(31, 31, 223)"
         },
         "name": "rgb(31, 31, 223)",
         "type": "bar",
         "x": [
          1
         ],
         "y": [
          0.00059647196078507
         ]
        },
        {
         "marker": {
          "color": "rgb(31, 31, 31)"
         },
         "name": "rgb(31, 31, 31)",
         "type": "bar",
         "x": [
          1
         ],
         "y": [
          0.14580706860690604
         ]
        },
        {
         "marker": {
          "color": "rgb(31, 31, 95)"
         },
         "name": "rgb(31, 31, 95)",
         "type": "bar",
         "x": [
          1
         ],
         "y": [
          0.008602313649760574
         ]
        },
        {
         "marker": {
          "color": "rgb(31, 95, 159)"
         },
         "name": "rgb(31, 95, 159)",
         "type": "bar",
         "x": [
          1
         ],
         "y": [
          0.0050797176801731046
         ]
        },
        {
         "marker": {
          "color": "rgb(31, 95, 223)"
         },
         "name": "rgb(31, 95, 223)",
         "type": "bar",
         "x": [
          1
         ],
         "y": [
          0.0010269273122212813
         ]
        },
        {
         "marker": {
          "color": "rgb(31, 95, 31)"
         },
         "name": "rgb(31, 95, 31)",
         "type": "bar",
         "x": [
          1
         ],
         "y": [
          0.003077849133171364
         ]
        },
        {
         "marker": {
          "color": "rgb(31, 95, 95)"
         },
         "name": "rgb(31, 95, 95)",
         "type": "bar",
         "x": [
          1
         ],
         "y": [
          0.007948054070645447
         ]
        },
        {
         "marker": {
          "color": "rgb(95, 159, 159)"
         },
         "name": "rgb(95, 159, 159)",
         "type": "bar",
         "x": [
          1
         ],
         "y": [
          0.006191969167787788
         ]
        },
        {
         "marker": {
          "color": "rgb(95, 159, 223)"
         },
         "name": "rgb(95, 159, 223)",
         "type": "bar",
         "x": [
          1
         ],
         "y": [
          0.002603344781707252
         ]
        },
        {
         "marker": {
          "color": "rgb(95, 159, 31)"
         },
         "name": "rgb(95, 159, 31)",
         "type": "bar",
         "x": [
          1
         ],
         "y": [
          0.0008251143650992618
         ]
        },
        {
         "marker": {
          "color": "rgb(95, 159, 95)"
         },
         "name": "rgb(95, 159, 95)",
         "type": "bar",
         "x": [
          1
         ],
         "y": [
          0.004490537390207144
         ]
        },
        {
         "marker": {
          "color": "rgb(95, 223, 159)"
         },
         "name": "rgb(95, 223, 159)",
         "type": "bar",
         "x": [
          1
         ],
         "y": [
          0.00041974682217926556
         ]
        },
        {
         "marker": {
          "color": "rgb(95, 223, 223)"
         },
         "name": "rgb(95, 223, 223)",
         "type": "bar",
         "x": [
          1
         ],
         "y": [
          0.00161538626540593
         ]
        },
        {
         "marker": {
          "color": "rgb(95, 223, 31)"
         },
         "name": "rgb(95, 223, 31)",
         "type": "bar",
         "x": [
          1
         ],
         "y": [
          9.910075878934209e-05
         ]
        },
        {
         "marker": {
          "color": "rgb(95, 223, 95)"
         },
         "name": "rgb(95, 223, 95)",
         "type": "bar",
         "x": [
          1
         ],
         "y": [
          0.0002048382905305287
         ]
        },
        {
         "marker": {
          "color": "rgb(95, 31, 159)"
         },
         "name": "rgb(95, 31, 159)",
         "type": "bar",
         "x": [
          1
         ],
         "y": [
          0.0004116412746628189
         ]
        },
        {
         "marker": {
          "color": "rgb(95, 31, 223)"
         },
         "name": "rgb(95, 31, 223)",
         "type": "bar",
         "x": [
          1
         ],
         "y": [
          0.00015971677660408016
         ]
        },
        {
         "marker": {
          "color": "rgb(95, 31, 31)"
         },
         "name": "rgb(95, 31, 31)",
         "type": "bar",
         "x": [
          1
         ],
         "y": [
          0.022812707562284727
         ]
        },
        {
         "marker": {
          "color": "rgb(95, 31, 95)"
         },
         "name": "rgb(95, 31, 95)",
         "type": "bar",
         "x": [
          1
         ],
         "y": [
          0.004975949587670401
         ]
        },
        {
         "marker": {
          "color": "rgb(95, 95, 159)"
         },
         "name": "rgb(95, 95, 159)",
         "type": "bar",
         "x": [
          1
         ],
         "y": [
          0.006134985934881607
         ]
        },
        {
         "marker": {
          "color": "rgb(95, 95, 223)"
         },
         "name": "rgb(95, 95, 223)",
         "type": "bar",
         "x": [
          1
         ],
         "y": [
          0.0005242765893754079
         ]
        },
        {
         "marker": {
          "color": "rgb(95, 95, 31)"
         },
         "name": "rgb(95, 95, 31)",
         "type": "bar",
         "x": [
          1
         ],
         "y": [
          0.018645122614913197
         ]
        },
        {
         "marker": {
          "color": "rgb(95, 95, 95)"
         },
         "name": "rgb(95, 95, 95)",
         "type": "bar",
         "x": [
          1
         ],
         "y": [
          0.10503789675658388
         ]
        }
       ],
       "layout": {
        "barmode": "stack"
       }
      },
      "text/html": [
       "<div id=\"0363e60f-5afd-47b9-8e3d-a6d11afc8c49\" style=\"height: 525px; width: 100%;\" class=\"plotly-graph-div\"></div><script type=\"text/javascript\">require([\"plotly\"], function(Plotly) { window.PLOTLYENV=window.PLOTLYENV || {};window.PLOTLYENV.BASE_URL=\"https://plot.ly\";Plotly.newPlot(\"0363e60f-5afd-47b9-8e3d-a6d11afc8c49\", [{\"type\": \"bar\", \"name\": \"rgb(159, 159, 159)\", \"x\": [1], \"y\": [0.12889197497644284], \"marker\": {\"color\": \"rgb(159, 159, 159)\"}}, {\"type\": \"bar\", \"name\": \"rgb(159, 159, 223)\", \"x\": [1], \"y\": [0.0037151786532906524], \"marker\": {\"color\": \"rgb(159, 159, 223)\"}}, {\"type\": \"bar\", \"name\": \"rgb(159, 159, 31)\", \"x\": [1], \"y\": [0.003455955365957744], \"marker\": {\"color\": \"rgb(159, 159, 31)\"}}, {\"type\": \"bar\", \"name\": \"rgb(159, 159, 95)\", \"x\": [1], \"y\": [0.03088136012605733], \"marker\": {\"color\": \"rgb(159, 159, 95)\"}}, {\"type\": \"bar\", \"name\": \"rgb(159, 223, 159)\", \"x\": [1], \"y\": [0.0024167368546336486], \"marker\": {\"color\": \"rgb(159, 223, 159)\"}}, {\"type\": \"bar\", \"name\": \"rgb(159, 223, 223)\", \"x\": [1], \"y\": [0.005643167127847388], \"marker\": {\"color\": \"rgb(159, 223, 223)\"}}, {\"type\": \"bar\", \"name\": \"rgb(159, 223, 31)\", \"x\": [1], \"y\": [0.0007114848394939939], \"marker\": {\"color\": \"rgb(159, 223, 31)\"}}, {\"type\": \"bar\", \"name\": \"rgb(159, 223, 95)\", \"x\": [1], \"y\": [0.0009673078781175801], \"marker\": {\"color\": \"rgb(159, 223, 95)\"}}, {\"type\": \"bar\", \"name\": \"rgb(159, 31, 159)\", \"x\": [1], \"y\": [0.00026509601277296485], \"marker\": {\"color\": \"rgb(159, 31, 159)\"}}, {\"type\": \"bar\", \"name\": \"rgb(159, 31, 223)\", \"x\": [1], \"y\": [0.00024370980089775019], \"marker\": {\"color\": \"rgb(159, 31, 223)\"}}, {\"type\": \"bar\", \"name\": \"rgb(159, 31, 31)\", \"x\": [1], \"y\": [0.008977790799804495], \"marker\": {\"color\": \"rgb(159, 31, 31)\"}}, {\"type\": \"bar\", \"name\": \"rgb(159, 31, 95)\", \"x\": [1], \"y\": [0.0030113508986431376], \"marker\": {\"color\": \"rgb(159, 31, 95)\"}}, {\"type\": \"bar\", \"name\": \"rgb(159, 95, 159)\", \"x\": [1], \"y\": [0.0025494628223971], \"marker\": {\"color\": \"rgb(159, 95, 159)\"}}, {\"type\": \"bar\", \"name\": \"rgb(159, 95, 223)\", \"x\": [1], \"y\": [0.00030343126619091296], \"marker\": {\"color\": \"rgb(159, 95, 223)\"}}, {\"type\": \"bar\", \"name\": \"rgb(159, 95, 31)\", \"x\": [1], \"y\": [0.009474739640132198], \"marker\": {\"color\": \"rgb(159, 95, 31)\"}}, {\"type\": \"bar\", \"name\": \"rgb(159, 95, 95)\", \"x\": [1], \"y\": [0.029087200979801425], \"marker\": {\"color\": \"rgb(159, 95, 95)\"}}, {\"type\": \"bar\", \"name\": \"rgb(223, 159, 159)\", \"x\": [1], \"y\": [0.02344505653666713], \"marker\": {\"color\": \"rgb(223, 159, 159)\"}}, {\"type\": \"bar\", \"name\": \"rgb(223, 159, 223)\", \"x\": [1], \"y\": [0.002392033442691691], \"marker\": {\"color\": \"rgb(223, 159, 223)\"}}, {\"type\": \"bar\", \"name\": \"rgb(223, 159, 31)\", \"x\": [1], \"y\": [0.008031302029974204], \"marker\": {\"color\": \"rgb(223, 159, 31)\"}}, {\"type\": \"bar\", \"name\": \"rgb(223, 159, 95)\", \"x\": [1], \"y\": [0.01448672759304833], \"marker\": {\"color\": \"rgb(223, 159, 95)\"}}, {\"type\": \"bar\", \"name\": \"rgb(223, 223, 159)\", \"x\": [1], \"y\": [0.03439879284289441], \"marker\": {\"color\": \"rgb(223, 223, 159)\"}}, {\"type\": \"bar\", \"name\": \"rgb(223, 223, 223)\", \"x\": [1], \"y\": [0.3019098553966797], \"marker\": {\"color\": \"rgb(223, 223, 223)\"}}, {\"type\": \"bar\", \"name\": \"rgb(223, 223, 31)\", \"x\": [1], \"y\": [0.0037575737989219205], \"marker\": {\"color\": \"rgb(223, 223, 31)\"}}, {\"type\": \"bar\", \"name\": \"rgb(223, 223, 95)\", \"x\": [1], \"y\": [0.005044984365025055], \"marker\": {\"color\": \"rgb(223, 223, 95)\"}}, {\"type\": \"bar\", \"name\": \"rgb(223, 31, 159)\", \"x\": [1], \"y\": [0.0004046841712324263], \"marker\": {\"color\": \"rgb(223, 31, 159)\"}}, {\"type\": \"bar\", \"name\": \"rgb(223, 31, 223)\", \"x\": [1], \"y\": [0.00013902580050823279], \"marker\": {\"color\": \"rgb(223, 31, 223)\"}}, {\"type\": \"bar\", \"name\": \"rgb(223, 31, 31)\", \"x\": [1], \"y\": [0.00581531984547422], \"marker\": {\"color\": \"rgb(223, 31, 31)\"}}, {\"type\": \"bar\", \"name\": \"rgb(223, 31, 95)\", \"x\": [1], \"y\": [0.0014566803094230479], \"marker\": {\"color\": \"rgb(223, 31, 95)\"}}, {\"type\": \"bar\", \"name\": \"rgb(223, 95, 159)\", \"x\": [1], \"y\": [0.0013364235021393743], \"marker\": {\"color\": \"rgb(223, 95, 159)\"}}, {\"type\": \"bar\", \"name\": \"rgb(223, 95, 223)\", \"x\": [1], \"y\": [0.00021010357447051562], \"marker\": {\"color\": \"rgb(223, 95, 223)\"}}, {\"type\": \"bar\", \"name\": \"rgb(223, 95, 31)\", \"x\": [1], \"y\": [0.004281399552808995], \"marker\": {\"color\": \"rgb(223, 95, 31)\"}}, {\"type\": \"bar\", \"name\": \"rgb(223, 95, 95)\", \"x\": [1], \"y\": [0.0061655027518046305], \"marker\": {\"color\": \"rgb(223, 95, 95)\"}}, {\"type\": \"bar\", \"name\": \"rgb(31, 159, 159)\", \"x\": [1], \"y\": [0.002165716400369924], \"marker\": {\"color\": \"rgb(31, 159, 159)\"}}, {\"type\": \"bar\", \"name\": \"rgb(31, 159, 223)\", \"x\": [1], \"y\": [0.002381163561786297], \"marker\": {\"color\": \"rgb(31, 159, 223)\"}}, {\"type\": \"bar\", \"name\": \"rgb(31, 159, 31)\", \"x\": [1], \"y\": [0.00016805723313812867], \"marker\": {\"color\": \"rgb(31, 159, 31)\"}}, {\"type\": \"bar\", \"name\": \"rgb(31, 159, 95)\", \"x\": [1], \"y\": [0.0012409863748972768], \"marker\": {\"color\": \"rgb(31, 159, 95)\"}}, {\"type\": \"bar\", \"name\": \"rgb(31, 223, 159)\", \"x\": [1], \"y\": [0.00038026549749362303], \"marker\": {\"color\": \"rgb(31, 223, 159)\"}}, {\"type\": \"bar\", \"name\": \"rgb(31, 223, 223)\", \"x\": [1], \"y\": [0.0011513958720932727], \"marker\": {\"color\": \"rgb(31, 223, 223)\"}}, {\"type\": \"bar\", \"name\": \"rgb(31, 223, 31)\", \"x\": [1], \"y\": [0.0002732039331077711], \"marker\": {\"color\": \"rgb(31, 223, 31)\"}}, {\"type\": \"bar\", \"name\": \"rgb(31, 223, 95)\", \"x\": [1], \"y\": [8.460283861209127e-05], \"marker\": {\"color\": \"rgb(31, 223, 95)\"}}, {\"type\": \"bar\", \"name\": \"rgb(31, 31, 159)\", \"x\": [1], \"y\": [0.0009924573799111474], \"marker\": {\"color\": \"rgb(31, 31, 159)\"}}, {\"type\": \"bar\", \"name\": \"rgb(31, 31, 223)\", \"x\": [1], \"y\": [0.00059647196078507], \"marker\": {\"color\": \"rgb(31, 31, 223)\"}}, {\"type\": \"bar\", \"name\": \"rgb(31, 31, 31)\", \"x\": [1], \"y\": [0.14580706860690604], \"marker\": {\"color\": \"rgb(31, 31, 31)\"}}, {\"type\": \"bar\", \"name\": \"rgb(31, 31, 95)\", \"x\": [1], \"y\": [0.008602313649760574], \"marker\": {\"color\": \"rgb(31, 31, 95)\"}}, {\"type\": \"bar\", \"name\": \"rgb(31, 95, 159)\", \"x\": [1], \"y\": [0.0050797176801731046], \"marker\": {\"color\": \"rgb(31, 95, 159)\"}}, {\"type\": \"bar\", \"name\": \"rgb(31, 95, 223)\", \"x\": [1], \"y\": [0.0010269273122212813], \"marker\": {\"color\": \"rgb(31, 95, 223)\"}}, {\"type\": \"bar\", \"name\": \"rgb(31, 95, 31)\", \"x\": [1], \"y\": [0.003077849133171364], \"marker\": {\"color\": \"rgb(31, 95, 31)\"}}, {\"type\": \"bar\", \"name\": \"rgb(31, 95, 95)\", \"x\": [1], \"y\": [0.007948054070645447], \"marker\": {\"color\": \"rgb(31, 95, 95)\"}}, {\"type\": \"bar\", \"name\": \"rgb(95, 159, 159)\", \"x\": [1], \"y\": [0.006191969167787788], \"marker\": {\"color\": \"rgb(95, 159, 159)\"}}, {\"type\": \"bar\", \"name\": \"rgb(95, 159, 223)\", \"x\": [1], \"y\": [0.002603344781707252], \"marker\": {\"color\": \"rgb(95, 159, 223)\"}}, {\"type\": \"bar\", \"name\": \"rgb(95, 159, 31)\", \"x\": [1], \"y\": [0.0008251143650992618], \"marker\": {\"color\": \"rgb(95, 159, 31)\"}}, {\"type\": \"bar\", \"name\": \"rgb(95, 159, 95)\", \"x\": [1], \"y\": [0.004490537390207144], \"marker\": {\"color\": \"rgb(95, 159, 95)\"}}, {\"type\": \"bar\", \"name\": \"rgb(95, 223, 159)\", \"x\": [1], \"y\": [0.00041974682217926556], \"marker\": {\"color\": \"rgb(95, 223, 159)\"}}, {\"type\": \"bar\", \"name\": \"rgb(95, 223, 223)\", \"x\": [1], \"y\": [0.00161538626540593], \"marker\": {\"color\": \"rgb(95, 223, 223)\"}}, {\"type\": \"bar\", \"name\": \"rgb(95, 223, 31)\", \"x\": [1], \"y\": [9.910075878934209e-05], \"marker\": {\"color\": \"rgb(95, 223, 31)\"}}, {\"type\": \"bar\", \"name\": \"rgb(95, 223, 95)\", \"x\": [1], \"y\": [0.0002048382905305287], \"marker\": {\"color\": \"rgb(95, 223, 95)\"}}, {\"type\": \"bar\", \"name\": \"rgb(95, 31, 159)\", \"x\": [1], \"y\": [0.0004116412746628189], \"marker\": {\"color\": \"rgb(95, 31, 159)\"}}, {\"type\": \"bar\", \"name\": \"rgb(95, 31, 223)\", \"x\": [1], \"y\": [0.00015971677660408016], \"marker\": {\"color\": \"rgb(95, 31, 223)\"}}, {\"type\": \"bar\", \"name\": \"rgb(95, 31, 31)\", \"x\": [1], \"y\": [0.022812707562284727], \"marker\": {\"color\": \"rgb(95, 31, 31)\"}}, {\"type\": \"bar\", \"name\": \"rgb(95, 31, 95)\", \"x\": [1], \"y\": [0.004975949587670401], \"marker\": {\"color\": \"rgb(95, 31, 95)\"}}, {\"type\": \"bar\", \"name\": \"rgb(95, 95, 159)\", \"x\": [1], \"y\": [0.006134985934881607], \"marker\": {\"color\": \"rgb(95, 95, 159)\"}}, {\"type\": \"bar\", \"name\": \"rgb(95, 95, 223)\", \"x\": [1], \"y\": [0.0005242765893754079], \"marker\": {\"color\": \"rgb(95, 95, 223)\"}}, {\"type\": \"bar\", \"name\": \"rgb(95, 95, 31)\", \"x\": [1], \"y\": [0.018645122614913197], \"marker\": {\"color\": \"rgb(95, 95, 31)\"}}, {\"type\": \"bar\", \"name\": \"rgb(95, 95, 95)\", \"x\": [1], \"y\": [0.10503789675658388], \"marker\": {\"color\": \"rgb(95, 95, 95)\"}}], {\"barmode\": \"stack\"}, {\"showLink\": true, \"linkText\": \"Export to plot.ly\"})});</script>"
      ],
      "text/vnd.plotly.v1+html": [
       "<div id=\"0363e60f-5afd-47b9-8e3d-a6d11afc8c49\" style=\"height: 525px; width: 100%;\" class=\"plotly-graph-div\"></div><script type=\"text/javascript\">require([\"plotly\"], function(Plotly) { window.PLOTLYENV=window.PLOTLYENV || {};window.PLOTLYENV.BASE_URL=\"https://plot.ly\";Plotly.newPlot(\"0363e60f-5afd-47b9-8e3d-a6d11afc8c49\", [{\"type\": \"bar\", \"name\": \"rgb(159, 159, 159)\", \"x\": [1], \"y\": [0.12889197497644284], \"marker\": {\"color\": \"rgb(159, 159, 159)\"}}, {\"type\": \"bar\", \"name\": \"rgb(159, 159, 223)\", \"x\": [1], \"y\": [0.0037151786532906524], \"marker\": {\"color\": \"rgb(159, 159, 223)\"}}, {\"type\": \"bar\", \"name\": \"rgb(159, 159, 31)\", \"x\": [1], \"y\": [0.003455955365957744], \"marker\": {\"color\": \"rgb(159, 159, 31)\"}}, {\"type\": \"bar\", \"name\": \"rgb(159, 159, 95)\", \"x\": [1], \"y\": [0.03088136012605733], \"marker\": {\"color\": \"rgb(159, 159, 95)\"}}, {\"type\": \"bar\", \"name\": \"rgb(159, 223, 159)\", \"x\": [1], \"y\": [0.0024167368546336486], \"marker\": {\"color\": \"rgb(159, 223, 159)\"}}, {\"type\": \"bar\", \"name\": \"rgb(159, 223, 223)\", \"x\": [1], \"y\": [0.005643167127847388], \"marker\": {\"color\": \"rgb(159, 223, 223)\"}}, {\"type\": \"bar\", \"name\": \"rgb(159, 223, 31)\", \"x\": [1], \"y\": [0.0007114848394939939], \"marker\": {\"color\": \"rgb(159, 223, 31)\"}}, {\"type\": \"bar\", \"name\": \"rgb(159, 223, 95)\", \"x\": [1], \"y\": [0.0009673078781175801], \"marker\": {\"color\": \"rgb(159, 223, 95)\"}}, {\"type\": \"bar\", \"name\": \"rgb(159, 31, 159)\", \"x\": [1], \"y\": [0.00026509601277296485], \"marker\": {\"color\": \"rgb(159, 31, 159)\"}}, {\"type\": \"bar\", \"name\": \"rgb(159, 31, 223)\", \"x\": [1], \"y\": [0.00024370980089775019], \"marker\": {\"color\": \"rgb(159, 31, 223)\"}}, {\"type\": \"bar\", \"name\": \"rgb(159, 31, 31)\", \"x\": [1], \"y\": [0.008977790799804495], \"marker\": {\"color\": \"rgb(159, 31, 31)\"}}, {\"type\": \"bar\", \"name\": \"rgb(159, 31, 95)\", \"x\": [1], \"y\": [0.0030113508986431376], \"marker\": {\"color\": \"rgb(159, 31, 95)\"}}, {\"type\": \"bar\", \"name\": \"rgb(159, 95, 159)\", \"x\": [1], \"y\": [0.0025494628223971], \"marker\": {\"color\": \"rgb(159, 95, 159)\"}}, {\"type\": \"bar\", \"name\": \"rgb(159, 95, 223)\", \"x\": [1], \"y\": [0.00030343126619091296], \"marker\": {\"color\": \"rgb(159, 95, 223)\"}}, {\"type\": \"bar\", \"name\": \"rgb(159, 95, 31)\", \"x\": [1], \"y\": [0.009474739640132198], \"marker\": {\"color\": \"rgb(159, 95, 31)\"}}, {\"type\": \"bar\", \"name\": \"rgb(159, 95, 95)\", \"x\": [1], \"y\": [0.029087200979801425], \"marker\": {\"color\": \"rgb(159, 95, 95)\"}}, {\"type\": \"bar\", \"name\": \"rgb(223, 159, 159)\", \"x\": [1], \"y\": [0.02344505653666713], \"marker\": {\"color\": \"rgb(223, 159, 159)\"}}, {\"type\": \"bar\", \"name\": \"rgb(223, 159, 223)\", \"x\": [1], \"y\": [0.002392033442691691], \"marker\": {\"color\": \"rgb(223, 159, 223)\"}}, {\"type\": \"bar\", \"name\": \"rgb(223, 159, 31)\", \"x\": [1], \"y\": [0.008031302029974204], \"marker\": {\"color\": \"rgb(223, 159, 31)\"}}, {\"type\": \"bar\", \"name\": \"rgb(223, 159, 95)\", \"x\": [1], \"y\": [0.01448672759304833], \"marker\": {\"color\": \"rgb(223, 159, 95)\"}}, {\"type\": \"bar\", \"name\": \"rgb(223, 223, 159)\", \"x\": [1], \"y\": [0.03439879284289441], \"marker\": {\"color\": \"rgb(223, 223, 159)\"}}, {\"type\": \"bar\", \"name\": \"rgb(223, 223, 223)\", \"x\": [1], \"y\": [0.3019098553966797], \"marker\": {\"color\": \"rgb(223, 223, 223)\"}}, {\"type\": \"bar\", \"name\": \"rgb(223, 223, 31)\", \"x\": [1], \"y\": [0.0037575737989219205], \"marker\": {\"color\": \"rgb(223, 223, 31)\"}}, {\"type\": \"bar\", \"name\": \"rgb(223, 223, 95)\", \"x\": [1], \"y\": [0.005044984365025055], \"marker\": {\"color\": \"rgb(223, 223, 95)\"}}, {\"type\": \"bar\", \"name\": \"rgb(223, 31, 159)\", \"x\": [1], \"y\": [0.0004046841712324263], \"marker\": {\"color\": \"rgb(223, 31, 159)\"}}, {\"type\": \"bar\", \"name\": \"rgb(223, 31, 223)\", \"x\": [1], \"y\": [0.00013902580050823279], \"marker\": {\"color\": \"rgb(223, 31, 223)\"}}, {\"type\": \"bar\", \"name\": \"rgb(223, 31, 31)\", \"x\": [1], \"y\": [0.00581531984547422], \"marker\": {\"color\": \"rgb(223, 31, 31)\"}}, {\"type\": \"bar\", \"name\": \"rgb(223, 31, 95)\", \"x\": [1], \"y\": [0.0014566803094230479], \"marker\": {\"color\": \"rgb(223, 31, 95)\"}}, {\"type\": \"bar\", \"name\": \"rgb(223, 95, 159)\", \"x\": [1], \"y\": [0.0013364235021393743], \"marker\": {\"color\": \"rgb(223, 95, 159)\"}}, {\"type\": \"bar\", \"name\": \"rgb(223, 95, 223)\", \"x\": [1], \"y\": [0.00021010357447051562], \"marker\": {\"color\": \"rgb(223, 95, 223)\"}}, {\"type\": \"bar\", \"name\": \"rgb(223, 95, 31)\", \"x\": [1], \"y\": [0.004281399552808995], \"marker\": {\"color\": \"rgb(223, 95, 31)\"}}, {\"type\": \"bar\", \"name\": \"rgb(223, 95, 95)\", \"x\": [1], \"y\": [0.0061655027518046305], \"marker\": {\"color\": \"rgb(223, 95, 95)\"}}, {\"type\": \"bar\", \"name\": \"rgb(31, 159, 159)\", \"x\": [1], \"y\": [0.002165716400369924], \"marker\": {\"color\": \"rgb(31, 159, 159)\"}}, {\"type\": \"bar\", \"name\": \"rgb(31, 159, 223)\", \"x\": [1], \"y\": [0.002381163561786297], \"marker\": {\"color\": \"rgb(31, 159, 223)\"}}, {\"type\": \"bar\", \"name\": \"rgb(31, 159, 31)\", \"x\": [1], \"y\": [0.00016805723313812867], \"marker\": {\"color\": \"rgb(31, 159, 31)\"}}, {\"type\": \"bar\", \"name\": \"rgb(31, 159, 95)\", \"x\": [1], \"y\": [0.0012409863748972768], \"marker\": {\"color\": \"rgb(31, 159, 95)\"}}, {\"type\": \"bar\", \"name\": \"rgb(31, 223, 159)\", \"x\": [1], \"y\": [0.00038026549749362303], \"marker\": {\"color\": \"rgb(31, 223, 159)\"}}, {\"type\": \"bar\", \"name\": \"rgb(31, 223, 223)\", \"x\": [1], \"y\": [0.0011513958720932727], \"marker\": {\"color\": \"rgb(31, 223, 223)\"}}, {\"type\": \"bar\", \"name\": \"rgb(31, 223, 31)\", \"x\": [1], \"y\": [0.0002732039331077711], \"marker\": {\"color\": \"rgb(31, 223, 31)\"}}, {\"type\": \"bar\", \"name\": \"rgb(31, 223, 95)\", \"x\": [1], \"y\": [8.460283861209127e-05], \"marker\": {\"color\": \"rgb(31, 223, 95)\"}}, {\"type\": \"bar\", \"name\": \"rgb(31, 31, 159)\", \"x\": [1], \"y\": [0.0009924573799111474], \"marker\": {\"color\": \"rgb(31, 31, 159)\"}}, {\"type\": \"bar\", \"name\": \"rgb(31, 31, 223)\", \"x\": [1], \"y\": [0.00059647196078507], \"marker\": {\"color\": \"rgb(31, 31, 223)\"}}, {\"type\": \"bar\", \"name\": \"rgb(31, 31, 31)\", \"x\": [1], \"y\": [0.14580706860690604], \"marker\": {\"color\": \"rgb(31, 31, 31)\"}}, {\"type\": \"bar\", \"name\": \"rgb(31, 31, 95)\", \"x\": [1], \"y\": [0.008602313649760574], \"marker\": {\"color\": \"rgb(31, 31, 95)\"}}, {\"type\": \"bar\", \"name\": \"rgb(31, 95, 159)\", \"x\": [1], \"y\": [0.0050797176801731046], \"marker\": {\"color\": \"rgb(31, 95, 159)\"}}, {\"type\": \"bar\", \"name\": \"rgb(31, 95, 223)\", \"x\": [1], \"y\": [0.0010269273122212813], \"marker\": {\"color\": \"rgb(31, 95, 223)\"}}, {\"type\": \"bar\", \"name\": \"rgb(31, 95, 31)\", \"x\": [1], \"y\": [0.003077849133171364], \"marker\": {\"color\": \"rgb(31, 95, 31)\"}}, {\"type\": \"bar\", \"name\": \"rgb(31, 95, 95)\", \"x\": [1], \"y\": [0.007948054070645447], \"marker\": {\"color\": \"rgb(31, 95, 95)\"}}, {\"type\": \"bar\", \"name\": \"rgb(95, 159, 159)\", \"x\": [1], \"y\": [0.006191969167787788], \"marker\": {\"color\": \"rgb(95, 159, 159)\"}}, {\"type\": \"bar\", \"name\": \"rgb(95, 159, 223)\", \"x\": [1], \"y\": [0.002603344781707252], \"marker\": {\"color\": \"rgb(95, 159, 223)\"}}, {\"type\": \"bar\", \"name\": \"rgb(95, 159, 31)\", \"x\": [1], \"y\": [0.0008251143650992618], \"marker\": {\"color\": \"rgb(95, 159, 31)\"}}, {\"type\": \"bar\", \"name\": \"rgb(95, 159, 95)\", \"x\": [1], \"y\": [0.004490537390207144], \"marker\": {\"color\": \"rgb(95, 159, 95)\"}}, {\"type\": \"bar\", \"name\": \"rgb(95, 223, 159)\", \"x\": [1], \"y\": [0.00041974682217926556], \"marker\": {\"color\": \"rgb(95, 223, 159)\"}}, {\"type\": \"bar\", \"name\": \"rgb(95, 223, 223)\", \"x\": [1], \"y\": [0.00161538626540593], \"marker\": {\"color\": \"rgb(95, 223, 223)\"}}, {\"type\": \"bar\", \"name\": \"rgb(95, 223, 31)\", \"x\": [1], \"y\": [9.910075878934209e-05], \"marker\": {\"color\": \"rgb(95, 223, 31)\"}}, {\"type\": \"bar\", \"name\": \"rgb(95, 223, 95)\", \"x\": [1], \"y\": [0.0002048382905305287], \"marker\": {\"color\": \"rgb(95, 223, 95)\"}}, {\"type\": \"bar\", \"name\": \"rgb(95, 31, 159)\", \"x\": [1], \"y\": [0.0004116412746628189], \"marker\": {\"color\": \"rgb(95, 31, 159)\"}}, {\"type\": \"bar\", \"name\": \"rgb(95, 31, 223)\", \"x\": [1], \"y\": [0.00015971677660408016], \"marker\": {\"color\": \"rgb(95, 31, 223)\"}}, {\"type\": \"bar\", \"name\": \"rgb(95, 31, 31)\", \"x\": [1], \"y\": [0.022812707562284727], \"marker\": {\"color\": \"rgb(95, 31, 31)\"}}, {\"type\": \"bar\", \"name\": \"rgb(95, 31, 95)\", \"x\": [1], \"y\": [0.004975949587670401], \"marker\": {\"color\": \"rgb(95, 31, 95)\"}}, {\"type\": \"bar\", \"name\": \"rgb(95, 95, 159)\", \"x\": [1], \"y\": [0.006134985934881607], \"marker\": {\"color\": \"rgb(95, 95, 159)\"}}, {\"type\": \"bar\", \"name\": \"rgb(95, 95, 223)\", \"x\": [1], \"y\": [0.0005242765893754079], \"marker\": {\"color\": \"rgb(95, 95, 223)\"}}, {\"type\": \"bar\", \"name\": \"rgb(95, 95, 31)\", \"x\": [1], \"y\": [0.018645122614913197], \"marker\": {\"color\": \"rgb(95, 95, 31)\"}}, {\"type\": \"bar\", \"name\": \"rgb(95, 95, 95)\", \"x\": [1], \"y\": [0.10503789675658388], \"marker\": {\"color\": \"rgb(95, 95, 95)\"}}], {\"barmode\": \"stack\"}, {\"showLink\": true, \"linkText\": \"Export to plot.ly\"})});</script>"
      ]
     },
     "metadata": {},
     "output_type": "display_data"
    }
   ],
   "source": [
    "data = []\n",
    "for (scaled, color) in zip(agg_colors['perc_scaled'], agg_colors['str_color']):\n",
    "    data.append(dict(\n",
    "                    type = 'bar',\n",
    "                    name = color,\n",
    "                    x = [1],\n",
    "                    y = [scaled],\n",
    "                    marker = dict(color=color)))\n",
    "\n",
    "layout = dict(\n",
    "            barmode='stack')\n",
    "    \n",
    "# clean version, no labels\n",
    "#layout = dict(\n",
    "#            xaxis = dict(visible = False),\n",
    "#            yaxis = dict(visible = False)\n",
    "#             )\n",
    "\n",
    "fig = dict( data=data, layout=layout )\n",
    "plotly.offline.iplot( fig )"
   ]
  },
  {
   "cell_type": "code",
   "execution_count": null,
   "metadata": {
    "collapsed": true
   },
   "outputs": [],
   "source": []
  },
  {
   "cell_type": "code",
   "execution_count": null,
   "metadata": {
    "collapsed": true
   },
   "outputs": [],
   "source": []
  },
  {
   "cell_type": "code",
   "execution_count": 185,
   "metadata": {
    "collapsed": true
   },
   "outputs": [
    {
     "data": {
      "text/html": [
       "<div>\n",
       "<style>\n",
       "    .dataframe thead tr:only-child th {\n",
       "        text-align: right;\n",
       "    }\n",
       "\n",
       "    .dataframe thead th {\n",
       "        text-align: left;\n",
       "    }\n",
       "\n",
       "    .dataframe tbody tr th {\n",
       "        vertical-align: top;\n",
       "    }\n",
       "</style>\n",
       "<table border=\"1\" class=\"dataframe\">\n",
       "  <thead>\n",
       "    <tr style=\"text-align: right;\">\n",
       "      <th>dr</th>\n",
       "      <th>14.1666666667</th>\n",
       "      <th>42.5</th>\n",
       "      <th>70.8333333333</th>\n",
       "      <th>99.1666666667</th>\n",
       "      <th>127.5</th>\n",
       "      <th>155.833333333</th>\n",
       "      <th>184.166666667</th>\n",
       "      <th>212.5</th>\n",
       "      <th>240.833333333</th>\n",
       "    </tr>\n",
       "    <tr>\n",
       "      <th>dp</th>\n",
       "      <th></th>\n",
       "      <th></th>\n",
       "      <th></th>\n",
       "      <th></th>\n",
       "      <th></th>\n",
       "      <th></th>\n",
       "      <th></th>\n",
       "      <th></th>\n",
       "      <th></th>\n",
       "    </tr>\n",
       "  </thead>\n",
       "  <tbody>\n",
       "    <tr>\n",
       "      <th>0.055556</th>\n",
       "      <td>617.0</td>\n",
       "      <td>581.0</td>\n",
       "      <td>562.0</td>\n",
       "      <td>693.0</td>\n",
       "      <td>755.0</td>\n",
       "      <td>828.0</td>\n",
       "      <td>839.0</td>\n",
       "      <td>1035.0</td>\n",
       "      <td>2040.0</td>\n",
       "    </tr>\n",
       "    <tr>\n",
       "      <th>0.166667</th>\n",
       "      <td>740.0</td>\n",
       "      <td>671.0</td>\n",
       "      <td>685.0</td>\n",
       "      <td>932.0</td>\n",
       "      <td>973.0</td>\n",
       "      <td>1096.0</td>\n",
       "      <td>1371.0</td>\n",
       "      <td>1462.0</td>\n",
       "      <td>2406.0</td>\n",
       "    </tr>\n",
       "    <tr>\n",
       "      <th>0.277778</th>\n",
       "      <td>552.0</td>\n",
       "      <td>616.0</td>\n",
       "      <td>600.0</td>\n",
       "      <td>623.0</td>\n",
       "      <td>759.0</td>\n",
       "      <td>907.0</td>\n",
       "      <td>1064.0</td>\n",
       "      <td>953.0</td>\n",
       "      <td>2195.0</td>\n",
       "    </tr>\n",
       "    <tr>\n",
       "      <th>0.388889</th>\n",
       "      <td>130.0</td>\n",
       "      <td>121.0</td>\n",
       "      <td>76.0</td>\n",
       "      <td>83.0</td>\n",
       "      <td>121.0</td>\n",
       "      <td>111.0</td>\n",
       "      <td>162.0</td>\n",
       "      <td>196.0</td>\n",
       "      <td>273.0</td>\n",
       "    </tr>\n",
       "    <tr>\n",
       "      <th>0.500000</th>\n",
       "      <td>649.0</td>\n",
       "      <td>1041.0</td>\n",
       "      <td>987.0</td>\n",
       "      <td>868.0</td>\n",
       "      <td>1044.0</td>\n",
       "      <td>1323.0</td>\n",
       "      <td>1071.0</td>\n",
       "      <td>950.0</td>\n",
       "      <td>3756.0</td>\n",
       "    </tr>\n",
       "    <tr>\n",
       "      <th>0.611111</th>\n",
       "      <td>123.0</td>\n",
       "      <td>105.0</td>\n",
       "      <td>60.0</td>\n",
       "      <td>55.0</td>\n",
       "      <td>63.0</td>\n",
       "      <td>107.0</td>\n",
       "      <td>196.0</td>\n",
       "      <td>214.0</td>\n",
       "      <td>278.0</td>\n",
       "    </tr>\n",
       "    <tr>\n",
       "      <th>0.722222</th>\n",
       "      <td>7.0</td>\n",
       "      <td>NaN</td>\n",
       "      <td>NaN</td>\n",
       "      <td>NaN</td>\n",
       "      <td>NaN</td>\n",
       "      <td>NaN</td>\n",
       "      <td>NaN</td>\n",
       "      <td>NaN</td>\n",
       "      <td>1.0</td>\n",
       "    </tr>\n",
       "    <tr>\n",
       "      <th>0.833333</th>\n",
       "      <td>59.0</td>\n",
       "      <td>11.0</td>\n",
       "      <td>4.0</td>\n",
       "      <td>5.0</td>\n",
       "      <td>2.0</td>\n",
       "      <td>10.0</td>\n",
       "      <td>25.0</td>\n",
       "      <td>32.0</td>\n",
       "      <td>42.0</td>\n",
       "    </tr>\n",
       "    <tr>\n",
       "      <th>0.944444</th>\n",
       "      <td>3.0</td>\n",
       "      <td>NaN</td>\n",
       "      <td>NaN</td>\n",
       "      <td>NaN</td>\n",
       "      <td>1.0</td>\n",
       "      <td>NaN</td>\n",
       "      <td>NaN</td>\n",
       "      <td>1.0</td>\n",
       "      <td>NaN</td>\n",
       "    </tr>\n",
       "  </tbody>\n",
       "</table>\n",
       "</div>"
      ],
      "text/plain": [
       "dr        14.166667   42.500000   70.833333   99.166667   127.500000  \\\n",
       "dp                                                                     \n",
       "0.055556       617.0       581.0       562.0       693.0       755.0   \n",
       "0.166667       740.0       671.0       685.0       932.0       973.0   \n",
       "0.277778       552.0       616.0       600.0       623.0       759.0   \n",
       "0.388889       130.0       121.0        76.0        83.0       121.0   \n",
       "0.500000       649.0      1041.0       987.0       868.0      1044.0   \n",
       "0.611111       123.0       105.0        60.0        55.0        63.0   \n",
       "0.722222         7.0         NaN         NaN         NaN         NaN   \n",
       "0.833333        59.0        11.0         4.0         5.0         2.0   \n",
       "0.944444         3.0         NaN         NaN         NaN         1.0   \n",
       "\n",
       "dr        155.833333  184.166667  212.500000  240.833333  \n",
       "dp                                                        \n",
       "0.055556       828.0       839.0      1035.0      2040.0  \n",
       "0.166667      1096.0      1371.0      1462.0      2406.0  \n",
       "0.277778       907.0      1064.0       953.0      2195.0  \n",
       "0.388889       111.0       162.0       196.0       273.0  \n",
       "0.500000      1323.0      1071.0       950.0      3756.0  \n",
       "0.611111       107.0       196.0       214.0       278.0  \n",
       "0.722222         NaN         NaN         NaN         1.0  \n",
       "0.833333        10.0        25.0        32.0        42.0  \n",
       "0.944444         NaN         NaN         1.0         NaN  "
      ]
     },
     "execution_count": 185,
     "metadata": {},
     "output_type": "execute_result"
    }
   ],
   "source": []
  },
  {
   "cell_type": "code",
   "execution_count": null,
   "metadata": {
    "collapsed": true
   },
   "outputs": [],
   "source": []
  }
 ],
 "metadata": {
  "kernelspec": {
   "display_name": "Python [conda env:datainc]",
   "language": "python",
   "name": "conda-env-datainc-py"
  },
  "language_info": {
   "codemirror_mode": {
    "name": "ipython",
    "version": 3
   },
   "file_extension": ".py",
   "mimetype": "text/x-python",
   "name": "python",
   "nbconvert_exporter": "python",
   "pygments_lexer": "ipython3",
   "version": "3.6.2"
  }
 },
 "nbformat": 4,
 "nbformat_minor": 2
}
