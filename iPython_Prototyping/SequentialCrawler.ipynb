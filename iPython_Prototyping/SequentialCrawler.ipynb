{
 "cells": [
  {
   "cell_type": "markdown",
   "metadata": {},
   "source": [
    "# Concept"
   ]
  },
  {
   "cell_type": "markdown",
   "metadata": {},
   "source": [
    "The goal here is to build a sequential web scraper based off of the TTBID. I think that the simplest thing to do will just be to start with a basic easy date and then just increment until we get an error back. Since things are _supposedly_ sequential, we can interate easily. A good test will be to try for a small test range. It may also be worth trying to get those parallel scraping tools operational"
   ]
  },
  {
   "cell_type": "markdown",
   "metadata": {},
   "source": [
    "<div class=\"alert alert-block alert-info\">\n",
    "TTB ID - This is a unique, 14 digit number assigned by TTB to track each COLA.  The first 5 digits represent the calendar year and Julian date the application was received by TTB. The next 3 digits tell how the application was received (001 = e-filed; 002 & 003 = mailed/overnight; 000 = hand delivered). The last 6 digits is a sequential number that resets for each day and for each received code.\n",
    "</div>"
   ]
  },
  {
   "cell_type": "markdown",
   "metadata": {},
   "source": [
    "# Imports"
   ]
  },
  {
   "cell_type": "code",
   "execution_count": 57,
   "metadata": {},
   "outputs": [],
   "source": [
    "import requests\n",
    "from bs4 import BeautifulSoup\n",
    "import re\n",
    "\n",
    "import datetime\n",
    "import pymongo\n",
    "import warnings\n",
    "\n",
    "import pandas as pd\n",
    "\n",
    "\n",
    "import sys\n",
    "sys.path.append(r'../ScrapingTools')\n",
    "from TTB_scraping import TTB_Scraper\n",
    "from time import sleep\n"
   ]
  },
  {
   "cell_type": "code",
   "execution_count": null,
   "metadata": {
    "collapsed": true
   },
   "outputs": [],
   "source": []
  },
  {
   "cell_type": "markdown",
   "metadata": {},
   "source": [
    "### Early prototypes"
   ]
  },
  {
   "cell_type": "code",
   "execution_count": 58,
   "metadata": {
    "collapsed": true
   },
   "outputs": [],
   "source": [
    "start_date = '01/30/2016'\n",
    "stop_date = '01/1/2017'"
   ]
  },
  {
   "cell_type": "code",
   "execution_count": 59,
   "metadata": {},
   "outputs": [],
   "source": [
    "# Set up connection to mongodb\n",
    "client = pymongo.MongoClient() # Connect to default client\n",
    "db = client.TTB # Get a database (note: lazy evaluation)\n",
    "TTB = db.TTB # the actual collection\n",
    "\n",
    "# convert dates to datetime format\n",
    "date_start = datetime.datetime.strptime(start_date, '%m/%d/%Y')\n",
    "date_stop = datetime.datetime.strptime(stop_date, '%m/%d/%Y')\n",
    "\n",
    "# iterate over each date\n",
    "curr_date = date_start\n",
    "while (curr_date < date_stop):\n",
    "\n",
    "    # iterate over each recieve code\n",
    "    curr_reccode = 0\n",
    "    while curr_reccode <= 3:\n",
    "\n",
    "        # increment each sequence \n",
    "        cont_seq = True\n",
    "        curr_seqnum = 1\n",
    "        while cont_seq:\n",
    "            # prep the strings for the ttbid\n",
    "            jdate='{year}{day}'.format(year=curr_date.strftime('%y'), day=curr_date.strftime('%j'))\n",
    "            reccode='{:03d}'.format(curr_reccode)\n",
    "            seqnum='{:06d}'.format(curr_seqnum)\n",
    "\n",
    "            # prep the query\n",
    "            ttbid = '{jdate}{reccode}{seqnum}'.format(jdate=jdate, reccode=reccode, seqnum=seqnum)\n",
    "\n",
    "            query = TTB_Scraper(ttbid)\n",
    "            parsed_data = query.get_basic_form_data()\n",
    "\n",
    "            # if we got a valid response\n",
    "            if parsed_data:\n",
    "                query_data = {'_id': ttbid,\n",
    "                         'recieve_date':curr_date.strftime('%m/%d/%Y'),\n",
    "                         'recieve_code': reccode,\n",
    "                         'seq_num': seqnum}\n",
    "                \n",
    "                # concatinated data we will add to our database\n",
    "                output = {**query_data, **parsed_data}\n",
    "\n",
    "                cont_seq = True\n",
    "                curr_seqnum += 1\n",
    "                # Insert result into database\n",
    "                try:\n",
    "                    TTB.insert_one(output)\n",
    "                    #print('Successfully added: {}'.format(ttbid))\n",
    "                except pymongo.errors.DuplicateKeyError:\n",
    "                    warnings.warn('_id: {ttbid} is already in database, skipping...'.format(ttbid=ttbid))\n",
    "            else:\n",
    "                cont_seq = False\n",
    "            sleep(0.1)\n",
    "        curr_reccode += 1\n",
    "    curr_date += datetime.timedelta(days=1)\n"
   ]
  },
  {
   "cell_type": "code",
   "execution_count": 63,
   "metadata": {},
   "outputs": [
    {
     "data": {
      "text/plain": [
       "'16366003000001'"
      ]
     },
     "execution_count": 63,
     "metadata": {},
     "output_type": "execute_result"
    }
   ],
   "source": [
    "ttbid"
   ]
  },
  {
   "cell_type": "code",
   "execution_count": 9,
   "metadata": {
    "collapsed": true
   },
   "outputs": [
    {
     "data": {
      "text/plain": [
       "{'ApprovalDate': '01/20/2016',\n",
       " 'BrandName': 'RUBOR VITICULTORES',\n",
       " 'Class/TypeCode': 'DESSERT /PORT/SHERRY/(COOKING) WINE',\n",
       " 'ContactInformation': 'CHRISTOPHERTERRELL\\nPhone Number:(510) 717-4829\\nFax Number:(419) 710-4829\\n',\n",
       " 'FancifulName': '',\n",
       " 'ForSaleIn': '',\n",
       " 'Formula': '',\n",
       " 'GrapeVarietal(s)': 'N/A',\n",
       " 'OriginCode': 'SPAIN',\n",
       " 'PlantRegistry/BasicPermit/BrewersNo(Other)': '',\n",
       " 'PlantRegistry/BasicPermit/BrewersNo(PrincipalPlaceofBusiness)': 'CA-I-15980\\nTERRELL WINES, CHRISTOPHER JAMES TERRELL\\n751 13TH ST , TREASURE ISLAND\\nSAN FRANCISCO, CA 94130\\n',\n",
       " 'Qualifications': 'TTB has not reviewed this label for type size, characters per inch or contrasting background.The responsible industry member must continue to ensure that the mandatory information on the actual labels is displayed in the correct type size, number of characters per inch, and on a contrasting background in accordance with the TTB labeling regulations, 27 CFR parts 4, 5, 7, and 16, as applicable.\\nTTB has not reviewed this label for type size, characters per inch or contrasting background.The responsible industry member must continue to ensure that the mandatory information on the actual labels is displayed in the correct type size, number of characters per inch, and on a contrasting background in accordance with the TTB labeling regulations, 27 CFR parts 4, 5, 7, and 16, as applicable.\\n',\n",
       " 'Serial#': '160001',\n",
       " 'Status': 'APPROVED',\n",
       " 'TTBID': '16001001000001',\n",
       " 'TotalBottleCapacity': '',\n",
       " 'TypeofApplication': 'LABEL APPROVAL',\n",
       " 'VendorCode': '16942',\n",
       " 'WineVintage': '2013',\n",
       " '_id': '16001001000001',\n",
       " 'recieve_code': '001',\n",
       " 'recieve_date': '01/01/2016',\n",
       " 'seq_num': '000001'}"
      ]
     },
     "execution_count": 9,
     "metadata": {},
     "output_type": "execute_result"
    }
   ],
   "source": [
    "output"
   ]
  },
  {
   "cell_type": "code",
   "execution_count": 13,
   "metadata": {},
   "outputs": [],
   "source": [
    "assert(output['TTBID'] == output['_id'])"
   ]
  },
  {
   "cell_type": "code",
   "execution_count": 14,
   "metadata": {
    "collapsed": true
   },
   "outputs": [],
   "source": [
    "# Set up connection to mongodb\n",
    "client = pymongo.MongoClient() # Connect to default client\n",
    "db = client.TTB # Get a database (note: lazy evaluation)\n",
    "TTB = db.TTB # the actual collection"
   ]
  },
  {
   "cell_type": "code",
   "execution_count": 26,
   "metadata": {},
   "outputs": [
    {
     "name": "stderr",
     "output_type": "stream",
     "text": [
      "/opt/conda/envs/datainc/lib/python3.6/site-packages/ipykernel/__main__.py:4: UserWarning: _id: 16001001000001 is already in database, skipping...\n"
     ]
    }
   ],
   "source": [
    "try:\n",
    "    res = TTB.insert_one(output)\n",
    "except pymongo.errors.DuplicateKeyError:\n",
    "    warnings.warn('_id: {ttbid} is already in database, skipping...'.format(ttbid=ttbid))"
   ]
  },
  {
   "cell_type": "code",
   "execution_count": 17,
   "metadata": {},
   "outputs": [
    {
     "data": {
      "text/plain": [
       "'16001001000001'"
      ]
     },
     "execution_count": 17,
     "metadata": {},
     "output_type": "execute_result"
    }
   ],
   "source": [
    "res.inserted"
   ]
  },
  {
   "cell_type": "code",
   "execution_count": null,
   "metadata": {
    "collapsed": true
   },
   "outputs": [],
   "source": [
    "def build_ttb_database(start_date, stop_date):"
   ]
  },
  {
   "cell_type": "markdown",
   "metadata": {
    "collapsed": true
   },
   "source": [
    "# Getting data from the Mongo DB"
   ]
  },
  {
   "cell_type": "code",
   "execution_count": null,
   "metadata": {
    "collapsed": true
   },
   "outputs": [],
   "source": [
    "# Set up connection to mongodb\n",
    "client = pymongo.MongoClient() # Connect to default client\n",
    "db = client.TTB # Get a database (note: lazy evaluation)\n",
    "TTB = db.TTB # the actual collection"
   ]
  },
  {
   "cell_type": "code",
   "execution_count": 62,
   "metadata": {},
   "outputs": [
    {
     "data": {
      "text/plain": [
       "3978"
      ]
     },
     "execution_count": 62,
     "metadata": {},
     "output_type": "execute_result"
    }
   ],
   "source": [
    "TTB.count() # number of elements in the database"
   ]
  },
  {
   "cell_type": "code",
   "execution_count": 32,
   "metadata": {},
   "outputs": [
    {
     "data": {
      "text/plain": [
       "7"
      ]
     },
     "execution_count": 32,
     "metadata": {},
     "output_type": "execute_result"
    }
   ],
   "source": [
    "a = TTB.distinct('TTBID') # list of distinct TTBID's\n",
    "len(a)"
   ]
  },
  {
   "cell_type": "code",
   "execution_count": 34,
   "metadata": {
    "collapsed": true
   },
   "outputs": [
    {
     "data": {
      "text/plain": [
       "{'ApprovalDate': '01/19/2016',\n",
       " 'BrandName': 'RUBOR VITICULTORES',\n",
       " 'Class/TypeCode': 'DESSERT /PORT/SHERRY/(COOKING) WINE',\n",
       " 'ContactInformation': 'CHRISTOPHERTERRELL\\nPhone Number:(510) 717-4829\\nFax Number:(419) 710-4829\\n',\n",
       " 'FancifulName': '',\n",
       " 'ForSaleIn': '',\n",
       " 'Formula': '',\n",
       " 'GrapeVarietal(s)': 'N/A',\n",
       " 'OriginCode': 'SPAIN',\n",
       " 'PlantRegistry/BasicPermit/BrewersNo(Other)': '',\n",
       " 'PlantRegistry/BasicPermit/BrewersNo(PrincipalPlaceofBusiness)': 'CA-I-15980\\nTERRELL WINES, CHRISTOPHER JAMES TERRELL\\n751 13TH ST , TREASURE ISLAND\\nSAN FRANCISCO, CA 94130\\n',\n",
       " 'Qualifications': 'TTB has not reviewed this label for type size, characters per inch or contrasting background.The responsible industry member must continue to ensure that the mandatory information on the actual labels is displayed in the correct type size, number of characters per inch, and on a contrasting background in accordance with the TTB labeling regulations, 27 CFR parts 4, 5, 7, and 16, as applicable.\\nTTB has not reviewed this label for type size, characters per inch or contrasting background.The responsible industry member must continue to ensure that the mandatory information on the actual labels is displayed in the correct type size, number of characters per inch, and on a contrasting background in accordance with the TTB labeling regulations, 27 CFR parts 4, 5, 7, and 16, as applicable.\\n',\n",
       " 'Serial#': '160002',\n",
       " 'Status': 'APPROVED',\n",
       " 'TTBID': '16001001000002',\n",
       " 'TotalBottleCapacity': '',\n",
       " 'TypeofApplication': 'LABEL APPROVAL',\n",
       " 'VendorCode': '16942',\n",
       " 'WineVintage': '2013',\n",
       " '_id': '16001001000002',\n",
       " 'recieve_code': '001',\n",
       " 'recieve_date': '01/01/2016',\n",
       " 'seq_num': '000002'}"
      ]
     },
     "execution_count": 34,
     "metadata": {},
     "output_type": "execute_result"
    }
   ],
   "source": [
    "TTB.find_one('16001001000002')"
   ]
  },
  {
   "cell_type": "markdown",
   "metadata": {},
   "source": [
    "We can preint out some basic stats like so:"
   ]
  },
  {
   "cell_type": "code",
   "execution_count": 61,
   "metadata": {},
   "outputs": [
    {
     "name": "stdout",
     "output_type": "stream",
     "text": [
      "{'db': 'TTB', 'collections': 1, 'views': 0, 'objects': 3978, 'avgObjSize': 1664.4544997486173, 'dataSize': 6466.015625, 'storageSize': 1756.0, 'numExtents': 0, 'indexes': 1, 'indexSize': 84.0, 'ok': 1.0}\n"
     ]
    }
   ],
   "source": [
    "# print collection statistics\n",
    "#print(db.command(\"collstats\", \"TTB\"))\n",
    "\n",
    "# print database statistics\n",
    "print(db.command({\"dbstats\": 1,  'scale': 1024}))"
   ]
  },
  {
   "cell_type": "markdown",
   "metadata": {},
   "source": [
    "Estimate for one year's worth of entries"
   ]
  },
  {
   "cell_type": "code",
   "execution_count": 50,
   "metadata": {},
   "outputs": [
    {
     "data": {
      "text/plain": [
       "74978.39215686274"
      ]
     },
     "execution_count": 50,
     "metadata": {},
     "output_type": "execute_result"
    }
   ],
   "source": [
    "(208/408) * 147073"
   ]
  },
  {
   "cell_type": "markdown",
   "metadata": {},
   "source": [
    "# Mongo into Pandas"
   ]
  },
  {
   "cell_type": "markdown",
   "metadata": {},
   "source": [
    "The following snippet _should_ turn every element of our mongodb into a list which is then parsed by pandas into a df"
   ]
  },
  {
   "cell_type": "code",
   "execution_count": 64,
   "metadata": {
    "collapsed": true
   },
   "outputs": [],
   "source": [
    "df = pd.DataFrame(list(TTB.find()))"
   ]
  },
  {
   "cell_type": "code",
   "execution_count": 65,
   "metadata": {},
   "outputs": [
    {
     "data": {
      "text/plain": [
       "Index(['ApprovalDate', 'BrandName', 'Class/TypeCode', 'ContactInformation',\n",
       "       'FancifulName', 'ForSaleIn', 'Formula', 'GrapeVarietal(s)',\n",
       "       'OriginCode', 'PlantRegistry/BasicPermit/BrewersNo(Other)',\n",
       "       'PlantRegistry/BasicPermit/BrewersNo(PrincipalPlaceofBusiness)',\n",
       "       'Qualifications', 'Serial#', 'Status', 'TTBID', 'TotalBottleCapacity',\n",
       "       'TypeofApplication', 'VendorCode', 'WineVintage', '_id', 'recieve_code',\n",
       "       'recieve_date', 'seq_num'],\n",
       "      dtype='object')"
      ]
     },
     "execution_count": 65,
     "metadata": {},
     "output_type": "execute_result"
    }
   ],
   "source": [
    "df.columns"
   ]
  },
  {
   "cell_type": "code",
   "execution_count": 66,
   "metadata": {},
   "outputs": [
    {
     "data": {
      "text/plain": [
       "0       16001001000001\n",
       "1       16001001000002\n",
       "2       16001001000003\n",
       "3       16001001000004\n",
       "4       16001001000005\n",
       "5       16001001000006\n",
       "6       16001001000007\n",
       "7       16002001000001\n",
       "8       16002001000002\n",
       "9       16002001000003\n",
       "10      16002001000004\n",
       "11      16003001000001\n",
       "12      16003001000002\n",
       "13      16003001000003\n",
       "14      16003001000004\n",
       "15      16003001000005\n",
       "16      16003001000006\n",
       "17      16003001000007\n",
       "18      16003001000008\n",
       "19      16003001000009\n",
       "20      16003001000010\n",
       "21      16003001000011\n",
       "22      16003001000012\n",
       "23      16003001000013\n",
       "24      16003001000014\n",
       "25      16003001000015\n",
       "26      16003001000016\n",
       "27      16004001000001\n",
       "28      16004001000002\n",
       "29      16004001000003\n",
       "             ...      \n",
       "3948    16364001000006\n",
       "3949    16364001000007\n",
       "3950    16364001000008\n",
       "3951    16364001000009\n",
       "3952    16364001000010\n",
       "3953    16364001000011\n",
       "3954    16364001000012\n",
       "3955    16365001000001\n",
       "3956    16365001000002\n",
       "3957    16365001000003\n",
       "3958    16365001000004\n",
       "3959    16365001000005\n",
       "3960    16365001000006\n",
       "3961    16365001000007\n",
       "3962    16365001000008\n",
       "3963    16365001000009\n",
       "3964    16365001000010\n",
       "3965    16365001000011\n",
       "3966    16365001000012\n",
       "3967    16365001000013\n",
       "3968    16365001000014\n",
       "3969    16365001000015\n",
       "3970    16365001000016\n",
       "3971    16365001000017\n",
       "3972    16365001000018\n",
       "3973    16365001000019\n",
       "3974    16365001000020\n",
       "3975    16365001000021\n",
       "3976    16365001000022\n",
       "3977    16366001000001\n",
       "Name: TTBID, Length: 3978, dtype: object"
      ]
     },
     "execution_count": 66,
     "metadata": {},
     "output_type": "execute_result"
    }
   ],
   "source": [
    "df['TTBID']"
   ]
  },
  {
   "cell_type": "code",
   "execution_count": null,
   "metadata": {
    "collapsed": true
   },
   "outputs": [],
   "source": []
  }
 ],
 "metadata": {
  "kernelspec": {
   "display_name": "Python [conda env:datainc]",
   "language": "python",
   "name": "conda-env-datainc-py"
  },
  "language_info": {
   "codemirror_mode": {
    "name": "ipython",
    "version": 3
   },
   "file_extension": ".py",
   "mimetype": "text/x-python",
   "name": "python",
   "nbconvert_exporter": "python",
   "pygments_lexer": "ipython3",
   "version": "3.6.2"
  }
 },
 "nbformat": 4,
 "nbformat_minor": 2
}
