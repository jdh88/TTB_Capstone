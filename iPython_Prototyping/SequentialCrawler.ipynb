{
 "cells": [
  {
   "cell_type": "markdown",
   "metadata": {},
   "source": [
    "# Concept"
   ]
  },
  {
   "cell_type": "markdown",
   "metadata": {},
   "source": [
    "The goal here is to build a sequential web scraper based off of the TTBID. I think that the simplest thing to do will just be to start with a basic easy date and then just increment until we get an error back. Since things are _supposedly_ sequential, we can interate easily. A good test will be to try for a small test range. It may also be worth trying to get those parallel scraping tools operational"
   ]
  },
  {
   "cell_type": "markdown",
   "metadata": {},
   "source": [
    "<div class=\"alert alert-block alert-info\">\n",
    "TTB ID - This is a unique, 14 digit number assigned by TTB to track each COLA.  The first 5 digits represent the calendar year and Julian date the application was received by TTB. The next 3 digits tell how the application was received (001 = e-filed; 002 & 003 = mailed/overnight; 000 = hand delivered). The last 6 digits is a sequential number that resets for each day and for each received code.\n",
    "</div>"
   ]
  },
  {
   "cell_type": "markdown",
   "metadata": {},
   "source": [
    "# Imports"
   ]
  },
  {
   "cell_type": "code",
   "execution_count": 85,
   "metadata": {},
   "outputs": [],
   "source": [
    "import requests\n",
    "from bs4 import BeautifulSoup\n",
    "import re\n",
    "\n",
    "import datetime\n",
    "import pymongo\n",
    "import warnings\n",
    "\n",
    "import pandas as pd\n",
    "import matplotlib\n",
    "import matplotlib.pyplot as plt\n",
    "matplotlib.style.use('ggplot')\n",
    "\n",
    "\n",
    "import sys\n",
    "sys.path.append(r'../ScrapingTools')\n",
    "from TTB_scraping import TTB_Scraper\n",
    "from time import sleep\n"
   ]
  },
  {
   "cell_type": "code",
   "execution_count": null,
   "metadata": {
    "collapsed": true
   },
   "outputs": [],
   "source": []
  },
  {
   "cell_type": "markdown",
   "metadata": {},
   "source": [
    "### Early prototypes"
   ]
  },
  {
   "cell_type": "code",
   "execution_count": 121,
   "metadata": {
    "collapsed": true
   },
   "outputs": [],
   "source": [
    "start_date = '01/30/2016'\n",
    "stop_date = '01/01/2017'"
   ]
  },
  {
   "cell_type": "code",
   "execution_count": null,
   "metadata": {},
   "outputs": [
    {
     "name": "stdout",
     "output_type": "stream",
     "text": [
      "Now on:  01/30/2016\n",
      "Now on:  01/31/2016\n",
      "Now on:  02/01/2016\n",
      "Now on:  05/20/2016\n",
      "Now on:  05/21/2016\n",
      "Now on:  05/22/2016\n",
      "Now on:  05/23/2016\n",
      "Now on:  05/24/2016\n",
      "Now on:  05/25/2016\n",
      "Now on:  05/26/2016\n",
      "Now on:  05/27/2016\n",
      "Now on:  05/28/2016\n",
      "Now on:  05/29/2016\n",
      "Now on:  05/30/2016\n",
      "Now on:  05/31/2016\n",
      "Now on:  06/01/2016\n",
      "Now on:  06/02/2016\n",
      "Now on:  06/03/2016\n",
      "Now on:  06/04/2016\n",
      "Now on:  06/05/2016\n",
      "Now on:  06/06/2016\n",
      "Now on:  06/07/2016\n",
      "Now on:  06/08/2016\n",
      "Now on:  06/09/2016\n",
      "Now on:  06/10/2016\n",
      "Now on:  06/11/2016\n",
      "Now on:  06/12/2016\n",
      "Now on:  06/13/2016\n",
      "Now on:  06/14/2016\n",
      "Now on:  06/15/2016\n",
      "Now on:  06/16/2016\n",
      "Now on:  06/17/2016\n",
      "Now on:  06/18/2016\n",
      "Now on:  06/19/2016\n",
      "Now on:  06/20/2016\n",
      "Now on:  06/21/2016\n",
      "Now on:  06/22/2016\n",
      "Now on:  06/23/2016\n",
      "Now on:  06/24/2016\n",
      "Now on:  06/25/2016\n",
      "Now on:  06/26/2016\n",
      "Now on:  06/27/2016\n",
      "Now on:  06/28/2016\n",
      "Now on:  06/29/2016\n",
      "Now on:  06/30/2016\n",
      "Now on:  07/01/2016\n",
      "Now on:  07/02/2016\n",
      "Now on:  07/03/2016\n",
      "Now on:  07/04/2016\n",
      "Now on:  07/05/2016\n",
      "Now on:  07/06/2016\n",
      "Now on:  07/07/2016\n",
      "Now on:  07/08/2016\n",
      "Now on:  07/09/2016\n",
      "Now on:  07/10/2016\n",
      "Now on:  07/11/2016\n",
      "Now on:  07/12/2016\n",
      "Now on:  07/13/2016\n",
      "Now on:  07/14/2016\n",
      "Now on:  07/15/2016\n",
      "Now on:  07/16/2016\n",
      "Now on:  07/17/2016\n",
      "Now on:  07/18/2016\n",
      "Now on:  07/19/2016\n",
      "Now on:  07/20/2016\n",
      "Now on:  07/21/2016\n",
      "Now on:  07/22/2016\n",
      "Now on:  07/23/2016\n",
      "Now on:  07/24/2016\n",
      "Now on:  07/25/2016\n",
      "Now on:  07/26/2016\n",
      "Now on:  07/27/2016\n",
      "Now on:  07/28/2016\n",
      "Now on:  07/29/2016\n",
      "Now on:  07/30/2016\n",
      "Now on:  07/31/2016\n",
      "Now on:  08/01/2016\n",
      "Now on:  08/02/2016\n",
      "Now on:  08/03/2016\n",
      "Now on:  08/04/2016\n",
      "Now on:  08/05/2016\n",
      "Now on:  08/06/2016\n",
      "Now on:  08/07/2016\n",
      "Now on:  08/08/2016\n",
      "Now on:  08/09/2016\n",
      "Now on:  08/10/2016\n",
      "Now on:  08/11/2016\n",
      "Now on:  08/12/2016\n",
      "Now on:  08/13/2016\n",
      "Now on:  08/14/2016\n",
      "Now on:  08/15/2016\n",
      "Now on:  08/16/2016\n",
      "Now on:  08/17/2016\n",
      "Now on:  08/18/2016\n",
      "Now on:  08/19/2016\n",
      "Now on:  08/20/2016\n",
      "Now on:  08/21/2016\n",
      "Now on:  08/22/2016\n",
      "Now on:  08/23/2016\n",
      "Now on:  08/24/2016\n",
      "Now on:  08/25/2016\n",
      "Now on:  08/26/2016\n",
      "Now on:  08/27/2016\n",
      "Now on:  08/28/2016\n",
      "Now on:  08/29/2016\n",
      "Now on:  08/30/2016\n",
      "Now on:  08/31/2016\n",
      "Now on:  09/01/2016\n",
      "Now on:  09/02/2016\n",
      "Now on:  09/03/2016\n",
      "Now on:  09/04/2016\n",
      "Now on:  09/05/2016\n",
      "Now on:  09/06/2016\n",
      "Now on:  09/07/2016\n",
      "Now on:  09/08/2016\n",
      "Now on:  09/09/2016\n",
      "Now on:  09/10/2016\n",
      "Now on:  09/11/2016\n",
      "Now on:  09/12/2016\n",
      "Now on:  09/13/2016\n",
      "Now on:  09/14/2016\n",
      "Now on:  09/15/2016\n",
      "Now on:  09/16/2016\n",
      "Now on:  09/17/2016\n",
      "Now on:  09/18/2016\n",
      "Now on:  09/19/2016\n",
      "Now on:  09/20/2016\n",
      "Now on:  09/21/2016\n",
      "Now on:  09/22/2016\n",
      "Now on:  09/23/2016\n",
      "Now on:  09/24/2016\n",
      "Now on:  09/25/2016\n",
      "Now on:  09/26/2016\n",
      "Now on:  09/27/2016\n",
      "Now on:  09/28/2016\n",
      "Now on:  09/29/2016\n",
      "Now on:  09/30/2016\n",
      "Now on:  10/01/2016\n",
      "Now on:  10/02/2016\n",
      "Now on:  10/03/2016\n",
      "Now on:  10/04/2016\n",
      "Now on:  10/05/2016\n",
      "Now on:  10/06/2016\n",
      "Now on:  10/07/2016\n",
      "Now on:  10/08/2016\n",
      "Now on:  10/09/2016\n",
      "Now on:  10/10/2016\n"
     ]
    }
   ],
   "source": [
    "f = open('logfile.txt', 'w')\n",
    "\n",
    "# Set up connection to mongodb\n",
    "client = pymongo.MongoClient() # Connect to default client\n",
    "db = client.TTB # Get a database (note: lazy evaluation)\n",
    "TTB = db.TTB # the actual collection\n",
    "\n",
    "# convert dates to datetime format\n",
    "date_start = datetime.datetime.strptime(start_date, '%m/%d/%Y')\n",
    "date_stop = datetime.datetime.strptime(stop_date, '%m/%d/%Y')\n",
    "\n",
    "# iterate over each date\n",
    "curr_date = date_start\n",
    "while (curr_date < date_stop):\n",
    "    print('Now on:  {}'.format(curr_date.strftime('%m/%d/%Y')))\n",
    "    # iterate over each recieve code\n",
    "    curr_reccode = 0\n",
    "    while curr_reccode <= 3:\n",
    "\n",
    "        # increment each sequence \n",
    "        cont_seq = True\n",
    "        curr_seqnum = 1\n",
    "        retry_count = 0\n",
    "        while cont_seq:\n",
    "            # prep the strings for the ttbid\n",
    "            jdate='{year}{day}'.format(year=curr_date.strftime('%y'), day=curr_date.strftime('%j'))\n",
    "            reccode='{:03d}'.format(curr_reccode)\n",
    "            seqnum='{:06d}'.format(curr_seqnum)\n",
    "\n",
    "            # prep the query\n",
    "            ttbid = '{jdate}{reccode}{seqnum}'.format(jdate=jdate, reccode=reccode, seqnum=seqnum)\n",
    "\n",
    "            query = TTB_Scraper(ttbid)\n",
    "            parsed_data = query.get_basic_form_data()\n",
    "\n",
    "            # if we got a valid response\n",
    "            if parsed_data:\n",
    "                query_data = {'_id': ttbid,\n",
    "                         'recieve_date':curr_date.strftime('%m/%d/%Y'),\n",
    "                         'recieve_code': reccode,\n",
    "                         'seq_num': seqnum}\n",
    "                \n",
    "                # concatinated data we will add to our database\n",
    "                output = {**query_data, **parsed_data}\n",
    "\n",
    "                curr_seqnum += 1\n",
    "                retry_count = 0\n",
    "                # Insert result into database\n",
    "                try:\n",
    "                    TTB.insert_one(output)\n",
    "                    #print('Successfully added: {}'.format(ttbid))\n",
    "                    f.write('{},1\\n'.format(ttbid))\n",
    "                except pymongo.errors.DuplicateKeyError:\n",
    "                    warnings.warn('_id: {ttbid} is already in database, skipping...'.format(ttbid=ttbid))\n",
    "            else:\n",
    "                # stick with this sequence\n",
    "                if retry_count < 3:\n",
    "                    curr_seqnum += 1\n",
    "                    retry_count += 1\n",
    "                else:\n",
    "                    cont_seq = False\n",
    "                f.write('{},0\\n'.format(ttbid))\n",
    "\n",
    "            sleep(0.1)\n",
    "        curr_reccode += 1\n",
    "    curr_date += datetime.timedelta(days=1)\n",
    "\n",
    "f.close()"
   ]
  },
  {
   "cell_type": "code",
   "execution_count": 88,
   "metadata": {},
   "outputs": [
    {
     "data": {
      "text/plain": [
       "4"
      ]
     },
     "execution_count": 88,
     "metadata": {},
     "output_type": "execute_result"
    }
   ],
   "source": [
    "curr_reccode"
   ]
  },
  {
   "cell_type": "code",
   "execution_count": 93,
   "metadata": {},
   "outputs": [
    {
     "data": {
      "text/plain": [
       "'16251001000019'"
      ]
     },
     "execution_count": 93,
     "metadata": {},
     "output_type": "execute_result"
    }
   ],
   "source": [
    "ttbid"
   ]
  },
  {
   "cell_type": "code",
   "execution_count": 9,
   "metadata": {
    "collapsed": true
   },
   "outputs": [
    {
     "data": {
      "text/plain": [
       "{'ApprovalDate': '01/20/2016',\n",
       " 'BrandName': 'RUBOR VITICULTORES',\n",
       " 'Class/TypeCode': 'DESSERT /PORT/SHERRY/(COOKING) WINE',\n",
       " 'ContactInformation': 'CHRISTOPHERTERRELL\\nPhone Number:(510) 717-4829\\nFax Number:(419) 710-4829\\n',\n",
       " 'FancifulName': '',\n",
       " 'ForSaleIn': '',\n",
       " 'Formula': '',\n",
       " 'GrapeVarietal(s)': 'N/A',\n",
       " 'OriginCode': 'SPAIN',\n",
       " 'PlantRegistry/BasicPermit/BrewersNo(Other)': '',\n",
       " 'PlantRegistry/BasicPermit/BrewersNo(PrincipalPlaceofBusiness)': 'CA-I-15980\\nTERRELL WINES, CHRISTOPHER JAMES TERRELL\\n751 13TH ST , TREASURE ISLAND\\nSAN FRANCISCO, CA 94130\\n',\n",
       " 'Qualifications': 'TTB has not reviewed this label for type size, characters per inch or contrasting background.The responsible industry member must continue to ensure that the mandatory information on the actual labels is displayed in the correct type size, number of characters per inch, and on a contrasting background in accordance with the TTB labeling regulations, 27 CFR parts 4, 5, 7, and 16, as applicable.\\nTTB has not reviewed this label for type size, characters per inch or contrasting background.The responsible industry member must continue to ensure that the mandatory information on the actual labels is displayed in the correct type size, number of characters per inch, and on a contrasting background in accordance with the TTB labeling regulations, 27 CFR parts 4, 5, 7, and 16, as applicable.\\n',\n",
       " 'Serial#': '160001',\n",
       " 'Status': 'APPROVED',\n",
       " 'TTBID': '16001001000001',\n",
       " 'TotalBottleCapacity': '',\n",
       " 'TypeofApplication': 'LABEL APPROVAL',\n",
       " 'VendorCode': '16942',\n",
       " 'WineVintage': '2013',\n",
       " '_id': '16001001000001',\n",
       " 'recieve_code': '001',\n",
       " 'recieve_date': '01/01/2016',\n",
       " 'seq_num': '000001'}"
      ]
     },
     "execution_count": 9,
     "metadata": {},
     "output_type": "execute_result"
    }
   ],
   "source": [
    "output"
   ]
  },
  {
   "cell_type": "code",
   "execution_count": 13,
   "metadata": {},
   "outputs": [],
   "source": [
    "assert(output['TTBID'] == output['_id'])"
   ]
  },
  {
   "cell_type": "code",
   "execution_count": 14,
   "metadata": {
    "collapsed": true
   },
   "outputs": [],
   "source": [
    "# Set up connection to mongodb\n",
    "client = pymongo.MongoClient() # Connect to default client\n",
    "db = client.TTB # Get a database (note: lazy evaluation)\n",
    "TTB = db.TTB # the actual collection"
   ]
  },
  {
   "cell_type": "code",
   "execution_count": 26,
   "metadata": {},
   "outputs": [
    {
     "name": "stderr",
     "output_type": "stream",
     "text": [
      "/opt/conda/envs/datainc/lib/python3.6/site-packages/ipykernel/__main__.py:4: UserWarning: _id: 16001001000001 is already in database, skipping...\n"
     ]
    }
   ],
   "source": [
    "try:\n",
    "    res = TTB.insert_one(output)\n",
    "except pymongo.errors.DuplicateKeyError:\n",
    "    warnings.warn('_id: {ttbid} is already in database, skipping...'.format(ttbid=ttbid))"
   ]
  },
  {
   "cell_type": "code",
   "execution_count": 17,
   "metadata": {},
   "outputs": [
    {
     "data": {
      "text/plain": [
       "'16001001000001'"
      ]
     },
     "execution_count": 17,
     "metadata": {},
     "output_type": "execute_result"
    }
   ],
   "source": [
    "res.inserted"
   ]
  },
  {
   "cell_type": "code",
   "execution_count": 111,
   "metadata": {},
   "outputs": [],
   "source": [
    "ttbid = 16004001000014\n",
    "query = TTB_Scraper(ttbid)\n",
    "data = query.get_basic_form_data()\n",
    "data"
   ]
  },
  {
   "cell_type": "code",
   "execution_count": null,
   "metadata": {
    "collapsed": true
   },
   "outputs": [],
   "source": [
    "def build_ttb_database(start_date, stop_date):"
   ]
  },
  {
   "cell_type": "markdown",
   "metadata": {
    "collapsed": true
   },
   "source": [
    "# Getting data from the Mongo DB"
   ]
  },
  {
   "cell_type": "code",
   "execution_count": 90,
   "metadata": {
    "collapsed": true
   },
   "outputs": [],
   "source": [
    "# Set up connection to mongodb\n",
    "client = pymongo.MongoClient() # Connect to default client\n",
    "db = client.TTB # Get a database (note: lazy evaluation)\n",
    "TTB = db.TTB # the actual collection"
   ]
  },
  {
   "cell_type": "code",
   "execution_count": 128,
   "metadata": {},
   "outputs": [
    {
     "data": {
      "text/plain": [
       "85213"
      ]
     },
     "execution_count": 128,
     "metadata": {},
     "output_type": "execute_result"
    }
   ],
   "source": [
    "TTB.count() # number of elements in the database"
   ]
  },
  {
   "cell_type": "code",
   "execution_count": 103,
   "metadata": {},
   "outputs": [
    {
     "data": {
      "text/plain": [
       "424"
      ]
     },
     "execution_count": 103,
     "metadata": {},
     "output_type": "execute_result"
    }
   ],
   "source": [
    "a = TTB.distinct('TTBID') # list of distinct TTBID's\n",
    "len(a)"
   ]
  },
  {
   "cell_type": "code",
   "execution_count": 34,
   "metadata": {
    "collapsed": true
   },
   "outputs": [
    {
     "data": {
      "text/plain": [
       "{'ApprovalDate': '01/19/2016',\n",
       " 'BrandName': 'RUBOR VITICULTORES',\n",
       " 'Class/TypeCode': 'DESSERT /PORT/SHERRY/(COOKING) WINE',\n",
       " 'ContactInformation': 'CHRISTOPHERTERRELL\\nPhone Number:(510) 717-4829\\nFax Number:(419) 710-4829\\n',\n",
       " 'FancifulName': '',\n",
       " 'ForSaleIn': '',\n",
       " 'Formula': '',\n",
       " 'GrapeVarietal(s)': 'N/A',\n",
       " 'OriginCode': 'SPAIN',\n",
       " 'PlantRegistry/BasicPermit/BrewersNo(Other)': '',\n",
       " 'PlantRegistry/BasicPermit/BrewersNo(PrincipalPlaceofBusiness)': 'CA-I-15980\\nTERRELL WINES, CHRISTOPHER JAMES TERRELL\\n751 13TH ST , TREASURE ISLAND\\nSAN FRANCISCO, CA 94130\\n',\n",
       " 'Qualifications': 'TTB has not reviewed this label for type size, characters per inch or contrasting background.The responsible industry member must continue to ensure that the mandatory information on the actual labels is displayed in the correct type size, number of characters per inch, and on a contrasting background in accordance with the TTB labeling regulations, 27 CFR parts 4, 5, 7, and 16, as applicable.\\nTTB has not reviewed this label for type size, characters per inch or contrasting background.The responsible industry member must continue to ensure that the mandatory information on the actual labels is displayed in the correct type size, number of characters per inch, and on a contrasting background in accordance with the TTB labeling regulations, 27 CFR parts 4, 5, 7, and 16, as applicable.\\n',\n",
       " 'Serial#': '160002',\n",
       " 'Status': 'APPROVED',\n",
       " 'TTBID': '16001001000002',\n",
       " 'TotalBottleCapacity': '',\n",
       " 'TypeofApplication': 'LABEL APPROVAL',\n",
       " 'VendorCode': '16942',\n",
       " 'WineVintage': '2013',\n",
       " '_id': '16001001000002',\n",
       " 'recieve_code': '001',\n",
       " 'recieve_date': '01/01/2016',\n",
       " 'seq_num': '000002'}"
      ]
     },
     "execution_count": 34,
     "metadata": {},
     "output_type": "execute_result"
    }
   ],
   "source": [
    "TTB.find_one('16001001000002')"
   ]
  },
  {
   "cell_type": "markdown",
   "metadata": {},
   "source": [
    "We can preint out some basic stats like so:"
   ]
  },
  {
   "cell_type": "code",
   "execution_count": 120,
   "metadata": {},
   "outputs": [
    {
     "name": "stdout",
     "output_type": "stream",
     "text": [
      "{'db': 'TTB', 'collections': 1, 'views': 0, 'objects': 8321, 'avgObjSize': 1709.1797860834035, 'dataSize': 13888.7548828125, 'storageSize': 4068.0, 'numExtents': 0, 'indexes': 1, 'indexSize': 128.0, 'ok': 1.0}\n"
     ]
    }
   ],
   "source": [
    "# print collection statistics\n",
    "#print(db.command(\"collstats\", \"TTB\"))\n",
    "\n",
    "# print database statistics\n",
    "print(db.command({\"dbstats\": 1,  'scale': 1024}))"
   ]
  },
  {
   "cell_type": "markdown",
   "metadata": {},
   "source": [
    "Estimate for one year's worth of entries"
   ]
  },
  {
   "cell_type": "code",
   "execution_count": 50,
   "metadata": {},
   "outputs": [
    {
     "data": {
      "text/plain": [
       "74978.39215686274"
      ]
     },
     "execution_count": 50,
     "metadata": {},
     "output_type": "execute_result"
    }
   ],
   "source": [
    "(208/408) * 147073"
   ]
  },
  {
   "cell_type": "code",
   "execution_count": 117,
   "metadata": {
    "collapsed": true
   },
   "outputs": [],
   "source": [
    "# WARNING: deletes database?\n",
    "#client.drop_database('TTB')"
   ]
  },
  {
   "cell_type": "markdown",
   "metadata": {},
   "source": [
    "# Mongo into Pandas"
   ]
  },
  {
   "cell_type": "markdown",
   "metadata": {},
   "source": [
    "The following snippet _should_ turn every element of our mongodb into a list which is then parsed by pandas into a df"
   ]
  },
  {
   "cell_type": "code",
   "execution_count": 124,
   "metadata": {
    "collapsed": true
   },
   "outputs": [],
   "source": [
    "df = pd.DataFrame(list(TTB.find()))"
   ]
  },
  {
   "cell_type": "code",
   "execution_count": 125,
   "metadata": {},
   "outputs": [
    {
     "data": {
      "text/plain": [
       "Index(['ApprovalDate', 'BrandName', 'Class/TypeCode', 'ContactInformation',\n",
       "       'FancifulName', 'ForSaleIn', 'Formula', 'GrapeVarietal(s)',\n",
       "       'OriginCode', 'PlantRegistry/BasicPermit/BrewersNo(Other)',\n",
       "       'PlantRegistry/BasicPermit/BrewersNo(PrincipalPlaceofBusiness)',\n",
       "       'Qualifications', 'Serial#', 'Status', 'TTBID', 'TotalBottleCapacity',\n",
       "       'TypeofApplication', 'VendorCode', 'WineVintage', '_id', 'recieve_code',\n",
       "       'recieve_date', 'seq_num'],\n",
       "      dtype='object')"
      ]
     },
     "execution_count": 125,
     "metadata": {},
     "output_type": "execute_result"
    }
   ],
   "source": [
    "df.columns"
   ]
  },
  {
   "cell_type": "code",
   "execution_count": 126,
   "metadata": {},
   "outputs": [],
   "source": [
    "df['TTBID'] = df['TTBID'].apply(pd.to_numeric)"
   ]
  },
  {
   "cell_type": "code",
   "execution_count": 127,
   "metadata": {},
   "outputs": [
    {
     "data": {
      "image/png": "[encoded data removed]",
      "text/plain": [
       "<matplotlib.figure.Figure at 0x7fe39cb22358>"
      ]
     },
     "metadata": {},
     "output_type": "display_data"
    }
   ],
   "source": [
    "df['TTBID'].plot()\n",
    "plt.show()"
   ]
  },
  {
   "cell_type": "code",
   "execution_count": 133,
   "metadata": {},
   "outputs": [],
   "source": [
    "by_status = df.groupby('Status')"
   ]
  },
  {
   "cell_type": "code",
   "execution_count": 136,
   "metadata": {},
   "outputs": [],
   "source": [
    "approved_only = df.loc[df['Status'] == 'APPROVED']"
   ]
  },
  {
   "cell_type": "code",
   "execution_count": 141,
   "metadata": {},
   "outputs": [],
   "source": [
    "# get list of all US states, convert to uppercase as that is what is used\n",
    "states = ['Alabama', 'Alaska', 'Arizona', 'Arkansas', 'California', 'Colorado', 'Connecticut', 'Delaware', 'Florida', 'Georgia', 'Hawaii', 'Idaho', 'Illinois', 'Indiana', 'Iowa', 'Kansas', 'Kentucky', 'Louisiana', 'Maine', 'Maryland', 'Massachusetts', 'Michigan', 'Minnesota', 'Mississippi', 'Missouri', 'Montana', 'Nebraska', 'Nevada', 'New Hampshire', 'New Jersey', 'New Mexico', 'New York', 'North Carolina', 'North Dakota', 'Ohio', 'Oklahoma', 'Oregon', 'Pennsylvania', 'Rhode Island', 'South Carolina', 'South Dakota', 'Tennessee', 'Texas', 'Utah', 'Vermont', 'Virginia', 'Washington', 'West Virginia', 'Wisconsin', 'Wyoming']\n",
    "states = [state.upper() for state in states]"
   ]
  },
  {
   "cell_type": "code",
   "execution_count": 144,
   "metadata": {},
   "outputs": [
    {
     "data": {
      "text/plain": [
       "38538"
      ]
     },
     "execution_count": 144,
     "metadata": {},
     "output_type": "execute_result"
    }
   ],
   "source": [
    "us_only = df.loc[df['OriginCode'].isin(states)]\n",
    "us_only.head()\n",
    "us_only['_id'].count()"
   ]
  },
  {
   "cell_type": "code",
   "execution_count": null,
   "metadata": {
    "collapsed": true
   },
   "outputs": [],
   "source": []
  }
 ],
 "metadata": {
  "kernelspec": {
   "display_name": "Python [conda env:datainc]",
   "language": "python",
   "name": "conda-env-datainc-py"
  },
  "language_info": {
   "codemirror_mode": {
    "name": "ipython",
    "version": 3
   },
   "file_extension": ".py",
   "mimetype": "text/x-python",
   "name": "python",
   "nbconvert_exporter": "python",
   "pygments_lexer": "ipython3",
   "version": "3.6.2"
  }
 },
 "nbformat": 4,
 "nbformat_minor": 2
}
